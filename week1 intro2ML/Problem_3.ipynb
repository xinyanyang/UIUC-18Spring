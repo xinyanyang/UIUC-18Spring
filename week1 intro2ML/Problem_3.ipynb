{
 "cells": [
  {
   "cell_type": "markdown",
   "metadata": {
    "deletable": false,
    "editable": false,
    "nbgrader": {
     "checksum": "c8423c27e9b890a8445b458dc1f719e5",
     "grade": false,
     "grade_id": "header",
     "locked": true,
     "schema_version": 1,
     "solution": false
    }
   },
   "source": [
    "# Week 1 Problem 3\n",
    "\n",
    "A few things you should keep in mind when working on assignments:\n",
    "\n",
    "1. Make sure you fill in any place that says `YOUR CODE HERE`. Do not write your answer in anywhere else other than where it says `YOUR CODE HERE`. Anything you write anywhere else will be removed or overwritten by the autograder.\n",
    "\n",
    "2. Before you submit your assignment, make sure everything runs as expected. Go to menubar, select *Kernel*, and restart the kernel and run all cells (*Restart & Run all*).\n",
    "\n",
    "3. Do not change the title (i.e. file name) of this notebook.\n",
    "\n",
    "4. Make sure that you save your work (in the menubar, select *File* → *Save and CheckPoint*)\n",
    "\n",
    "5. When you are ready to submit your assignment, go to *Dashboard* → *Assignments* and click the *Submit* button. Your work is not submitted until you click *Submit*.\n",
    "\n",
    "6. You are allowed to submit an assignment multiple times, but only the most recent submission will be graded.\n",
    "\n",
    "7. **If your code does not pass the unit tests, it will not pass the autograder.**"
   ]
  },
  {
   "cell_type": "markdown",
   "metadata": {
    "deletable": false,
    "editable": false,
    "nbgrader": {
     "checksum": "79c111ca5a9727951fbb91a2e5e4b5be",
     "grade": false,
     "grade_id": "due_date",
     "locked": true,
     "schema_version": 1,
     "solution": false
    }
   },
   "source": [
    "# Due Date: 6 PM, January 22, 2018"
   ]
  },
  {
   "cell_type": "code",
   "execution_count": 9,
   "metadata": {
    "collapsed": true,
    "deletable": false,
    "editable": false,
    "nbgrader": {
     "checksum": "31c214048a39851835738db683899f41",
     "grade": false,
     "grade_id": "import",
     "locked": true,
     "schema_version": 1,
     "solution": false
    }
   },
   "outputs": [],
   "source": [
    "import pandas as pd\n",
    "import numpy as np\n",
    "from sklearn.linear_model import LinearRegression\n",
    "from sklearn.preprocessing import LabelEncoder, normalize\n",
    "from sklearn.model_selection import train_test_split\n",
    "from nose.tools import assert_false, assert_equal, assert_almost_equal, assert_true"
   ]
  },
  {
   "cell_type": "markdown",
   "metadata": {
    "deletable": false,
    "editable": false,
    "nbgrader": {
     "checksum": "430def3ceefe794cbddf7e0f5f202c24",
     "grade": false,
     "grade_id": "cell-1afba5f9a1be55c9",
     "locked": true,
     "schema_version": 1,
     "solution": false
    }
   },
   "source": [
    "### Reading in the Auto-MPG Data Set\n",
    "\n",
    "The code cell below reads in the  [Auto MPG dataset](https://archive.ics.uci.edu/ml/datasets/auto+mpg) and converts all instances of '?' to numpy's implementation of NaNs. This dataset comes from [UCI's Machine Learning Repository](https://archive.ics.uci.edu/ml/index.php).  \n",
    "\n",
    "The dependent variable in this dataset is: mpg  \n",
    "\n",
    "The independent variables are: cylinders, displacement, horsepower, weight, acceleration, model, year, origin, and car name."
   ]
  },
  {
   "cell_type": "code",
   "execution_count": 10,
   "metadata": {
    "deletable": false,
    "editable": false,
    "nbgrader": {
     "checksum": "9a37ea2f1cd1b56017a09e02b66f70ac",
     "grade": false,
     "grade_id": "cell-ded9899329fdc05f",
     "locked": true,
     "schema_version": 1,
     "solution": false
    }
   },
   "outputs": [
    {
     "data": {
      "text/html": [
       "<div>\n",
       "<style>\n",
       "    .dataframe thead tr:only-child th {\n",
       "        text-align: right;\n",
       "    }\n",
       "\n",
       "    .dataframe thead th {\n",
       "        text-align: left;\n",
       "    }\n",
       "\n",
       "    .dataframe tbody tr th {\n",
       "        vertical-align: top;\n",
       "    }\n",
       "</style>\n",
       "<table border=\"1\" class=\"dataframe\">\n",
       "  <thead>\n",
       "    <tr style=\"text-align: right;\">\n",
       "      <th></th>\n",
       "      <th>mpg</th>\n",
       "      <th>cylinders</th>\n",
       "      <th>displacement</th>\n",
       "      <th>horsepower</th>\n",
       "      <th>weight</th>\n",
       "      <th>acceleration</th>\n",
       "      <th>model year</th>\n",
       "      <th>origin</th>\n",
       "      <th>car name</th>\n",
       "    </tr>\n",
       "  </thead>\n",
       "  <tbody>\n",
       "    <tr>\n",
       "      <th>0</th>\n",
       "      <td>18.0</td>\n",
       "      <td>8.0</td>\n",
       "      <td>307.0</td>\n",
       "      <td>130.0</td>\n",
       "      <td>3504.0</td>\n",
       "      <td>12.0</td>\n",
       "      <td>70.0</td>\n",
       "      <td>1.0</td>\n",
       "      <td>\"chevrolet chevelle malibu\"</td>\n",
       "    </tr>\n",
       "    <tr>\n",
       "      <th>1</th>\n",
       "      <td>15.0</td>\n",
       "      <td>8.0</td>\n",
       "      <td>350.0</td>\n",
       "      <td>165.0</td>\n",
       "      <td>3693.0</td>\n",
       "      <td>11.5</td>\n",
       "      <td>70.0</td>\n",
       "      <td>1.0</td>\n",
       "      <td>\"buick skylark 320\"</td>\n",
       "    </tr>\n",
       "    <tr>\n",
       "      <th>2</th>\n",
       "      <td>18.0</td>\n",
       "      <td>8.0</td>\n",
       "      <td>318.0</td>\n",
       "      <td>150.0</td>\n",
       "      <td>3436.0</td>\n",
       "      <td>11.0</td>\n",
       "      <td>70.0</td>\n",
       "      <td>1.0</td>\n",
       "      <td>\"plymouth satellite\"</td>\n",
       "    </tr>\n",
       "    <tr>\n",
       "      <th>3</th>\n",
       "      <td>16.0</td>\n",
       "      <td>8.0</td>\n",
       "      <td>304.0</td>\n",
       "      <td>150.0</td>\n",
       "      <td>3433.0</td>\n",
       "      <td>12.0</td>\n",
       "      <td>70.0</td>\n",
       "      <td>1.0</td>\n",
       "      <td>\"amc rebel sst\"</td>\n",
       "    </tr>\n",
       "    <tr>\n",
       "      <th>4</th>\n",
       "      <td>17.0</td>\n",
       "      <td>8.0</td>\n",
       "      <td>302.0</td>\n",
       "      <td>140.0</td>\n",
       "      <td>3449.0</td>\n",
       "      <td>10.5</td>\n",
       "      <td>70.0</td>\n",
       "      <td>1.0</td>\n",
       "      <td>\"ford torino\"</td>\n",
       "    </tr>\n",
       "  </tbody>\n",
       "</table>\n",
       "</div>"
      ],
      "text/plain": [
       "    mpg  cylinders  displacement horsepower  weight  acceleration  model year  \\\n",
       "0  18.0        8.0         307.0      130.0  3504.0          12.0        70.0   \n",
       "1  15.0        8.0         350.0      165.0  3693.0          11.5        70.0   \n",
       "2  18.0        8.0         318.0      150.0  3436.0          11.0        70.0   \n",
       "3  16.0        8.0         304.0      150.0  3433.0          12.0        70.0   \n",
       "4  17.0        8.0         302.0      140.0  3449.0          10.5        70.0   \n",
       "\n",
       "   origin                     car name  \n",
       "0     1.0  \"chevrolet chevelle malibu\"  \n",
       "1     1.0          \"buick skylark 320\"  \n",
       "2     1.0         \"plymouth satellite\"  \n",
       "3     1.0              \"amc rebel sst\"  \n",
       "4     1.0                \"ford torino\"  "
      ]
     },
     "execution_count": 10,
     "metadata": {},
     "output_type": "execute_result"
    }
   ],
   "source": [
    "names = ['mpg', 'cylinders', 'displacement', 'horsepower', 'weight',\n",
    "    'acceleration', 'model year', 'origin', 'car name']\n",
    "df = pd.read_fwf('/home/data_scientist/data/misc/auto-mpg.data', header=None, names=names)\n",
    "df.loc[df['horsepower'] == '?'] = np.nan\n",
    "df.head()"
   ]
  },
  {
   "cell_type": "markdown",
   "metadata": {
    "deletable": false,
    "editable": false,
    "nbgrader": {
     "checksum": "67fdb2724895fd6d13b91108fd5b3f69",
     "grade": false,
     "grade_id": "cell-4942312797a7f10e",
     "locked": true,
     "schema_version": 1,
     "solution": false
    }
   },
   "source": [
    "### Problem 3.1: Preprocessing Data  \n",
    "\n",
    "Complete the cell below by finishing the function *preprocess_data*. The function should drop all rows containing NaNs and [encode](http://scikit-learn.org/stable/modules/generated/sklearn.preprocessing.LabelEncoder.html) all of the categorical variables inside of data *(be sure to keep the dataframe header names)*.  \n",
    "\n",
    "Sample output of the 1st 5 rows for the correct solution:  \n",
    "\n",
    "| mpg | cylinders | displacement | horsepower | weight | acceleration | model | year | origin | car name |  \n",
    "| --- | --- | --- | --- | --- | --- | --- | --- | --- | --- |  \n",
    "| 0 | 18.0 | 8.0 | 307.0 | 130.0 | 3504.0 | 12.0 | 70.0 | 1.0 | 49 |  \n",
    "| 1\t| 15.0 | 8.0 | 350.0 | 165.0 | 3693.0 | 11.5 | 70.0 | 1.0 |34  |  \n",
    "| 2\t| 18.0 | 8.0 | 318.0 | 150.0 | 3436.0 | 11.0 | 70.0 | 1.0 |232 |  \n",
    "| 3\t| 16.0 | 8.0 | 304.0 | 150.0 | 3433.0 | 12.0 | 70.0 | 1.0 |13 |  \n",
    "| 4\t| 17.0 | 8.0 | 302.0 | 140.0 | 3449.0 | 10.5 | 70.0 | 1.0 |160 |\n"
   ]
  },
  {
   "cell_type": "code",
   "execution_count": 11,
   "metadata": {
    "collapsed": true,
    "deletable": false,
    "nbgrader": {
     "checksum": "8e4824870b2c7f9ef264c0ed33c8aa9a",
     "grade": false,
     "grade_id": "p3-1-ans",
     "locked": false,
     "schema_version": 1,
     "solution": true
    }
   },
   "outputs": [],
   "source": [
    "def preprocess_data(data):\n",
    "    '''\n",
    "    Preprocess data by removing all NaNs and encodes all categorical variables.\n",
    "    \n",
    "    Parameters\n",
    "    ----------\n",
    "    data: dataframe containing auto-mpg dataset\n",
    "    \n",
    "    Returns\n",
    "    -------\n",
    "    processed data inside of a dataframe with the same headers\n",
    "    '''\n",
    "    \n",
    "    #drop all NaNs\n",
    "    data.dropna(inplace = True)\n",
    "\n",
    "    # Create & fit Label Encoder to allowed labels\n",
    "    le = LabelEncoder()\n",
    "    le.fit(data['car name'])\n",
    "    data['car name'] = le.transform(data['car name'])\n",
    "\n",
    "    return data"
   ]
  },
  {
   "cell_type": "code",
   "execution_count": 12,
   "metadata": {
    "deletable": false,
    "editable": false,
    "nbgrader": {
     "checksum": "74b457a86e89951b69652de719b45358",
     "grade": true,
     "grade_id": "p3-1sol",
     "locked": true,
     "points": 15,
     "schema_version": 1,
     "solution": false
    }
   },
   "outputs": [],
   "source": [
    "preprocessed_data = preprocess_data(df)\n",
    "\n",
    "assert_equal(type(preprocessed_data), pd.core.frame.DataFrame, msg='Return a dataframe!')\n",
    "assert_equal(len(preprocessed_data), 392, msg='Make sure you dropped the NaNs and nothing else!')\n",
    "\n",
    "    \n",
    "assert_equal(max(preprocessed_data['car name']), 300, msg='Encode all Categorical Variables!')\n",
    "assert_equal(min(preprocessed_data['car name']), 0, msg='Encode all Categorical Variables!')"
   ]
  },
  {
   "cell_type": "markdown",
   "metadata": {
    "deletable": false,
    "editable": false,
    "nbgrader": {
     "checksum": "b1cadbd1f235deaa6108518a61da9511",
     "grade": false,
     "grade_id": "cell-b9d82fc4c9e5a156",
     "locked": true,
     "schema_version": 1,
     "solution": false
    }
   },
   "source": [
    "### Problem 3.2: Splitting your data\n",
    "Finish the function *split_data* in the cell below by performing a 80/20 split on your preprocessed data from your solution in Problem 3.1.\n",
    "\n",
    "For this problem use [train_test_split](http://scikit-learn.org/stable/modules/generated/sklearn.model_selection.train_test_split.html) function. Set the random_state argument to be 0. Use 80% of the preprocessed data for training and the remaining 20% for your testing set. Lastly, *in this order:* return the independent variables (features) to be used for training, the features to be used for testing, the dependent variables (labels) to be used for training and the labels to be used for testing.\n"
   ]
  },
  {
   "cell_type": "code",
   "execution_count": 5,
   "metadata": {
    "collapsed": true,
    "deletable": false,
    "nbgrader": {
     "checksum": "3d6b79dd040b8f7934816bc01585e26f",
     "grade": false,
     "grade_id": "p3-2sol",
     "locked": false,
     "schema_version": 1,
     "solution": true
    }
   },
   "outputs": [],
   "source": [
    "def split_data(data):\n",
    "    '''\n",
    "    Parameters\n",
    "    ----------\n",
    "\n",
    "    data: pandas dataframe containing preprocessed dataset\n",
    "    \n",
    "    returns\n",
    "    --------\n",
    "    2 pandas dataframes in this order: training features, \n",
    "    testing features and also 2 pandas series in this order:\n",
    "        training labels, and testing labels\n",
    "    '''\n",
    "    \n",
    "    # Split the DataFrame into a DataFrame of features and a Series of labels\n",
    "    data_x = data[data.columns[1:]] #extract all other columns except the first column(whose index is 0)\n",
    "    data_y = data.mpg\n",
    "\n",
    "    from sklearn.utils import check_random_state\n",
    "    \n",
    "    # The train-test-split procedure is the same with the one in problem2\n",
    "    X_train, X_test, y_train, y_test \\\n",
    "       = train_test_split(data_x, data_y, test_size = 0.2, random_state = check_random_state(0))\n",
    "        \n",
    "    return X_train, X_test, y_train, y_test"
   ]
  },
  {
   "cell_type": "code",
   "execution_count": 6,
   "metadata": {
    "collapsed": true,
    "deletable": false,
    "editable": false,
    "nbgrader": {
     "checksum": "d18fb7ab39f389d8ac92bd08986fb471",
     "grade": true,
     "grade_id": "p3-2ans",
     "locked": true,
     "points": 15,
     "schema_version": 1,
     "solution": false
    }
   },
   "outputs": [],
   "source": [
    "X_train, X_test, y_train, y_test = split_data(preprocessed_data.copy())\n",
    "\n",
    "assert_equal(type(y_test), pd.core.series.Series,\n",
    "             msg='Testing labels should be returned as a serues')\n",
    "\n",
    "assert_equal(type(y_train), pd.core.series.Series,\n",
    "             msg='Training labels should be returned as a series')\n",
    "\n",
    "assert_equal(type(X_train), pd.core.frame.DataFrame,\n",
    "             msg='Training features should be returned as a dataframe')\n",
    "\n",
    "assert_equal(type(X_test), pd.core.frame.DataFrame,\n",
    "             msg='Testing features should be returned as a dataframe')\n",
    "\n",
    "assert_equal(y_test.iloc[4], 33.8, msg='Make sure you used the random_state argument properly')\n",
    "assert_equal(y_train.iloc[104], 37.0, msg='Make sure you used the random_state argument properly')\n",
    "assert_equal(X_train.iloc[104].tolist()[3], 2434.0, msg='Make sure you used the random_state argument properly')\n"
   ]
  },
  {
   "cell_type": "markdown",
   "metadata": {
    "deletable": false,
    "editable": false,
    "nbgrader": {
     "checksum": "a6d8ebe4dd556f23d021e8f52fa61a0a",
     "grade": false,
     "grade_id": "cell-2f2488a613bd552c",
     "locked": true,
     "schema_version": 1,
     "solution": false
    }
   },
   "source": [
    "### Problem 3.3: Performing Linear Regression on the AUTO MPG Dataset\n",
    "In the code cell below do the following:  \n",
    "- Create a Linear Regression Model using sci-kit learn with the default parameters and assign it to a variable called *model*.\n",
    "- Fit your model on the training features and labels (which are stored in *X_train* and *y_train*).\n",
    "- Lastly compute the R^2 score on the testing features and labels (which are stored in *X_test* and y_test) and store the result in a variable called score."
   ]
  },
  {
   "cell_type": "code",
   "execution_count": 7,
   "metadata": {
    "collapsed": true,
    "deletable": false,
    "nbgrader": {
     "checksum": "d41181f7be8a9a48e87b3f95819f591d",
     "grade": false,
     "grade_id": "p3-3ans",
     "locked": false,
     "schema_version": 1,
     "solution": true
    }
   },
   "outputs": [],
   "source": [
    "# Create and fit our linear regression model to training data\n",
    "model = LinearRegression(fit_intercept=True)\n",
    "model.fit(X_train, y_train)\n",
    "\n",
    "# Compute score and display result (Coefficient of Determination)\n",
    "score = model.score(X_test, y_test)"
   ]
  },
  {
   "cell_type": "code",
   "execution_count": 8,
   "metadata": {
    "collapsed": true,
    "deletable": false,
    "editable": false,
    "nbgrader": {
     "checksum": "2f6dd020eeeea6f77893c803bb1814a8",
     "grade": true,
     "grade_id": "p3-3sol",
     "locked": true,
     "points": 10,
     "schema_version": 1,
     "solution": false
    }
   },
   "outputs": [],
   "source": [
    "assert_true(type(model), type(LinearRegression))\n",
    "assert_almost_equal(.836, score, places=2 )"
   ]
  }
 ],
 "metadata": {
  "kernelspec": {
   "display_name": "Python 3",
   "language": "python",
   "name": "python3"
  },
  "language_info": {
   "codemirror_mode": {
    "name": "ipython",
    "version": 3
   },
   "file_extension": ".py",
   "mimetype": "text/x-python",
   "name": "python",
   "nbconvert_exporter": "python",
   "pygments_lexer": "ipython3",
   "version": "3.6.1"
  }
 },
 "nbformat": 4,
 "nbformat_minor": 2
}
