{
 "cells": [
  {
   "cell_type": "markdown",
   "metadata": {},
   "source": [
    "# Week 12: Introduction to Network Analysis\n",
    "\n",
    "In this module, we introduce basic network analysis, which will involve the Python [NetworkX][nw] library. First, we will basic graph concepts such as a node, edge, and the difference between directed and undirected graphs. Next, we will discuss matrix representations of graph data, graph visualizations, and basic graph analysis including quantifying graph distances, diameters, and densities. After this, we will discus graph traversal and exploration. Finally, we will learn how to apply these concepts to analyze social media data.\n",
    "\n",
    "\n",
    "## Learning Objectives\n",
    "\n",
    "#### By the end of this module, you should be able to:\n",
    "\n",
    "- explain the basic concepts and representations of a graph,\n",
    "- articulate basic graph analytic techniques,\n",
    "- create and visualize a graph in Python by using the NetworkX library, and\n",
    "- apply network analysis techniques to social media in Python.\n",
    "\n",
    "### Activities and Assignments\n",
    "\n",
    "| Activities and Assignments               | Time Estimate | Deadline* | Points |\n",
    "| :--------------------------------------- | ------------- | --------- | -----: |\n",
    "| **[Week 12 Overview Video][wv]**      | 10 Minutes    | Tuesday |    N/A |\n",
    "| **[Week 12 Lesson 1: Introduction to Network Analysis: Graph Concepts][nb2]** | 2 Hours | Thursday  |     N/A |\n",
    "| **[Week 12 Lesson 2: Introduction to Network Analysis: Graph Analysis][nb3]** | 2 Hours | Thursday  |     N/A |\n",
    "| **[Week 12 Lesson 3: Introduction to Network Analysis: Social Media][nb4]** | 2 Hours   | Thursday  |   N/A |\n",
    "| **[Week 12 Quiz][wq]**               | 20 Minutes    | Friday    |    60  |\n",
    "| **[Week 12 Assignment][ma]**         | 2 hours    | Monday    |    120  |\n",
    "\n",
    "*Please note that unless otherwise noted, the due time is 6pm Central time!\n",
    "\n",
    "----------\n",
    "\n",
    "[nb2]: notebooks/w12l1.ipynb\n",
    "[nb3]: notebooks/w12l2.ipynb\n",
    "[nb4]: notebooks/w12l3.ipynb\n",
    "\n",
    "[ma]: https://info490rb.studentspace.cs.illinois.edu/user/info490/notebooks/info490-sp18-assignments/week12\n",
    "\n",
    "[wv]: https://mediaspace.illinois.edu/media/t/1_qndhheym/80455691\n",
    "[wq]: https://learn.illinois.edu/mod/quiz/view.php?id=2484075\n",
    "\n",
    "[nw]: http://networkx.github.io"
   ]
  }
 ],
 "metadata": {
  "kernelspec": {
   "display_name": "Python 3",
   "language": "python",
   "name": "python3"
  },
  "language_info": {
   "codemirror_mode": {
    "name": "ipython",
    "version": 3
   },
   "file_extension": ".py",
   "mimetype": "text/x-python",
   "name": "python",
   "nbconvert_exporter": "python",
   "pygments_lexer": "ipython3",
   "version": "3.6.1"
  }
 },
 "nbformat": 4,
 "nbformat_minor": 2
}
