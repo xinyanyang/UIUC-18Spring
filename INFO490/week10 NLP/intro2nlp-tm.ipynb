{
 "cells": [
  {
   "cell_type": "markdown",
   "metadata": {},
   "source": [
    "# Introduction to NLP: Topic Modeling\n",
    "\n",
    "-----"
   ]
  },
  {
   "cell_type": "markdown",
   "metadata": {},
   "source": [
    "When analyzing large text corpora, trends can appear. These trends can be repeated use of common phrases or terms that are indicative of common underlying themes or topics. For example, books on programming might refer to themes such as human computer interaction, optimization and performance, or identifying and removing error conditions. Finding these common topics can be important for a number of reasons. On the one hand, when they are completely unknown, they can be used to provide new insight into text documents. On the other hand, when they may be partially or even completely unknown, computationally identified topics can provide deeper or more concise insight into the relationship between documents.\n",
    "\n",
    "The process of identifying these common topics is known as topic modeling, which is generally a form of unsupervised learning. As a specific example, consider the [twenty newsgroup][tw] data that we have analyzed in scikit learn. While there are twenty different newsgroups, it turns out they can be grouped into six related categories: computers, sports, science, politics, religion, and miscellaneous. While we now these topics ahead of time (from the newsgroup titles), we can apply topic modeling to these data to identify the common words or phrases that define these common topics.\n",
    "\n",
    "In the rest of this notebook, we explore the concept of topic modeling. First we will use the scikit learn library to perform topic modeling. We will introduce and use non-negative matrix factorization and Latent Dirichlet allocation. We apply topic modeling to a text classification problem, and also explore the terms that make up identified topics. Finally, we introduce the gensim library, which provides additional techniques for topic modeling.\n",
    "\n",
    "-----\n",
    "\n",
    "[tw]: http://qwone.com/~jason/20Newsgroups/"
   ]
  },
  {
   "cell_type": "markdown",
   "metadata": {},
   "source": [
    "## Table of Contents\n",
    "\n",
    "[Data Access](#Data-Access)\n",
    "\n",
    "[Non-Negative Matrix Factorization](#Non-Negative-Matrix-Factorization)\n",
    "\n",
    "- [Understanding Topic Terms](#Understanding-Topic-Terms)\n",
    "- [Topic-Based Classification](#Topic-Based-Classification)\n",
    "\n",
    "[Latent Dirichlet Allocation](#Latent-Dirichlet-Allocation)\n",
    "\n",
    "[Gensim](#Gensim)\n",
    "\n",
    "- [Topic Modeling with Gensim](#Topic-Modeling-with-Gensim)\n",
    "- [Newsgroup Topic Modeling with Gensim](#Newsgroup-Topic-Modeling-with-Gensim)\n",
    "- [Latent Semantic Analysis with Gensim](#Latent-Semantic-Analysis-with-Gensim)\n",
    "- [Latent Dirichlet Allocation with Gensim](#Latent-Dirichlet-Allocation-with-Gensim)\n",
    "\n",
    "-----\n",
    "\n",
    "Before proceeding with the rest of this notebook, we first include the notebook setup code and we define our _home_ directory.\n",
    "\n",
    "-----"
   ]
  },
  {
   "cell_type": "code",
   "execution_count": 1,
   "metadata": {
    "collapsed": true
   },
   "outputs": [],
   "source": [
    "# Set up Notebook\n",
    "\n",
    "% matplotlib inline\n",
    "\n",
    "# Standard imports\n",
    "import numpy as np\n",
    "import pandas as pd\n",
    "import matplotlib.pyplot as plt\n",
    "import seaborn as sns\n",
    "\n",
    "# We do this to ignore several specific Pandas warnings\n",
    "import warnings\n",
    "warnings.filterwarnings(\"ignore\")"
   ]
  },
  {
   "cell_type": "code",
   "execution_count": 2,
   "metadata": {
    "collapsed": true
   },
   "outputs": [],
   "source": [
    "# First we find our HOME directory\n",
    "home_dir = !echo $HOME\n",
    "\n",
    "# Define data directory\n",
    "home = home_dir[0] +'/'"
   ]
  },
  {
   "cell_type": "markdown",
   "metadata": {},
   "source": [
    "-----\n",
    "\n",
    "[[Back to TOC]](#Table-of-Contents)\n",
    "\n",
    "## Data Access\n",
    "\n",
    "To introduce topic modeling, we will use the twenty newsgroup data set, which is included with the scikit learn library. The following Code cell loads these data into the notebook and splits them into training and testing samples. The second Code cell applies a TF-IDF vectorizer to tokenize these documents to create a suitable document-term matrix. The vectorize uses and _english_ vocabulary, transforms all words to lowercase, requires terms to appear in at least two documents, and restricts the total number of features to be 5000.\n",
    "\n",
    "-----"
   ]
  },
  {
   "cell_type": "code",
   "execution_count": 3,
   "metadata": {
    "collapsed": true
   },
   "outputs": [],
   "source": [
    "# Load Dataset\n",
    "from sklearn.datasets import fetch_20newsgroups\n",
    "\n",
    "train = fetch_20newsgroups(data_home=home + 'textdm', \n",
    "                           subset='train', shuffle=True, random_state=23,\n",
    "                           remove=('headers', 'footers', 'quotes'))\n",
    "\n",
    "test = fetch_20newsgroups(data_home=home + 'textdm', \n",
    "                          subset='test', shuffle=True, random_state=23,\n",
    "                          remove=('headers', 'footers', 'quotes'))"
   ]
  },
  {
   "cell_type": "code",
   "execution_count": 4,
   "metadata": {
    "collapsed": true
   },
   "outputs": [],
   "source": [
    "# Use TD-IDF on newgroup data.\n",
    "from sklearn.feature_extraction.text import TfidfVectorizer\n",
    "\n",
    "cv = TfidfVectorizer(stop_words = 'english',\n",
    "                     lowercase=True,\n",
    "                     min_df=2,\n",
    "                     max_features=5000)\n",
    "                     \n",
    "train_data = cv.fit_transform(train['data'])\n",
    "test_data = cv.transform(test['data'])"
   ]
  },
  {
   "cell_type": "markdown",
   "metadata": {},
   "source": [
    "-----\n",
    "\n",
    "[[Back to TOC]](#Table-of-Contents)\n",
    "\n",
    "## Non-Negative Matrix Factorization\n",
    "\n",
    "We can apply [non-negative matrix factorization][wnmf] (NMF) to compute topics in a corpus. We start with a term-document matrix, which we factor in to a term-feature and a feature-document matrices. The latter matrix can be used to identify data clusters (or topics) in the corpus. We demonstrate the use of NMF to perform topic modeling by using the scikit learn library's [NMF implementation][sknmf]. \n",
    "\n",
    "-----\n",
    "\n",
    "[wnmf]: https://en.wikipedia.org/wiki/Non-negative_matrix_factorization\n",
    "[sknmf]: http://scikit-learn.org/stable/modules/generated/sklearn.decomposition.NMF.html"
   ]
  },
  {
   "cell_type": "code",
   "execution_count": 5,
   "metadata": {
    "collapsed": true
   },
   "outputs": [],
   "source": [
    "# Compute topics by using NMF\n",
    "from sklearn.decomposition import NMF\n",
    "\n",
    "# Pick six topics\n",
    "num_topics = 6\n",
    "nmf = NMF(n_components = num_topics, max_iter = 1000).fit(train_data)"
   ]
  },
  {
   "cell_type": "code",
   "execution_count": 6,
   "metadata": {},
   "outputs": [
    {
     "name": "stdout",
     "output_type": "stream",
     "text": [
      "Topic  0: don just think people like good time know did right\n",
      "Topic  1: thanks windows does know file mail program files advance use\n",
      "Topic  2: god jesus bible believe faith christian christ christians people does\n",
      "Topic  3: geb edu dsl chastity n3jxp cadre pitt shameful intellect skepticism\n",
      "Topic  4: key chip encryption clipper keys government use escrow law public\n",
      "Topic  5: drive scsi card disk hard drives controller ide new sale\n"
     ]
    }
   ],
   "source": [
    "from helper_code import tpterms as tp\n",
    "\n",
    "nmf_topics = tp.get_topics(cv, nmf)"
   ]
  },
  {
   "cell_type": "markdown",
   "metadata": {},
   "source": [
    "-----\n",
    "\n",
    "[[Back to TOC]](#Table-of-Contents)\n",
    "\n",
    "\n",
    "### Understanding Topic Terms\n",
    "\n",
    "We can explore the terms that are important for each topic by creating a DataFrame to map our topic terms to the original twenty newsgroups. We demonstrate this below by first normalizing the transformed data to have unit probability. We use these data to create the DataFrame and group the resulting rows by the associated newsgroup as shown below.\n",
    "\n",
    "-----"
   ]
  },
  {
   "cell_type": "code",
   "execution_count": 7,
   "metadata": {
    "collapsed": true
   },
   "outputs": [],
   "source": [
    "# We transform and normalize the data, \n",
    "# by using l1-norm so document topic probabilty sums to unity.\n",
    "\n",
    "from sklearn.preprocessing import normalize\n",
    "\n",
    "td = nmf.transform(train_data)\n",
    "td_norm = normalize(td, norm='l1', axis=1)"
   ]
  },
  {
   "cell_type": "code",
   "execution_count": 8,
   "metadata": {
    "collapsed": true
   },
   "outputs": [],
   "source": [
    "# We use a DataFrame to simplify the collecting of the data for display.\n",
    "df = pd.DataFrame(td_norm, columns=nmf_topics)\n",
    "df.fillna(value=0, inplace=True)\n",
    "df['label'] = pd.Series(train['target'])"
   ]
  },
  {
   "cell_type": "code",
   "execution_count": 9,
   "metadata": {},
   "outputs": [
    {
     "data": {
      "text/html": [
       "<div>\n",
       "<style>\n",
       "    .dataframe thead tr:only-child th {\n",
       "        text-align: right;\n",
       "    }\n",
       "\n",
       "    .dataframe thead th {\n",
       "        text-align: left;\n",
       "    }\n",
       "\n",
       "    .dataframe tbody tr th {\n",
       "        vertical-align: top;\n",
       "    }\n",
       "</style>\n",
       "<table border=\"1\" class=\"dataframe\">\n",
       "  <thead>\n",
       "    <tr style=\"text-align: right;\">\n",
       "      <th></th>\n",
       "      <th>don, just, think, people, like</th>\n",
       "      <th>thanks, windows, does, know, file</th>\n",
       "      <th>god, jesus, bible, believe, faith</th>\n",
       "      <th>geb, edu, dsl, chastity, n3jxp</th>\n",
       "      <th>key, chip, encryption, clipper, keys</th>\n",
       "      <th>drive, scsi, card, disk, hard</th>\n",
       "      <th>Names</th>\n",
       "    </tr>\n",
       "    <tr>\n",
       "      <th>label</th>\n",
       "      <th></th>\n",
       "      <th></th>\n",
       "      <th></th>\n",
       "      <th></th>\n",
       "      <th></th>\n",
       "      <th></th>\n",
       "      <th></th>\n",
       "    </tr>\n",
       "  </thead>\n",
       "  <tbody>\n",
       "    <tr>\n",
       "      <th>0</th>\n",
       "      <td>0.427398</td>\n",
       "      <td>0.067956</td>\n",
       "      <td>0.381549</td>\n",
       "      <td>0.017617</td>\n",
       "      <td>0.056657</td>\n",
       "      <td>0.019657</td>\n",
       "      <td>alt.atheism</td>\n",
       "    </tr>\n",
       "    <tr>\n",
       "      <th>1</th>\n",
       "      <td>0.172845</td>\n",
       "      <td>0.557751</td>\n",
       "      <td>0.026722</td>\n",
       "      <td>0.020693</td>\n",
       "      <td>0.077724</td>\n",
       "      <td>0.113443</td>\n",
       "      <td>comp.graphics</td>\n",
       "    </tr>\n",
       "    <tr>\n",
       "      <th>2</th>\n",
       "      <td>0.111835</td>\n",
       "      <td>0.607817</td>\n",
       "      <td>0.017676</td>\n",
       "      <td>0.020599</td>\n",
       "      <td>0.047638</td>\n",
       "      <td>0.150442</td>\n",
       "      <td>comp.os.ms-windows.misc</td>\n",
       "    </tr>\n",
       "    <tr>\n",
       "      <th>3</th>\n",
       "      <td>0.115364</td>\n",
       "      <td>0.281958</td>\n",
       "      <td>0.022829</td>\n",
       "      <td>0.016014</td>\n",
       "      <td>0.059238</td>\n",
       "      <td>0.482562</td>\n",
       "      <td>comp.sys.ibm.pc.hardware</td>\n",
       "    </tr>\n",
       "    <tr>\n",
       "      <th>4</th>\n",
       "      <td>0.163281</td>\n",
       "      <td>0.246226</td>\n",
       "      <td>0.023568</td>\n",
       "      <td>0.014565</td>\n",
       "      <td>0.069813</td>\n",
       "      <td>0.444484</td>\n",
       "      <td>comp.sys.mac.hardware</td>\n",
       "    </tr>\n",
       "    <tr>\n",
       "      <th>5</th>\n",
       "      <td>0.130640</td>\n",
       "      <td>0.660720</td>\n",
       "      <td>0.027249</td>\n",
       "      <td>0.020968</td>\n",
       "      <td>0.103700</td>\n",
       "      <td>0.051664</td>\n",
       "      <td>comp.windows.x</td>\n",
       "    </tr>\n",
       "    <tr>\n",
       "      <th>6</th>\n",
       "      <td>0.182216</td>\n",
       "      <td>0.198290</td>\n",
       "      <td>0.020341</td>\n",
       "      <td>0.032627</td>\n",
       "      <td>0.048291</td>\n",
       "      <td>0.504561</td>\n",
       "      <td>misc.forsale</td>\n",
       "    </tr>\n",
       "    <tr>\n",
       "      <th>7</th>\n",
       "      <td>0.527202</td>\n",
       "      <td>0.134994</td>\n",
       "      <td>0.033273</td>\n",
       "      <td>0.020686</td>\n",
       "      <td>0.056815</td>\n",
       "      <td>0.169792</td>\n",
       "      <td>rec.autos</td>\n",
       "    </tr>\n",
       "    <tr>\n",
       "      <th>8</th>\n",
       "      <td>0.600778</td>\n",
       "      <td>0.136125</td>\n",
       "      <td>0.036220</td>\n",
       "      <td>0.025414</td>\n",
       "      <td>0.043300</td>\n",
       "      <td>0.131407</td>\n",
       "      <td>rec.motorcycles</td>\n",
       "    </tr>\n",
       "    <tr>\n",
       "      <th>9</th>\n",
       "      <td>0.711006</td>\n",
       "      <td>0.101178</td>\n",
       "      <td>0.038991</td>\n",
       "      <td>0.024652</td>\n",
       "      <td>0.019865</td>\n",
       "      <td>0.054056</td>\n",
       "      <td>rec.sport.baseball</td>\n",
       "    </tr>\n",
       "    <tr>\n",
       "      <th>10</th>\n",
       "      <td>0.756535</td>\n",
       "      <td>0.073871</td>\n",
       "      <td>0.023779</td>\n",
       "      <td>0.028917</td>\n",
       "      <td>0.018892</td>\n",
       "      <td>0.069672</td>\n",
       "      <td>rec.sport.hockey</td>\n",
       "    </tr>\n",
       "    <tr>\n",
       "      <th>11</th>\n",
       "      <td>0.208511</td>\n",
       "      <td>0.090170</td>\n",
       "      <td>0.032209</td>\n",
       "      <td>0.016899</td>\n",
       "      <td>0.595440</td>\n",
       "      <td>0.034922</td>\n",
       "      <td>sci.crypt</td>\n",
       "    </tr>\n",
       "    <tr>\n",
       "      <th>12</th>\n",
       "      <td>0.307496</td>\n",
       "      <td>0.265769</td>\n",
       "      <td>0.021877</td>\n",
       "      <td>0.021917</td>\n",
       "      <td>0.155801</td>\n",
       "      <td>0.194990</td>\n",
       "      <td>sci.electronics</td>\n",
       "    </tr>\n",
       "    <tr>\n",
       "      <th>13</th>\n",
       "      <td>0.462531</td>\n",
       "      <td>0.152604</td>\n",
       "      <td>0.066252</td>\n",
       "      <td>0.180559</td>\n",
       "      <td>0.068630</td>\n",
       "      <td>0.039121</td>\n",
       "      <td>sci.med</td>\n",
       "    </tr>\n",
       "    <tr>\n",
       "      <th>14</th>\n",
       "      <td>0.504467</td>\n",
       "      <td>0.194002</td>\n",
       "      <td>0.046991</td>\n",
       "      <td>0.022270</td>\n",
       "      <td>0.125815</td>\n",
       "      <td>0.077787</td>\n",
       "      <td>sci.space</td>\n",
       "    </tr>\n",
       "    <tr>\n",
       "      <th>15</th>\n",
       "      <td>0.229496</td>\n",
       "      <td>0.075835</td>\n",
       "      <td>0.618980</td>\n",
       "      <td>0.009625</td>\n",
       "      <td>0.032275</td>\n",
       "      <td>0.018765</td>\n",
       "      <td>soc.religion.christian</td>\n",
       "    </tr>\n",
       "    <tr>\n",
       "      <th>16</th>\n",
       "      <td>0.575913</td>\n",
       "      <td>0.076123</td>\n",
       "      <td>0.080481</td>\n",
       "      <td>0.021796</td>\n",
       "      <td>0.183750</td>\n",
       "      <td>0.036296</td>\n",
       "      <td>talk.politics.guns</td>\n",
       "    </tr>\n",
       "    <tr>\n",
       "      <th>17</th>\n",
       "      <td>0.624399</td>\n",
       "      <td>0.061261</td>\n",
       "      <td>0.144800</td>\n",
       "      <td>0.020575</td>\n",
       "      <td>0.095354</td>\n",
       "      <td>0.019923</td>\n",
       "      <td>talk.politics.mideast</td>\n",
       "    </tr>\n",
       "    <tr>\n",
       "      <th>18</th>\n",
       "      <td>0.559087</td>\n",
       "      <td>0.059315</td>\n",
       "      <td>0.113772</td>\n",
       "      <td>0.020125</td>\n",
       "      <td>0.169081</td>\n",
       "      <td>0.042060</td>\n",
       "      <td>talk.politics.misc</td>\n",
       "    </tr>\n",
       "    <tr>\n",
       "      <th>19</th>\n",
       "      <td>0.359858</td>\n",
       "      <td>0.064225</td>\n",
       "      <td>0.413758</td>\n",
       "      <td>0.019302</td>\n",
       "      <td>0.065555</td>\n",
       "      <td>0.024252</td>\n",
       "      <td>talk.religion.misc</td>\n",
       "    </tr>\n",
       "  </tbody>\n",
       "</table>\n",
       "</div>"
      ],
      "text/plain": [
       "       don, just, think, people, like  thanks, windows, does, know, file  \\\n",
       "label                                                                      \n",
       "0                            0.427398                           0.067956   \n",
       "1                            0.172845                           0.557751   \n",
       "2                            0.111835                           0.607817   \n",
       "3                            0.115364                           0.281958   \n",
       "4                            0.163281                           0.246226   \n",
       "5                            0.130640                           0.660720   \n",
       "6                            0.182216                           0.198290   \n",
       "7                            0.527202                           0.134994   \n",
       "8                            0.600778                           0.136125   \n",
       "9                            0.711006                           0.101178   \n",
       "10                           0.756535                           0.073871   \n",
       "11                           0.208511                           0.090170   \n",
       "12                           0.307496                           0.265769   \n",
       "13                           0.462531                           0.152604   \n",
       "14                           0.504467                           0.194002   \n",
       "15                           0.229496                           0.075835   \n",
       "16                           0.575913                           0.076123   \n",
       "17                           0.624399                           0.061261   \n",
       "18                           0.559087                           0.059315   \n",
       "19                           0.359858                           0.064225   \n",
       "\n",
       "       god, jesus, bible, believe, faith  geb, edu, dsl, chastity, n3jxp  \\\n",
       "label                                                                      \n",
       "0                               0.381549                        0.017617   \n",
       "1                               0.026722                        0.020693   \n",
       "2                               0.017676                        0.020599   \n",
       "3                               0.022829                        0.016014   \n",
       "4                               0.023568                        0.014565   \n",
       "5                               0.027249                        0.020968   \n",
       "6                               0.020341                        0.032627   \n",
       "7                               0.033273                        0.020686   \n",
       "8                               0.036220                        0.025414   \n",
       "9                               0.038991                        0.024652   \n",
       "10                              0.023779                        0.028917   \n",
       "11                              0.032209                        0.016899   \n",
       "12                              0.021877                        0.021917   \n",
       "13                              0.066252                        0.180559   \n",
       "14                              0.046991                        0.022270   \n",
       "15                              0.618980                        0.009625   \n",
       "16                              0.080481                        0.021796   \n",
       "17                              0.144800                        0.020575   \n",
       "18                              0.113772                        0.020125   \n",
       "19                              0.413758                        0.019302   \n",
       "\n",
       "       key, chip, encryption, clipper, keys  drive, scsi, card, disk, hard  \\\n",
       "label                                                                        \n",
       "0                                  0.056657                       0.019657   \n",
       "1                                  0.077724                       0.113443   \n",
       "2                                  0.047638                       0.150442   \n",
       "3                                  0.059238                       0.482562   \n",
       "4                                  0.069813                       0.444484   \n",
       "5                                  0.103700                       0.051664   \n",
       "6                                  0.048291                       0.504561   \n",
       "7                                  0.056815                       0.169792   \n",
       "8                                  0.043300                       0.131407   \n",
       "9                                  0.019865                       0.054056   \n",
       "10                                 0.018892                       0.069672   \n",
       "11                                 0.595440                       0.034922   \n",
       "12                                 0.155801                       0.194990   \n",
       "13                                 0.068630                       0.039121   \n",
       "14                                 0.125815                       0.077787   \n",
       "15                                 0.032275                       0.018765   \n",
       "16                                 0.183750                       0.036296   \n",
       "17                                 0.095354                       0.019923   \n",
       "18                                 0.169081                       0.042060   \n",
       "19                                 0.065555                       0.024252   \n",
       "\n",
       "                          Names  \n",
       "label                            \n",
       "0                   alt.atheism  \n",
       "1                 comp.graphics  \n",
       "2       comp.os.ms-windows.misc  \n",
       "3      comp.sys.ibm.pc.hardware  \n",
       "4         comp.sys.mac.hardware  \n",
       "5                comp.windows.x  \n",
       "6                  misc.forsale  \n",
       "7                     rec.autos  \n",
       "8               rec.motorcycles  \n",
       "9            rec.sport.baseball  \n",
       "10             rec.sport.hockey  \n",
       "11                    sci.crypt  \n",
       "12              sci.electronics  \n",
       "13                      sci.med  \n",
       "14                    sci.space  \n",
       "15       soc.religion.christian  \n",
       "16           talk.politics.guns  \n",
       "17        talk.politics.mideast  \n",
       "18           talk.politics.misc  \n",
       "19           talk.religion.misc  "
      ]
     },
     "execution_count": 9,
     "metadata": {},
     "output_type": "execute_result"
    }
   ],
   "source": [
    "# Now group and add human names for the labels\n",
    "df_lbl = df.groupby('label').mean()\n",
    "df_lbl['Names'] = pd.Series(train['target_names'], dtype=\"category\")\n",
    "\n",
    "# Now display the grouped data\n",
    "df_lbl"
   ]
  },
  {
   "cell_type": "markdown",
   "metadata": {},
   "source": [
    "-----\n",
    "\n",
    "[[Back to TOC]](#Table-of-Contents)\n",
    "\n",
    "\n",
    "### Topic-Based Classification\n",
    "\n",
    "If documents are composed of topics, we can leverage defined topics to classify new documents based on the topics that are assigned to each new document. In the following Code cells, we first train a Naive Bayes classifier on the topics in the training data sample of the twenty newsgroup data set. We compute the topics, by using the previously created NMF model, for the test data and compute classifications from these topic models. Finally, the resulting classification report and confusion matrix are shown to demonstrate the quality of this classification method.\n",
    "\n",
    "-----"
   ]
  },
  {
   "cell_type": "code",
   "execution_count": 10,
   "metadata": {},
   "outputs": [
    {
     "name": "stdout",
     "output_type": "stream",
     "text": [
      "                          precision    recall  f1-score   support\n",
      "\n",
      "             alt.atheism       0.00      0.00      0.00       319\n",
      "           comp.graphics       0.00      0.00      0.00       389\n",
      " comp.os.ms-windows.misc       0.24      0.20      0.22       394\n",
      "comp.sys.ibm.pc.hardware       0.27      0.49      0.35       392\n",
      "   comp.sys.mac.hardware       0.00      0.00      0.00       385\n",
      "          comp.windows.x       0.27      0.66      0.38       395\n",
      "            misc.forsale       0.33      0.03      0.06       390\n",
      "               rec.autos       0.35      0.02      0.03       396\n",
      "         rec.motorcycles       0.08      0.13      0.10       398\n",
      "      rec.sport.baseball       0.04      0.00      0.00       397\n",
      "        rec.sport.hockey       0.12      0.87      0.21       399\n",
      "               sci.crypt       0.53      0.65      0.59       396\n",
      "         sci.electronics       0.28      0.12      0.17       393\n",
      "                 sci.med       0.14      0.04      0.06       396\n",
      "               sci.space       0.07      0.03      0.04       394\n",
      "  soc.religion.christian       0.37      0.82      0.51       398\n",
      "      talk.politics.guns       0.00      0.00      0.00       364\n",
      "   talk.politics.mideast       0.00      0.00      0.00       376\n",
      "      talk.politics.misc       0.00      0.00      0.00       310\n",
      "      talk.religion.misc       0.00      0.00      0.00       251\n",
      "\n",
      "             avg / total       0.16      0.21      0.14      7532\n",
      "\n"
     ]
    }
   ],
   "source": [
    "# Build classifier from topics.\n",
    "from sklearn.naive_bayes import MultinomialNB\n",
    "\n",
    "clf = MultinomialNB().fit(td, train['target'])\n",
    "\n",
    "# Apply classifier to blind test data\n",
    "ts_preds = clf.predict(nmf.transform(test_data))\n",
    "\n",
    "from sklearn import metrics\n",
    "\n",
    "print(metrics.classification_report(test['target'], ts_preds,\n",
    "    target_names = test['target_names']))"
   ]
  },
  {
   "cell_type": "code",
   "execution_count": 11,
   "metadata": {},
   "outputs": [
    {
     "data": {
      "image/png": "[encoded data removed]",
      "text/plain": [
       "<matplotlib.figure.Figure at 0x7f788a11fcc0>"
      ]
     },
     "metadata": {},
     "output_type": "display_data"
    }
   ],
   "source": [
    "# Create Confusion Plot\n",
    "fig, ax = plt.subplots(figsize=(12, 10))\n",
    "\n",
    "from helper_code import mlplots as mp\n",
    "mp.confusion(test['target'], ts_preds, range(20), 20, 'Naive Bayes Model')"
   ]
  },
  {
   "cell_type": "markdown",
   "metadata": {},
   "source": [
    "-----\n",
    "\n",
    "<font color='red' size = '5'> Student Exercise </font>\n",
    "\n",
    "In the preceding cells, we introduced basic topic modeling by using the scikit learn library and employed NMF in a text classification pipeline. Now that you have run the notebook, why do you think the results from the topic model-based classification are so poor, especially when compared to the same algorithm without topic modeling (feel free to discuss this in the class forum)?\n",
    "\n",
    "Try making the following changes:\n",
    "\n",
    "1. Increase the number of topics from six to sixty. Do the results change?\n",
    "2. Change the classification algorithm to a random forest. Do the results change?\n",
    "3. Try changing the TFIDF parameters to use more features and n-grams. Do the results change?"
   ]
  },
  {
   "cell_type": "markdown",
   "metadata": {},
   "source": [
    "-----\n",
    "\n",
    "[[Back to TOC]](#Table-of-Contents)\n",
    "\n",
    "\n",
    "\n",
    "## Latent Dirichlet Allocation\n",
    "\n",
    "Perhaps the most popular topic modeling algorithm is [Latent Dirichlet Allocation][wlda] or LDA. LDA assumes that documents in a Corpus result from a mixture of a small number of topics,  and that the words in the document can be attributed to one of the topics that make up that document. The scikit learn library has an [LDA implementation][sklda], which can be easily applied to a data set, as demonstrated below. After constructing an LDA model, we extract the topics (in this case we are identifying topics for the newsgroup data set) and display the top terms in each topic.\n",
    "\n",
    "-----\n",
    "[wlda]: https://en.wikipedia.org/wiki/Latent_Dirichlet_allocation\n",
    "[sklda]: http://scikit-learn.org/stable/modules/generated/sklearn.decomposition.LatentDirichletAllocation.html"
   ]
  },
  {
   "cell_type": "code",
   "execution_count": 12,
   "metadata": {},
   "outputs": [],
   "source": [
    "from sklearn.decomposition import LatentDirichletAllocation\n",
    "\n",
    "lda = LatentDirichletAllocation(n_topics=num_topics, max_iter=5,\n",
    "                                learning_method='online', learning_offset=5.,\n",
    "                                random_state=23).fit(train_data)"
   ]
  },
  {
   "cell_type": "code",
   "execution_count": 13,
   "metadata": {},
   "outputs": [
    {
     "name": "stdout",
     "output_type": "stream",
     "text": [
      "Topic  0: game team games year players season play hockey baseball league\n",
      "Topic  1: people god don think just say believe know like did\n",
      "Topic  2: ax eisa holes marc vax xdm disc dx _____ bu\n",
      "Topic  3: thanks use know like does windows just new edu drive\n",
      "Topic  4: bike car government gun just space clinton guns 000 year\n",
      "Topic  5: msg chinese sphere plants sk mt ho pl p2 printf\n"
     ]
    }
   ],
   "source": [
    "lda_topics = tp.get_topics(cv, lda)"
   ]
  },
  {
   "cell_type": "markdown",
   "metadata": {},
   "source": [
    "-----\n",
    "\n",
    "<font color='red' size = '5'> Student Exercise </font>\n",
    "\n",
    "In the preceding cells, we introduced Latent Dirichlet Allocation. Now that you have run the notebook, try to use LDA in the previous text classification problem. Are the results better or worse? Can you explain why?"
   ]
  },
  {
   "cell_type": "markdown",
   "metadata": {},
   "source": [
    "-----\n",
    "\n",
    "[[Back to TOC]](#Table-of-Contents)\n",
    "\n",
    "\n",
    "## Gensim\n",
    "\n",
    "While NLTK is a useful library to learn the basic concepts in text analysis and natural language processing, there are other libraries that provide powerful NLP functionality. One of the most important libraries in this category is the [_gensim_ library][gl], which is an open source, Python library to create vector-space models for text data that can be used to create topic models. In the following section, we review how to use the gensim library to perform basic text analysis, before learning how to use gensim  to create topic models. \n",
    "\n",
    "An important task in gensim is to the creation of the vector space model for a text document. The indices into the vector space are mapped to the actual terms (or words) by a dictionary; thus we will need the actual vector space model and this dictionary to use gensim for topic modeling. These concepts are demonstrated in the following few Code cells, where we analyze the course description.\n",
    "\n",
    "-----\n",
    "[gl]: http://radimrehurek.com/gensim/"
   ]
  },
  {
   "cell_type": "code",
   "execution_count": 14,
   "metadata": {},
   "outputs": [
    {
     "name": "stdout",
     "output_type": "stream",
     "text": [
      "[ ['advanced', 'data', 'this', 'class', 'is'],\n",
      "  ['this', 'course', 'will', 'advanced'], ['data', 'science', 'concepts'],\n",
      "  ['concepts'], ['data'], ['students', 'will', 'learn'],\n",
      "  ['statistical', 'data'], ['statistical', 'students', 'will'],\n",
      "  ['learn', 'techniques'], [], ['will'], ['techniques'], ['data,', 'data,'],\n",
      "  ['data,', 'students', 'will'], ['learn'], [], ['data', 'students', 'have'],\n",
      "  [], [], ['this', 'class', 'is'], ['students', 'have'],\n",
      "  ['data', 'science', 'course'], ['have']]\n"
     ]
    }
   ],
   "source": [
    "# Next section follows gensim tutorial\n",
    "\n",
    "# As a text example, we use the following course description.\n",
    "info_course = ['Advanced Data Science: This class is an asynchronous, ',\n",
    "               'online course. This course will introduce advanced ',\n",
    "               'data science concepts by building ',\n",
    "               'on the foundational concepts presented in the ',\n",
    "               'prerequisite course: Foundations of Data Science. ', \n",
    "               'Students will first learn how to perform more ',\n",
    "               'statistical data exploration and constructing and ',\n",
    "               'evaluating statistical models. Next, students will ',\n",
    "               'learn machine learning techniques including supervised ',\n",
    "               'and unsupervised learning, dimensional reduction, and ',\n",
    "               'cluster finding. An emphasis will be placed on the ',\n",
    "               'practical application of these techniques to ',\n",
    "               'high-dimensional numerical data, time series data, ',\n",
    "               'image data, and text data. Finally, students will ',\n",
    "               'learn to use relational databases and cloud computing ',\n",
    "               'software components such as Hadoop, Spark, and NoSQL ',\n",
    "               'data stores. Students must have access to a fairly ',\n",
    "               'modern computer, ideally that supports hardware ',\n",
    "               'virtualization, on which they can install software.', \n",
    "               'This class is open to sophomores, juniors, seniors ',\n",
    "               'and graduate students in any discipline who have ',\n",
    "               'either taken a previous data science course or ',\n",
    "               'have received instructor permission.']\n",
    "\n",
    "# Simple stop words\n",
    "stop_words = set('for a of the and to in on an'.split())\n",
    "\n",
    "# Parse text into words, make lowercase and remove stop words\n",
    "txts = [[word for word in sentance.lower().split() if word not in stop_words]\n",
    "        for sentance in info_course]\n",
    "\n",
    "# Keep only those words appearing more than once\n",
    "# Easy with a Counter, but need a flat list\n",
    "from collections import Counter\n",
    "frequency = Counter([word for txt in txts for word in txt])\n",
    "\n",
    "# Now grab tokens that appear more than once\n",
    "tokens = [[token for token in txt if frequency[token] > 1]\n",
    "          for txt in txts]\n",
    "\n",
    "# Display the tokens\n",
    "import pprint\n",
    "pp = pprint.PrettyPrinter(indent=2, depth=2, width=80, compact=True)\n",
    "\n",
    "pp.pprint(tokens)"
   ]
  },
  {
   "cell_type": "code",
   "execution_count": 15,
   "metadata": {},
   "outputs": [
    {
     "name": "stderr",
     "output_type": "stream",
     "text": [
      "Using TensorFlow backend.\n"
     ]
    },
    {
     "name": "stdout",
     "output_type": "stream",
     "text": [
      "Dictionary(15 unique tokens: ['advanced', 'data', 'this', 'class', 'is']...)\n"
     ]
    }
   ],
   "source": [
    "# Compute a dictionary mapping for given text corpus\n",
    "\n",
    "from gensim import corpora\n",
    "dict_gensim = corpora.Dictionary(tokens)\n",
    "print(dict_gensim)"
   ]
  },
  {
   "cell_type": "code",
   "execution_count": 16,
   "metadata": {},
   "outputs": [
    {
     "name": "stdout",
     "output_type": "stream",
     "text": [
      "{'advanced': 0, 'data': 1, 'this': 2, 'class': 3, 'is': 4, 'course': 5, 'will': 6, 'science': 7, 'concepts': 8, 'students': 9, 'learn': 10, 'statistical': 11, 'techniques': 12, 'data,': 13, 'have': 14}\n"
     ]
    }
   ],
   "source": [
    "# Display mapping between index and word in Bag of Word model.\n",
    "\n",
    "print(dict_gensim.token2id)"
   ]
  },
  {
   "cell_type": "code",
   "execution_count": 17,
   "metadata": {},
   "outputs": [
    {
     "name": "stdout",
     "output_type": "stream",
     "text": [
      "[(1, 2), (2, 1), (4, 1), (5, 1), (7, 1), (8, 1), (10, 1)]\n"
     ]
    }
   ],
   "source": [
    "# Display sample text string as a bag of words.\n",
    "\n",
    "new_txt = 'data science is cool, you should take this course to learn data concepts'\n",
    "new_vec = dict_gensim.doc2bow(new_txt.lower().split())\n",
    "pp.pprint(new_vec)"
   ]
  },
  {
   "cell_type": "code",
   "execution_count": 18,
   "metadata": {},
   "outputs": [
    {
     "name": "stdout",
     "output_type": "stream",
     "text": [
      "[[(0, 1), (1, 1), (2, 1), (3, 1), (4, 1)], [(0, 1), (2, 1), (5, 1), (6, 1)], [(1, 1), (7, 1), (8, 1)], [(8, 1)], [(1, 1)], [(6, 1), (9, 1), (10, 1)], [(1, 1), (11, 1)], [(6, 1), (9, 1), (11, 1)], [(10, 1), (12, 1)], [], [(6, 1)], [(12, 1)], [(13, 2)], [(6, 1), (9, 1), (13, 1)], [(10, 1)], [], [(1, 1), (9, 1), (14, 1)], [], [], [(2, 1), (3, 1), (4, 1)], [(9, 1), (14, 1)], [(1, 1), (5, 1), (7, 1)], [(14, 1)]]\n"
     ]
    }
   ],
   "source": [
    "# Display corpus as bag of words.\n",
    "\n",
    "crps = [dict_gensim.doc2bow(txt) for txt in txts]\n",
    "print(crps)"
   ]
  },
  {
   "cell_type": "markdown",
   "metadata": {},
   "source": [
    "-----\n",
    "\n",
    "[[Back to TOC]](#Table-of-Contents)\n",
    "\n",
    "\n",
    "### Topic Modeling with Gensim\n",
    "\n",
    "We can use the gensim library to perform topic modeling. We first transform our info text document to a TFIDF model. The gensim library requires a dictionary to map indices into the TFIDF model to the words, which we can do with our `dict_gensim` object. In the next few Code cells, we first create our TFIDF document matrix, display the a sample text string, the bag of words model for this text strings, and the TFIDF model of this document. Next, we construct an Latent Dirichlet Allocation model of this document using our dictionary mapping object. Finally, we display the topics, before quantifying the top topic for each sentence in our original corpus.\n",
    "\n",
    "-----"
   ]
  },
  {
   "cell_type": "code",
   "execution_count": 19,
   "metadata": {
    "collapsed": true
   },
   "outputs": [],
   "source": [
    "from gensim import models\n",
    "\n",
    "tfidf = models.TfidfModel(crps)"
   ]
  },
  {
   "cell_type": "code",
   "execution_count": 20,
   "metadata": {},
   "outputs": [
    {
     "name": "stdout",
     "output_type": "stream",
     "text": [
      "data science is cool, you should take this course to learn data concepts\n",
      "[(1, 2), (2, 1), (4, 1), (5, 1), (7, 1), (8, 1), (10, 1)]\n",
      "[ (1, 0.4282554571680886), (2, 0.32458258711331556), (4, 0.38919453737539955),\n",
      "  (5, 0.38919453737539955), (7, 0.38919453737539955), (8, 0.38919453737539955),\n",
      "  (10, 0.32458258711331556)]\n"
     ]
    }
   ],
   "source": [
    "# Print sentance, bago of words model, and TFIDF representation.\n",
    "\n",
    "print(new_txt)\n",
    "print(new_vec)\n",
    "\n",
    "pp.pprint(tfidf[new_vec])"
   ]
  },
  {
   "cell_type": "code",
   "execution_count": 21,
   "metadata": {
    "collapsed": true
   },
   "outputs": [],
   "source": [
    "# Compute LDA model for corpus\n",
    "\n",
    "crps_tfidf = tfidf[crps]\n",
    "lda_gs = models.LdaModel(corpus=crps_tfidf, id2word=dict_gensim, num_topics=3, passes=15)"
   ]
  },
  {
   "cell_type": "code",
   "execution_count": 22,
   "metadata": {
    "scrolled": true
   },
   "outputs": [
    {
     "data": {
      "text/plain": [
       "[(0,\n",
       "  '0.183*\"will\" + 0.171*\"learn\" + 0.135*\"techniques\" + 0.125*\"statistical\" + 0.116*\"students\" + 0.074*\"data,\" + 0.024*\"data\" + 0.022*\"course\" + 0.022*\"have\" + 0.022*\"concepts\"'),\n",
       " (1,\n",
       "  '0.192*\"data\" + 0.179*\"have\" + 0.125*\"concepts\" + 0.104*\"science\" + 0.090*\"students\" + 0.080*\"data,\" + 0.061*\"course\" + 0.022*\"statistical\" + 0.021*\"will\" + 0.021*\"techniques\"'),\n",
       " (2,\n",
       "  '0.160*\"this\" + 0.133*\"class\" + 0.133*\"is\" + 0.130*\"advanced\" + 0.086*\"course\" + 0.057*\"will\" + 0.050*\"data\" + 0.032*\"data,\" + 0.031*\"students\" + 0.031*\"techniques\"')]"
      ]
     },
     "execution_count": 22,
     "metadata": {},
     "output_type": "execute_result"
    }
   ],
   "source": [
    "# Display topics as functions over their top terms\n",
    "\n",
    "lda_gs.print_topics(3)"
   ]
  },
  {
   "cell_type": "code",
   "execution_count": 23,
   "metadata": {},
   "outputs": [
    {
     "name": "stdout",
     "output_type": "stream",
     "text": [
      "Sentance  0 has primary topic 2 with probability = 0.762\n",
      "Sentance  1 has primary topic 2 with probability = 0.733\n",
      "Sentance  2 has primary topic 1 with probability = 0.750\n",
      "Sentance  3 has primary topic 1 with probability = 0.665\n",
      "Sentance  4 has primary topic 1 with probability = 0.663\n",
      "Sentance  5 has primary topic 0 with probability = 0.749\n",
      "Sentance  6 has primary topic 0 with probability = 0.515\n",
      "Sentance  7 has primary topic 0 with probability = 0.746\n",
      "Sentance  8 has primary topic 0 with probability = 0.722\n",
      "Sentance  9 has primary topic 2 with probability = 0.333\n",
      "Sentance 10 has primary topic 0 with probability = 0.662\n",
      "Sentance 11 has primary topic 0 with probability = 0.665\n",
      "Sentance 12 has primary topic 1 with probability = 0.616\n",
      "Sentance 13 has primary topic 0 with probability = 0.730\n",
      "Sentance 14 has primary topic 0 with probability = 0.665\n",
      "Sentance 15 has primary topic 2 with probability = 0.333\n",
      "Sentance 16 has primary topic 1 with probability = 0.742\n",
      "Sentance 17 has primary topic 2 with probability = 0.333\n",
      "Sentance 18 has primary topic 2 with probability = 0.333\n",
      "Sentance 19 has primary topic 2 with probability = 0.754\n",
      "Sentance 20 has primary topic 1 with probability = 0.703\n",
      "Sentance 21 has primary topic 1 with probability = 0.736\n",
      "Sentance 22 has primary topic 1 with probability = 0.665\n"
     ]
    }
   ],
   "source": [
    "# Determine primary topic for each sentance in original text\n",
    "import operator\n",
    "\n",
    "for idx, txt in enumerate(lda_gs[crps_tfidf]):\n",
    "    srt_txt = sorted(txt, key=operator.itemgetter(1))\n",
    "    print(f'Sentance {idx:2d} has primary topic {srt_txt[-1][0]:1d} ', end='')\n",
    "    print(f'with probability = {srt_txt[-1][1]:4.3f}')"
   ]
  },
  {
   "cell_type": "code",
   "execution_count": 24,
   "metadata": {},
   "outputs": [
    {
     "name": "stdout",
     "output_type": "stream",
     "text": [
      "Topic 0\n",
      "-----------------------------------\n",
      "    this                : 0.1604\n",
      "    class               : 0.1335\n",
      "    is                  : 0.1335\n",
      "    advanced            : 0.1298\n",
      "    course              : 0.0856\n",
      "    will                : 0.0571\n",
      "    data                : 0.0500\n",
      "    data,               : 0.0316\n",
      "    students            : 0.0313\n",
      "    techniques          : 0.0312\n",
      "    statistical         : 0.0312\n",
      "    concepts            : 0.0312\n",
      "    learn               : 0.0312\n",
      "    have                : 0.0312\n",
      "    science             : 0.0312\n",
      "-----------------------------------\n",
      "Topic 1\n",
      "-----------------------------------\n",
      "    data                : 0.1916\n",
      "    have                : 0.1787\n",
      "    concepts            : 0.1252\n",
      "    science             : 0.1038\n",
      "    students            : 0.0902\n",
      "    data,               : 0.0797\n",
      "    course              : 0.0610\n",
      "    statistical         : 0.0220\n",
      "    will                : 0.0212\n",
      "    techniques          : 0.0212\n",
      "    learn               : 0.0211\n",
      "    is                  : 0.0211\n",
      "    advanced            : 0.0211\n",
      "    class               : 0.0211\n",
      "    this                : 0.0211\n",
      "-----------------------------------\n",
      "Topic 2\n",
      "-----------------------------------\n",
      "    will                : 0.1835\n",
      "    learn               : 0.1707\n",
      "    techniques          : 0.1347\n",
      "    statistical         : 0.1247\n",
      "    students            : 0.1165\n",
      "    data,               : 0.0736\n",
      "    data                : 0.0238\n",
      "    course              : 0.0217\n",
      "    have                : 0.0216\n",
      "    concepts            : 0.0216\n",
      "    science             : 0.0215\n",
      "    advanced            : 0.0215\n",
      "    this                : 0.0215\n",
      "    is                  : 0.0215\n",
      "    class               : 0.0215\n",
      "-----------------------------------\n"
     ]
    }
   ],
   "source": [
    "ttps = lda_gs.top_topics(corpus=crps_tfidf)\n",
    "idx = 0\n",
    "\n",
    "for lst, val in ttps:\n",
    "    print(f'Topic {idx}')\n",
    "    print(35*('-'))\n",
    "    idx += 1\n",
    "    for i, z in lst:\n",
    "        print(f'    {z:20s}: {i:5.4f}')\n",
    "    print(35*('-'))"
   ]
  },
  {
   "cell_type": "markdown",
   "metadata": {},
   "source": [
    "-----\n",
    "\n",
    "[[Back to TOC]](#Table-of-Contents)\n",
    "\n",
    "\n",
    "### Newsgroup Topic Modeling with Gensim\n",
    "\n",
    "We can use the gensim library to perform topic modeling of the twenty newsgroup data. We first need to transform a sparse matrix (as provided by the scikit learn library) into a gensim corpus. We also need to construct a vocabulary dictionary, which we can do by transforming the scikit learn `CountVectorizer` vocabulary into a dictionary that maps between `id` and the `word`. We demonstrate this transformation in the following Code cell for the newsgroup training data.\n",
    "\n",
    "-----"
   ]
  },
  {
   "cell_type": "code",
   "execution_count": 25,
   "metadata": {
    "collapsed": true
   },
   "outputs": [],
   "source": [
    "from gensim import matutils as mat\n",
    "from gensim import models as md\n",
    "from gensim.corpora.dictionary import Dictionary\n",
    "\n",
    "# transform sparse matrix into gensim corpus\n",
    "td_gensim = mat.Sparse2Corpus(train_data, documents_columns=False)\n",
    "\n",
    "# Build temporary dictionary from scikit learn vectorizer\n",
    "# for use with gensim\n",
    "tmp_dct = dict((idv, word) for word, idv in cv.vocabulary_.items())\n",
    "dct = Dictionary.from_corpus(td_gensim, id2word=tmp_dct)"
   ]
  },
  {
   "cell_type": "markdown",
   "metadata": {},
   "source": [
    "-----\n",
    "\n",
    "[[Back to TOC]](#Table-of-Contents)\n",
    "\n",
    "\n",
    "### Latent Semantic Analysis with Gensim\n",
    "\n",
    "We can use the gensim library to perform [Latent Semantic Analysis][wlsa] or LSA; in gensim, however, this technique is called [Latent Semantic Indexing][glsi] (or LSI). LSA assumes that words with similar meanings will occur in close proximity. By leveraging this assumption, we can build and process a term document matrix. After processing, a cosine similarity can be used to identify words that are similar. This technique is applied in the following Code cell, where we build an LSA model with six topics from the newsgroup text. The topics are subsequently displayed as functions of the most important terms in each topic.\n",
    "\n",
    "-----\n",
    "[wlsa]: https://en.wikipedia.org/wiki/Latent_semantic_analysis\n",
    "[glsi]: http://radimrehurek.com/gensim/models/lsimodel.html"
   ]
  },
  {
   "cell_type": "code",
   "execution_count": 26,
   "metadata": {},
   "outputs": [
    {
     "data": {
      "text/plain": [
       "[(0,\n",
       "  '0.167*\"don\" + 0.164*\"just\" + 0.162*\"like\" + 0.161*\"know\" + 0.153*\"people\" + 0.138*\"think\" + 0.128*\"does\" + 0.115*\"good\" + 0.114*\"use\" + 0.110*\"time\"'),\n",
       " (1,\n",
       "  '-0.256*\"god\" + 0.240*\"windows\" + 0.228*\"thanks\" + -0.189*\"people\" + 0.157*\"card\" + 0.147*\"drive\" + 0.125*\"dos\" + -0.115*\"jesus\" + 0.114*\"mail\" + 0.112*\"file\"'),\n",
       " (2,\n",
       "  '0.485*\"god\" + 0.181*\"jesus\" + 0.160*\"windows\" + 0.144*\"does\" + 0.130*\"thanks\" + -0.123*\"year\" + -0.118*\"pitt\" + -0.118*\"geb\" + 0.117*\"bible\" + -0.117*\"game\"'),\n",
       " (3,\n",
       "  '0.265*\"edu\" + 0.237*\"geb\" + 0.235*\"dsl\" + 0.235*\"cadre\" + 0.235*\"n3jxp\" + 0.235*\"chastity\" + 0.234*\"shameful\" + 0.233*\"skepticism\" + 0.233*\"intellect\" + 0.233*\"pitt\"'),\n",
       " (4,\n",
       "  '0.309*\"key\" + -0.238*\"drive\" + -0.219*\"god\" + 0.186*\"government\" + 0.175*\"chip\" + 0.173*\"encryption\" + 0.153*\"clipper\" + -0.144*\"game\" + 0.139*\"use\" + 0.131*\"keys\"'),\n",
       " (5,\n",
       "  '0.428*\"drive\" + -0.277*\"thanks\" + 0.226*\"scsi\" + -0.156*\"know\" + -0.143*\"game\" + 0.135*\"drives\" + 0.132*\"disk\" + 0.129*\"key\" + -0.128*\"mail\" + 0.127*\"chip\"')]"
      ]
     },
     "execution_count": 26,
     "metadata": {},
     "output_type": "execute_result"
    }
   ],
   "source": [
    "# LSI\n",
    "\n",
    "lsi = md.lsimodel.LsiModel(corpus=td_gensim, id2word=dct, num_topics=6)\n",
    "lsi.print_topics()"
   ]
  },
  {
   "cell_type": "markdown",
   "metadata": {},
   "source": [
    "-----\n",
    "\n",
    "[[Back to TOC]](#Table-of-Contents)\n",
    "\n",
    "\n",
    "### Latent Dirichlet Allocation with Gensim\n",
    "\n",
    "The gensim library also provides an implementation of the [Latent Dirichlet allocation][glda] or LDA. We demonstrate the gensim LDA technique in the following Code cell, where we once again create an LDA model with six topics for the newsgroup text. We subsequently display the topics as functions of the top words within each topic. Finally, we display the top five words in each topic, along with their topic coherence, which is a measure of the words importance to the specific topic.\n",
    "\n",
    "-----\n",
    "\n",
    "[glda]: http://radimrehurek.com/gensim/models/ldamodel.html"
   ]
  },
  {
   "cell_type": "code",
   "execution_count": 27,
   "metadata": {},
   "outputs": [
    {
     "data": {
      "text/plain": [
       "[(0,\n",
       "  '0.006*\"game\" + 0.006*\"team\" + 0.005*\"games\" + 0.004*\"year\" + 0.004*\"season\" + 0.003*\"00\" + 0.003*\"israel\" + 0.003*\"win\" + 0.003*\"10\" + 0.003*\"11\"'),\n",
       " (1,\n",
       "  '0.012*\"key\" + 0.008*\"clipper\" + 0.007*\"keys\" + 0.007*\"chip\" + 0.007*\"encryption\" + 0.005*\"phone\" + 0.005*\"nsa\" + 0.004*\"algorithm\" + 0.004*\"just\" + 0.004*\"des\"'),\n",
       " (2,\n",
       "  '0.006*\"thanks\" + 0.006*\"windows\" + 0.005*\"file\" + 0.004*\"use\" + 0.004*\"know\" + 0.004*\"program\" + 0.004*\"mail\" + 0.004*\"window\" + 0.004*\"does\" + 0.004*\"files\"'),\n",
       " (3,\n",
       "  '0.005*\"people\" + 0.005*\"don\" + 0.004*\"just\" + 0.004*\"think\" + 0.004*\"god\" + 0.004*\"like\" + 0.003*\"know\" + 0.003*\"time\" + 0.003*\"good\" + 0.003*\"say\"'),\n",
       " (4,\n",
       "  '0.006*\"nubus\" + 0.005*\"ncd\" + 0.005*\"francis\" + 0.005*\"germany\" + 0.005*\"cc\" + 0.005*\"stats\" + 0.005*\"hawks\" + 0.005*\"mit\" + 0.005*\"compuserve\" + 0.004*\"armenian\"'),\n",
       " (5,\n",
       "  '0.007*\"drive\" + 0.006*\"scsi\" + 0.005*\"does\" + 0.005*\"card\" + 0.004*\"know\" + 0.004*\"just\" + 0.004*\"thanks\" + 0.004*\"use\" + 0.004*\"problem\" + 0.003*\"like\"')]"
      ]
     },
     "execution_count": 27,
     "metadata": {},
     "output_type": "execute_result"
    }
   ],
   "source": [
    "# LDA\n",
    "\n",
    "lda_gs = md.LdaModel(corpus=td_gensim, id2word=dct, num_topics=6, passes=2)\n",
    "lda_gs.show_topics()"
   ]
  },
  {
   "cell_type": "code",
   "execution_count": 28,
   "metadata": {
    "collapsed": true
   },
   "outputs": [],
   "source": [
    "ttps = lda_gs.top_topics(corpus=td_gensim)"
   ]
  },
  {
   "cell_type": "code",
   "execution_count": 29,
   "metadata": {},
   "outputs": [
    {
     "name": "stdout",
     "output_type": "stream",
     "text": [
      "Topic 0\n",
      "-----------------------------------\n",
      "    people              : 0.0051\n",
      "    don                 : 0.0045\n",
      "    just                : 0.0039\n",
      "    think               : 0.0039\n",
      "    god                 : 0.0037\n",
      "    like                : 0.0036\n",
      "    know                : 0.0032\n",
      "    time                : 0.0029\n",
      "    good                : 0.0029\n",
      "    say                 : 0.0029\n",
      "    right               : 0.0026\n",
      "    way                 : 0.0025\n",
      "    believe             : 0.0024\n",
      "    make                : 0.0024\n",
      "    did                 : 0.0024\n",
      "    really              : 0.0023\n",
      "    does                : 0.0023\n",
      "    said                : 0.0023\n",
      "    ve                  : 0.0023\n",
      "    government          : 0.0019\n",
      "-----------------------------------\n",
      "Topic 1\n",
      "-----------------------------------\n",
      "    key                 : 0.0124\n",
      "    clipper             : 0.0076\n",
      "    keys                : 0.0069\n",
      "    chip                : 0.0068\n",
      "    encryption          : 0.0067\n",
      "    phone               : 0.0052\n",
      "    nsa                 : 0.0050\n",
      "    algorithm           : 0.0041\n",
      "    just                : 0.0036\n",
      "    des                 : 0.0036\n",
      "    crypto              : 0.0035\n",
      "    desktop             : 0.0034\n",
      "    encrypted           : 0.0033\n",
      "    bmp                 : 0.0031\n",
      "    secure              : 0.0030\n",
      "    don                 : 0.0029\n",
      "    does                : 0.0029\n",
      "    use                 : 0.0029\n",
      "    like                : 0.0029\n",
      "    number              : 0.0028\n",
      "-----------------------------------\n",
      "Topic 2\n",
      "-----------------------------------\n",
      "    thanks              : 0.0063\n",
      "    windows             : 0.0060\n",
      "    file                : 0.0047\n",
      "    use                 : 0.0045\n",
      "    know                : 0.0041\n",
      "    program             : 0.0041\n",
      "    mail                : 0.0040\n",
      "    window              : 0.0036\n",
      "    does                : 0.0035\n",
      "    files               : 0.0035\n",
      "    dos                 : 0.0035\n",
      "    email               : 0.0034\n",
      "    like                : 0.0034\n",
      "    need                : 0.0033\n",
      "    looking             : 0.0033\n",
      "    using               : 0.0032\n",
      "    help                : 0.0031\n",
      "    software            : 0.0031\n",
      "    advance             : 0.0031\n",
      "    hi                  : 0.0030\n",
      "-----------------------------------\n",
      "Topic 3\n",
      "-----------------------------------\n",
      "    drive               : 0.0068\n",
      "    scsi                : 0.0061\n",
      "    does                : 0.0047\n",
      "    card                : 0.0046\n",
      "    know                : 0.0043\n",
      "    just                : 0.0040\n",
      "    thanks              : 0.0039\n",
      "    use                 : 0.0039\n",
      "    problem             : 0.0036\n",
      "    like                : 0.0034\n",
      "    bus                 : 0.0034\n",
      "    drives              : 0.0033\n",
      "    controller          : 0.0033\n",
      "    drivers             : 0.0031\n",
      "    good                : 0.0030\n",
      "    ve                  : 0.0029\n",
      "    problems            : 0.0028\n",
      "    price               : 0.0025\n",
      "    new                 : 0.0025\n",
      "    driver              : 0.0025\n",
      "-----------------------------------\n",
      "Topic 4\n",
      "-----------------------------------\n",
      "    game                : 0.0064\n",
      "    team                : 0.0063\n",
      "    games               : 0.0049\n",
      "    year                : 0.0043\n",
      "    season              : 0.0038\n",
      "    00                  : 0.0034\n",
      "    israel              : 0.0034\n",
      "    win                 : 0.0030\n",
      "    10                  : 0.0029\n",
      "    11                  : 0.0028\n",
      "    play                : 0.0027\n",
      "    turkish             : 0.0027\n",
      "    players             : 0.0026\n",
      "    000                 : 0.0025\n",
      "    hockey              : 0.0025\n",
      "    new                 : 0.0024\n",
      "    12                  : 0.0024\n",
      "    league              : 0.0023\n",
      "    player              : 0.0023\n",
      "    baseball            : 0.0022\n",
      "-----------------------------------\n",
      "Topic 5\n",
      "-----------------------------------\n",
      "    nubus               : 0.0058\n",
      "    ncd                 : 0.0052\n",
      "    francis             : 0.0051\n",
      "    germany             : 0.0048\n",
      "    cc                  : 0.0047\n",
      "    stats               : 0.0046\n",
      "    hawks               : 0.0046\n",
      "    mit                 : 0.0046\n",
      "    compuserve          : 0.0045\n",
      "    armenian            : 0.0045\n",
      "    edu                 : 0.0044\n",
      "    lcs                 : 0.0042\n",
      "    adobe               : 0.0042\n",
      "    vw                  : 0.0042\n",
      "    ml                  : 0.0038\n",
      "    com                 : 0.0037\n",
      "    terminals           : 0.0037\n",
      "    keith               : 0.0035\n",
      "    defaults            : 0.0034\n",
      "    ab                  : 0.0033\n",
      "-----------------------------------\n"
     ]
    }
   ],
   "source": [
    "idx = 0\n",
    "\n",
    "for lst, val in ttps:\n",
    "    print('Topic {0}'.format(idx))\n",
    "    print(35*('-'))\n",
    "    idx += 1\n",
    "    for i, z in lst:\n",
    "        print('    {0:20s}: {1:5.4f}'.format(z, i))\n",
    "    print(35*('-'))"
   ]
  },
  {
   "cell_type": "markdown",
   "metadata": {},
   "source": [
    "-----\n",
    "\n",
    "<font color='red' size = '5'> Student Exercise </font>\n",
    "\n",
    "\n",
    "In the preceding cells, we used the gensim library to perform topic modeling on the twenty newsgroup data set. Now that you have ran the notebook, try making the following changes.\n",
    "\n",
    "1. Increase the number of topics, how do the results change?\n",
    "2. Can you map the topics to the original newsgroups?\n",
    "\n",
    "-----"
   ]
  },
  {
   "cell_type": "markdown",
   "metadata": {},
   "source": [
    "## Ancillary Information\n",
    "\n",
    "The following links are to additional documentation that you might find helpful in learning this material. Reading these web-accessible documents is completely optional.\n",
    "\n",
    "1. Blog article on [topic modeling][botm]\n",
    "2. Wikipedia article on [Latent Dirichlet Allocation (LDA)][wlda] \n",
    "22. Wikipedia article on [Non-negative Matrix Factorization][wnmf] (focus on text-mining)\n",
    "12. Tutorial on using gensim for [topic modeling][gtm] \n",
    "43. [Text Analysis with topic Models][tatm] for the Humanities and Social Sciences\n",
    "101. Blog article on [matrix factorization][bnmf], with application to NMF\n",
    "\n",
    "-----\n",
    "\n",
    "[wlda]: https://en.wikipedia.org/wiki/Latent_Dirichlet_allocation\n",
    "[wtm]: https://en.wikipedia.org/wiki/Topic_model\n",
    "[wnmf]: https://en.wikipedia.org/wiki/Non-negative_matrix_factorization\n",
    "\n",
    "[gtm]: http://radimrehurek.com/gensim/tut2.html\n",
    "[tatm]: https://www.de.dariah.eu/tatom/index.html\n",
    "\n",
    "[bnmf]: http://www.quuxlabs.com/blog/2010/09/matrix-factorization-a-simple-tutorial-and-implementation-in-python/\n",
    "\n",
    "[botm]: https://www.oreilly.com/ideas/topic-models-past-present-and-future"
   ]
  },
  {
   "cell_type": "markdown",
   "metadata": {
    "deletable": false,
    "editable": false
   },
   "source": [
    "**&copy; 2017: Robert J. Brunner at the University of Illinois.**\n",
    "\n",
    "This notebook is released under the [Creative Commons license CC BY-NC-SA 4.0][ll]. Any reproduction, adaptation, distribution, dissemination or making available of this notebook for commercial use is not allowed unless authorized in writing by the copyright holder.\n",
    "\n",
    "[ll]: https://creativecommons.org/licenses/by-nc-sa/4.0/legalcode"
   ]
  }
 ],
 "metadata": {
  "kernelspec": {
   "display_name": "Python 3",
   "language": "python",
   "name": "python3"
  },
  "language_info": {
   "codemirror_mode": {
    "name": "ipython",
    "version": 3
   },
   "file_extension": ".py",
   "mimetype": "text/x-python",
   "name": "python",
   "nbconvert_exporter": "python",
   "pygments_lexer": "ipython3",
   "version": "3.6.1"
  }
 },
 "nbformat": 4,
 "nbformat_minor": 1
}
