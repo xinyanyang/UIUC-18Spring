{
 "cells": [
  {
   "cell_type": "markdown",
   "metadata": {},
   "source": [
    "# Week 10: Lesson 2\n",
    "\n",
    "-----\n",
    "\n",
    "## Introduction to NLP: Topic Modeling\n",
    "\n",
    "In this lesson, you will be introduced to the concept of topic modeling. Topic modeling is a form of unsupervised learning where specific topics, or concepts are derived from documents. The dominant technique for performing topic modeling is Latent Dirichlet Allocation or LDA. We also will explore the application of Non-negative Matrix Factorization (NMF) to the construction of topic models. To apply these techniques to text data, we will use both the scikit learn and _gensim_ libraries.\n",
    "\n",
    "### Objectives\n",
    "\n",
    "By the end of this lesson, you will be able to  \n",
    "\n",
    "- describe the basic concept of topic modeling,\n",
    "- articulate Latent Dirichlet Allocation,\n",
    "- explain the basic concept of Non-negative Matrix Factorization, and\n",
    "- apply LDA to derive topic models from text documents by using Python.\n",
    "\n",
    "### Time Estimate\n",
    "\n",
    "Approximately 2 hours.\n",
    "\n",
    "### Activities\n",
    "\n",
    "Video: Watch the [Introduction to NLP: Topic Modeling][lv] video, which will introduce topic modeling and show how it can be applied to text documents.\n",
    "\n",
    "Reading: The Wikipedia article on [Topic Models][wtm]  \n",
    "Reading: Introduction to Topic Modeling, [part 1][itm] and [part 2][itm-2]  \n",
    "\n",
    "Notebook: Read and complete the practice exercises in the [Introduction to NLP: Topic Modeling][l2nb] notebook.\n",
    "\n",
    "-----\n",
    "\n",
    "[wtm]: https://en.wikipedia.org/wiki/Topic_model\n",
    "\n",
    "[itm]: http://journalofdigitalhumanities.org/2-1/topic-modeling-a-basic-introduction-by-megan-r-brett/\n",
    "[itm-2]: http://journalofdigitalhumanities.org/2-1/topic-modeling-and-digital-humanities-by-david-m-blei/\n",
    "\n",
    "[l2nb]: intro2nlp-tm.ipynb\n",
    "\n",
    "[lv]: https://mediaspace.illinois.edu/media/t/1_wwiix8zi/80455691"
   ]
  }
 ],
 "metadata": {
  "kernelspec": {
   "display_name": "Python 3",
   "language": "python",
   "name": "python3"
  },
  "language_info": {
   "codemirror_mode": {
    "name": "ipython",
    "version": 3
   },
   "file_extension": ".py",
   "mimetype": "text/x-python",
   "name": "python",
   "nbconvert_exporter": "python",
   "pygments_lexer": "ipython3",
   "version": "3.6.1"
  }
 },
 "nbformat": 4,
 "nbformat_minor": 2
}
