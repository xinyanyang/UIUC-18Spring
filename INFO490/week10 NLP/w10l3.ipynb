{
 "cells": [
  {
   "cell_type": "markdown",
   "metadata": {},
   "source": [
    "# Week 10: Lesson 3\n",
    "\n",
    "-----\n",
    "\n",
    "## Introduction to NLP: Semantic Analysis\n",
    "\n",
    "In this lesson, you will be introduced to the concept of semantic analysis, where we try to infer the meaning of text data. In part this will build on the concepts of part of speech tagging and named entity recognition presented in a previous lesson. Other concepts, however, are also important, including the relative locations of words, and colocations. To perform semantic analysis, we will develop the word vector space model that underlies to the _word2vec_ approach. We will learn to employ word2vec (and other related models) by using the _gensim_ Python library. \n",
    "\n",
    "### Objectives\n",
    "\n",
    "By the end of this lesson, you will be able to \n",
    "\n",
    "- describe the basic concepts of semantic analysis,\n",
    "- explain the word2vec model, and\n",
    "- apply semantic analysis within a Python application.\n",
    "\n",
    "### Time Estimate\n",
    "\n",
    "Approximately 2 hours.\n",
    "\n",
    "### Activities\n",
    "\n",
    "Video: Watch the [Introduction to NLP: Semantic Analysis][lv] video, which will discuss semantic analysis and demonstrate how to perform it on basic text documents.\n",
    "\n",
    "Reading: The Wikipedia article on [word2vec][ww2v]  \n",
    "Reading: Google's Word2Vec Tutorial [Part 2][ip1] and [Part 3][ip2], from the Kaggle competition website. Other parts of the tutorial are helpful and completely optional.\n",
    "\n",
    "Notebook: Read and complete the practice exercises in the [Introduction to NLP: Semantic Analysis][l3nb] notebook.\n",
    "\n",
    "------\n",
    "\n",
    "[ip1]: https://www.kaggle.com/c/word2vec-nlp-tutorial#part-2-word-vectors\n",
    "[ip2]: https://www.kaggle.com/c/word2vec-nlp-tutorial#part-3-more-fun-with-word-vectors\n",
    "\n",
    "[ww2v]: https://en.wikipedia.org/wiki/Word2vec\n",
    "\n",
    "[lv]: https://mediaspace.illinois.edu/media/t/1_zoi5n7em/80455691\n",
    "\n",
    "[l3nb]: intro2nlp-sa.ipynb"
   ]
  }
 ],
 "metadata": {
  "kernelspec": {
   "display_name": "Python 3",
   "language": "python",
   "name": "python3"
  },
  "language_info": {
   "codemirror_mode": {
    "name": "ipython",
    "version": 3
   },
   "file_extension": ".py",
   "mimetype": "text/x-python",
   "name": "python",
   "nbconvert_exporter": "python",
   "pygments_lexer": "ipython3",
   "version": "3.6.1"
  }
 },
 "nbformat": 4,
 "nbformat_minor": 2
}
