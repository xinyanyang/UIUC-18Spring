{
 "cells": [
  {
   "cell_type": "markdown",
   "metadata": {},
   "source": [
    "# Week 10: Lesson 1\n",
    "\n",
    "-----\n",
    "\n",
    "## Introduction to NLP: Basic Concepts\n",
    "\n",
    "In this lesson, we will build on the concepts presented in the text analytics lessons to introduce several basic concepts in natural language processing (NLP). First, we will learn, in more detail, the concepts of tokenization, specifically beyond just word level tokens, and how associations between tokens can be important for NLP. We also will learn how to parse larger sections of text such as a sentence or paragraph, including the removal of punctuation. Next, we will learn about tagging text to identify the different grammatical components such as a noun, verb, adjective, or adverb. Finally, we will learn about entities and how to perform named entity recognition. \n",
    "\n",
    "### Objectives ###\n",
    "\n",
    "By the end of this lesson, you will be able to:\n",
    "\n",
    "- explain how to tokenize text by paragraph, sentence, or word,\n",
    "- describe the basic concepts of part of speech (POS) tagging,\n",
    "- discuss the basic concepts of named entity recognition (NER), and\n",
    "- apply and use part of speech tagging and named entity recognition in a Python application.\n",
    "\n",
    "### Time Estimate\n",
    "\n",
    "Approximately 2 hours.\n",
    "\n",
    "### Activities\n",
    "\n",
    "Video: Watch the [Introduction to NLP: Basic Concepts][lv] video, which will discuss how to get started performing NLP.\n",
    "\n",
    "Reading: The Wikipedia articles on [Part of Speech][wpos] tagging and [Named Entity Recognition][wner]  \n",
    "Reading: The [Online demo][dsp] of parsing text data  \n",
    "\n",
    "Notebook: Read and complete the practice exercises in the [Introduction to NLP: Basic Concepts][l1nb] notebook.\n",
    "\n",
    "------\n",
    "\n",
    "[wner]: https://en.wikipedia.org/wiki/Named-entity_recognition\n",
    "[wpos]: https://en.wikipedia.org/wiki/Part-of-speech_tagging\n",
    "\n",
    "[dsp]: https://demos.explosion.ai/displacy/\n",
    "\n",
    "[lv]: https://mediaspace.illinois.edu/media/t/1_3vnunjtn/80455691\n",
    "\n",
    "[l1nb]: intro2nlp-bc.ipynb"
   ]
  }
 ],
 "metadata": {
  "kernelspec": {
   "display_name": "Python 3",
   "language": "python",
   "name": "python3"
  },
  "language_info": {
   "codemirror_mode": {
    "name": "ipython",
    "version": 3
   },
   "file_extension": ".py",
   "mimetype": "text/x-python",
   "name": "python",
   "nbconvert_exporter": "python",
   "pygments_lexer": "ipython3",
   "version": "3.6.1"
  }
 },
 "nbformat": 4,
 "nbformat_minor": 2
}
