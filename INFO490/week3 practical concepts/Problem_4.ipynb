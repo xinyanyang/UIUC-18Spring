{
 "cells": [
  {
   "cell_type": "markdown",
   "metadata": {
    "deletable": false,
    "editable": false,
    "nbgrader": {
     "checksum": "26bc39060c6af6748cdf9f368a702473",
     "grade": false,
     "grade_id": "header",
     "locked": true,
     "schema_version": 1,
     "solution": false
    }
   },
   "source": [
    "# Week 3 Problem 4\n",
    "\n",
    "A few things you should keep in mind when working on assignments:\n",
    "\n",
    "1. Make sure you fill in any place that says `YOUR CODE HERE`. Do not write your answer in anywhere else other than where it says `YOUR CODE HERE`. Anything you write anywhere else will be removed or overwritten by the autograder.\n",
    "\n",
    "2. Before you submit your assignment, make sure everything runs as expected. Go to menubar, select *Kernel*, and restart the kernel and run all cells (*Restart & Run all*).\n",
    "\n",
    "3. Do not change the title (i.e. file name) of this notebook.\n",
    "\n",
    "4. Make sure that you save your work (in the menubar, select *File* → *Save and CheckPoint*)\n",
    "\n",
    "5. When you are ready to submit your assignment, go to *Dashboard* → *Assignments* and click the *Submit* button. Your work is not submitted until you click *Submit*.\n",
    "\n",
    "6. You are allowed to submit an assignment multiple times, but only the most recent submission will be graded.\n",
    "\n",
    "7. **If your code does not pass the unit tests, it will not pass the autograder.**"
   ]
  },
  {
   "cell_type": "markdown",
   "metadata": {
    "deletable": false,
    "editable": false,
    "nbgrader": {
     "checksum": "1f89d7628ddb8ced1dd0d46093b2376b",
     "grade": false,
     "grade_id": "due_date",
     "locked": true,
     "schema_version": 1,
     "solution": false
    }
   },
   "source": [
    "# Due Date: 6 PM, February 5, 2018"
   ]
  },
  {
   "cell_type": "code",
   "execution_count": 1,
   "metadata": {
    "collapsed": true,
    "deletable": false,
    "editable": false,
    "nbgrader": {
     "checksum": "4fa5f64cf5bcc93518515b7d214c4d8e",
     "grade": false,
     "grade_id": "import_nose",
     "locked": true,
     "schema_version": 1,
     "solution": false
    }
   },
   "outputs": [],
   "source": [
    "% matplotlib inline\n",
    "\n",
    "import numpy as np\n",
    "import pandas as pd\n",
    "from sklearn.model_selection import train_test_split\n",
    "import matplotlib as mpl\n",
    "import matplotlib.pyplot as plt\n",
    "import seaborn as sns\n",
    "from sklearn.ensemble import BaggingClassifier, RandomForestClassifier, GradientBoostingClassifier, AdaBoostClassifier\n",
    "from sklearn.metrics import accuracy_score, precision_score, recall_score, f1_score, auc, roc_curve\n",
    "from nose.tools import assert_equal, assert_in, assert_is_not, assert_is_instance\n",
    "from numpy.testing import assert_array_equal, assert_array_almost_equal\n",
    "from pandas.util.testing import assert_frame_equal, assert_index_equal"
   ]
  },
  {
   "cell_type": "markdown",
   "metadata": {
    "deletable": false,
    "editable": false,
    "nbgrader": {
     "checksum": "27577a6fd42e1a1a6941929131be4920",
     "grade": false,
     "grade_id": "cell-79f6eddb2a9a06e0",
     "locked": true,
     "schema_version": 1,
     "solution": false
    }
   },
   "source": [
    "# Boosting versus Bagging\n",
    "\n",
    "As you may have already learned, ensemble learning helps improve machine learning results by combining several models. Ensemble methods often perform very well and have won numerous machine learning competitions. Whether boosting or bagging achieve the best result really depends on the data. While both bagging and boosting decrease the variance of your single estimate, there are a lot of differences. One of the biggest is that only boosting tries to reduce bias. However, bagging may be better to avoid over-fitting.\n",
    "\n",
    "In this assignment, you will compare different boosting and bagging models to see their trade-offs. Let us use the Wisconsin Breast Cancer dataset which you should already be familiar with."
   ]
  },
  {
   "cell_type": "code",
   "execution_count": 2,
   "metadata": {
    "deletable": false,
    "editable": false,
    "nbgrader": {
     "checksum": "71da1667d8e53599d7e3823976857dca",
     "grade": false,
     "grade_id": "cell-fd257f0f63c503c8",
     "locked": true,
     "schema_version": 1,
     "solution": false
    }
   },
   "outputs": [
    {
     "data": {
      "text/html": [
       "<div>\n",
       "<style>\n",
       "    .dataframe thead tr:only-child th {\n",
       "        text-align: right;\n",
       "    }\n",
       "\n",
       "    .dataframe thead th {\n",
       "        text-align: left;\n",
       "    }\n",
       "\n",
       "    .dataframe tbody tr th {\n",
       "        vertical-align: top;\n",
       "    }\n",
       "</style>\n",
       "<table border=\"1\" class=\"dataframe\">\n",
       "  <thead>\n",
       "    <tr style=\"text-align: right;\">\n",
       "      <th></th>\n",
       "      <th>mean radius</th>\n",
       "      <th>mean texture</th>\n",
       "      <th>mean perimeter</th>\n",
       "      <th>mean area</th>\n",
       "      <th>mean smoothness</th>\n",
       "      <th>mean compactness</th>\n",
       "      <th>mean concavity</th>\n",
       "      <th>mean concave points</th>\n",
       "      <th>mean symmetry</th>\n",
       "      <th>mean fractal dimension</th>\n",
       "      <th>...</th>\n",
       "      <th>worst texture</th>\n",
       "      <th>worst perimeter</th>\n",
       "      <th>worst area</th>\n",
       "      <th>worst smoothness</th>\n",
       "      <th>worst compactness</th>\n",
       "      <th>worst concavity</th>\n",
       "      <th>worst concave points</th>\n",
       "      <th>worst symmetry</th>\n",
       "      <th>worst fractal dimension</th>\n",
       "      <th>target</th>\n",
       "    </tr>\n",
       "  </thead>\n",
       "  <tbody>\n",
       "    <tr>\n",
       "      <th>0</th>\n",
       "      <td>17.99</td>\n",
       "      <td>10.38</td>\n",
       "      <td>122.80</td>\n",
       "      <td>1001.0</td>\n",
       "      <td>0.11840</td>\n",
       "      <td>0.27760</td>\n",
       "      <td>0.3001</td>\n",
       "      <td>0.14710</td>\n",
       "      <td>0.2419</td>\n",
       "      <td>0.07871</td>\n",
       "      <td>...</td>\n",
       "      <td>17.33</td>\n",
       "      <td>184.60</td>\n",
       "      <td>2019.0</td>\n",
       "      <td>0.1622</td>\n",
       "      <td>0.6656</td>\n",
       "      <td>0.7119</td>\n",
       "      <td>0.2654</td>\n",
       "      <td>0.4601</td>\n",
       "      <td>0.11890</td>\n",
       "      <td>0</td>\n",
       "    </tr>\n",
       "    <tr>\n",
       "      <th>1</th>\n",
       "      <td>20.57</td>\n",
       "      <td>17.77</td>\n",
       "      <td>132.90</td>\n",
       "      <td>1326.0</td>\n",
       "      <td>0.08474</td>\n",
       "      <td>0.07864</td>\n",
       "      <td>0.0869</td>\n",
       "      <td>0.07017</td>\n",
       "      <td>0.1812</td>\n",
       "      <td>0.05667</td>\n",
       "      <td>...</td>\n",
       "      <td>23.41</td>\n",
       "      <td>158.80</td>\n",
       "      <td>1956.0</td>\n",
       "      <td>0.1238</td>\n",
       "      <td>0.1866</td>\n",
       "      <td>0.2416</td>\n",
       "      <td>0.1860</td>\n",
       "      <td>0.2750</td>\n",
       "      <td>0.08902</td>\n",
       "      <td>0</td>\n",
       "    </tr>\n",
       "    <tr>\n",
       "      <th>2</th>\n",
       "      <td>19.69</td>\n",
       "      <td>21.25</td>\n",
       "      <td>130.00</td>\n",
       "      <td>1203.0</td>\n",
       "      <td>0.10960</td>\n",
       "      <td>0.15990</td>\n",
       "      <td>0.1974</td>\n",
       "      <td>0.12790</td>\n",
       "      <td>0.2069</td>\n",
       "      <td>0.05999</td>\n",
       "      <td>...</td>\n",
       "      <td>25.53</td>\n",
       "      <td>152.50</td>\n",
       "      <td>1709.0</td>\n",
       "      <td>0.1444</td>\n",
       "      <td>0.4245</td>\n",
       "      <td>0.4504</td>\n",
       "      <td>0.2430</td>\n",
       "      <td>0.3613</td>\n",
       "      <td>0.08758</td>\n",
       "      <td>0</td>\n",
       "    </tr>\n",
       "    <tr>\n",
       "      <th>3</th>\n",
       "      <td>11.42</td>\n",
       "      <td>20.38</td>\n",
       "      <td>77.58</td>\n",
       "      <td>386.1</td>\n",
       "      <td>0.14250</td>\n",
       "      <td>0.28390</td>\n",
       "      <td>0.2414</td>\n",
       "      <td>0.10520</td>\n",
       "      <td>0.2597</td>\n",
       "      <td>0.09744</td>\n",
       "      <td>...</td>\n",
       "      <td>26.50</td>\n",
       "      <td>98.87</td>\n",
       "      <td>567.7</td>\n",
       "      <td>0.2098</td>\n",
       "      <td>0.8663</td>\n",
       "      <td>0.6869</td>\n",
       "      <td>0.2575</td>\n",
       "      <td>0.6638</td>\n",
       "      <td>0.17300</td>\n",
       "      <td>0</td>\n",
       "    </tr>\n",
       "    <tr>\n",
       "      <th>4</th>\n",
       "      <td>20.29</td>\n",
       "      <td>14.34</td>\n",
       "      <td>135.10</td>\n",
       "      <td>1297.0</td>\n",
       "      <td>0.10030</td>\n",
       "      <td>0.13280</td>\n",
       "      <td>0.1980</td>\n",
       "      <td>0.10430</td>\n",
       "      <td>0.1809</td>\n",
       "      <td>0.05883</td>\n",
       "      <td>...</td>\n",
       "      <td>16.67</td>\n",
       "      <td>152.20</td>\n",
       "      <td>1575.0</td>\n",
       "      <td>0.1374</td>\n",
       "      <td>0.2050</td>\n",
       "      <td>0.4000</td>\n",
       "      <td>0.1625</td>\n",
       "      <td>0.2364</td>\n",
       "      <td>0.07678</td>\n",
       "      <td>0</td>\n",
       "    </tr>\n",
       "  </tbody>\n",
       "</table>\n",
       "<p>5 rows × 31 columns</p>\n",
       "</div>"
      ],
      "text/plain": [
       "   mean radius  mean texture  mean perimeter  mean area  mean smoothness  \\\n",
       "0        17.99         10.38          122.80     1001.0          0.11840   \n",
       "1        20.57         17.77          132.90     1326.0          0.08474   \n",
       "2        19.69         21.25          130.00     1203.0          0.10960   \n",
       "3        11.42         20.38           77.58      386.1          0.14250   \n",
       "4        20.29         14.34          135.10     1297.0          0.10030   \n",
       "\n",
       "   mean compactness  mean concavity  mean concave points  mean symmetry  \\\n",
       "0           0.27760          0.3001              0.14710         0.2419   \n",
       "1           0.07864          0.0869              0.07017         0.1812   \n",
       "2           0.15990          0.1974              0.12790         0.2069   \n",
       "3           0.28390          0.2414              0.10520         0.2597   \n",
       "4           0.13280          0.1980              0.10430         0.1809   \n",
       "\n",
       "   mean fractal dimension   ...    worst texture  worst perimeter  worst area  \\\n",
       "0                 0.07871   ...            17.33           184.60      2019.0   \n",
       "1                 0.05667   ...            23.41           158.80      1956.0   \n",
       "2                 0.05999   ...            25.53           152.50      1709.0   \n",
       "3                 0.09744   ...            26.50            98.87       567.7   \n",
       "4                 0.05883   ...            16.67           152.20      1575.0   \n",
       "\n",
       "   worst smoothness  worst compactness  worst concavity  worst concave points  \\\n",
       "0            0.1622             0.6656           0.7119                0.2654   \n",
       "1            0.1238             0.1866           0.2416                0.1860   \n",
       "2            0.1444             0.4245           0.4504                0.2430   \n",
       "3            0.2098             0.8663           0.6869                0.2575   \n",
       "4            0.1374             0.2050           0.4000                0.1625   \n",
       "\n",
       "   worst symmetry  worst fractal dimension  target  \n",
       "0          0.4601                  0.11890       0  \n",
       "1          0.2750                  0.08902       0  \n",
       "2          0.3613                  0.08758       0  \n",
       "3          0.6638                  0.17300       0  \n",
       "4          0.2364                  0.07678       0  \n",
       "\n",
       "[5 rows x 31 columns]"
      ]
     },
     "execution_count": 2,
     "metadata": {},
     "output_type": "execute_result"
    }
   ],
   "source": [
    "# Load in the dataset as a Pandas DataFrame\n",
    "from sklearn.datasets import load_breast_cancer\n",
    "\n",
    "data = load_breast_cancer()\n",
    "df = pd.DataFrame(data.data, columns=data.feature_names)\n",
    "\n",
    "# Add in the target (labels)\n",
    "df['target'] = data.target\n",
    "\n",
    "# Preview the first few lines\n",
    "df.head()"
   ]
  },
  {
   "cell_type": "code",
   "execution_count": 3,
   "metadata": {
    "collapsed": true,
    "deletable": false,
    "editable": false,
    "nbgrader": {
     "checksum": "26ea1ef92564cc31b46547f2ac78d133",
     "grade": false,
     "grade_id": "cell-4fd3d67591472eed",
     "locked": true,
     "schema_version": 1,
     "solution": false
    }
   },
   "outputs": [],
   "source": [
    "# Split the DataFrame into a DataFrame of features and a Series of labels\n",
    "cancer_df = df[df.columns[:-1]]\n",
    "labels = df.target\n",
    "\n",
    "# Perform a 70/30 train-test-split\n",
    "X_train, X_test, y_train, y_test = train_test_split(cancer_df, \n",
    "                                                    labels, \n",
    "                                                    test_size=0.3,\n",
    "                                                    random_state=10)"
   ]
  },
  {
   "cell_type": "markdown",
   "metadata": {
    "collapsed": true,
    "deletable": false,
    "editable": false,
    "nbgrader": {
     "checksum": "2445db8e1e543e6f6d16bdab0815a4d1",
     "grade": false,
     "grade_id": "prob1",
     "locked": true,
     "schema_version": 1,
     "solution": false
    }
   },
   "source": [
    "## Question 1\n",
    "\n",
    "Create a function called `train_predict` which trains a specified classifier model and return the predicted class labels from the testing set along with the fitted model.\n",
    "\n",
    "Your function should take an input called `classifier_model` which is a string corresponding as follows sklearn model:\n",
    "- \"bagging\" : [BaggingClassifier](http://scikit-learn.org/stable/modules/generated/sklearn.ensemble.BaggingClassifier.html)\n",
    "- \"random_forest\": [RandomForestClassifier](http://scikit-learn.org/stable/modules/generated/sklearn.ensemble.RandomForestClassifier.html)\n",
    "- \"gradient_boost\": [GradientBoostingClassifier](http://scikit-learn.org/stable/modules/generated/sklearn.ensemble.GradientBoostingClassifier.html)\n",
    "- \"adaboost\" : [AdaBoostClassifier](http://scikit-learn.org/stable/modules/generated/sklearn.ensemble.AdaBoostClassifier.html)\n",
    "\n",
    "Note, use the default parameters for all of the model (i.e., you do not need to specify any model parameters)."
   ]
  },
  {
   "cell_type": "code",
   "execution_count": 4,
   "metadata": {
    "collapsed": true,
    "deletable": false,
    "nbgrader": {
     "checksum": "d93c77da9b799a63c87d7f4e3d502e8c",
     "grade": false,
     "grade_id": "prob1_answer",
     "locked": false,
     "schema_version": 1,
     "solution": true
    }
   },
   "outputs": [],
   "source": [
    "def train_predict(classifier_model, X_train, y_train, X_test):\n",
    "    '''    \n",
    "    Parameters\n",
    "    ----------\n",
    "    classifier_model: A String specifying the type of classifier\n",
    "    X_train: A pandas.DataFrame of the features\n",
    "    y_train: A pandas.Series of the labels\n",
    "    X_test: A pandas.DataFrame of the features\n",
    "    \n",
    "    Returns\n",
    "    -------\n",
    "    model: A ensemble.BaggingClassifier instance\n",
    "    prediction: A numpy array\n",
    "    '''\n",
    "    if classifier_model == 'bagging' :\n",
    "        classifier = BaggingClassifier\n",
    "    elif classifier_model == 'random_forest':\n",
    "        classifier = RandomForestClassifier\n",
    "    elif classifier_model == 'gradient_boost':\n",
    "        classifier = GradientBoostingClassifier\n",
    "    else:\n",
    "        classifier = AdaBoostClassifier\n",
    "        \n",
    "    model = classifier()\n",
    "    model = model.fit(X_train, y_train)\n",
    "    result = model.predict(X_test)\n",
    "\n",
    "    return model, result"
   ]
  },
  {
   "cell_type": "code",
   "execution_count": 5,
   "metadata": {
    "collapsed": true
   },
   "outputs": [],
   "source": [
    "# Train and predict using the cancer dataset\n",
    "bagging_model, bagging_pred = train_predict(\"bagging\", X_train, y_train, X_test)\n",
    "rf_model, rf_pred = train_predict(\"random_forest\", X_train, y_train, X_test)\n",
    "gb_model, gb_pred = train_predict(\"gradient_boost\", X_train, y_train, X_test)\n",
    "adaboost_model, adaboost_pred = train_predict(\"adaboost\", X_train, y_train, X_test)"
   ]
  },
  {
   "cell_type": "code",
   "execution_count": 6,
   "metadata": {
    "collapsed": true,
    "deletable": false,
    "editable": false,
    "nbgrader": {
     "checksum": "ddc173000e296ccb946ba39aebb3e6bc",
     "grade": true,
     "grade_id": "prob1_grade",
     "locked": true,
     "points": 10,
     "schema_version": 1,
     "solution": false
    }
   },
   "outputs": [],
   "source": [
    "assert_equal(isinstance(bagging_model, BaggingClassifier), True)\n",
    "assert_equal(isinstance(bagging_pred, np.ndarray), True)\n",
    "assert_equal(len(bagging_pred), 171)\n",
    "\n",
    "assert_equal(isinstance(rf_model, RandomForestClassifier), True)\n",
    "assert_equal(isinstance(rf_pred, np.ndarray), True)\n",
    "assert_equal(len(rf_pred), 171)\n"
   ]
  },
  {
   "cell_type": "markdown",
   "metadata": {
    "collapsed": true,
    "deletable": false,
    "editable": false,
    "nbgrader": {
     "checksum": "067949a2d2a29affe9bdb19e79871400",
     "grade": false,
     "grade_id": "prob2",
     "locked": true,
     "schema_version": 1,
     "solution": false
    }
   },
   "source": [
    "## Question 2\n",
    "\n",
    "Write a function call `compute_metric` which takes the predicted and true labels (`y_test`) and compute an inputted `metric_name`. Your function should consider the following:\n",
    "- `precision` : tp / (tp + fp) where tp is true positive and fp is false positive.\n",
    "- `recall` : tp / (tp + fn) where fn is false negative.\n",
    "- `accuracy`: Accuracy\n",
    "- `f1score` : 2 * (precision * recall) / (precision + recall)\n",
    "\n",
    "__Hint__: You are free to use the built-in _sklearn.metrics_ functions or compute the metrics directly."
   ]
  },
  {
   "cell_type": "code",
   "execution_count": 17,
   "metadata": {
    "collapsed": true,
    "deletable": false,
    "nbgrader": {
     "checksum": "90fb6f37b8b647045856286c2d49906f",
     "grade": false,
     "grade_id": "prob2_answer",
     "locked": false,
     "schema_version": 1,
     "solution": true
    }
   },
   "outputs": [],
   "source": [
    "def compute_metric(predicted_labels, true_labels, metric_name):\n",
    "    '''\n",
    "    Parameters\n",
    "    ----------\n",
    "    predicted_labels: A numpy.ndarray\n",
    "    true_labels: A numpy.ndarray\n",
    "    metric_name: A String\n",
    "    \n",
    "    Returns\n",
    "    -------\n",
    "    result: A numpy.float64\n",
    "    '''\n",
    "    if metric_name == 'precision' :\n",
    "        measurement = precision_score\n",
    "    elif metric_name == 'recall':\n",
    "        measurement = recall_score\n",
    "    elif metric_name == 'accuracy':\n",
    "        measurement = accuracy_score\n",
    "    else:\n",
    "        measurement = f1_score\n",
    "    \n",
    "    result = measurement(true_labels, predicted_labels)\n",
    "\n",
    "    return result"
   ]
  },
  {
   "cell_type": "code",
   "execution_count": 18,
   "metadata": {},
   "outputs": [
    {
     "data": {
      "text/plain": [
       "0.9707602339181286"
      ]
     },
     "execution_count": 18,
     "metadata": {},
     "output_type": "execute_result"
    }
   ],
   "source": [
    "accuracy_score(y_test, bagging_pred)"
   ]
  },
  {
   "cell_type": "code",
   "execution_count": 19,
   "metadata": {
    "collapsed": true,
    "deletable": false,
    "editable": false,
    "nbgrader": {
     "checksum": "f2d8896c725a04a00bfc09a4a44e6025",
     "grade": false,
     "grade_id": "cell-c9f963254ad55f3f",
     "locked": true,
     "schema_version": 1,
     "solution": false
    }
   },
   "outputs": [],
   "source": [
    "# Lets test your function\n",
    "bagging_recall = compute_metric(y_test, bagging_pred, 'recall')\n",
    "adaboost_accuracy = compute_metric(y_test, adaboost_pred, 'accuracy')\n",
    "rf_f1score = compute_metric(y_test, rf_pred, 'f1score')\n",
    "gradboost_precision = compute_metric(y_test, gb_pred, 'precision')"
   ]
  },
  {
   "cell_type": "code",
   "execution_count": 20,
   "metadata": {
    "collapsed": true,
    "deletable": false,
    "editable": false,
    "nbgrader": {
     "checksum": "3bc57ed575a54a600af9d67116a16f77",
     "grade": true,
     "grade_id": "prob2_grade",
     "locked": true,
     "points": 5,
     "schema_version": 1,
     "solution": false
    }
   },
   "outputs": [],
   "source": [
    "assert_equal(type(bagging_recall), np.float64)\n",
    "assert_equal(0 <= bagging_recall <= 1, True)\n",
    "assert_equal(type(adaboost_accuracy), np.float64)\n",
    "assert_equal(0 <= adaboost_accuracy <= 1, True)\n",
    "assert_equal(type(rf_f1score), np.float64)\n",
    "assert_equal(0 <= rf_f1score <= 1, True)\n",
    "assert_equal(type(gradboost_precision), np.float64)\n",
    "assert_equal(0 <= gradboost_precision <= 1, True)\n"
   ]
  },
  {
   "cell_type": "markdown",
   "metadata": {},
   "source": [
    "While we can simply use the directly accuracy, precision, recall and f1-score to compare between the models, it is often easier to visualize the model performance using the ROC curve.\n",
    "\n",
    "In the example below, we plot the ROC curve for Random Forest to compare it with a random classifier. We also compute the AUC."
   ]
  },
  {
   "cell_type": "code",
   "execution_count": 21,
   "metadata": {
    "deletable": false,
    "editable": false,
    "nbgrader": {
     "checksum": "a7283532322461241c968a8deaf248ba",
     "grade": false,
     "grade_id": "cell-d1fa107d50b7460c",
     "locked": true,
     "schema_version": 1,
     "solution": false
    }
   },
   "outputs": [
    {
     "data": {
      "image/png": "[encoded data removed]",
      "text/plain": [
       "<matplotlib.figure.Figure at 0x7fa938665e10>"
      ]
     },
     "metadata": {},
     "output_type": "display_data"
    }
   ],
   "source": [
    "# Obtain the predicted probabities\n",
    "rf_probs = rf_model.predict_proba(X_test)\n",
    "\n",
    "# Compute the true positive rate and the false positive rate\n",
    "rf_fpr, rf_tpr, threshold = roc_curve(y_test, rf_probs[:,1])\n",
    "\n",
    "fig, ax = plt.subplots() \n",
    "\n",
    "# Plot the ROC curve\n",
    "ax.plot(rf_fpr, rf_tpr, 'blue', label = 'AUC = %0.2f' % auc(rf_fpr, rf_tpr))\n",
    "\n",
    "# Plot the random classifier\n",
    "ax.plot([0, 1], [0, 1],'red')\n",
    "\n",
    "# Create a legend\n",
    "ax.legend(loc = 'lower right')\n",
    "\n",
    "# Set the axes limits\n",
    "ax.set_xlim([0, 1])\n",
    "ax.set_ylim([0, 1])\n",
    "\n",
    "# Plot title and axes labels\n",
    "ax.set_title('Receiver Operating Characteristic')\n",
    "ax.set_ylabel('True Positive Rate')\n",
    "ax.set_xlabel('False Positive Rate');"
   ]
  },
  {
   "cell_type": "markdown",
   "metadata": {
    "collapsed": true,
    "deletable": false,
    "editable": false,
    "nbgrader": {
     "checksum": "c084d18bd1e20f05e4465d7f00b9b44b",
     "grade": false,
     "grade_id": "prob3",
     "locked": true,
     "schema_version": 1,
     "solution": false
    }
   },
   "source": [
    "## Question 3\n",
    "\n",
    "Create a function called `plot_ROC` that takes a the test set of features and true labels to plot the ROC curve of all four models and a random classifier.\n",
    "\n",
    "Your plot needs to satisfy the following requirements to pass all assertions:\n",
    "\n",
    "- Set the x-axis and y-axis to be between 0 and 1.\n",
    "- Your plot should have 5 ROC curves (4 for each models and 1 for the random classifier)\n",
    "- Make sure all five curves have different colors.\n",
    "- Make sure you've created the legend.\n",
    "- Add a title to your plot.\n",
    "- Add a label to the x-axis and y-axis.\n",
    "- Make sure your function returns a matplotlib.Axes object (call it ax). The reason we write our function to return an Axes instance is because it can be used to extract data values for testing.\n",
    "\n",
    "\n",
    "__Hint:__ Use the example above as a reference. You do not need to compute the AUC as shown in the example but it is nice to have."
   ]
  },
  {
   "cell_type": "code",
   "execution_count": 28,
   "metadata": {
    "collapsed": true,
    "deletable": false,
    "nbgrader": {
     "checksum": "548dc39f2f7925ebf0e65dc7a49eac1b",
     "grade": false,
     "grade_id": "prob3_answer",
     "locked": false,
     "schema_version": 1,
     "solution": true
    }
   },
   "outputs": [],
   "source": [
    "def plot_ROC(X_test, y_test):\n",
    "    '''    \n",
    "    Parameters\n",
    "    ----------\n",
    "    X_test: A pandas.DataFrame of the features\n",
    "    y_test: A numpy.ndarray\n",
    "    \n",
    "    Returns\n",
    "    -------\n",
    "    ax: A matplotlib.Axes instance.\n",
    "    '''\n",
    "    # Obtain the predicted probabities\n",
    "    rf_probs = rf_model.predict_proba(X_test)\n",
    "    bagging_probs = bagging_model.predict_proba(X_test)\n",
    "    gb_probs = gb_model.predict_proba(X_test) \n",
    "    adaboost_probs = adaboost_model.predict_proba(X_test)\n",
    "\n",
    "    # Compute the true positive rate and the false positive rate\n",
    "    rf_fpr, rf_tpr, threshold_1 = roc_curve(y_test, rf_probs[:,1])\n",
    "    bagging_fpr, bagging_tpr, threshold_2 = roc_curve(y_test, bagging_probs[:,1])\n",
    "    gb_fpr, gb_tpr, threshold_3 = roc_curve(y_test, gb_probs[:,1])\n",
    "    adaboost_fpr, adaboost_tpr, threshold_4 = roc_curve(y_test, adaboost_probs[:,1]) \n",
    "    \n",
    "    fig, ax = plt.subplots()  \n",
    "\n",
    "    # Plot the ROC curve\n",
    "    ax.plot(rf_fpr, rf_tpr, 'blue', label = 'Random Forest AUC = %0.2f' % auc(rf_fpr, rf_tpr))\n",
    "    ax.plot(bagging_fpr, bagging_tpr, 'green', label = 'Bagging AUC = %0.2f' % auc(bagging_fpr, bagging_tpr))\n",
    "    ax.plot(gb_fpr, gb_tpr, 'orange', label = 'Gradient Boosting AUC = %0.2f' % auc(gb_fpr, gb_tpr))\n",
    "    ax.plot(adaboost_fpr, adaboost_tpr, 'purple', label = 'Adaboost AUC = %0.2f' % auc(adaboost_fpr, adaboost_tpr))\n",
    "\n",
    "    # Plot the random classifier\n",
    "    ax.plot([0, 1], [0, 1],'red', label = 'Random Classifier AUC = 0.5')\n",
    "\n",
    "    # Create a legend\n",
    "    ax.legend(loc = 'lower right')\n",
    "    #['Random Forest', 'Bagging', 'Gradient Boosting', 'Adaboost', 'Random Classifier']\n",
    "\n",
    "    # Set the axes limits\n",
    "    ax.set_xlim([0, 1])\n",
    "    ax.set_ylim([0, 1])\n",
    "\n",
    "    # Plot title and axes labels\n",
    "    ax.set_title('Receiver Operating Characteristic')\n",
    "    ax.set_ylabel('True Positive Rate')\n",
    "    ax.set_xlabel('False Positive Rate');\n",
    "    \n",
    "\n",
    "    return ax"
   ]
  },
  {
   "cell_type": "code",
   "execution_count": 29,
   "metadata": {
    "deletable": false,
    "editable": false,
    "nbgrader": {
     "checksum": "d216b065a816632a67a25436fcda474e",
     "grade": false,
     "grade_id": "cell-84c2a0be0ecb27cc",
     "locked": true,
     "schema_version": 1,
     "solution": false
    }
   },
   "outputs": [
    {
     "data": {
      "image/png": "[encoded data removed]",
      "text/plain": [
       "<matplotlib.figure.Figure at 0x7fa92ec06898>"
      ]
     },
     "metadata": {},
     "output_type": "display_data"
    }
   ],
   "source": [
    "# Call the function\n",
    "ax = plot_ROC(X_test, y_test)"
   ]
  },
  {
   "cell_type": "code",
   "execution_count": 30,
   "metadata": {
    "collapsed": true,
    "deletable": false,
    "editable": false,
    "nbgrader": {
     "checksum": "3b478cf647d9cf2b644c41946dedb419",
     "grade": true,
     "grade_id": "prob3_grade",
     "locked": true,
     "points": 15,
     "schema_version": 1,
     "solution": false
    }
   },
   "outputs": [],
   "source": [
    "# Check to see if an Axes object is returned\n",
    "assert_is_instance(\n",
    "    ax, mpl.axes.Axes,\n",
    "    msg=\"Your function should return a matplotlib.axes.Axes object.\"\n",
    ")\n",
    "\n",
    "# Check if the title is set\n",
    "assert_is_not(\n",
    "    len(ax.title.get_text()), 0,\n",
    "    msg=\"Your plot doesn't have a title.\"\n",
    ")\n",
    "\n",
    "# Check if the x-axis has a label.\n",
    "assert_is_not(\n",
    "    ax.xaxis.get_label_text(), '',\n",
    "    msg=\"Change the x-axis label to something more descriptive.\"\n",
    ")\n",
    "\n",
    "# Check if the y-axis has a label.\n",
    "assert_is_not(\n",
    "    ax.yaxis.get_label_text(), '',\n",
    "    msg=\"Change the y-axis label to something more descriptive.\"\n",
    ")\n",
    "\n",
    "# Check the x-axis limit\n",
    "assert_equal(ax.get_xlim(), (0,1),\n",
    "             msg=\"Change the x-axis limit to be (0,1)\"\n",
    ")\n",
    "\n",
    "# Check the y-axis limit\n",
    "assert_equal(ax.get_ylim(), (0,1),\n",
    "             msg=\"Change the y-axis limit to be (0,1)\"\n",
    ")\n",
    "\n",
    "# Check the numbers of ROC curves plotted\n",
    "assert_equal(len(ax.lines), 5,\n",
    "             msg=\"Make sure to plot the 4 models' and the random classifier's ROC curve.\")\n",
    "\n",
    "# Check if legend exists\n",
    "assert_equal(len(ax.get_legend_handles_labels()) > 0, True,\n",
    "             msg=\"Make sure you create a legend.\"\n",
    ")\n",
    "\n",
    "# Check to see if each curve is of different color\n",
    "colors = []\n",
    "for i in range(0,5):\n",
    "    colors.append(ax.lines[i].get_color())\n",
    "assert_equal(len(list(set(colors))), 5,\n",
    "             msg=\"Make sure the colors of each curve is unique.\")"
   ]
  }
 ],
 "metadata": {
  "kernelspec": {
   "display_name": "Python 3",
   "language": "python",
   "name": "python3"
  },
  "language_info": {
   "codemirror_mode": {
    "name": "ipython",
    "version": 3
   },
   "file_extension": ".py",
   "mimetype": "text/x-python",
   "name": "python",
   "nbconvert_exporter": "python",
   "pygments_lexer": "ipython3",
   "version": "3.6.1"
  }
 },
 "nbformat": 4,
 "nbformat_minor": 2
}
