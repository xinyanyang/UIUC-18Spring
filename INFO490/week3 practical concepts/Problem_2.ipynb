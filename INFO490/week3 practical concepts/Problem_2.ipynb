{
 "cells": [
  {
   "cell_type": "markdown",
   "metadata": {
    "deletable": false,
    "editable": false,
    "nbgrader": {
     "checksum": "2a07f9264f862a0315a3ca41f377498b",
     "grade": false,
     "grade_id": "header",
     "locked": true,
     "schema_version": 1,
     "solution": false
    }
   },
   "source": [
    "# Week 3 Problem 2\n",
    "\n",
    "A few things you should keep in mind when working on assignments:\n",
    "\n",
    "1. Make sure you fill in any place that says YOUR CODE HERE. Do not write your answer in anywhere else other than where it says YOUR CODE HERE. Anything you write anywhere else will be removed or overwritten by the autograder.\n",
    "\n",
    "2. Before you submit your assignment, make sure everything runs as expected. Go to menubar, select Kernel, and restart the kernel and run all cells (Restart & Run all).\n",
    "\n",
    "3. Do not change the title (i.e. file name) of this notebook.\n",
    "\n",
    "4. Make sure that you save your work (in the menubar, select File → Save and CheckPoint)\n",
    "\n",
    "5. When you are ready to submit your assignment, go to Dashboard → Assignments and click the Submit button. Your work is not submitted until you click Submit.\n",
    "\n",
    "6. You are allowed to submit an assignment multiple times, but only the most recent submission will be graded.\n",
    "\n",
    "7. If your code does not pass the unit tests, it will not pass the autograder.\n",
    "\n"
   ]
  },
  {
   "cell_type": "markdown",
   "metadata": {
    "deletable": false,
    "editable": false,
    "nbgrader": {
     "checksum": "f4d9534fa698b1d5c6abc00bc0620905",
     "grade": false,
     "grade_id": "due_date",
     "locked": true,
     "schema_version": 1,
     "solution": false
    }
   },
   "source": [
    "# Due Date: 6 PM, February 05, 2018\n"
   ]
  },
  {
   "cell_type": "code",
   "execution_count": 1,
   "metadata": {
    "collapsed": true,
    "deletable": false,
    "editable": false,
    "nbgrader": {
     "checksum": "f7d72b09f3ff98937692df71499234f7",
     "grade": false,
     "grade_id": "import",
     "locked": true,
     "schema_version": 1,
     "solution": false
    }
   },
   "outputs": [],
   "source": [
    "# Set up Notebook\n",
    "% matplotlib inline\n",
    "\n",
    "# Standard imports\n",
    "import numpy as np\n",
    "import pandas as pd\n",
    "import matplotlib.pyplot as plt\n",
    "import seaborn as sns\n",
    "from sklearn.ensemble import GradientBoostingClassifier\n",
    "from sklearn.model_selection import train_test_split\n",
    "from sklearn.datasets import load_breast_cancer\n",
    "from sklearn.model_selection import GridSearchCV\n",
    "import patsy as pts \n",
    "from sklearn.ensemble import GradientBoostingRegressor\n",
    "from sklearn.ensemble import AdaBoostRegressor\n",
    "from sklearn.metrics import mean_squared_error\n",
    "\n",
    "from numpy.testing import assert_array_equal, assert_array_almost_equal\n",
    "from pandas.util.testing import assert_frame_equal, assert_index_equal\n",
    "from nose.tools import assert_false, assert_equal, assert_almost_equal, assert_true, assert_in, assert_is_not\n",
    "\n",
    "# We do this to ignore several specific Pandas warnings\n",
    "import warnings\n",
    "warnings.filterwarnings('ignore')\n",
    "\n",
    "sns.set_style('white')\n",
    "import math\n",
    "def confusion(test, predict, names, bins=3, title='Confusion Matrix'):\n",
    "\n",
    "    # Make a 2D histogram from the test and result arrays\n",
    "    pts, xe, ye = np.histogram2d(test, predict, bins)\n",
    "\n",
    "    # For simplicity we create a new DataFrame\n",
    "    pd_pts = pd.DataFrame(pts.astype(int), index=names, columns=names )\n",
    "    \n",
    "    # Display heatmap and add decorations\n",
    "    sns.set(font_scale=1.5)\n",
    "    hm = sns.heatmap(pd_pts, annot=True, fmt=\"d\")\n",
    "    \n",
    "    sns.set(font_scale=2.0)\n",
    "    hm.axes.set_title(title)\n",
    "    hm.axes.set_xlabel('Predicted')\n",
    "    hm.axes.set_ylabel('Actual')\n",
    "    sns.set(font_scale=1.0)\n",
    "\n",
    "    return None\n"
   ]
  },
  {
   "cell_type": "markdown",
   "metadata": {
    "collapsed": true,
    "deletable": false,
    "editable": false,
    "nbgrader": {
     "checksum": "e5b2bd1d277ca8b103bf5facd5690fbe",
     "grade": false,
     "grade_id": "dataset1_info",
     "locked": true,
     "schema_version": 1,
     "solution": false
    }
   },
   "source": [
    "# Breast Cancer Dataset\n",
    "\n",
    "For first 2 problems, we will be using the built-in dataset about breast cancer and the respective information on indivudal breast cancer cases. This dataset has 569 samples and a dimensionality size of 30. We will be using only the 1st 10 features in order to create a Gradient Boosting model that will predict whether the individual case is either malignant (harmful) or benign (non-harmful).\n",
    "\n",
    "The following code below imports the dataset as a pandas dataframe and previews a few sample data points. It also concatenates a column called classification which contains whether the record was determined to be a malignant or benign tumor. Note: In this dataset, a malignant tumor has a value of 0 and a benign tumor has a value of 1\n",
    "\n"
   ]
  },
  {
   "cell_type": "code",
   "execution_count": 2,
   "metadata": {
    "deletable": false,
    "editable": false,
    "nbgrader": {
     "checksum": "100fee1754deedc1583003c9ec913f56",
     "grade": false,
     "grade_id": "problem_1_data",
     "locked": true,
     "schema_version": 1,
     "solution": false
    }
   },
   "outputs": [
    {
     "name": "stdout",
     "output_type": "stream",
     "text": [
      "0    212\n",
      "1    357\n",
      "Name: target, dtype: int64\n",
      "Number of features: 10\n"
     ]
    }
   ],
   "source": [
    "# Load in the dataset as a Pandas DataFrame\n",
    "\n",
    "data = load_breast_cancer()\n",
    "cancer_data = pd.DataFrame(data.data, columns=data.feature_names)\n",
    "cancer_data['target'] = data.target\n",
    "# View the label distribution\n",
    "print(cancer_data.target.value_counts(ascending=True))\n",
    "\n",
    "features = cancer_data[cancer_data.columns[:10]]\n",
    "labels = cancer_data.target\n",
    "# Count the number of features\n",
    "print(\"Number of features:\", len(features.columns))\n",
    "\n",
    "test_frac = 0.5\n",
    "X_train, X_test, y_train, y_test = train_test_split(features, labels, \n",
    "                                                    test_size=test_frac, random_state=40)\n",
    "\n"
   ]
  },
  {
   "cell_type": "markdown",
   "metadata": {
    "deletable": false,
    "editable": false,
    "nbgrader": {
     "checksum": "67df13e57992718a918fbf320dd60722",
     "grade": false,
     "grade_id": "problem_1",
     "locked": true,
     "schema_version": 1,
     "solution": false
    }
   },
   "source": [
    "\n",
    "# Problem 1\n",
    "\n",
    "\n",
    "In the code cell below do the following:\n",
    "\n",
    "- Create a function for building a Gradient Boosting model using sci-kit learn to classify the Tumour as malignant(0) or benign(1).<br>\n",
    "\n",
    "- Fit your model on the training features and labels (which are stored in X_train and y_train).\n"
   ]
  },
  {
   "cell_type": "code",
   "execution_count": 3,
   "metadata": {
    "collapsed": true,
    "deletable": false,
    "nbgrader": {
     "checksum": "dbb66943c287fb406087eb570734df62",
     "grade": false,
     "grade_id": "problem_1_answer",
     "locked": false,
     "schema_version": 1,
     "solution": true
    }
   },
   "outputs": [],
   "source": [
    "def GBM(shrinkage, trees, max_fea):\n",
    "    \n",
    "    '''\n",
    "    Create and fit a Gradient Boosting Classification model on training set using random_state=40 and \n",
    "    learning_rate,n_estimators and max_features as a parameters.\n",
    "\n",
    "    Parameters\n",
    "    ----------\n",
    "    shrinkage : learning rate\n",
    "    trees : number of trees to be constructed\n",
    "    max_features : maximum number of features to be used at each split\n",
    "    \n",
    "    Returns\n",
    "    -------\n",
    "    A Gradient Boosting Classification model \n",
    "\n",
    "    '''\n",
    "\n",
    "    gbtc = GradientBoostingClassifier(learning_rate = shrinkage,\n",
    "                                      n_estimators=trees, \n",
    "                                      max_features=max_fea, \n",
    "                                      random_state=23)\n",
    "\n",
    "    # Fit estimator to scaled training data\n",
    "    gbtc = gbtc.fit(X_train, y_train)\n",
    "\n",
    "    return gbtc"
   ]
  },
  {
   "cell_type": "code",
   "execution_count": 4,
   "metadata": {
    "collapsed": true,
    "deletable": false,
    "editable": false,
    "nbgrader": {
     "checksum": "409d28b56018d2b5daa04e0d89df3b4b",
     "grade": true,
     "grade_id": "problem_1_tests",
     "locked": true,
     "points": 5,
     "schema_version": 1,
     "solution": false
    }
   },
   "outputs": [],
   "source": [
    "gbtc = GBM(0.01,500,5)\n",
    "\n",
    "assert_equal(isinstance(gbtc, GradientBoostingClassifier), True)\n",
    "assert_equal(gbtc.learning_rate, 0.01)\n",
    "assert_equal(gbtc.max_features, 5)\n",
    "assert_equal(gbtc.n_estimators, 500)\n",
    "\n",
    "\n"
   ]
  },
  {
   "cell_type": "markdown",
   "metadata": {
    "deletable": false,
    "editable": false,
    "nbgrader": {
     "checksum": "6f155b2e6381e75524593c1f55036b18",
     "grade": false,
     "grade_id": "problem_2",
     "locked": true,
     "schema_version": 1,
     "solution": false
    }
   },
   "source": [
    "# Problem 2\n",
    "\n",
    "By default, predict function classifies a tuple to the class that has probability > 0.5.\n",
    "\n",
    "Sometimes, there is a need to change the cut-off probability value to reduce the number of False-Positives/False-Negatives (Eg. While classifying an Email as Spam or non-spam, we don't want to mis-classify an email as Spam as it may contain important information.)\n",
    "\n",
    "In the code cell below, create a method which when called upon, can return the predicted class based on the cut-off that can be passed as parameter.<br>\n"
   ]
  },
  {
   "cell_type": "code",
   "execution_count": 39,
   "metadata": {
    "collapsed": true,
    "deletable": false,
    "nbgrader": {
     "checksum": "f8b88b533b9537d2233902d7016b64a7",
     "grade": false,
     "grade_id": "problem_2_answer",
     "locked": false,
     "schema_version": 1,
     "solution": true
    }
   },
   "outputs": [],
   "source": [
    "def prediction(model, data, cutoff):\n",
    "    '''\n",
    "    1. Using predict_proba function, predict the probability of each class.\n",
    "    2. If the value of probability<cutoff, classify it as Benign Tumor else malignant tumor.\n",
    "\n",
    "    Parameters\n",
    "    ----------\n",
    "    model : Gradient boosting model created using GBM method.\n",
    "    data : Data set on which the model should be built \n",
    "    cutoff : cutoff value \n",
    "\n",
    "    Returns\n",
    "    -------\n",
    "    A numpy array with the predicted values for the given data set.\n",
    "    \n",
    "    The solution should be a numpy array with the values either 0 or 1(based on the predictions).\n",
    "    \n",
    "    Sample Output\n",
    "    -------------\n",
    "    array([1, 0, 1, 1, 0, 1, 1])\n",
    "    - For cut-off value 0.5, the returned array should match the output given by -- gbtc.predict(X_test). \n",
    "    Although this condition is used in test case, you can use it to find the structure of output. \n",
    "    '''\n",
    "    #define an empty array with length equals the number of testing cases\n",
    "    \n",
    "    predict_value = []\n",
    "    \n",
    "    for i in range(0, data.shape[0]):\n",
    "        \n",
    "        if (model.predict_proba(data)[i,0] < cutoff):\n",
    "            predict_value.append(1)\n",
    "        else:\n",
    "            predict_value.append(0)\n",
    "                   \n",
    "    return np.array(predict_value)\n",
    "     "
   ]
  },
  {
   "cell_type": "code",
   "execution_count": 40,
   "metadata": {
    "collapsed": true,
    "deletable": false,
    "editable": false,
    "nbgrader": {
     "checksum": "716e657a1cc1e6688b023acfc8896ea8",
     "grade": true,
     "grade_id": "problem_2_test",
     "locked": true,
     "points": 10,
     "schema_version": 1,
     "solution": false
    }
   },
   "outputs": [],
   "source": [
    "assert_equal(isinstance(prediction(gbtc, X_test, 0.5),np.ndarray), True)\n",
    "#if the cutoff is 0.5, the result obtained from predict function and prediction method is same\n",
    "assert_array_equal(prediction(gbtc, X_test, 0.5), gbtc.predict(X_test))\n"
   ]
  },
  {
   "cell_type": "code",
   "execution_count": 41,
   "metadata": {
    "deletable": false,
    "editable": false,
    "nbgrader": {
     "checksum": "88447c25cad537d5c379a3ea937266f1",
     "grade": false,
     "grade_id": "problem_2_cm1",
     "locked": true,
     "schema_version": 1,
     "solution": false
    }
   },
   "outputs": [
    {
     "data": {
      "image/png": "[encoded data removed]",
      "text/plain": [
       "<matplotlib.figure.Figure at 0x7f295c5f8c50>"
      ]
     },
     "metadata": {},
     "output_type": "display_data"
    }
   ],
   "source": [
    "predicted = gbtc.predict(X_test)\n",
    "confusion(y_test.reshape(y_test.shape[0]), predicted, ['Malignant', 'Benign'], 2,\\\n",
    "          'Breast Cancer Classification(Default = 0.5)')"
   ]
  },
  {
   "cell_type": "markdown",
   "metadata": {
    "deletable": false,
    "editable": false,
    "nbgrader": {
     "checksum": "728cbb146073df59d7fe9cee4d32de6c",
     "grade": false,
     "grade_id": "problem_2_concept",
     "locked": true,
     "schema_version": 1,
     "solution": false
    }
   },
   "source": [
    "The above code cell shows the confusion matrix for default case(cut-off=0.5).<br> \n",
    "\n",
    "In the case shown below, we are catching 2 extra cases where tumour was Malignant.We have a cutoff value which will have a higher probability of catching Malignant Tumour. The cut-off value is often decided based on the needs and there is no definite rule for deciding the cut-off."
   ]
  },
  {
   "cell_type": "code",
   "execution_count": 42,
   "metadata": {
    "deletable": false,
    "editable": false,
    "nbgrader": {
     "checksum": "7cbcde265c41a053487868d0a0a9133d",
     "grade": false,
     "grade_id": "problem_2_cm2",
     "locked": true,
     "schema_version": 1,
     "solution": false
    }
   },
   "outputs": [
    {
     "data": {
      "image/png": "[encoded data removed]",
      "text/plain": [
       "<matplotlib.figure.Figure at 0x7f295c709d30>"
      ]
     },
     "metadata": {},
     "output_type": "display_data"
    }
   ],
   "source": [
    "predicted = prediction(gbtc, X_test, 0.3)\n",
    "confusion(y_test.reshape(y_test.shape[0]), predicted, ['Malignant', 'Benign'], 2, \\\n",
    "          'Breast Cancer Classification(cut-off = 0.3)')"
   ]
  },
  {
   "cell_type": "markdown",
   "metadata": {
    "deletable": false,
    "editable": false,
    "nbgrader": {
     "checksum": "6b5476853d2fddb4f2c1c50eda420fbd",
     "grade": false,
     "grade_id": "problem_3",
     "locked": true,
     "schema_version": 1,
     "solution": false
    }
   },
   "source": [
    "# Problem 3\n",
    "\n",
    "We will be using Hitters dataset which contains player information including his performance and salary for Major League Baseball from the 1986 and 1987 seasons. This dataset was taken from the StatLib library which is maintained at Carnegie Mellon University. \n",
    "\n",
    "We will try to predict the Salary of players based on the factors available to us(information like Number of Hits, Number of Home Runs, etc.) in the dataset.\n",
    "\n",
    "We will create a function to return 2 different models created using Gradient Boosting and Adaboost and the respective RMSE values returned by them."
   ]
  },
  {
   "cell_type": "code",
   "execution_count": 2,
   "metadata": {
    "collapsed": true,
    "deletable": false,
    "editable": false,
    "nbgrader": {
     "checksum": "9e17c13d7fc05a61730c72a0ff4adcf6",
     "grade": false,
     "grade_id": "problem_3_data",
     "locked": true,
     "schema_version": 1,
     "solution": false
    }
   },
   "outputs": [],
   "source": [
    "wage = pd.read_csv('/home/data_scientist/data/misc/wages.csv')\n",
    "\n",
    "y, x = pts.dmatrices('Salary ~ AtBat + Hits + HmRun + Runs + RBI + Walks + Years +' +\n",
    "                     'CAtBat + CHits + CHmRun + CRuns + CRBI + CWalks + C(League) +' + \n",
    "                     'C(Division) + PutOuts + Assists + Assists + C(NewLeague)' ,\n",
    "                     data=wage, return_type='dataframe')\n",
    "\n"
   ]
  },
  {
   "cell_type": "code",
   "execution_count": 5,
   "metadata": {
    "collapsed": true,
    "deletable": false,
    "nbgrader": {
     "checksum": "81b157a72b0827d012904c52d4e74e22",
     "grade": false,
     "grade_id": "problem_3_answer",
     "locked": false,
     "schema_version": 1,
     "solution": true
    }
   },
   "outputs": [],
   "source": [
    "frac = 0.4\n",
    "\n",
    "# Split data intro training:testing data set\n",
    "ind_train_m, ind_test_m, dep_train_m, dep_test_m = \\\n",
    "    train_test_split(x, y, test_size=frac, random_state=23)\n",
    "\n",
    "def Regressor(shrinkage, trees, test_independent, test_dependent):\n",
    "    \n",
    "    '''\n",
    "    Create and fit Regression models using Gradient Boosting and Adaboost on training set using random_state=40 and \n",
    "    learning_rate and n_estimators as parameters for both the models. Then use the predicted value from the above \n",
    "    models to find rmse values for predictions made using Gradient Boosting and Adaboost respectively.\n",
    "\n",
    "    Parameters\n",
    "    ----------\n",
    "    shrinkage : learning rate\n",
    "    trees : number of trees to be constructed\n",
    "    test_independent : test data set features(independent variables)\n",
    "    test_dependent : variable from test data set to be predicted(dependent variables)\n",
    "    \n",
    "    Returns\n",
    "    -------\n",
    "    A tuple of 4 containing Gradient Boosting and Adaboost models and the rmse values fitted using these 2 models. \n",
    "    '''\n",
    "\n",
    "    # Create Regressor with default properties\n",
    "    gbm = GradientBoostingRegressor(random_state = 40,\n",
    "                                   learning_rate = shrinkage,\n",
    "                                   n_estimators = trees)\n",
    "    \n",
    "    ada = AdaBoostRegressor(random_state = 40,\n",
    "                            learning_rate = shrinkage,\n",
    "                            n_estimators = trees)\n",
    "\n",
    "    # Fit estimator \n",
    "    gbm = gbm.fit(ind_train_m, dep_train_m)\n",
    "    ada = ada.fit(ind_train_m, dep_train_m)\n",
    "    \n",
    "    # get the predicted values\n",
    "    gbm_pred = gbm.predict(test_independent)\n",
    "    ada_pred = ada.predict(test_independent)\n",
    "    \n",
    "    #compute the rmse values\n",
    "    rmse_gbm = np.sqrt(mean_squared_error(gbm_pred, test_dependent))\n",
    "    rmse_ada = np.sqrt(mean_squared_error(ada_pred, test_dependent))\n",
    "    \n",
    "    return  gbm, ada, rmse_gbm, rmse_ada"
   ]
  },
  {
   "cell_type": "code",
   "execution_count": 6,
   "metadata": {
    "deletable": false,
    "editable": false,
    "nbgrader": {
     "checksum": "2c1ecc2293a388ac3b0be5dc7a559325",
     "grade": true,
     "grade_id": "problem_3_tests",
     "locked": true,
     "points": 15,
     "schema_version": 1,
     "solution": false
    }
   },
   "outputs": [],
   "source": [
    "gbm, ada, rmse_gbm, rmse_ada = Regressor(0.01, 500, ind_test_m, dep_test_m)\n",
    "assert_equal(isinstance(gbm, GradientBoostingRegressor),True)\n",
    "assert_equal(isinstance(ada, AdaBoostRegressor),True)\n",
    "assert_equal(round(rmse_gbm,2), 327.06)\n",
    "assert_equal(round(rmse_ada,2), 328.27)\n",
    "\n",
    "\n",
    "\n"
   ]
  },
  {
   "cell_type": "markdown",
   "metadata": {
    "deletable": false,
    "editable": false,
    "nbgrader": {
     "checksum": "358ee0f5c9dd31bff2491128df5f9866",
     "grade": false,
     "grade_id": "problem_3_concept",
     "locked": true,
     "schema_version": 1,
     "solution": false
    }
   },
   "source": [
    "The code cell below shows 2 different cases:\n",
    "\n",
    "- Case 1 : Gradient Boosting performs better than Adaboost.\n",
    "- Case 2 : Adaboost performs better than Gradient Boosting.\n",
    "\n",
    "This shows that a we need to tune the model properly to achieve the best results."
   ]
  },
  {
   "cell_type": "code",
   "execution_count": 7,
   "metadata": {
    "deletable": false,
    "editable": false,
    "nbgrader": {
     "checksum": "a012a58c3427c8daaeafb6d5f88358c7",
     "grade": false,
     "grade_id": "problem_3_print",
     "locked": true,
     "schema_version": 1,
     "solution": false
    }
   },
   "outputs": [
    {
     "name": "stdout",
     "output_type": "stream",
     "text": [
      "Mean Squared Error(GBM1)         = 327.06\n",
      "Mean Squared Error(Adaboost1)    = 328.27\n",
      "Mean Squared Error(GBM2)         = 335.12\n",
      "Mean Squared Error(Adaboost2)    = 326.32\n"
     ]
    }
   ],
   "source": [
    "gbm, ada, rmse_gbm1, rmse_ada1 = Regressor(0.01,500, ind_test_m, dep_test_m)\n",
    "gbm, ada, rmse_gbm2, rmse_ada2 = Regressor(0.1,100, ind_test_m, dep_test_m)\n",
    "\n",
    "# Display metrics\n",
    "print(f'Mean Squared Error(GBM1)         = {rmse_gbm1:4.2f}')\n",
    "print(f'Mean Squared Error(Adaboost1)    = {rmse_ada1:4.2f}')\n",
    "print(f'Mean Squared Error(GBM2)         = {rmse_gbm2:4.2f}')\n",
    "print(f'Mean Squared Error(Adaboost2)    = {rmse_ada2:4.2f}')\n"
   ]
  }
 ],
 "metadata": {
  "kernelspec": {
   "display_name": "Python 3",
   "language": "python",
   "name": "python3"
  },
  "language_info": {
   "codemirror_mode": {
    "name": "ipython",
    "version": 3
   },
   "file_extension": ".py",
   "mimetype": "text/x-python",
   "name": "python",
   "nbconvert_exporter": "python",
   "pygments_lexer": "ipython3",
   "version": "3.6.1"
  }
 },
 "nbformat": 4,
 "nbformat_minor": 2
}
