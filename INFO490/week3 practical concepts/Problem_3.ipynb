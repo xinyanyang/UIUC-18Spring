{
 "cells": [
  {
   "cell_type": "markdown",
   "metadata": {
    "deletable": false,
    "editable": false,
    "nbgrader": {
     "checksum": "98eb9315ef30d5036cbab6f461ff3635",
     "grade": false,
     "grade_id": "header",
     "locked": true,
     "schema_version": 1,
     "solution": false
    }
   },
   "source": [
    "# Week 3 Problem 3\n",
    "\n",
    "A few things you should keep in mind when working on assignments:\n",
    "\n",
    "1. Make sure you fill in any place that says `YOUR CODE HERE`. Do not write your answer in anywhere else other than where it says `YOUR CODE HERE`. Anything you write anywhere else will be removed or overwritten by the autograder.\n",
    "\n",
    "2. Before you submit your assignment, make sure everything runs as expected. Go to menubar, select *Kernel*, and restart the kernel and run all cells (*Restart & Run all*).\n",
    "\n",
    "3. Do not change the title (i.e. file name) of this notebook.\n",
    "\n",
    "4. Make sure that you save your work (in the menubar, select *File* → *Save and CheckPoint*)\n",
    "\n",
    "5. When you are ready to submit your assignment, go to *Dashboard* → *Assignments* and click the *Submit* button. Your work is not submitted until you click *Submit*.\n",
    "\n",
    "6. You are allowed to submit an assignment multiple times, but only the most recent submission will be graded.\n",
    "\n",
    "7. **If your code does not pass the unit tests, it will not pass the autograder.**"
   ]
  },
  {
   "cell_type": "markdown",
   "metadata": {
    "deletable": false,
    "editable": false,
    "nbgrader": {
     "checksum": "c7792650ecf3005bbc7b143ed07e7db8",
     "grade": false,
     "grade_id": "due_date",
     "locked": true,
     "schema_version": 1,
     "solution": false
    }
   },
   "source": [
    "# Due Date: 6 PM, February 05, 2018"
   ]
  },
  {
   "cell_type": "code",
   "execution_count": 36,
   "metadata": {
    "collapsed": true,
    "deletable": false,
    "editable": false,
    "nbgrader": {
     "checksum": "a297dc51de78c57825722412bc68b05b",
     "grade": false,
     "grade_id": "import",
     "locked": true,
     "schema_version": 1,
     "solution": false
    }
   },
   "outputs": [],
   "source": [
    "import pandas as pd\n",
    "import numpy as np\n",
    "\n",
    "from sklearn.model_selection import train_test_split\n",
    "from sklearn.preprocessing import StandardScaler, Imputer, RobustScaler\n",
    "from sklearn.pipeline import Pipeline\n",
    "\n",
    "from sklearn.neighbors import KNeighborsClassifier\n",
    "from sklearn.tree import DecisionTreeClassifier\n",
    "from sklearn.svm import SVC\n",
    "from sklearn.linear_model import LogisticRegression\n",
    "from sklearn.ensemble import RandomForestClassifier, GradientBoostingClassifier, VotingClassifier\n",
    "\n",
    "from nose.tools import assert_equal, assert_almost_equal, assert_true"
   ]
  },
  {
   "cell_type": "markdown",
   "metadata": {
    "deletable": false,
    "editable": false,
    "nbgrader": {
     "checksum": "20feed84156d64bab419587658168cc4",
     "grade": false,
     "grade_id": "cell-b3595b9ab8325cec",
     "locked": true,
     "schema_version": 1,
     "solution": false
    }
   },
   "source": [
    "In the cell below a simulated dataset is read in, where y (labels) is a unknown function of a, b, and c (your features)."
   ]
  },
  {
   "cell_type": "code",
   "execution_count": 24,
   "metadata": {
    "deletable": false,
    "editable": false,
    "nbgrader": {
     "checksum": "b1fd51369300d7e8e6249ae73232f7d3",
     "grade": false,
     "grade_id": "cell-8f68ae4c83dede9b",
     "locked": true,
     "schema_version": 1,
     "solution": false
    }
   },
   "outputs": [
    {
     "data": {
      "text/html": [
       "<div>\n",
       "<style>\n",
       "    .dataframe thead tr:only-child th {\n",
       "        text-align: right;\n",
       "    }\n",
       "\n",
       "    .dataframe thead th {\n",
       "        text-align: left;\n",
       "    }\n",
       "\n",
       "    .dataframe tbody tr th {\n",
       "        vertical-align: top;\n",
       "    }\n",
       "</style>\n",
       "<table border=\"1\" class=\"dataframe\">\n",
       "  <thead>\n",
       "    <tr style=\"text-align: right;\">\n",
       "      <th></th>\n",
       "      <th>a</th>\n",
       "      <th>b</th>\n",
       "      <th>c</th>\n",
       "      <th>y</th>\n",
       "    </tr>\n",
       "  </thead>\n",
       "  <tbody>\n",
       "    <tr>\n",
       "      <th>0</th>\n",
       "      <td>51.367114</td>\n",
       "      <td>0.883546</td>\n",
       "      <td>376.457271</td>\n",
       "      <td>1</td>\n",
       "    </tr>\n",
       "    <tr>\n",
       "      <th>1</th>\n",
       "      <td>122.491822</td>\n",
       "      <td>0.309596</td>\n",
       "      <td>85.937127</td>\n",
       "      <td>2</td>\n",
       "    </tr>\n",
       "    <tr>\n",
       "      <th>2</th>\n",
       "      <td>25.628908</td>\n",
       "      <td>0.035058</td>\n",
       "      <td>296.998523</td>\n",
       "      <td>0</td>\n",
       "    </tr>\n",
       "    <tr>\n",
       "      <th>3</th>\n",
       "      <td>15.461822</td>\n",
       "      <td>0.797374</td>\n",
       "      <td>115.344490</td>\n",
       "      <td>1</td>\n",
       "    </tr>\n",
       "    <tr>\n",
       "      <th>4</th>\n",
       "      <td>0.661393</td>\n",
       "      <td>0.902865</td>\n",
       "      <td>131.885952</td>\n",
       "      <td>0</td>\n",
       "    </tr>\n",
       "  </tbody>\n",
       "</table>\n",
       "</div>"
      ],
      "text/plain": [
       "            a         b           c  y\n",
       "0   51.367114  0.883546  376.457271  1\n",
       "1  122.491822  0.309596   85.937127  2\n",
       "2   25.628908  0.035058  296.998523  0\n",
       "3   15.461822  0.797374  115.344490  1\n",
       "4    0.661393  0.902865  131.885952  0"
      ]
     },
     "execution_count": 24,
     "metadata": {},
     "output_type": "execute_result"
    }
   ],
   "source": [
    "sim_data = pd.read_csv('/home/data_scientist/data/misc/sim.bNA.data')\n",
    "sim_data.head()"
   ]
  },
  {
   "cell_type": "markdown",
   "metadata": {
    "deletable": false,
    "editable": false,
    "nbgrader": {
     "checksum": "689b06dff0e37b985e526f9f2fb2c375",
     "grade": false,
     "grade_id": "p3_1_description",
     "locked": true,
     "schema_version": 1,
     "solution": false
    }
   },
   "source": [
    "# Problem 3.1  \n",
    "\n",
    "To complete problem 3.1 finish the function prob3_1 by performing a 70/30 split on the features and labels using [train_test_split](http://scikit-learn.org/stable/modules/generated/sklearn.model_selection.train_test_split.html) function *(Set the random_state argument to be 0)*. Then create a Pipeline that [Imputes](http://scikit-learn.org/stable/modules/generated/sklearn.preprocessing.Imputer.html) missing values and replaces them with the median of the column *(name this Imputer in your pipeline)*, and scales features that are robust to outliers *(name this Scaler in your Pipeline)*. Fit your pipeline on training features and labels, and transform the training and testing features. Finally return the pipeline, transformed training features, transformed testing features, training labels, and testing labels *(in this order)*.\n",
    "\n"
   ]
  },
  {
   "cell_type": "code",
   "execution_count": 34,
   "metadata": {
    "collapsed": true,
    "deletable": false,
    "nbgrader": {
     "checksum": "1253aa4332fb51f5b759272ee23b1dd3",
     "grade": false,
     "grade_id": "p3_1_answer",
     "locked": false,
     "schema_version": 1,
     "solution": true
    }
   },
   "outputs": [],
   "source": [
    "def prob3_1(data):\n",
    "    '''\n",
    "    Splits and cleans the simulated data passed in\n",
    "    \n",
    "    Parameters\n",
    "    ----------\n",
    "    data: pandas dataframe containing the simulated dataset\n",
    "    \n",
    "    Returns\n",
    "    -------\n",
    "    Pipeline containing a Imputer and Scaler\n",
    "    Transformed training features as a multi dimensional numpy array\n",
    "    Transformed testing features as a multi dimensional numpy array\n",
    "    training labels as a pandas series\n",
    "    testing labels as a pandas series\n",
    "    '''\n",
    "    y = data.loc[:, ('y')]\n",
    "    x = data[['a', 'b', 'c']]  \n",
    "    \n",
    "    # Split data intro training:testing data set\n",
    "    x_train, x_test, y_train, y_test = \\\n",
    "        train_test_split(x, y, test_size = 0.3, random_state = 0)\n",
    "     \n",
    "    # Create transformation objects\n",
    "    imp = Imputer(missing_values='NaN', strategy='median', axis=0)\n",
    "    rs = RobustScaler()\n",
    "    \n",
    "    #pipeline impute and scales\n",
    "    data_p = Pipeline([('Impute', imp), ('Scale', rs)])\n",
    "\n",
    "    #fit the pipeline on the training data and transform the training features\n",
    "    #then directly transform the testing data using the pipeline built before\n",
    "    new_x_train = data_p.fit_transform(x_train, y_train)\n",
    "    new_x_test = data_p.transform(x_test)\n",
    "    \n",
    "    return data_p, new_x_train, new_x_test, y_train, y_test\n",
    "    "
   ]
  },
  {
   "cell_type": "code",
   "execution_count": 35,
   "metadata": {
    "collapsed": true,
    "deletable": false,
    "editable": false,
    "nbgrader": {
     "checksum": "ccf22fa772b3546fddb9781c66332b2e",
     "grade": true,
     "grade_id": "p3_1_test",
     "locked": true,
     "points": 10,
     "schema_version": 1,
     "solution": false
    }
   },
   "outputs": [],
   "source": [
    "pipeline1, tX_train, tX_test, y_train, y_test = prob3_1(sim_data.copy())\n",
    "assert_equal(type(pipeline1), type(Pipeline([('test', None)])), msg= 'you did not return a Pipeline')\n",
    "\n",
    "\n",
    "assert_equal(y_train.tolist()[:100], [2, 2, 2, 0, 2, 0, 0, 1, 0, 1, 2, 2, 0, 0, 1, 1, 0, 0, 1, 2, 1, 0, 0, 1, 1, 1, 1, 3, 1, 1, 1, 1, 0, 0, 2, 0, 0, 2, 2, 0, 1, 0, 0, 2, 2, 1, 1, 0, 1, 2, 2, 2, 0, 1, 0, 2, 0, 1, 0, 2, 1, 1, 1, 1, 0, 1, 0, 0, 0, 1, 1, 0, 0, 1, 1, 1, 2, 1, 0, 2, 2, 2, 0, 0, 1, 2, 1, 0, 1, 0, 0, 1, 1, 2, 1, 2, 2, 0, 2, 3], msg=\"Check your pipeline and/or how you are splitting your data\")\n",
    "assert_equal(y_test.tolist()[:100], [0, 0, 1, 3, 0, 0, 0, 0, 1, 0, 2, 2, 0, 0, 2, 0, 1, 0, 0, 0, 1, 1, 0, 1, 2, 2, 0, 0, 1, 0, 2, 2, 1, 2, 3, 0, 0, 2, 1, 1, 0, 1, 0, 0, 1, 2, 2, 0, 1, 1, 1, 2, 1, 2, 0, 1, 1, 1, 2, 1, 0, 2, 0, 0, 1, 1, 1, 2, 1, 2, 1, 0, 2, 0, 0, 2, 1, 2, 1, 2, 0, 1, 0, 2, 0, 3, 0, 2, 1, 0, 3, 0, 0, 1, 3, 0, 2, 2, 0, 0], msg=\"Check your pipeline and/or how you are splitting your data\")\n",
    "\n",
    "\n",
    "assert_almost_equal(tX_train.tolist()[0][0], 0.28393067626221147, places=2)\n",
    "assert_almost_equal(tX_train.tolist()[1][1], 0.5210341087236174, places=2)\n",
    "assert_almost_equal(tX_train.tolist()[2][2], 1.2338664499983505, places=2)\n",
    "\n",
    "assert_almost_equal(tX_test.tolist()[100][0], -0.18053703783351555, places=2)\n",
    "assert_almost_equal(tX_test.tolist()[100][1], -0.6257219599565056, places=2)\n",
    "assert_almost_equal(tX_test.tolist()[100][2], 0.27423619668613075, places=2)\n"
   ]
  },
  {
   "cell_type": "markdown",
   "metadata": {
    "deletable": false,
    "editable": false,
    "nbgrader": {
     "checksum": "6769e5a8b8c488343cca95f0ad035201",
     "grade": false,
     "grade_id": "p3_2_desc",
     "locked": true,
     "schema_version": 1,
     "solution": false
    }
   },
   "source": [
    "# Problem 3.2\n",
    "For Problem 3.2 compelete the function prob3_2 by creating a Voting Classifier that uses the following estimators: [GradientBoostingClassifier](http://scikit-learn.org/stable/modules/generated/sklearn.ensemble.GradientBoostingClassifier.html), [DecisionTreeClassifier](http://scikit-learn.org/stable/modules/generated/sklearn.tree.DecisionTreeClassifier.html), [LogisticRegression](http://scikit-learn.org/stable/modules/generated/sklearn.linear_model.LogisticRegression.html), [KNeighborsClassifier](http://scikit-learn.org/stable/modules/generated/sklearn.neighbors.KNeighborsClassifier.html)\n",
    ", and a [RandomForestClassifier](http://scikit-learn.org/stable/modules/generated/sklearn.ensemble.RandomForestClassifier.html) (set the random_state argument to be 0 for these models). In your voting estimator your classifiers should respectively have the following names *gbc*, *dtc*, *lr*, *knn*, and *rfc*. Fit the estimators on the training data and return the voting classifier."
   ]
  },
  {
   "cell_type": "code",
   "execution_count": 39,
   "metadata": {
    "collapsed": true,
    "deletable": false,
    "nbgrader": {
     "checksum": "3202e301b14328236aef48252a4a3b03",
     "grade": false,
     "grade_id": "p3_2_answer",
     "locked": false,
     "schema_version": 1,
     "solution": true
    }
   },
   "outputs": [],
   "source": [
    "def prob3_2(tX_train, y_train):\n",
    "    '''\n",
    "    Creates and fits a soft voting classifier using 5 unfitted classifiers\n",
    "    \n",
    "    Parameters\n",
    "    ----------\n",
    "    tX_train - transformed training features from Problem 3.1\n",
    "    y_train - training labels from Problem 3.1\n",
    "    \n",
    "    Returns\n",
    "    -------\n",
    "    Fitted Voting Classifier\n",
    "    \n",
    "    '''\n",
    "    # Create input estimators\n",
    "    clf1 = GradientBoostingClassifier(random_state=0)\n",
    "    clf2 = DecisionTreeClassifier(random_state=0)\n",
    "    clf3 = LogisticRegression(random_state=0)\n",
    "    clf4 = KNeighborsClassifier()\n",
    "    clf5 = RandomForestClassifier(random_state=0)\n",
    "\n",
    "    # Create a list of tuples, matching name to input estimator\n",
    "    estl = [('gbc', clf1), ('dtc', clf2), ('lr', clf3), ('knn', clf4), ('rfc', clf5)]\n",
    "\n",
    "    vclf = VotingClassifier(estimators=estl, voting='soft')\n",
    "\n",
    "    # Fit the training data\n",
    "    vclf = vclf.fit(tX_train, y_train)\n",
    "\n",
    "    return vclf"
   ]
  },
  {
   "cell_type": "code",
   "execution_count": 40,
   "metadata": {
    "deletable": false,
    "editable": false,
    "nbgrader": {
     "checksum": "04594e2124bd0c5aaee76eca0d74d6fa",
     "grade": true,
     "grade_id": "cell-d6e71296bedc1831",
     "locked": true,
     "points": 10,
     "schema_version": 1,
     "solution": false
    }
   },
   "outputs": [],
   "source": [
    "vc = prob3_2(tX_train, y_train)\n",
    "assert_equal(type(vc), type(VotingClassifier([('test', None)])))\n",
    "score = vc.score(tX_test, y_test)\n",
    "assert_true(score >= 0.93)\n",
    "\n"
   ]
  },
  {
   "cell_type": "markdown",
   "metadata": {
    "deletable": false,
    "editable": false,
    "nbgrader": {
     "checksum": "be9b48b22b7c3198f637bf4957860342",
     "grade": false,
     "grade_id": "cell-9124c53846e057cc",
     "locked": true,
     "schema_version": 1,
     "solution": false
    }
   },
   "source": [
    "Reading in [Breast Cancer Dataset](http://archive.ics.uci.edu/ml/datasets/Breast+Cancer+Wisconsin+%28Original%29) from UCI's Machine Learning respository *([dataset description](http://archive.ics.uci.edu/ml/machine-learning-databases/breast-cancer-wisconsin/breast-cancer-wisconsin.names))*. The labels are contained the in *Class* column and the features are the other columns."
   ]
  },
  {
   "cell_type": "code",
   "execution_count": 42,
   "metadata": {
    "deletable": false,
    "editable": false,
    "nbgrader": {
     "checksum": "f48302a5b354be90a955d01947526187",
     "grade": false,
     "grade_id": "cell-844244e531202953",
     "locked": true,
     "schema_version": 1,
     "solution": false
    }
   },
   "outputs": [
    {
     "data": {
      "text/html": [
       "<div>\n",
       "<style>\n",
       "    .dataframe thead tr:only-child th {\n",
       "        text-align: right;\n",
       "    }\n",
       "\n",
       "    .dataframe thead th {\n",
       "        text-align: left;\n",
       "    }\n",
       "\n",
       "    .dataframe tbody tr th {\n",
       "        vertical-align: top;\n",
       "    }\n",
       "</style>\n",
       "<table border=\"1\" class=\"dataframe\">\n",
       "  <thead>\n",
       "    <tr style=\"text-align: right;\">\n",
       "      <th></th>\n",
       "      <th>id number</th>\n",
       "      <th>Clump Thickness</th>\n",
       "      <th>Uniformity Cell Size</th>\n",
       "      <th>Uniformity Cell Shape</th>\n",
       "      <th>Marginal Adhesion</th>\n",
       "      <th>Single Epithelial Cell Size</th>\n",
       "      <th>Bare Nuclei</th>\n",
       "      <th>Bland Chromatin</th>\n",
       "      <th>Normal Nucleoli</th>\n",
       "      <th>Mitoses</th>\n",
       "      <th>Class</th>\n",
       "    </tr>\n",
       "  </thead>\n",
       "  <tbody>\n",
       "    <tr>\n",
       "      <th>0</th>\n",
       "      <td>1000025</td>\n",
       "      <td>5</td>\n",
       "      <td>1</td>\n",
       "      <td>1</td>\n",
       "      <td>1</td>\n",
       "      <td>2</td>\n",
       "      <td>1</td>\n",
       "      <td>3</td>\n",
       "      <td>1</td>\n",
       "      <td>1</td>\n",
       "      <td>2</td>\n",
       "    </tr>\n",
       "    <tr>\n",
       "      <th>1</th>\n",
       "      <td>1002945</td>\n",
       "      <td>5</td>\n",
       "      <td>4</td>\n",
       "      <td>4</td>\n",
       "      <td>5</td>\n",
       "      <td>7</td>\n",
       "      <td>10</td>\n",
       "      <td>3</td>\n",
       "      <td>2</td>\n",
       "      <td>1</td>\n",
       "      <td>2</td>\n",
       "    </tr>\n",
       "    <tr>\n",
       "      <th>2</th>\n",
       "      <td>1015425</td>\n",
       "      <td>3</td>\n",
       "      <td>1</td>\n",
       "      <td>1</td>\n",
       "      <td>1</td>\n",
       "      <td>2</td>\n",
       "      <td>2</td>\n",
       "      <td>3</td>\n",
       "      <td>1</td>\n",
       "      <td>1</td>\n",
       "      <td>2</td>\n",
       "    </tr>\n",
       "    <tr>\n",
       "      <th>3</th>\n",
       "      <td>1016277</td>\n",
       "      <td>6</td>\n",
       "      <td>8</td>\n",
       "      <td>8</td>\n",
       "      <td>1</td>\n",
       "      <td>3</td>\n",
       "      <td>4</td>\n",
       "      <td>3</td>\n",
       "      <td>7</td>\n",
       "      <td>1</td>\n",
       "      <td>2</td>\n",
       "    </tr>\n",
       "    <tr>\n",
       "      <th>4</th>\n",
       "      <td>1017023</td>\n",
       "      <td>4</td>\n",
       "      <td>1</td>\n",
       "      <td>1</td>\n",
       "      <td>3</td>\n",
       "      <td>2</td>\n",
       "      <td>1</td>\n",
       "      <td>3</td>\n",
       "      <td>1</td>\n",
       "      <td>1</td>\n",
       "      <td>2</td>\n",
       "    </tr>\n",
       "  </tbody>\n",
       "</table>\n",
       "</div>"
      ],
      "text/plain": [
       "   id number  Clump Thickness  Uniformity Cell Size  Uniformity Cell Shape  \\\n",
       "0    1000025                5                     1                      1   \n",
       "1    1002945                5                     4                      4   \n",
       "2    1015425                3                     1                      1   \n",
       "3    1016277                6                     8                      8   \n",
       "4    1017023                4                     1                      1   \n",
       "\n",
       "   Marginal Adhesion  Single Epithelial Cell Size  Bare Nuclei  \\\n",
       "0                  1                            2            1   \n",
       "1                  5                            7           10   \n",
       "2                  1                            2            2   \n",
       "3                  1                            3            4   \n",
       "4                  3                            2            1   \n",
       "\n",
       "   Bland Chromatin  Normal Nucleoli  Mitoses  Class  \n",
       "0                3                1        1      2  \n",
       "1                3                2        1      2  \n",
       "2                3                1        1      2  \n",
       "3                3                7        1      2  \n",
       "4                3                1        1      2  "
      ]
     },
     "execution_count": 42,
     "metadata": {},
     "output_type": "execute_result"
    }
   ],
   "source": [
    "names = ['id number', 'Clump Thickness', 'Uniformity Cell Size', 'Uniformity Cell Shape',\n",
    "         'Marginal Adhesion', 'Single Epithelial Cell Size', 'Bare Nuclei', 'Bland Chromatin',\n",
    "        'Normal Nucleoli', 'Mitoses', 'Class']\n",
    "df = pd.read_csv('/home/data_scientist/data/misc/breast-cancer-wisconsin.data',\n",
    "                 na_values='?', names=names, header=0)\n",
    "df.head()"
   ]
  },
  {
   "cell_type": "markdown",
   "metadata": {
    "deletable": false,
    "editable": false,
    "nbgrader": {
     "checksum": "af48cf5e7b99bbfe8d731da68c5f1308",
     "grade": false,
     "grade_id": "prob3_3_desc",
     "locked": true,
     "schema_version": 1,
     "solution": false
    }
   },
   "source": [
    "# Problem 3.3  \n",
    "\n",
    "For Problem 3.3 complete the function *prob3_3* by splitting the training and testing features/labels of the breast cancer data and creating 2 Pipelines that do the following:\n",
    "- 1 - that replaces missings values with the most frequent value of the column (*name this Imputer*) and scales the data using a RobustScaler (*name this Scaler*)\n",
    "- and 2- the other pipeline should be capabale of training and making predictions using a SVM (*name this svm*).  \n",
    "\n",
    "Fit pipeline 1 on the training data and transform the training and testing features. Use the transformed training features and training labels to fit pipeline 2. Set the random_state argument to be 0 when appropriate. Return in the following order: *pipeline 1, pipeline 2, transformed testing features, and testing labels* \n",
    "\n"
   ]
  },
  {
   "cell_type": "code",
   "execution_count": 46,
   "metadata": {
    "collapsed": true,
    "deletable": false,
    "nbgrader": {
     "checksum": "afba650a9a90b787d1cdd6064c9678ab",
     "grade": false,
     "grade_id": "prob3_3_ans",
     "locked": false,
     "schema_version": 1,
     "solution": true
    }
   },
   "outputs": [],
   "source": [
    "def prob3_3(data):\n",
    "    '''\n",
    "    Creates 2 pipelines. The first Pipeline first removes missing values and scales the data.\n",
    "    The second Pipeline trains a Support Vector Machine.\n",
    "    \n",
    "    Parameters\n",
    "    ----------\n",
    "    \n",
    "    Returns\n",
    "    -------\n",
    "    Pipeline that removes missing values and scales the data\n",
    "    Pipeline with a trained SVM\n",
    "    Transformed testing features\n",
    "    testing labels\n",
    "    '''\n",
    "    y = data.loc[:, ('Class')]\n",
    "    x = data[data.columns[1:-1]]\n",
    "\n",
    "    x_train, x_test, y_train, y_test = \\\n",
    "        train_test_split(x, y, test_size = 0.3, random_state = 0)\n",
    "    \n",
    "    #First pipeline imputes and scales\n",
    "    imp = Imputer(missing_values='NaN', strategy='most_frequent', axis=0)\n",
    "    rs = RobustScaler()\n",
    "    pip1 = Pipeline([('Imputer', imp), ('Scaler', rs)])\n",
    "    new_x_train = pip1.fit_transform(x_train, y_train)\n",
    "    new_x_test = pip1.transform(x_test)\n",
    "    \n",
    "    #Second pipeline trains a SVM\n",
    "    model = SVC(random_state=0)\n",
    "\n",
    "    pip2 = Pipeline([('svm', model)])\n",
    "    pip2.set_params(svm__random_state=0)\n",
    "    pip2.fit(new_x_train, y_train)\n",
    "  \n",
    "    return pip1, pip2, new_x_test, y_test"
   ]
  },
  {
   "cell_type": "code",
   "execution_count": 47,
   "metadata": {
    "collapsed": true,
    "deletable": false,
    "editable": false,
    "nbgrader": {
     "checksum": "2b9da5d7cf5e9d325dcdaf65c6dc5fca",
     "grade": true,
     "grade_id": "prob3_3_test",
     "locked": true,
     "points": 10,
     "schema_version": 1,
     "solution": false
    }
   },
   "outputs": [],
   "source": [
    "pipeline2, pipeline3, tX_test, y_test = prob3_3(df.copy())\n",
    "assert_equal(type(pipeline2), type(Pipeline([('test', None)])), msg='Make sure you return a Pipeline')\n",
    "\n",
    "assert_equal(type(pipeline2.named_steps['Imputer']), type(Imputer()))\n",
    "\n",
    "assert_equal(type(pipeline3), type(Pipeline([('test', None)])))\n",
    "assert_equal(type(pipeline3.named_steps['svm']), type(SVC()))\n",
    "\n",
    "\n",
    "score = pipeline3.score(tX_test, y_test)\n",
    "assert_true(score >= 0.95)\n"
   ]
  }
 ],
 "metadata": {
  "kernelspec": {
   "display_name": "Python 3",
   "language": "python",
   "name": "python3"
  },
  "language_info": {
   "codemirror_mode": {
    "name": "ipython",
    "version": 3
   },
   "file_extension": ".py",
   "mimetype": "text/x-python",
   "name": "python",
   "nbconvert_exporter": "python",
   "pygments_lexer": "ipython3",
   "version": "3.6.1"
  }
 },
 "nbformat": 4,
 "nbformat_minor": 2
}
