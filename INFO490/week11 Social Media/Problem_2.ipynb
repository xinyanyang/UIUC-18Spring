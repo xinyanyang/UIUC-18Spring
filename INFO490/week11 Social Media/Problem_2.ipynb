{
 "cells": [
  {
   "cell_type": "markdown",
   "metadata": {
    "deletable": false,
    "editable": false,
    "nbgrader": {
     "checksum": "c06001e499655b6f4a62ba2bd7708692",
     "grade": false,
     "grade_id": "header",
     "locked": true,
     "schema_version": 1,
     "solution": false
    }
   },
   "source": [
    "# Week 11 Problem 2\n",
    "\n",
    "A few things you should keep in mind when working on assignments:\n",
    "\n",
    "1. Make sure you fill in any place that says `YOUR CODE HERE`. Do not write your answer in anywhere else other than where it says `YOUR CODE HERE`. Anything you write anywhere else will be removed or overwritten by the autograder.\n",
    "\n",
    "2. Before you submit your assignment, make sure everything runs as expected. Go to menubar, select *Kernel*, and restart the kernel and run all cells (*Restart & Run all*).\n",
    "\n",
    "3. Do not change the title (i.e. file name) of this notebook.\n",
    "\n",
    "4. Make sure that you save your work (in the menubar, select *File* → *Save and CheckPoint*)\n",
    "\n",
    "5. When you are ready to submit your assignment, go to *Dashboard* → *Assignments* and click the *Submit* button. Your work is not submitted until you click *Submit*.\n",
    "\n",
    "6. You are allowed to submit an assignment multiple times, but only the most recent submission will be graded.\n",
    "\n",
    "7. **If your code does not pass the unit tests, it will not pass the autograder.**"
   ]
  },
  {
   "cell_type": "markdown",
   "metadata": {
    "deletable": false,
    "editable": false,
    "nbgrader": {
     "checksum": "a2ee047e07c99564f41c915d9dbca721",
     "grade": false,
     "grade_id": "due_date",
     "locked": true,
     "schema_version": 1,
     "solution": false
    }
   },
   "source": [
    "# Due Date: 6 PM, April 09, 2018"
   ]
  },
  {
   "cell_type": "markdown",
   "metadata": {
    "deletable": false,
    "editable": false,
    "nbgrader": {
     "checksum": "2beb80a13de376e7b90dc934aad6b1c6",
     "grade": false,
     "grade_id": "author",
     "locked": true,
     "schema_version": 1,
     "solution": false
    }
   },
   "source": [
    "## Author: Kelechi Ikegwu\n",
    "### Primary Reviewer: John Nguyen"
   ]
  },
  {
   "cell_type": "code",
   "execution_count": 2,
   "metadata": {
    "collapsed": true,
    "deletable": false,
    "editable": false,
    "nbgrader": {
     "checksum": "fcdde6dad7ef226a5aa07df1f7e0974b",
     "grade": false,
     "grade_id": "import",
     "locked": true,
     "schema_version": 1,
     "solution": false
    }
   },
   "outputs": [],
   "source": [
    "from nose.tools import assert_equal, assert_true, assert_false, assert_almost_equal\n",
    "import numpy.testing as npt\n",
    "import tweepy as tw\n"
   ]
  },
  {
   "cell_type": "markdown",
   "metadata": {
    "collapsed": true,
    "deletable": false,
    "editable": false,
    "nbgrader": {
     "checksum": "182983c959fdb3ad02d9c51aad58ac02",
     "grade": false,
     "grade_id": "p21_desc",
     "locked": true,
     "schema_version": 1,
     "solution": false
    }
   },
   "source": [
    "### Problem 2.1\n",
    "\n",
    "Complete the function *connect* by first creating a twitter.cred file in your home directory (*/home/data_scientist/*). Read in the tokens and secrets from the twitter.cred file. Pass in the consumer token and secret using tweepy's [OAuthHandler](http://docs.tweepy.org/en/v3.5.0/auth_tutorial.html) function and set the access token and secret to  the access token and access sceret from your twitter.cred file. Lastly pass in the *OAuthHandler* object to tweepy's [Twitter API wrapper](http://docs.tweepy.org/en/v3.5.0/api.html) constructor and return it.\n"
   ]
  },
  {
   "cell_type": "code",
   "execution_count": 12,
   "metadata": {
    "collapsed": true,
    "deletable": false,
    "nbgrader": {
     "checksum": "2920905e51167a86474fd374758e786d",
     "grade": false,
     "grade_id": "p21_ans",
     "locked": false,
     "schema_version": 1,
     "solution": true
    }
   },
   "outputs": [],
   "source": [
    "def connect(path):\n",
    "    '''\n",
    "    Parameters\n",
    "    ----------\n",
    "\n",
    "    path: string containing a path to a twitter.cred file.\n",
    "    \n",
    "    Returns\n",
    "    -------\n",
    "\n",
    "    A Twitter API wrapper of type tweppy.api.API\n",
    "    '''\n",
    "    # YOUR CODE HERE\n",
    "    # For Week 11 Problem 2.1, please note the following in order to avoid the rate limit problem while solving the assignment as well as  for when your assignment is being graded:\n",
    "    # When passing the OAuthHandler object to tweepy's Twitter API wrapper constructor, pass along with it \"True\" for wait_on_rate_limit ; it will look something like (modify library/object names accordingly)\n",
    "    # api_wrapper = tweepy.API(OAuthHandlerObject, wait_on_rate_limit=True)\n",
    "    \n",
    "    tokens = []\n",
    "\n",
    "    with open(path, 'r') as fin:\n",
    "        for line in fin:\n",
    "            if line[0] != '#': # Not a comment line\n",
    "                tokens.append(line.rstrip('\\n'))\n",
    "\n",
    "    auth = tw.OAuthHandler(tokens[2], tokens[3])\n",
    "    auth.set_access_token(tokens[0], tokens[1])\n",
    "\n",
    "    api = tw.API(auth, wait_on_rate_limit=True)\n",
    "\n",
    "    return api\n",
    "    "
   ]
  },
  {
   "cell_type": "code",
   "execution_count": 14,
   "metadata": {
    "deletable": false,
    "editable": false,
    "nbgrader": {
     "checksum": "d30500a8f08011c79d46a9041e05c560",
     "grade": true,
     "grade_id": "p21_tests",
     "locked": true,
     "points": 10,
     "schema_version": 1,
     "solution": false
    }
   },
   "outputs": [],
   "source": [
    "path = '/home/data_scientist/twitter.cred'\n",
    "api = connect(path)\n",
    "assert_true(type(api) == type(tw.api))\n",
    "try:\n",
    "    api.me()\n",
    "except tw.TweepError as e:\n",
    "    print(e)\n",
    "    assert_true(False, msg=e)"
   ]
  },
  {
   "cell_type": "markdown",
   "metadata": {
    "deletable": false,
    "editable": false,
    "nbgrader": {
     "checksum": "962cfe1e29ebb49bcc2bc7c4a60f77a1",
     "grade": false,
     "grade_id": "p22_desc",
     "locked": true,
     "schema_version": 1,
     "solution": false
    }
   },
   "source": [
    "### Problem 2.2\n",
    "\n",
    "Complete the function *get_screen_name* by using the tweepy's api wrapper to get the screen name of the twitter id passed in. "
   ]
  },
  {
   "cell_type": "code",
   "execution_count": 15,
   "metadata": {
    "collapsed": true,
    "deletable": false,
    "nbgrader": {
     "checksum": "198b9175c3529b709469c25090453278",
     "grade": false,
     "grade_id": "p22_ans",
     "locked": false,
     "schema_version": 1,
     "solution": true
    }
   },
   "outputs": [],
   "source": [
    "def get_screen_name(_api, _id):\n",
    "    '''\n",
    "    Parameters\n",
    "    ----------\n",
    "    _api: A Twitter API wrapper of type tweppy.api.API from problem 2.1\n",
    "    _id: twitter id of a user.\n",
    "    \n",
    "    Returns\n",
    "    -------\n",
    "\n",
    "    screen name of the twitter id of type string.\n",
    "    '''\n",
    "    # YOUR CODE HERE\n",
    "    user = _api.get_user(_id)\n",
    "    sn = user.screen_name\n",
    "    \n",
    "    return sn"
   ]
  },
  {
   "cell_type": "code",
   "execution_count": 16,
   "metadata": {
    "collapsed": true,
    "deletable": false,
    "editable": false,
    "nbgrader": {
     "checksum": "7e8dd5954768161039c4658f5cad8ce8",
     "grade": true,
     "grade_id": "p22_tests",
     "locked": true,
     "points": 10,
     "schema_version": 1,
     "solution": false
    }
   },
   "outputs": [],
   "source": [
    "# https://twitter.com/realDonaldTrump\n",
    "assert_true(get_screen_name(api, '25073877'), 'realDonaldTrump')\n",
    "\n",
    "#https://twitter.com/adamdangelo\n",
    "assert_true(get_screen_name(api, '10476462'), 'adamdangelo')\n",
    "\n",
    "#https://twitter.com/BarackObama\n",
    "assert_true(get_screen_name(api, '813286'), 'BarackObama')\n",
    "\n",
    "# https://twitter.com/kc74292876\n",
    "assert_true(get_screen_name(api, '839362741773156352'), 'KC74292876')"
   ]
  },
  {
   "cell_type": "markdown",
   "metadata": {
    "deletable": false,
    "editable": false,
    "nbgrader": {
     "checksum": "443da0c3be94eccdb4cee83c26afb4af",
     "grade": false,
     "grade_id": "p23_desc",
     "locked": true,
     "schema_version": 1,
     "solution": false
    }
   },
   "source": [
    "### Problem 2.3\n",
    "Complete the function *count_tweets* by using tweepy's api wrapper to count the number of tweets for a screen name. *HINT*: you may find the function *get_screen_name* from problem 2.2 useful and you should count the number of retweets."
   ]
  },
  {
   "cell_type": "code",
   "execution_count": 19,
   "metadata": {
    "collapsed": true,
    "deletable": false,
    "nbgrader": {
     "checksum": "267e5003895f980444c6fae9b7787385",
     "grade": false,
     "grade_id": "p23_ans",
     "locked": false,
     "schema_version": 1,
     "solution": true
    }
   },
   "outputs": [],
   "source": [
    "def count_tweets(_api, _id):\n",
    "    '''\n",
    "    Parameters\n",
    "    ----------\n",
    "    _api: A Twitter API wrapper of type tweepy.api.API from problem 2.1\n",
    "    _id: twitter id of a user.\n",
    "    \n",
    "    Returns\n",
    "    -------\n",
    "\n",
    "    number of tweets of type int\n",
    "    '''\n",
    "    # YOUR CODE HERE\n",
    "    user = _api.get_user(_id)\n",
    "    number = user.statuses_count\n",
    "    \n",
    "    return number"
   ]
  },
  {
   "cell_type": "code",
   "execution_count": 20,
   "metadata": {
    "collapsed": true,
    "deletable": false,
    "editable": false,
    "nbgrader": {
     "checksum": "1bfe77fcdfa1ae0f687f0cac2a2ebcf6",
     "grade": true,
     "grade_id": "p23_tests",
     "locked": true,
     "points": 10,
     "schema_version": 1,
     "solution": false
    }
   },
   "outputs": [],
   "source": [
    "try:\n",
    "    count_tweets(None, None)\n",
    "    assert_true(False, \"You function should make use of tweepy's api and the twitter id\")\n",
    "except:\n",
    "    pass\n",
    "\n",
    "count = count_tweets(api, '839362741773156352')\n",
    "assert_equal(count, 19)"
   ]
  },
  {
   "cell_type": "code",
   "execution_count": null,
   "metadata": {
    "collapsed": true
   },
   "outputs": [],
   "source": []
  }
 ],
 "metadata": {
  "kernelspec": {
   "display_name": "Python 3",
   "language": "python",
   "name": "python3"
  },
  "language_info": {
   "codemirror_mode": {
    "name": "ipython",
    "version": 3
   },
   "file_extension": ".py",
   "mimetype": "text/x-python",
   "name": "python",
   "nbconvert_exporter": "python",
   "pygments_lexer": "ipython3",
   "version": "3.6.1"
  }
 },
 "nbformat": 4,
 "nbformat_minor": 2
}
