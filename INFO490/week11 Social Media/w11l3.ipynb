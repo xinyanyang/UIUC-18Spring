{
 "cells": [
  {
   "cell_type": "markdown",
   "metadata": {},
   "source": [
    "# Week 11: Lesson 3\n",
    "\n",
    "-----\n",
    "\n",
    "## Introduction to Social Media: Web\n",
    "\n",
    "In this lesson, you will be introduced to the social media aspects of web-accessible data. While web data might be less popular than other forms of social media, the number and diversity of web accessible data sets make this form of social data among the most rich for text analysis. First, we will analyze a web page to extract data. Second, we will analyze a website as a networked resource to construct a summary document of data spread across multiple pages. As a demonstration of these concepts, we use the University of Illinois Course explorer website. This project requires programmatically accessing web data, parsing web pages, and extracting information from structured documents.\n",
    "\n",
    "### Objectives\n",
    "\n",
    "By the end of this lesson, you will be able to:\n",
    "\n",
    "- describe how to access web-accessible data,\n",
    "- parse webpages,\n",
    "- traverse web-based networked data\n",
    "- create a text analysis application by using Python that leverages web-based data.\n",
    "\n",
    "### Time Estimate\n",
    "\n",
    "Approximately 2 hours.\n",
    "\n",
    "### Activities\n",
    "\n",
    "Video: Watch the [Introduction to Social Media: Web][lv] video, which will discuss the social characteristics of web data.\n",
    "\n",
    "Reading: Wikipedia article on [web scraping][wws]  \n",
    "Reading: Blog introducing web scraping with BeautifulSoup, [Part 1][bbs1] and [Part 2][bbs2]  \n",
    "Reading:  Blog describing simple application of [web scraping][bdemo] \n",
    "\n",
    "Notebook: Read and complete the practice exercises in the [Introduction to Social Media: Web][l3nb] notebook.\n",
    "\n",
    "------\n",
    "[wws]: https://en.wikipedia.org/wiki/Web_scraping\n",
    "[bdemo]: http://www.danielforsyth.me/finding-the-best-ticket-price-simple-web-scraping-with-python/\n",
    "\n",
    "[bbs1]: http://www.gregreda.com/2013/03/03/web-scraping-101-with-python/\n",
    "[bbs2]: http://www.gregreda.com/2013/04/29/more-web-scraping-with-python/\n",
    "\n",
    "[lv]: https://mediaspace.illinois.edu/media/t/1_oeydkpgz/80455691\n",
    "\n",
    "[l3nb]: intro2smw.ipynb"
   ]
  }
 ],
 "metadata": {
  "kernelspec": {
   "display_name": "Python 3",
   "language": "python",
   "name": "python3"
  },
  "language_info": {
   "codemirror_mode": {
    "name": "ipython",
    "version": 3
   },
   "file_extension": ".py",
   "mimetype": "text/x-python",
   "name": "python",
   "nbconvert_exporter": "python",
   "pygments_lexer": "ipython3",
   "version": "3.6.1"
  }
 },
 "nbformat": 4,
 "nbformat_minor": 2
}
