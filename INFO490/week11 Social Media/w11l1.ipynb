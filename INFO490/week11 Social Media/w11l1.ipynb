{
 "cells": [
  {
   "cell_type": "markdown",
   "metadata": {},
   "source": [
    "# Week 11: Lesson 1\n",
    "\n",
    "-----\n",
    "\n",
    "## Introduction to Social Media: Email\n",
    "\n",
    "In this lesson, you will be introduced to social media data, which are a popular source of data for analytics projects. In particular, this lesson focuses on email, which are a rich sort of data based on both overall content as well as the social connections (or networks) they imply. First, we will review the basic components of an email message: header, body, and (optional) footer. Next, we will discus how to parse an email message to extract the body and possibly useful metadata. Finally, we will look at applying text analytics to emails, specifically to  classify emails as either spam or ham (i.e., bad or good messages).\n",
    "\n",
    "### Objectives\n",
    "\n",
    "By the end of this lesson, you will be able to \n",
    "\n",
    "- describe the different components of an email,\n",
    "- explain the different components of an email header and the extra information they convey,\n",
    "- parse an email message by using Python and to extract useful data, and\n",
    "- apply text analytics, like classification, to an email corpus by using Python.\n",
    "\n",
    "### Time Estimate\n",
    "\n",
    "Approximately 2 hours.\n",
    "\n",
    "### Activities\n",
    "\n",
    "Video: Watch the [Introduction to Social Media: Email][lv] video, which will discuss the social data aspect of email and how to extract information from these data.\n",
    "\n",
    "Reading: Wikipedia articles on [email][we] and on [mbox][wmbox], a file format for storing email messages  \n",
    "Reading: A blog article on [classifying email][bce] text documents\n",
    "\n",
    "Notebook: Read and complete the practice exercises in the [Introduction to Social Media: Email][l1nb] notebook.\n",
    "\n",
    "------\n",
    "\n",
    "[we]: https://en.wikipedia.org/wiki/Email\n",
    "[wmbox]: https://en.wikipedia.org/wiki/Mbox\n",
    "[bce]: http://zacstewart.com/2015/04/28/document-classification-with-scikit-learn.html\n",
    "\n",
    "[lv]: https://mediaspace.illinois.edu/media/t/1_s3dqtdez/80455691\n",
    "\n",
    "[l1nb]: intro2sme.ipynb"
   ]
  }
 ],
 "metadata": {
  "kernelspec": {
   "display_name": "Python 3",
   "language": "python",
   "name": "python3"
  },
  "language_info": {
   "codemirror_mode": {
    "name": "ipython",
    "version": 3
   },
   "file_extension": ".py",
   "mimetype": "text/x-python",
   "name": "python",
   "nbconvert_exporter": "python",
   "pygments_lexer": "ipython3",
   "version": "3.6.1"
  }
 },
 "nbformat": 4,
 "nbformat_minor": 2
}
