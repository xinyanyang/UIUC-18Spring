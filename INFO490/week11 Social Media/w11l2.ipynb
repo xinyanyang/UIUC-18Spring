{
 "cells": [
  {
   "cell_type": "markdown",
   "metadata": {},
   "source": [
    "# Week 11: Lesson 2\n",
    "\n",
    "-----\n",
    "\n",
    "## Introduction to Social Media: Twitter\n",
    "\n",
    "In this lesson, you will be introduced to [Twitter][twt] data. Twitter is a popular social media data type due to the wealth of data, the amount of metadata associate with each tweet, and the ease of obtaining Twitter data. To access Twitter data, we will use a Python library that wraps the official Twitter application programming interface (or API). First you will learn how to authenticate by using [OAUTH][wo] via the Twitter API. Next, we will use the Twitter API to find specific tweets, analyze the tweet metadata, and to extract a set of tweets. Finally, we will perform a sentiment analysis on Twitter data to classify tweets as positive or negative.\n",
    "\n",
    "### Objectives\n",
    "\n",
    "By the end of this lesson, you will be able to:\n",
    "\n",
    "- describe how to authenticate by using OAUTH,\n",
    "- extract data and the metadata contents of a tweet by using Python,\n",
    "- programmatically search for users and their tweets, and\n",
    "- create an application that analyzes twitter data by using Python.\n",
    "\n",
    "### Time Estimate\n",
    "\n",
    "Approximately 2 hours.\n",
    "\n",
    "### Activities\n",
    "\n",
    "Video: Watch the [Introduction to Social Media: Twitter][lv] video, which will introduce twitter data, the OAUTH authentication mechanism, and programmatically accessing twitter data.\n",
    "\n",
    "Reading: Wikipedia article on [twitter][wt]  \n",
    "Reading: Map of a [twitter status object][mtso]  \n",
    "Reading: [Tweepy][twd]: Python Twitter client documentation (Getting Started and Authentication Tutorial)  \n",
    "Reading: [Using nltk][unt] with twitter (note uses a different twitter client library)\n",
    "\n",
    "Notebook: Read and complete the practice exercises in the [Introduction to Social Media: Twitter][l2nb] notebook.\n",
    "\n",
    "------\n",
    "\n",
    "[wt]: https://en.wikipedia.org/wiki/Twitter\n",
    "[mtso]: http://online.wsj.com/public/resources/documents/TweetMetadata.pdf\n",
    "[twd]: http://tweepy.readthedocs.org\n",
    "[unt]: http://www.nltk.org/howto/twitter.html\n",
    "\n",
    "[lv]: https://mediaspace.illinois.edu/media/t/1_jph3psz8/80455691\n",
    "\n",
    "[l2nb]: intro2smt.ipynb\n",
    "\n",
    "[twt]: https://twitter.com\n",
    "[wo]: https://en.wikipedia.org/wiki/OAuth"
   ]
  }
 ],
 "metadata": {
  "kernelspec": {
   "display_name": "Python 3",
   "language": "python",
   "name": "python3"
  },
  "language_info": {
   "codemirror_mode": {
    "name": "ipython",
    "version": 3
   },
   "file_extension": ".py",
   "mimetype": "text/x-python",
   "name": "python",
   "nbconvert_exporter": "python",
   "pygments_lexer": "ipython3",
   "version": "3.6.1"
  }
 },
 "nbformat": 4,
 "nbformat_minor": 2
}
