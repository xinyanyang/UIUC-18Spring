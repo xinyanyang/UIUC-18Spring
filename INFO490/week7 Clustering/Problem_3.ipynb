{
 "cells": [
  {
   "cell_type": "markdown",
   "metadata": {
    "deletable": false,
    "editable": false,
    "nbgrader": {
     "checksum": "cd72e38b23cbdef1f0c86348410fb50a",
     "grade": false,
     "grade_id": "header",
     "locked": true,
     "schema_version": 1,
     "solution": false
    }
   },
   "source": [
    "# Week 7 Problem 3\n",
    "\n",
    "A few things you should keep in mind when working on assignments:\n",
    "\n",
    "1. Make sure you fill in any place that says `YOUR CODE HERE`. Do not write your answer in anywhere else other than where it says `YOUR CODE HERE`. Anything you write anywhere else will be removed or overwritten by the autograder.\n",
    "\n",
    "2. Before you submit your assignment, make sure everything runs as expected. Go to menubar, select *Kernel*, and restart the kernel and run all cells (*Restart & Run all*).\n",
    "\n",
    "3. Do not change the title (i.e. file name) of this notebook.\n",
    "\n",
    "4. Make sure that you save your work (in the menubar, select *File* → *Save and CheckPoint*)\n",
    "\n",
    "5. When you are ready to submit your assignment, go to *Dashboard* → *Assignments* and click the *Submit* button. Your work is not submitted until you click *Submit*.\n",
    "\n",
    "6. You are allowed to submit an assignment multiple times, but only the most recent submission will be graded.\n",
    "\n",
    "7. **If your code does not pass the unit tests, it will not pass the autograder.**"
   ]
  },
  {
   "cell_type": "markdown",
   "metadata": {
    "deletable": false,
    "editable": false,
    "nbgrader": {
     "checksum": "617627b3d1e813da21107e03e8362714",
     "grade": false,
     "grade_id": "due_date",
     "locked": true,
     "schema_version": 1,
     "solution": false
    }
   },
   "source": [
    "# Due Date: 6 PM, March 5, 2018"
   ]
  },
  {
   "cell_type": "code",
   "execution_count": 1,
   "metadata": {
    "collapsed": true,
    "deletable": false,
    "editable": false,
    "nbgrader": {
     "checksum": "2e79602fe5a22deb985ff50374e360a8",
     "grade": false,
     "grade_id": "import_nose",
     "locked": true,
     "schema_version": 1,
     "solution": false
    }
   },
   "outputs": [],
   "source": [
    "% matplotlib inline\n",
    "\n",
    "import numpy as np\n",
    "import pandas as pd\n",
    "from sklearn.model_selection import train_test_split, GridSearchCV\n",
    "from sklearn.metrics import mean_squared_error\n",
    "import matplotlib.cm as cm\n",
    "import matplotlib as mpl\n",
    "import matplotlib.pyplot as plt\n",
    "import seaborn as sns\n",
    "from sklearn.datasets.samples_generator import make_blobs\n",
    "from sklearn.mixture import GaussianMixture\n",
    "from sklearn.metrics import v_measure_score\n",
    "from nose.tools import assert_equal, assert_in, assert_is_not, assert_is_instance, assert_almost_equal\n",
    "from numpy.testing import assert_array_equal, assert_array_almost_equal\n",
    "from pandas.util.testing import assert_frame_equal, assert_index_equal"
   ]
  },
  {
   "cell_type": "markdown",
   "metadata": {
    "deletable": false,
    "editable": false,
    "nbgrader": {
     "checksum": "c074f2bf129df17416957647ca3b97e1",
     "grade": false,
     "grade_id": "cell-55f5152c9112ef90",
     "locked": true,
     "schema_version": 1,
     "solution": false
    }
   },
   "source": [
    "Let us use _sklearn_ to create a classification dataset for this assignment. We will create a dataset of 500 observations, 4 features and 4 class labels. We will then perform a 80/20 train-test split of the dataset."
   ]
  },
  {
   "cell_type": "code",
   "execution_count": 2,
   "metadata": {
    "deletable": false,
    "editable": false,
    "nbgrader": {
     "checksum": "62d42e9662633042ba0bf1bace2bdb54",
     "grade": false,
     "grade_id": "cell-1479489d0ee8112d",
     "locked": true,
     "schema_version": 1,
     "solution": false
    }
   },
   "outputs": [
    {
     "data": {
      "image/png": "[encoded data removed]",
      "text/plain": [
       "<matplotlib.figure.Figure at 0x7ff7dbc0df28>"
      ]
     },
     "metadata": {},
     "output_type": "display_data"
    }
   ],
   "source": [
    "# Generate the dataset\n",
    "X, y = make_blobs(n_samples=500, centers=4, cluster_std=0.75, random_state=0)\n",
    "X = X[:, ::-1] # flip axes for better plotting\n",
    "\n",
    "# View the dataset\n",
    "df = pd.DataFrame(dict(x=X[:,0], y=X[:,1], label=y))\n",
    "colors = {0: 'red', 1: 'black', 2: 'gray', 3: 'purple'}\n",
    "fig, ax = plt.subplots()\n",
    "grouped = df.groupby('label')\n",
    "for key, group in grouped:\n",
    "    group.plot(ax=ax, kind='scatter', x='x', y='y', label=key, color=colors[key])\n",
    "plt.show()"
   ]
  },
  {
   "cell_type": "markdown",
   "metadata": {
    "collapsed": true,
    "deletable": false,
    "editable": false,
    "nbgrader": {
     "checksum": "231d4b9124df4bfc2224bf8197186256",
     "grade": false,
     "grade_id": "prob1",
     "locked": true,
     "schema_version": 1,
     "solution": false
    }
   },
   "source": [
    "## Question 1\n",
    "\n",
    "Create a wrapper function called <i>mixture_model()</i> that takes in a _numpy.ndarray_ of data, an _numpy.ndarray_ of labels, and an _int_ specifying the number of components. Your function will fit a <i>sklearn.mixture.gaussian_mixture.GaussianMixture</i> model and return the fitted model along with its prediction.\n",
    "\n",
    "Set the following parameters for your Gaussian Mixture model (refer to the [Documentation](http://scikit-learn.org/stable/modules/generated/sklearn.mixture.GaussianMixture.html)):\n",
    "- Set <i>random_state=0</i>.\n",
    "- Set the number of initializations to be 10.\n",
    "- Set the max of EM interations to be 200\n",
    "- Set the initialization parameter (i.e., <i>init_params</i>) to be 'random'.\n",
    "- Set the covariance type to be 'full'.\n",
    "\n",
    "__Note:__ We will default _n_ to be two if it is not specified."
   ]
  },
  {
   "cell_type": "code",
   "execution_count": 8,
   "metadata": {
    "collapsed": true,
    "deletable": false,
    "nbgrader": {
     "checksum": "c1903ad178c3e5ba98280da222e8a965",
     "grade": false,
     "grade_id": "prob1_answer",
     "locked": false,
     "schema_version": 1,
     "solution": true
    }
   },
   "outputs": [],
   "source": [
    "def mixture_model(X, y, n=2):\n",
    "    '''    \n",
    "    Parameters\n",
    "    ----------\n",
    "    X: A numpy.ndarray representing the data\n",
    "    y: A numpy.ndarray representing the label\n",
    "    n: A int specifying the number of components\n",
    "    \n",
    "    Returns\n",
    "    -------\n",
    "    model: An sklearn.mixture.gaussian_mixture.GaussianMixture instance\n",
    "    prediction: A numpy.ndarray of predictions\n",
    "    '''\n",
    "    \n",
    "    # YOUR CODE HERE\n",
    "    # We build our model assuming three clusters\n",
    "    model = GaussianMixture(n_components = n, covariance_type='full', n_init =10, \n",
    "                         init_params = 'random', random_state = 0, max_iter = 200)\n",
    "\n",
    "    # We fit our data to assign classes\n",
    "    model.fit(X)\n",
    "    \n",
    "    # Obtain the predictions\n",
    "    prediction = model.predict(X)\n",
    "    \n",
    "    return model, prediction"
   ]
  },
  {
   "cell_type": "code",
   "execution_count": 9,
   "metadata": {
    "deletable": false,
    "editable": false,
    "nbgrader": {
     "checksum": "2b870efe77a2e13ad10fe4721eb2903b",
     "grade": true,
     "grade_id": "prob1_grade1",
     "locked": true,
     "points": 10,
     "schema_version": 1,
     "solution": false
    }
   },
   "outputs": [],
   "source": [
    "model, prediction = mixture_model(X,y,4)\n",
    "assert_equal(len(prediction), 500)\n",
    "assert_equal(model.n_init, 10)\n",
    "assert_equal(model.max_iter, 200)\n",
    "assert_equal(model.n_components, 4)\n",
    "assert_equal(model.init_params, 'random')\n"
   ]
  },
  {
   "cell_type": "markdown",
   "metadata": {
    "deletable": false,
    "editable": false,
    "nbgrader": {
     "checksum": "3fce89fa92598c59376907fd0f5db487",
     "grade": false,
     "grade_id": "cell-f07ac461f8f4e257",
     "locked": true,
     "schema_version": 1,
     "solution": false
    }
   },
   "source": [
    "Recall from the lesson that the V-measure score measures the homogeneity and the completeness of the clustering. This metric is built into sklearn (see [Documentation](http://scikit-learn.org/stable/modules/generated/sklearn.metrics.v_measure_score.html)). While we can use this metric to determine the optimal number of components and it is accurate for this case, using accuracy measures should not be used for model selection. Instead, it is better to rely on the information criterion metrics to determine goodness of fit of our mixture model."
   ]
  },
  {
   "cell_type": "code",
   "execution_count": 10,
   "metadata": {
    "deletable": false,
    "editable": false,
    "nbgrader": {
     "checksum": "ec90d8a243bae71bee1bef20eb87bfd9",
     "grade": false,
     "grade_id": "cell-00196bd5f51b198f",
     "locked": true,
     "schema_version": 1,
     "solution": false
    }
   },
   "outputs": [
    {
     "name": "stdout",
     "output_type": "stream",
     "text": [
      "2 components 0.474246235364\n",
      "3 components 0.790705020428\n",
      "4 components 0.953606320017\n",
      "5 components 0.896313623705\n",
      "6 components 0.904730241663\n",
      "7 components 0.884395960645\n",
      "8 components 0.492326498207\n",
      "9 components 0.62653077936\n",
      "10 components 0.900874888409\n"
     ]
    }
   ],
   "source": [
    "# Compute the V-Measure of 2, 3, ..., 10 components\n",
    "for i in np.arange(2,11):\n",
    "    model, prediction = mixture_model(X, y, i)\n",
    "    print('%i components' %i, v_measure_score(y,prediction))"
   ]
  },
  {
   "cell_type": "markdown",
   "metadata": {
    "collapsed": true,
    "deletable": false,
    "editable": false,
    "nbgrader": {
     "checksum": "0345fed982e5d82d25d10f9755400acf",
     "grade": false,
     "grade_id": "prob2",
     "locked": true,
     "schema_version": 1,
     "solution": false
    }
   },
   "source": [
    "## Question 2\n",
    "\n",
    "Create the function <i>compute_aic_bic()</i> which takes the data and labels to fit Gaussian Mixture models with _2_ to _k_ components. Your function should return two lists, one with AIC scores and another with BIC scores. Set the parameters of the GMM to be the same as Question 1.\n",
    "\n",
    "__Example__: <i>compute_aic_bic(X, y, 4)</i> will fit an GMM with k=2,3, and 4. It should return two list of three elements each, corresponding to AIC and BIC scores, respectively.\n",
    "\n",
    "__Hint__: Use the function you've created in Question 1. You can use the built-in functions to compute the [AIC/BIC score](http://scikit-learn.org/stable/modules/generated/sklearn.mixture.GaussianMixture.html#sklearn.mixture.GaussianMixture.aic)."
   ]
  },
  {
   "cell_type": "code",
   "execution_count": 20,
   "metadata": {
    "collapsed": true,
    "deletable": false,
    "nbgrader": {
     "checksum": "7541ba40e4e845816d63f8b67271cd3f",
     "grade": false,
     "grade_id": "prob2_answer",
     "locked": false,
     "schema_version": 1,
     "solution": true
    }
   },
   "outputs": [],
   "source": [
    "def compute_aic_bic(X, y, k):\n",
    "    '''    \n",
    "    Parameters\n",
    "    ----------\n",
    "    X: A numpy.ndarray representing the data\n",
    "    y: A numpy.ndarray representing the label\n",
    "    k: A int specifying the max number of components to consider\n",
    "    \n",
    "    Returns\n",
    "    -------\n",
    "    aic_result: A list of AIC scores\n",
    "    bic_result: A list of BIC scores\n",
    "    '''\n",
    "\n",
    "    # YOUR CODE HERE\n",
    "    aic_result = np.zeros(k - 1)\n",
    "    bic_result = np.zeros(k - 1)\n",
    "\n",
    "    n_components = np.arange(2, k + 1)\n",
    "    \n",
    "    for idx, nc in enumerate(n_components):\n",
    "        # We build our model for nc components\n",
    "        model = GaussianMixture(n_components=nc, covariance_type='full', n_init =10, \n",
    "                               init_params = 'random', random_state = 0, max_iter = 200)\n",
    "        model.fit(X)\n",
    "        aic_result[idx] = model.aic(X)\n",
    "        bic_result[idx] = model.bic(X)\n",
    "    \n",
    "    aic_result = aic_result.tolist()\n",
    "    bic_result = bic_result.tolist()\n",
    "\n",
    "    return aic_result, bic_result"
   ]
  },
  {
   "cell_type": "code",
   "execution_count": 21,
   "metadata": {
    "deletable": false,
    "editable": false,
    "nbgrader": {
     "checksum": "023a25e0706348c97c7bac9964d464ed",
     "grade": true,
     "grade_id": "prob2_grade",
     "locked": true,
     "points": 10,
     "schema_version": 1,
     "solution": false
    }
   },
   "outputs": [],
   "source": [
    "aic1, bic1 = compute_aic_bic(X, y, 5)\n",
    "\n",
    "assert_equal(len(aic1), 4)\n",
    "assert_equal(type(aic1), list)\n",
    "assert_almost_equal(aic1, [4212.4286306157865, 3792.4137470870855, 3616.391280743926, 3624.524088698493])\n",
    "assert_equal(len(bic1), 4)\n",
    "assert_equal(type(bic1), list)\n",
    "assert_almost_equal(bic1, [4258.7893196984305, 3864.0620847602627, 3713.3272670076362, 3746.7477235527367])\n"
   ]
  },
  {
   "cell_type": "markdown",
   "metadata": {
    "deletable": false,
    "editable": false,
    "nbgrader": {
     "checksum": "49d777f7386e669a676a82d19b1a0c0b",
     "grade": false,
     "grade_id": "cell-59e4837e92fa1e18",
     "locked": true,
     "schema_version": 1,
     "solution": false
    }
   },
   "source": [
    "Let us plot your results for 2, 3, 4, and 5 components. You should see that 4 components is optimal (which corresponds to the highest V-measure as well)."
   ]
  },
  {
   "cell_type": "code",
   "execution_count": 22,
   "metadata": {
    "deletable": false,
    "editable": false,
    "nbgrader": {
     "checksum": "eb5379f8ea104db8800e8c42a4aec028",
     "grade": false,
     "grade_id": "cell-d65140dd120dfaa7",
     "locked": true,
     "schema_version": 1,
     "solution": false
    }
   },
   "outputs": [
    {
     "data": {
      "image/png": "[encoded data removed]",
      "text/plain": [
       "<matplotlib.figure.Figure at 0x7ff7d21aba90>"
      ]
     },
     "metadata": {},
     "output_type": "display_data"
    }
   ],
   "source": [
    "# Plot the AIC/BIC Curves\n",
    "fig, ax = plt.subplots(figsize=(10, 10))\n",
    "\n",
    "# Show AIC points an curve\n",
    "ax.scatter(np.arange(2, 6), aic1, s=150, \n",
    "           c=sns.xkcd_rgb['pale red'], marker='X', alpha=0.5)\n",
    "ax.plot(np.arange(2, 6), aic1, lw=3, linestyle='-', \n",
    "        color=sns.xkcd_rgb['denim blue'], label='AIC')\n",
    "\n",
    "# Show BIC points an curve\n",
    "ax.scatter(np.arange(2, 6), bic1, s=150, \n",
    "           c=sns.xkcd_rgb['pale red'], marker='X', alpha=0.5)\n",
    "ax.plot(np.arange(2, 6), bic1, lw=3, linestyle='-', \n",
    "        color=sns.xkcd_rgb['dusty purple'], label='BIC')\n",
    "\n",
    "# Decorate Plot\n",
    "ax.set(title='Information Criteria Plot',\n",
    "       xlabel='Number of Components', \n",
    "       ylabel='Score')\n",
    "sns.despine(offset=5, trim=True)"
   ]
  },
  {
   "cell_type": "markdown",
   "metadata": {
    "deletable": false,
    "editable": false,
    "nbgrader": {
     "checksum": "9ca3da558a92243ae80d0ed5669d18c9",
     "grade": false,
     "grade_id": "prob3",
     "locked": true,
     "schema_version": 1,
     "solution": false
    }
   },
   "source": [
    "## Question 3\n",
    "\n",
    "We can also use AIC/BIC to determine the hyperparameter for covariance type.\n",
    "\n",
    "Create a wrapper function called <i>aic_bic_covariance_type()</i> that takes in a _numpy.ndarray_ of data and a _numpy.ndarray_ of labels. Your function will fit a <i>sklearn.mixture.gaussian_mixture.GaussianMixture</i> model with the following parameters for your Gaussian Mixture model:\n",
    "- Set <i>random_state=0</i>.\n",
    "- Set the number of components to be 4.\n",
    "- Set the number of initializations to be 10.\n",
    "- Set the max of EM interations to be 200\n",
    "- Set the initialization parameter (i.e., <i>init_params</i>) to be 'random'.\n",
    "\n",
    "Instead of iterating over the number of components, iterate over the four different covariance types (in specific order: 'full', 'tied', 'diag', 'spherical'). Your function should return two lists, one for the AIC scores and one for the BIC scores corresponding to each types."
   ]
  },
  {
   "cell_type": "code",
   "execution_count": 26,
   "metadata": {
    "collapsed": true,
    "deletable": false,
    "nbgrader": {
     "checksum": "0429077d0f75ac8d653570acd26def61",
     "grade": false,
     "grade_id": "prob3_answer",
     "locked": false,
     "schema_version": 1,
     "solution": true
    }
   },
   "outputs": [],
   "source": [
    "def aic_bic_covariance_type(X, y):\n",
    "    '''    \n",
    "    Parameters\n",
    "    ----------\n",
    "    X: A numpy.ndarray representing the data\n",
    "    y: A numpy.ndarray representing the label\n",
    "    \n",
    "    Returns\n",
    "    -------\n",
    "    aic_result: A list of AIC scores\n",
    "    bic_result: A list of BIC scores\n",
    "    '''\n",
    "\n",
    "    # YOUR CODE HERE\n",
    "    aic_result = np.zeros(4)\n",
    "    bic_result = np.zeros(4)\n",
    "    types = ['full', 'tied', 'diag', 'spherical']\n",
    "    \n",
    "    for idx in range(4):\n",
    "        # We build our model for nc components\n",
    "        model = GaussianMixture(n_components = 4, covariance_type = types[idx], n_init =10, \n",
    "                               init_params = 'random', random_state = 0, max_iter = 200)\n",
    "        model.fit(X)\n",
    "        aic_result[idx] = model.aic(X)\n",
    "        bic_result[idx] = model.bic(X)\n",
    "    \n",
    "    aic_result = aic_result.tolist()\n",
    "    bic_result = bic_result.tolist()\n",
    "    \n",
    "    return aic_result, bic_result"
   ]
  },
  {
   "cell_type": "code",
   "execution_count": 27,
   "metadata": {
    "collapsed": true,
    "deletable": false,
    "editable": false,
    "nbgrader": {
     "checksum": "968afae3ff02bc69e58c278703fd0ba2",
     "grade": true,
     "grade_id": "prob3_grade",
     "locked": true,
     "points": 10,
     "schema_version": 1,
     "solution": false
    }
   },
   "outputs": [],
   "source": [
    "aic3, bic3 = aic_bic_covariance_type(X, y)\n",
    "\n",
    "assert_equal(len(aic3), 4)\n",
    "assert_equal(type(aic3), list)\n",
    "assert_almost_equal(aic3, [3616.391280743926, 4219.6443843266297, 4365.7307075900226, 3605.6425008679053])\n",
    "assert_equal(len(bic3), 4)\n",
    "assert_equal(type(bic3), list)\n",
    "assert_almost_equal(bic3, [3713.3272670076362, 4278.6488977045401, 4445.8082614600444, 3668.8616223442382])\n"
   ]
  },
  {
   "cell_type": "code",
   "execution_count": null,
   "metadata": {
    "collapsed": true
   },
   "outputs": [],
   "source": []
  }
 ],
 "metadata": {
  "kernelspec": {
   "display_name": "Python 3",
   "language": "python",
   "name": "python3"
  },
  "language_info": {
   "codemirror_mode": {
    "name": "ipython",
    "version": 3
   },
   "file_extension": ".py",
   "mimetype": "text/x-python",
   "name": "python",
   "nbconvert_exporter": "python",
   "pygments_lexer": "ipython3",
   "version": "3.6.1"
  }
 },
 "nbformat": 4,
 "nbformat_minor": 2
}
