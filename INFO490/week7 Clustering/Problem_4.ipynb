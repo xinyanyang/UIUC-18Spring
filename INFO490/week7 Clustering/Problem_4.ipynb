{
 "cells": [
  {
   "cell_type": "markdown",
   "metadata": {
    "deletable": false,
    "editable": false,
    "nbgrader": {
     "checksum": "b69b55b2db71217448902936276e9e98",
     "grade": false,
     "grade_id": "header",
     "locked": true,
     "schema_version": 1,
     "solution": false
    }
   },
   "source": [
    "# Week 7 Problem 4\n",
    "\n",
    "A few things you should keep in mind when working on assignments:\n",
    "\n",
    "1. Make sure you fill in any place that says `YOUR CODE HERE`. Do not write your answer in anywhere else other than where it says `YOUR CODE HERE`. Anything you write anywhere else will be removed or overwritten by the autograder.\n",
    "\n",
    "2. Before you submit your assignment, make sure everything runs as expected. Go to menubar, select *Kernel*, and restart the kernel and run all cells (*Restart & Run all*).\n",
    "\n",
    "3. Do not change the title (i.e. file name) of this notebook.\n",
    "\n",
    "4. Make sure that you save your work (in the menubar, select *File* → *Save and CheckPoint*)\n",
    "\n",
    "5. When you are ready to submit your assignment, go to *Dashboard* → *Assignments* and click the *Submit* button. Your work is not submitted until you click *Submit*.\n",
    "\n",
    "6. You are allowed to submit an assignment multiple times, but only the most recent submission will be graded."
   ]
  },
  {
   "cell_type": "markdown",
   "metadata": {
    "deletable": false,
    "editable": false,
    "nbgrader": {
     "checksum": "617627b3d1e813da21107e03e8362714",
     "grade": false,
     "grade_id": "due_date",
     "locked": true,
     "schema_version": 1,
     "solution": false
    }
   },
   "source": [
    "# Due Date: 6 PM, March 5, 2018"
   ]
  },
  {
   "cell_type": "code",
   "execution_count": 1,
   "metadata": {
    "collapsed": true,
    "deletable": false,
    "editable": false,
    "nbgrader": {
     "checksum": "76ef386b168df356382c1c53f4a929d5",
     "grade": false,
     "grade_id": "import",
     "locked": true,
     "schema_version": 1,
     "solution": false
    }
   },
   "outputs": [],
   "source": [
    "% matplotlib inline\n",
    "import matplotlib as mpl\n",
    "import matplotlib.pyplot as plt\n",
    "import numpy as np\n",
    "import pandas as pd\n",
    "import seaborn as sns\n",
    "from numpy.testing import assert_array_equal\n",
    "from nose.tools import assert_equal, assert_true, assert_almost_equal, assert_is_instance, assert_is_not\n",
    "from sklearn.cluster import KMeans\n",
    "from sklearn.datasets import make_blobs\n",
    "import sklearn.metrics as skm\n",
    "from sklearn.mixture import GaussianMixture\n",
    "from sklearn.cluster import DBSCAN\n",
    "# We do this to ignore several specific warnings\n",
    "import warnings\n",
    "warnings.filterwarnings(\"ignore\")"
   ]
  },
  {
   "cell_type": "markdown",
   "metadata": {},
   "source": [
    "## Blob Dataset\n",
    "For this assignment, we will be creating our own dataset using the `make_blobs` built-in function in the sklearn library. This function when specified with parameters will create isotropic Gaussian blobs that can be used for clustering."
   ]
  },
  {
   "cell_type": "code",
   "execution_count": 2,
   "metadata": {
    "deletable": false,
    "editable": false,
    "nbgrader": {
     "checksum": "4897e2f5034ac46c2c072d6b36132cfa",
     "grade": false,
     "grade_id": "data_set",
     "locked": true,
     "schema_version": 1,
     "solution": false
    }
   },
   "outputs": [
    {
     "data": {
      "text/html": [
       "<div>\n",
       "<style>\n",
       "    .dataframe thead tr:only-child th {\n",
       "        text-align: right;\n",
       "    }\n",
       "\n",
       "    .dataframe thead th {\n",
       "        text-align: left;\n",
       "    }\n",
       "\n",
       "    .dataframe tbody tr th {\n",
       "        vertical-align: top;\n",
       "    }\n",
       "</style>\n",
       "<table border=\"1\" class=\"dataframe\">\n",
       "  <thead>\n",
       "    <tr style=\"text-align: right;\">\n",
       "      <th></th>\n",
       "      <th>label</th>\n",
       "      <th>x</th>\n",
       "      <th>y</th>\n",
       "    </tr>\n",
       "  </thead>\n",
       "  <tbody>\n",
       "    <tr>\n",
       "      <th>0</th>\n",
       "      <td>5</td>\n",
       "      <td>-0.428224</td>\n",
       "      <td>6.293446</td>\n",
       "    </tr>\n",
       "    <tr>\n",
       "      <th>1</th>\n",
       "      <td>2</td>\n",
       "      <td>2.249696</td>\n",
       "      <td>-1.321017</td>\n",
       "    </tr>\n",
       "    <tr>\n",
       "      <th>2</th>\n",
       "      <td>5</td>\n",
       "      <td>-1.106093</td>\n",
       "      <td>7.707401</td>\n",
       "    </tr>\n",
       "    <tr>\n",
       "      <th>3</th>\n",
       "      <td>4</td>\n",
       "      <td>-3.040381</td>\n",
       "      <td>8.995227</td>\n",
       "    </tr>\n",
       "    <tr>\n",
       "      <th>4</th>\n",
       "      <td>6</td>\n",
       "      <td>10.266651</td>\n",
       "      <td>1.394742</td>\n",
       "    </tr>\n",
       "  </tbody>\n",
       "</table>\n",
       "</div>"
      ],
      "text/plain": [
       "   label          x         y\n",
       "0      5  -0.428224  6.293446\n",
       "1      2   2.249696 -1.321017\n",
       "2      5  -1.106093  7.707401\n",
       "3      4  -3.040381  8.995227\n",
       "4      6  10.266651  1.394742"
      ]
     },
     "execution_count": 2,
     "metadata": {},
     "output_type": "execute_result"
    }
   ],
   "source": [
    "'''\n",
    "NOTE: Make sure to load this data set before completing the assignment\n",
    "'''\n",
    "# Load in the dataset as a Pandas DataFrame\n",
    "data, labels = make_blobs(n_samples=500, centers=7, cluster_std=0.75, random_state=0)\n",
    "data = data[:, ::-1] # flip axes for better plotting\n",
    "# View the dataset\n",
    "df = pd.DataFrame(dict(x=data[:,0], y=data[:,1], label=labels))\n",
    "# Preview the first few lines\n",
    "df.head()"
   ]
  },
  {
   "cell_type": "markdown",
   "metadata": {
    "deletable": false,
    "editable": false,
    "nbgrader": {
     "checksum": "8bf614de317e8cddb1d4bd3ad501cb3c",
     "grade": false,
     "grade_id": "cell-d60388a84c8fa3d9",
     "locked": true,
     "schema_version": 1,
     "solution": false
    }
   },
   "source": [
    "## Question 1\n",
    "\n",
    "In this question, we will use `K-means` clustering in order to determine the number of clusters in our dataset. Complete the following function `get_best_score` that takes in 3 parameters: `start`, `stop`, and `data`.\n",
    "\n",
    "- Use `start` and `stop` as the range of potential `n_clusters` to explore to find the optimal number of clusters. Use `n_init=10` and `random_state=23` as the parameters to the `KMeans` constructor call also\n",
    "- In order to determine the optimal number of clusters without graphing and using the Elbow method, we can use Silhouette Analysis in order to determine a ballparked number for the optimal number of clusters. In essence, this means that the **n_cluster size that has the highest `silhouette_score` will most likely be the optimal cluster size**.\n",
    "- Therefore, iterate from `start` to `stop` (inclusive) and determine the `n_cluster` size that has the highest silhouette score and return a 2-tuple of the KMeans estimator with the highest silhouette score and the value of cluster size as an integer from the function.\n",
    "- Call `skm.silhouette_score` with `euclidean` as the value for `metric` parameter and pass the data and the `KMeans.labels_` as the parameters as well."
   ]
  },
  {
   "cell_type": "code",
   "execution_count": 13,
   "metadata": {
    "collapsed": true,
    "deletable": false,
    "nbgrader": {
     "checksum": "c3df92aab0b37aa92ecbc397b0ff5e59",
     "grade": false,
     "grade_id": "problem1_answer",
     "locked": false,
     "schema_version": 1,
     "solution": true
    }
   },
   "outputs": [],
   "source": [
    "def get_best_score(start, stop, data):\n",
    "    '''    \n",
    "    Use Silhouette Analysis to determine the optimal size of clusters\n",
    "    \n",
    "    Parameters\n",
    "    ----------\n",
    "    start: An int\n",
    "    stop: An int\n",
    "    data: A numpy.ndarray\n",
    "    \n",
    "    Returns\n",
    "    -------\n",
    "    A 2-tuple of KMeans object and an int\n",
    "    '''\n",
    "    # YOUR CODE HERE\n",
    "    clusters = np.arange(start, stop + 1)\n",
    "    scores = []\n",
    "    \n",
    "    for idx, nc in enumerate(clusters):\n",
    "        model = KMeans(n_clusters=nc, n_init=10, random_state=23)\n",
    "        model.fit(data)\n",
    "        #compute the score\n",
    "        sco = skm.silhouette_score(data, model.labels_, metric='euclidean', \n",
    "                                    random_state=23 )\n",
    "        scores.append(sco)\n",
    "        \n",
    "    best_cluster = np.argmax(scores) + start\n",
    "    model = KMeans(n_clusters=best_cluster, n_init=10, random_state=23)\n",
    "    model.fit(data)\n",
    "    \n",
    "    return model, best_cluster"
   ]
  },
  {
   "cell_type": "code",
   "execution_count": 14,
   "metadata": {
    "deletable": false,
    "editable": false,
    "nbgrader": {
     "checksum": "e8f5a72923c66148ef888ebc3891dae5",
     "grade": true,
     "grade_id": "problem1_test",
     "locked": true,
     "points": 10,
     "schema_version": 1,
     "solution": false
    }
   },
   "outputs": [],
   "source": [
    "best_model, best_score = get_best_score(2, 12, data)\n",
    "assert_equal(best_score, 7) \n",
    "assert_true(best_model, isinstance(best_model, KMeans))"
   ]
  },
  {
   "cell_type": "markdown",
   "metadata": {
    "deletable": false,
    "editable": false,
    "nbgrader": {
     "checksum": "a8ad4448df353e0fdf0ff60fd4e0ddb8",
     "grade": false,
     "grade_id": "cell-544e70cc7b248111",
     "locked": true,
     "schema_version": 1,
     "solution": false
    }
   },
   "source": [
    "## Question 2\n",
    "\n",
    "Now that we have used the Silhouette Analysis to determine the optimal number of clusters, we will validate this by using the Elbow method. Finish the function `get_elbow_plot_params` that returns the `x` and `y` arrays as a 2-tuple needed to plot the Elbow plot. \n",
    "\n",
    "- The x_values will be an array of values from `start` to `stop` (inclusive). `start` and `stop` are parameters into the function.\n",
    "- The y_values will be an array of values of the respective inertias from each of the `x_values` (i.e. create a KMeans object with each value in `x_values` and fit the model, and use the `inertia_` attribute as the y-value for the respective x-value.\n",
    "- In the call to the `KMeans` constructor, please `n_init=10` and `random_state=23` as the constructor parameters."
   ]
  },
  {
   "cell_type": "code",
   "execution_count": 17,
   "metadata": {
    "collapsed": true,
    "deletable": false,
    "nbgrader": {
     "checksum": "5b69a1ca0c1ea0b06cd2c336808bd02d",
     "grade": false,
     "grade_id": "problem2_answer",
     "locked": false,
     "schema_version": 1,
     "solution": true
    }
   },
   "outputs": [],
   "source": [
    "def get_elbow_plot_params(start, stop, data):\n",
    "    '''\n",
    "    Get the x and y values needed to plot the Elbow method plot\n",
    "    \n",
    "    Parameters\n",
    "    ----------\n",
    "    start: An int\n",
    "    stop: An int\n",
    "    data: A numpy.ndarray\n",
    "    \n",
    "    Returns\n",
    "    -------\n",
    "    \n",
    "    A 2-tuple of 2 lists: the n_clusters array and the respective inertias array\n",
    "    '''\n",
    "    # YOUR CODE HERE\n",
    "    clusters = np.arange(start, stop + 1)\n",
    "    distances = []\n",
    "    \n",
    "    for idx, nc in enumerate(clusters):\n",
    "        model = KMeans(n_clusters=nc, n_init=10, random_state=23)\n",
    "        model.fit(data)\n",
    "        \n",
    "        #compute the score\n",
    "        distances.append(model.inertia_)\n",
    "        \n",
    "    return (clusters, distances)"
   ]
  },
  {
   "cell_type": "code",
   "execution_count": 18,
   "metadata": {
    "deletable": false,
    "editable": false,
    "nbgrader": {
     "checksum": "0f7810a0be56a2201b9f2d98d3da7426",
     "grade": true,
     "grade_id": "problem2_test",
     "locked": true,
     "points": 10,
     "schema_version": 1,
     "solution": false
    }
   },
   "outputs": [],
   "source": [
    "x_values, y_values = get_elbow_plot_params(2, 12, data)\n",
    "assert_equal(len(x_values), len(y_values))\n",
    "assert_equal(x_values[0], 2)\n",
    "assert_equal(x_values[-1], 12)"
   ]
  },
  {
   "cell_type": "code",
   "execution_count": 19,
   "metadata": {
    "deletable": false,
    "editable": false,
    "nbgrader": {
     "checksum": "51a256e4477ef754d7e0e93643858018",
     "grade": false,
     "grade_id": "cell-967f8f4d432abd29",
     "locked": true,
     "schema_version": 1,
     "solution": false
    }
   },
   "outputs": [
    {
     "data": {
      "image/png": "[encoded data removed]",
      "text/plain": [
       "<matplotlib.figure.Figure at 0x7fa462166d30>"
      ]
     },
     "metadata": {},
     "output_type": "display_data"
    }
   ],
   "source": [
    "# Plot elbow method\n",
    "fig, ax = plt.subplots(figsize=(12, 10))\n",
    "x_values, y_values = get_elbow_plot_params(2, 12, data)\n",
    "\n",
    "# Draw points and connect them\n",
    "ax.scatter(x_values, y_values, s=150, \n",
    "           c=sns.xkcd_rgb['pale red'], marker='X', alpha=0.5)\n",
    "ax.plot(x_values, y_values, lw=3, linestyle='-', \n",
    "        color=sns.xkcd_rgb['denim blue'])\n",
    "\n",
    "# Define elbow at three clusters\n",
    "elb = (x_values[6], y_values[6])\n",
    "\n",
    "# Draw an arrow showing the elbow\n",
    "ax.annotate('Elbow', xytext=[6, 300], xy=elb,\n",
    "                arrowprops=dict(facecolor=sns.xkcd_rgb['dusty purple'], \n",
    "                                alpha=0.25, shrink=0.05))\n",
    "\n",
    "# Decorate Plot\n",
    "ax.set(title='Elbow Plot', \n",
    "       xlabel='Number of Clusters', \n",
    "       ylabel='Total distance')\n",
    "sns.despine(offset=5, trim=True)"
   ]
  },
  {
   "cell_type": "markdown",
   "metadata": {
    "deletable": false,
    "editable": false,
    "nbgrader": {
     "checksum": "b3b1ecd7c14bac9022cc83fdc6c22acb",
     "grade": false,
     "grade_id": "cell-f41eb0ee2ba61532",
     "locked": true,
     "schema_version": 1,
     "solution": false
    }
   },
   "source": [
    "As you can see from above, the Elbow is roughly around 7 clusters which is what we created our initial dataset as and it is also what we received as our answer from our silhouette analysis."
   ]
  },
  {
   "cell_type": "markdown",
   "metadata": {
    "deletable": false,
    "editable": false,
    "nbgrader": {
     "checksum": "fef47891528b1804c49de4cc99138e1e",
     "grade": false,
     "grade_id": "cell-ef5687ed65f8cbfb",
     "locked": true,
     "schema_version": 1,
     "solution": false
    }
   },
   "source": [
    "## Question 3\n",
    "\n",
    "In this question, you will determine the best covariance type that yields the highest scoring GaussianMixture Model while using the `adjusted_rand_info` as the performance metric. Use `n_components=6` and `random_state=23` as the parameters to the Mixture Model. Return the name of the highest scoring variance type."
   ]
  },
  {
   "cell_type": "code",
   "execution_count": 24,
   "metadata": {
    "collapsed": true,
    "deletable": false,
    "nbgrader": {
     "checksum": "b9dd710b973bc53f6ec16f934e3b097c",
     "grade": false,
     "grade_id": "problem3_answer",
     "locked": false,
     "schema_version": 1,
     "solution": true
    }
   },
   "outputs": [],
   "source": [
    "def best_covariance_type(data, labels):\n",
    "    '''\n",
    "    Returns the name of the highest scoring covariance type.\n",
    "    \n",
    "    Parameters\n",
    "    ----------\n",
    "    data: A numpy.ndarray\n",
    "    labels: A numpy.ndarray\n",
    "    \n",
    "    Returns\n",
    "    -------\n",
    "    A string\n",
    "    '''\n",
    "    c_type = ['spherical', 'diag', 'tied', 'full']\n",
    "    # YOUR CODE HERE\n",
    "    # use the `adjusted_rand_score` function in the solution, and not `adjusted_rand_info`. \n",
    "    ars = np.zeros(4)\n",
    "    \n",
    "    for idx in range(4):\n",
    "        # We build our model for nc components\n",
    "        model = GaussianMixture(n_components = 6, covariance_type = c_type[idx], random_state = 23)\n",
    "        model.fit(data)\n",
    "        pred = model.predict(data)\n",
    "\n",
    "        ars[idx] = skm.adjusted_rand_score(labels, pred)\n",
    "    \n",
    "    best_index = np.argmax(ars)\n",
    "    \n",
    "    return c_type[best_index]"
   ]
  },
  {
   "cell_type": "code",
   "execution_count": 25,
   "metadata": {
    "deletable": false,
    "editable": false,
    "nbgrader": {
     "checksum": "39e5dd47a56278d8a655eef395f285f6",
     "grade": true,
     "grade_id": "problem3_test",
     "locked": true,
     "points": 10,
     "schema_version": 1,
     "solution": false
    }
   },
   "outputs": [],
   "source": [
    "assert_equal(best_covariance_type(data, labels), 'full')\n",
    "assert_equal(best_covariance_type(data[0:100], labels[0:100]), 'full')"
   ]
  },
  {
   "cell_type": "code",
   "execution_count": null,
   "metadata": {
    "collapsed": true
   },
   "outputs": [],
   "source": []
  }
 ],
 "metadata": {
  "kernelspec": {
   "display_name": "Python 3",
   "language": "python",
   "name": "python3"
  },
  "language_info": {
   "codemirror_mode": {
    "name": "ipython",
    "version": 3
   },
   "file_extension": ".py",
   "mimetype": "text/x-python",
   "name": "python",
   "nbconvert_exporter": "python",
   "pygments_lexer": "ipython3",
   "version": "3.6.1"
  }
 },
 "nbformat": 4,
 "nbformat_minor": 2
}
