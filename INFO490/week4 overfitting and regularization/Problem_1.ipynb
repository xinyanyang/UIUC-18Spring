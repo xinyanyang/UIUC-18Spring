{
 "cells": [
  {
   "cell_type": "markdown",
   "metadata": {
    "deletable": false,
    "editable": false,
    "nbgrader": {
     "checksum": "70bc3a0d5d0428626b3050f04c020fe2",
     "grade": false,
     "grade_id": "header",
     "locked": true,
     "schema_version": 1,
     "solution": false
    }
   },
   "source": [
    "# Week 4 Problem 1\n",
    "\n",
    "A few things you should keep in mind when working on assignments:\n",
    "\n",
    "1. Make sure you fill in any place that says `YOUR CODE HERE`. Do not write your answer in anywhere else other than where it says `YOUR CODE HERE`. Anything you write anywhere else will be removed or overwritten by the autograder.\n",
    "\n",
    "2. Before you submit your assignment, make sure everything runs as expected. Go to menubar, select *Kernel*, and restart the kernel and run all cells (*Restart & Run all*).\n",
    "\n",
    "3. Do not change the title (i.e. file name) of this notebook.\n",
    "\n",
    "4. Make sure that you save your work (in the menubar, select *File* → *Save and CheckPoint*)\n",
    "\n",
    "5. When you are ready to submit your assignment, go to *Dashboard* → *Assignments* and click the *Submit* button. Your work is not submitted until you click *Submit*.\n",
    "\n",
    "6. You are allowed to submit an assignment multiple times, but only the most recent submission will be graded."
   ]
  },
  {
   "cell_type": "markdown",
   "metadata": {
    "deletable": false,
    "editable": false,
    "nbgrader": {
     "checksum": "7d73987249afd41b8b0d90bd46c6bc68",
     "grade": false,
     "grade_id": "due_date",
     "locked": true,
     "schema_version": 1,
     "solution": false
    }
   },
   "source": [
    "# Due Date: 6 PM, February 12, 2018"
   ]
  },
  {
   "cell_type": "code",
   "execution_count": 2,
   "metadata": {
    "collapsed": true,
    "deletable": false,
    "editable": false,
    "nbgrader": {
     "checksum": "6595ae411e3c597e75994f206d119b36",
     "grade": false,
     "grade_id": "import",
     "locked": true,
     "schema_version": 1,
     "solution": false
    }
   },
   "outputs": [],
   "source": [
    "% matplotlib inline\n",
    "import numpy as np\n",
    "import pandas as pd\n",
    "import matplotlib as mpl\n",
    "import matplotlib.pyplot as plt\n",
    "import seaborn as sns\n",
    "from nose.tools import assert_equal, assert_true, assert_almost_equal, assert_is_instance, assert_is_not\n",
    "from sklearn.model_selection import train_test_split, StratifiedKFold, learning_curve\n",
    "from sklearn.linear_model import LinearRegression\n",
    "from sklearn.datasets import load_diabetes\n",
    "from sklearn.model_selection import cross_val_score\n",
    "\n",
    "# We do this to ignore several specific warnings\n",
    "import warnings\n",
    "warnings.filterwarnings(\"ignore\")\n",
    "\n",
    "## HELPER CODE TO GENERATE LEARNING CURVES\n",
    "def get_range(trn_szs, trn_scr, tst_scr):\n",
    "    '''\n",
    "    Returns the ranges of the training and testing data needed for plotting a learn curve\n",
    "    \n",
    "    Parameters\n",
    "    ----------\n",
    "    trn_szs: A numpy ndarray\n",
    "    trn_scr: A numpy ndarray\n",
    "    tst_scr: A numpy ndarray\n",
    "    \n",
    "    Returns\n",
    "    -------\n",
    "    A 6-tuple of numpy.ndarrays of trn_scr_mu, trn_high, trn_low, trn_scr_mu, tst_high, tst_low\n",
    "    '''\n",
    "        \n",
    "    trn_scr_mu = np.mean(trn_scr, axis=1)\n",
    "    trn_scr_sig = np.std(trn_scr, axis=1)\n",
    "\n",
    "    trn_high = np.array(trn_scr_mu) + np.array(trn_scr_sig)\n",
    "    trn_low = np.array(trn_scr_mu) - np.array(trn_scr_sig)\n",
    "\n",
    "    tst_scr_mu = np.mean(tst_scr, axis=1)\n",
    "    tst_scr_sig = np.std(tst_scr, axis=1)\n",
    "\n",
    "    tst_high = np.array(tst_scr_mu) + np.array(tst_scr_sig)\n",
    "    tst_low = np.array(tst_scr_mu) - np.array(tst_scr_sig)\n",
    "        \n",
    "    return(trn_scr_mu, trn_high, trn_low, tst_scr_mu, tst_high, tst_low)\n",
    "\n",
    "\n",
    "def lv_plot(ttle, x, y1, y1h, y1l, y2, y2h, y2l, xlbl, ylbl, ylim=None):\n",
    "    '''\n",
    "    Returns a matplotlib.Axes instance that plots the learning curve\n",
    "    \n",
    "    Parameters\n",
    "    ----------\n",
    "    ttle: string\n",
    "    x: A numpy ndarray\n",
    "    y1: A numpy ndarray\n",
    "    y1h: A numpy ndarray\n",
    "    y1l: A numpy ndarray\n",
    "    y2: A numpy ndarray\n",
    "    y2h: A numpy ndarray\n",
    "    y2l: A numpy ndarray\n",
    "    xlbl: string\n",
    "    ylbl: string\n",
    "    ylim: tuple of floats\n",
    "    \n",
    "    \n",
    "    Returns\n",
    "    -------\n",
    "    ax: A matplotlib.Axes instance.\n",
    "    '''\n",
    "        \n",
    "    # Plot the results\n",
    "    fig, ax = plt.subplots(figsize=(10,8))\n",
    "\n",
    "    trn_color = color=sns.xkcd_rgb[\"denim blue\"]\n",
    "    ax.plot(x, y1, label=\"Training Score\", marker='d', lw=3, color=trn_color)\n",
    "    ax.fill_between(x, y1h, y1l, alpha=0.25, color=trn_color)\n",
    "\n",
    "    tst_color = color=sns.xkcd_rgb[\"medium green\"]\n",
    "    ax.plot(x, y2, label=\"CV Score\", marker='d', lw=3, color=tst_color)\n",
    "    ax.fill_between(x, y2h, y2l, alpha=0.25, color=tst_color)\n",
    "\n",
    "    # Decorate plot\n",
    "    ax.set(title=ttle, xlabel=xlbl, ylabel=ylbl)\n",
    "\n",
    "    if ylim is not None:\n",
    "        ax.set_ylim(*ylim)\n",
    "        \n",
    "    ax.legend(loc='best', borderaxespad=1.5)\n",
    "    sns.despine(offset=10, trim=True)\n",
    "    \n",
    "    return ax"
   ]
  },
  {
   "cell_type": "markdown",
   "metadata": {},
   "source": [
    "## Diabetes Dataset\n",
    "For this assignment we will be using the built-in dataset about diabetes and the respective information on indivudal diabetes cases. This dataset has 442 samples and a dimensionality size of 10. In this assignment, we will be using the various attributes and Logistic Regression in order to create a model that we will tune and improve using cross-validation. Throughout the assignment, we will be improving our model from one that is very naïve to a more complicated one that accounts for all the attributes in the given dataset. \n",
    "\n",
    "The following code below imports the dataset as a pandas dataframe and previews a few sample data points."
   ]
  },
  {
   "cell_type": "code",
   "execution_count": 3,
   "metadata": {
    "deletable": false,
    "editable": false,
    "nbgrader": {
     "checksum": "91b0cd6b356dadfe22bdaae501708582",
     "grade": false,
     "grade_id": "data_set",
     "locked": true,
     "schema_version": 1,
     "solution": false
    }
   },
   "outputs": [
    {
     "data": {
      "text/html": [
       "<div>\n",
       "<style>\n",
       "    .dataframe thead tr:only-child th {\n",
       "        text-align: right;\n",
       "    }\n",
       "\n",
       "    .dataframe thead th {\n",
       "        text-align: left;\n",
       "    }\n",
       "\n",
       "    .dataframe tbody tr th {\n",
       "        vertical-align: top;\n",
       "    }\n",
       "</style>\n",
       "<table border=\"1\" class=\"dataframe\">\n",
       "  <thead>\n",
       "    <tr style=\"text-align: right;\">\n",
       "      <th></th>\n",
       "      <th>age</th>\n",
       "      <th>sex</th>\n",
       "      <th>bmi</th>\n",
       "      <th>map</th>\n",
       "      <th>tc</th>\n",
       "      <th>ldl</th>\n",
       "      <th>hdl</th>\n",
       "      <th>tch</th>\n",
       "      <th>ltg</th>\n",
       "      <th>glu</th>\n",
       "    </tr>\n",
       "  </thead>\n",
       "  <tbody>\n",
       "    <tr>\n",
       "      <th>0</th>\n",
       "      <td>0.038076</td>\n",
       "      <td>0.050680</td>\n",
       "      <td>0.061696</td>\n",
       "      <td>0.021872</td>\n",
       "      <td>-0.044223</td>\n",
       "      <td>-0.034821</td>\n",
       "      <td>-0.043401</td>\n",
       "      <td>-0.002592</td>\n",
       "      <td>0.019908</td>\n",
       "      <td>-0.017646</td>\n",
       "    </tr>\n",
       "    <tr>\n",
       "      <th>1</th>\n",
       "      <td>-0.001882</td>\n",
       "      <td>-0.044642</td>\n",
       "      <td>-0.051474</td>\n",
       "      <td>-0.026328</td>\n",
       "      <td>-0.008449</td>\n",
       "      <td>-0.019163</td>\n",
       "      <td>0.074412</td>\n",
       "      <td>-0.039493</td>\n",
       "      <td>-0.068330</td>\n",
       "      <td>-0.092204</td>\n",
       "    </tr>\n",
       "    <tr>\n",
       "      <th>2</th>\n",
       "      <td>0.085299</td>\n",
       "      <td>0.050680</td>\n",
       "      <td>0.044451</td>\n",
       "      <td>-0.005671</td>\n",
       "      <td>-0.045599</td>\n",
       "      <td>-0.034194</td>\n",
       "      <td>-0.032356</td>\n",
       "      <td>-0.002592</td>\n",
       "      <td>0.002864</td>\n",
       "      <td>-0.025930</td>\n",
       "    </tr>\n",
       "    <tr>\n",
       "      <th>3</th>\n",
       "      <td>-0.089063</td>\n",
       "      <td>-0.044642</td>\n",
       "      <td>-0.011595</td>\n",
       "      <td>-0.036656</td>\n",
       "      <td>0.012191</td>\n",
       "      <td>0.024991</td>\n",
       "      <td>-0.036038</td>\n",
       "      <td>0.034309</td>\n",
       "      <td>0.022692</td>\n",
       "      <td>-0.009362</td>\n",
       "    </tr>\n",
       "    <tr>\n",
       "      <th>4</th>\n",
       "      <td>0.005383</td>\n",
       "      <td>-0.044642</td>\n",
       "      <td>-0.036385</td>\n",
       "      <td>0.021872</td>\n",
       "      <td>0.003935</td>\n",
       "      <td>0.015596</td>\n",
       "      <td>0.008142</td>\n",
       "      <td>-0.002592</td>\n",
       "      <td>-0.031991</td>\n",
       "      <td>-0.046641</td>\n",
       "    </tr>\n",
       "  </tbody>\n",
       "</table>\n",
       "</div>"
      ],
      "text/plain": [
       "        age       sex       bmi       map        tc       ldl       hdl  \\\n",
       "0  0.038076  0.050680  0.061696  0.021872 -0.044223 -0.034821 -0.043401   \n",
       "1 -0.001882 -0.044642 -0.051474 -0.026328 -0.008449 -0.019163  0.074412   \n",
       "2  0.085299  0.050680  0.044451 -0.005671 -0.045599 -0.034194 -0.032356   \n",
       "3 -0.089063 -0.044642 -0.011595 -0.036656  0.012191  0.024991 -0.036038   \n",
       "4  0.005383 -0.044642 -0.036385  0.021872  0.003935  0.015596  0.008142   \n",
       "\n",
       "        tch       ltg       glu  \n",
       "0 -0.002592  0.019908 -0.017646  \n",
       "1 -0.039493 -0.068330 -0.092204  \n",
       "2 -0.002592  0.002864 -0.025930  \n",
       "3  0.034309  0.022692 -0.009362  \n",
       "4 -0.002592 -0.031991 -0.046641  "
      ]
     },
     "execution_count": 3,
     "metadata": {},
     "output_type": "execute_result"
    }
   ],
   "source": [
    "'''\n",
    "NOTE: Make sure to load this data set before completing the assignment\n",
    "'''\n",
    "columns = \"age sex bmi map tc ldl hdl tch ltg glu\".split()\n",
    "# Load in the dataset as a Pandas DataFrame\n",
    "data = load_diabetes()\n",
    "data_df = pd.DataFrame(data.data, columns=columns)\n",
    "# Preview the first few lines\n",
    "data_df.head()"
   ]
  },
  {
   "cell_type": "markdown",
   "metadata": {},
   "source": [
    "## Question 0 - Separate into training and testing data\n",
    "\n",
    "In this question, use the `data_df_clean` and the `labels` variables in order to separate the dataset into testing and training data using `train_test_split`.\n",
    "\n",
    "- Set the test size to 0.3\n",
    "- Set the random state to 23\n",
    "- Name the return values from `train_test_split` as (d_train, d_test, l_train, l_test)"
   ]
  },
  {
   "cell_type": "code",
   "execution_count": 4,
   "metadata": {
    "collapsed": true,
    "deletable": false,
    "nbgrader": {
     "checksum": "bf3d40f05f083f6c2352644a159ac64f",
     "grade": false,
     "grade_id": "train_test_split",
     "locked": false,
     "schema_version": 1,
     "solution": true
    }
   },
   "outputs": [],
   "source": [
    "'''\n",
    "Separate the dataset into training and testing data using the `train_test_split` function.\n",
    "The testing and training data will be used in all the successive questions so make sure to finish this\n",
    "question before proceeding to the other questions.\n",
    "\n",
    "- Set the test size to 0.3\n",
    "- Set the random_state to 23\n",
    "- Use data_df_clean and labels variables below as parameters to the `train_test_split` function\n",
    "'''\n",
    "\n",
    "data_df_clean = data_df[data_df.columns[:-1]]\n",
    "labels = data.target\n",
    "\n",
    "d_train, d_test, l_train, l_test = train_test_split(data_df_clean, labels,\n",
    "                                                   test_size = 0.3,\n",
    "                                                   random_state = 23)"
   ]
  },
  {
   "cell_type": "code",
   "execution_count": 5,
   "metadata": {
    "collapsed": true,
    "deletable": false,
    "editable": false,
    "nbgrader": {
     "checksum": "f3755b6f5240ade6847eacc2a8c90028",
     "grade": true,
     "grade_id": "train_test_split_answers",
     "locked": true,
     "points": 0,
     "schema_version": 1,
     "solution": false
    }
   },
   "outputs": [],
   "source": [
    "assert_true(d_train is not None)\n",
    "assert_true(d_test is not None)\n",
    "assert_true(l_train is not None)\n",
    "assert_true(l_test is not None)"
   ]
  },
  {
   "cell_type": "markdown",
   "metadata": {},
   "source": [
    "## Question 1 - Create Model and Score using K-fold\n",
    "\n",
    "In this question, create a LinearRegression model and fit the data using the training data from above. In addition, you will need to cross-validate this model using the K-fold strategy.\n",
    "\n",
    "- The function takes in a integer parameter `cv`, this will be the value passed into when scoring the model.\n",
    "- Return a 2-tuple of the fitted model and scores in the function\n",
    "- Use `cross_val_score` function in order to score the model with the `data` and the `labels`"
   ]
  },
  {
   "cell_type": "code",
   "execution_count": 8,
   "metadata": {
    "collapsed": true,
    "deletable": false,
    "nbgrader": {
     "checksum": "5cd1b3fb305f376454f90072cf8dccd2",
     "grade": false,
     "grade_id": "problem1_answer",
     "locked": false,
     "schema_version": 1,
     "solution": true
    }
   },
   "outputs": [],
   "source": [
    "def score_kfold(cv, data, labels):\n",
    "    '''\n",
    "    Creates a LinearRegression model and scores it using\n",
    "    K-fold cross-validation\n",
    "    \n",
    "    Parameters\n",
    "    ----------\n",
    "    cv: An integer.\n",
    "    data: A numpy ndarray\n",
    "    labels: A numpy ndarray\n",
    "    \n",
    "    Returns\n",
    "    -------\n",
    "    A 2-tuple of the LinearRegression object and the cross-validation scores.\n",
    "    '''\n",
    "    \n",
    "    # Create linear regression object\n",
    "    regr = LinearRegression()\n",
    "      \n",
    "    #compute the score\n",
    "    scores = cross_val_score(regr, data, labels, cv=cv)\n",
    "    \n",
    "    return regr, scores"
   ]
  },
  {
   "cell_type": "code",
   "execution_count": 9,
   "metadata": {
    "deletable": false,
    "editable": false,
    "nbgrader": {
     "checksum": "f9cce5302badeefefb9d990394881a4b",
     "grade": true,
     "grade_id": "problem1_test",
     "locked": true,
     "points": 10,
     "schema_version": 1,
     "solution": false
    }
   },
   "outputs": [],
   "source": [
    "assert_true(isinstance(score_kfold(6, data.data, labels)[0], LinearRegression))\n",
    "assert_true(isinstance(score_kfold(6, data.data, labels)[1], np.ndarray))\n",
    "assert_equal(len(score_kfold(6, data.data, labels)[1]), 6)\n",
    "assert_almost_equal(score_kfold(6, data.data, labels)[1][5], 0.569, places=3)"
   ]
  },
  {
   "cell_type": "code",
   "execution_count": 10,
   "metadata": {
    "collapsed": true,
    "deletable": false,
    "editable": false,
    "nbgrader": {
     "checksum": "bdb925e4006a63d33de4960acb7a0942",
     "grade": false,
     "grade_id": "import_model",
     "locked": true,
     "schema_version": 1,
     "solution": false
    }
   },
   "outputs": [],
   "source": [
    "# Create a model with k-fold=3 (should not actually alter the model) so that we can use it to score\n",
    "# based on alternative cross-validation strategies\n",
    "# MAKE SURE TO RUN THIS CELL BEFORE PROCEEDING TO THE NEXT 2 QUESTIONS\n",
    "model = score_kfold(3, data.data, labels)[0]"
   ]
  },
  {
   "cell_type": "markdown",
   "metadata": {},
   "source": [
    "## Question 2 - Score using StratifiedKFold\n",
    "\n",
    "In this question, we will be using our model that was created above, but we will be using a different cross-validation strategy, namely the StratifiedKFold strategy.\n",
    "\n",
    "- The function takes in a integer parameter `n_splits`, this will be the value passed into the StratifiedKFold constructor when scoring the model.\n",
    "- Use a `random_state` of 23 for the StratifiedKFold constructor\n",
    "- Return a 2-tuple of the StratifiedKFold object and the numpy array of the scores.\n",
    "- Use `cross_val_score` function in order to score the model with the `data` and the `labels`"
   ]
  },
  {
   "cell_type": "code",
   "execution_count": 11,
   "metadata": {
    "collapsed": true,
    "deletable": false,
    "nbgrader": {
     "checksum": "503a8430fd4b770738106cde013478f5",
     "grade": false,
     "grade_id": "problem2_answer",
     "locked": false,
     "schema_version": 1,
     "solution": true
    }
   },
   "outputs": [],
   "source": [
    "def score_stratified_kfold(n_splits, data, labels):\n",
    "    '''\n",
    "    Score our previous model using the StratifiedKFold strategy\n",
    "    \n",
    "    Parameters\n",
    "    ----------\n",
    "    n_splits: An integer\n",
    "    data: A numpy ndarray\n",
    "    labels: A numpy ndarray\n",
    "    \n",
    "    Returns\n",
    "    -------\n",
    "    2-tuple of the StratifiedKFold object and the numpy array of the scores\n",
    "    '''\n",
    "    \n",
    "    # Create cross-validation iterator\n",
    "    skf = StratifiedKFold(n_splits=n_splits, random_state=23)\n",
    "              \n",
    "    #compute the score\n",
    "    scores = cross_val_score(model, data, labels, cv=skf)\n",
    "    \n",
    "    return skf, scores"
   ]
  },
  {
   "cell_type": "code",
   "execution_count": 12,
   "metadata": {
    "collapsed": true,
    "deletable": false,
    "editable": false,
    "nbgrader": {
     "checksum": "2df10dfebb91ad982254a095083938a3",
     "grade": true,
     "grade_id": "problem2_test",
     "locked": true,
     "points": 10,
     "schema_version": 1,
     "solution": false
    }
   },
   "outputs": [],
   "source": [
    "assert_true(isinstance(score_stratified_kfold(2, data.data, labels)[0], StratifiedKFold))\n",
    "assert_true(isinstance(score_stratified_kfold(2, data.data, labels)[1], np.ndarray))\n",
    "assert_equal(len(score_stratified_kfold(2, data.data, labels)[1]), 2)\n",
    "assert_almost_equal(score_stratified_kfold(2, data.data, labels)[1][1], 0.436, places=3)"
   ]
  },
  {
   "cell_type": "markdown",
   "metadata": {},
   "source": [
    "## Question 3 - Generate a Learning Curve\n",
    "\n",
    "In this question, we will be creating a learning curve from our LinearRegression model that we have created earlier. \n",
    "\n",
    "- Use a StratifiedKFold cross validation starategy with `n_splits=5` and `random_state=23`\n",
    "- Generate 30 points from 0.1 to 1.0 as the training size. These points should be evenly spaced.\n",
    "- The y-axis should range from 0.0 to 0.7\n",
    "- Your plot should have a title\n",
    "- Use the `learning_curve` function in order to retrieve the `training_sizes`, `training_scores`, and `valid_scores` from the model and the StratifiedKFold cross-validation strategy.\n",
    "- You should make use of the functions `get_range` and `lv_plot` in the import code cell at the beginning of the notebook. The functions have docstrings that contain the order of parameters and the specific types expected.\n",
    "- Return the result of the function call to `lv_plot`"
   ]
  },
  {
   "cell_type": "code",
   "execution_count": 13,
   "metadata": {
    "collapsed": true,
    "deletable": false,
    "nbgrader": {
     "checksum": "02c74b177b0016201756e6d563404d4d",
     "grade": false,
     "grade_id": "problem3_answer",
     "locked": false,
     "schema_version": 1,
     "solution": true
    }
   },
   "outputs": [],
   "source": [
    "def generate_learning_curve(data, labels):\n",
    "    '''\n",
    "    Generate a Learning Curve for the LinearRegression model from above.\n",
    "    \n",
    "    Parameters\n",
    "    ----------\n",
    "    data: A numpy ndarray\n",
    "    labels: A numpy ndarray\n",
    "    \n",
    "    Returns\n",
    "    -------\n",
    "    ax: A matplotlib.Axes instance.\n",
    "    '''\n",
    "    # Employ a shuffle split cross validation\n",
    "    skf = StratifiedKFold(n_splits=5, random_state=23)\n",
    "    \n",
    "    # Construct training sizes\n",
    "    trn_sz=np.linspace(0.1, 1, 30)\n",
    "    \n",
    "    # Generate learning curve\n",
    "    trn_szs, trn_scr, vld_scr = \\\n",
    "        learning_curve(model, data, labels, cv=skf, train_sizes=trn_sz)\n",
    "        \n",
    "    # Compute plot range\n",
    "    y1, y1h, y1l, y2, y2h, y2l = get_range(trn_szs, trn_scr, vld_scr)\n",
    "    \n",
    "    # Plot curves\n",
    "    title = 'Learning Curve with Linear Regression'\n",
    "    ax = lv_plot(title, trn_szs, y1, y1h, y1l, \n",
    "                     y2, y2h, y2l, 'Training Size', 'Score', ylim=(0, 0.7))\n",
    "    \n",
    "    return ax"
   ]
  },
  {
   "cell_type": "code",
   "execution_count": 14,
   "metadata": {
    "deletable": false,
    "editable": false,
    "nbgrader": {
     "checksum": "60d57709939cb6ea2e959dd16a9c088f",
     "grade": true,
     "grade_id": "problem3_test",
     "locked": true,
     "points": 10,
     "schema_version": 1,
     "solution": false
    }
   },
   "outputs": [
    {
     "data": {
      "image/png": "[encoded data removed]",
      "text/plain": [
       "<matplotlib.figure.Figure at 0x7f1817485a20>"
      ]
     },
     "metadata": {},
     "output_type": "display_data"
    }
   ],
   "source": [
    "ax = generate_learning_curve(data.data, labels)\n",
    "\n",
    "# Check if the title is set\n",
    "assert_is_not(\n",
    "    len(ax.title.get_text()), 0,\n",
    "    msg=\"Your plot doesn't have a title.\"\n",
    ")\n",
    "\n",
    "# Check the y-axis limit\n",
    "assert_equal(ax.get_ylim(), (0,0.7),\n",
    "             msg=\"Change the y-axis limit to be (0,0.7)\"\n",
    ")\n",
    "\n",
    "# Check the numbers of ROC curves plotted\n",
    "assert_equal(len(ax.lines), 2,\n",
    "             msg=\"Make sure to plot the 2 plot lines for the two types of data.\")\n"
   ]
  },
  {
   "cell_type": "code",
   "execution_count": null,
   "metadata": {
    "collapsed": true
   },
   "outputs": [],
   "source": []
  }
 ],
 "metadata": {
  "kernelspec": {
   "display_name": "Python 3",
   "language": "python",
   "name": "python3"
  },
  "language_info": {
   "codemirror_mode": {
    "name": "ipython",
    "version": 3
   },
   "file_extension": ".py",
   "mimetype": "text/x-python",
   "name": "python",
   "nbconvert_exporter": "python",
   "pygments_lexer": "ipython3",
   "version": "3.6.1"
  }
 },
 "nbformat": 4,
 "nbformat_minor": 2
}
