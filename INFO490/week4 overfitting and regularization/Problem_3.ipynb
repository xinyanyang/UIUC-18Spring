{
 "cells": [
  {
   "cell_type": "markdown",
   "metadata": {
    "deletable": false,
    "editable": false,
    "nbgrader": {
     "checksum": "ab5a575e7ee32e4a9698d9da5b3db156",
     "grade": false,
     "grade_id": "header",
     "locked": true,
     "schema_version": 1,
     "solution": false
    }
   },
   "source": [
    "# Week 4 Problem 3\n",
    "\n",
    "A few things you should keep in mind when working on assignments:\n",
    "\n",
    "1. Make sure you fill in any place that says `YOUR CODE HERE`. Do not write your answer in anywhere else other than where it says `YOUR CODE HERE`. Anything you write anywhere else will be removed or overwritten by the autograder.\n",
    "\n",
    "2. Before you submit your assignment, make sure everything runs as expected. Go to menubar, select *Kernel*, and restart the kernel and run all cells (*Restart & Run all*).\n",
    "\n",
    "3. Do not change the title (i.e. file name) of this notebook.\n",
    "\n",
    "4. Make sure that you save your work (in the menubar, select *File* → *Save and CheckPoint*)\n",
    "\n",
    "5. When you are ready to submit your assignment, go to *Dashboard* → *Assignments* and click the *Submit* button. Your work is not submitted until you click *Submit*.\n",
    "\n",
    "6. You are allowed to submit an assignment multiple times, but only the most recent submission will be graded.\n",
    "\n",
    "7. **If your code does not pass the unit tests, it will not pass the autograder.**"
   ]
  },
  {
   "cell_type": "markdown",
   "metadata": {
    "deletable": false,
    "editable": false,
    "nbgrader": {
     "checksum": "7d73987249afd41b8b0d90bd46c6bc68",
     "grade": false,
     "grade_id": "due_date",
     "locked": true,
     "schema_version": 1,
     "solution": false
    }
   },
   "source": [
    "# Due Date: 6 PM, February 12, 2018"
   ]
  },
  {
   "cell_type": "code",
   "execution_count": 1,
   "metadata": {
    "collapsed": true,
    "deletable": false,
    "editable": false,
    "nbgrader": {
     "checksum": "9c3728565cbe763b65e2b6d1fdc0bf7e",
     "grade": false,
     "grade_id": "import",
     "locked": true,
     "schema_version": 1,
     "solution": false
    }
   },
   "outputs": [],
   "source": [
    "import pandas as pd\n",
    "import numpy as np\n",
    "\n",
    "import numpy.testing as npt\n",
    "import matplotlib.pyplot as plt\n",
    "from copy import deepcopy\n",
    "\n",
    "from sklearn.linear_model import LinearRegression, Ridge, Lasso, ElasticNet\n",
    "from sklearn.pipeline import make_pipeline as mp\n",
    "from sklearn.preprocessing import PolynomialFeatures, Imputer\n",
    "from sklearn.model_selection import train_test_split, GridSearchCV\n",
    "\n",
    "from nose.tools import assert_equal, assert_almost_equal, assert_true\n",
    "import warnings\n",
    "warnings.filterwarnings(\"ignore\")"
   ]
  },
  {
   "cell_type": "markdown",
   "metadata": {
    "deletable": false,
    "editable": false,
    "nbgrader": {
     "checksum": "8b05f3c312151f190800655fd4d582b5",
     "grade": false,
     "grade_id": "cell-b831aeaab4d47fb5",
     "locked": true,
     "schema_version": 1,
     "solution": false
    }
   },
   "source": [
    "The cell below reads in a simulated dataset where y (labels) is an unknown function of a,b, and c (your features)."
   ]
  },
  {
   "cell_type": "code",
   "execution_count": 2,
   "metadata": {
    "deletable": false,
    "editable": false,
    "nbgrader": {
     "checksum": "482a22517dc27e670e03b538e78cded7",
     "grade": false,
     "grade_id": "cell-d6150efe50d8c033",
     "locked": true,
     "schema_version": 1,
     "solution": false
    }
   },
   "outputs": [
    {
     "data": {
      "text/html": [
       "<div>\n",
       "<style>\n",
       "    .dataframe thead tr:only-child th {\n",
       "        text-align: right;\n",
       "    }\n",
       "\n",
       "    .dataframe thead th {\n",
       "        text-align: left;\n",
       "    }\n",
       "\n",
       "    .dataframe tbody tr th {\n",
       "        vertical-align: top;\n",
       "    }\n",
       "</style>\n",
       "<table border=\"1\" class=\"dataframe\">\n",
       "  <thead>\n",
       "    <tr style=\"text-align: right;\">\n",
       "      <th></th>\n",
       "      <th>a</th>\n",
       "      <th>b</th>\n",
       "      <th>c</th>\n",
       "      <th>y</th>\n",
       "    </tr>\n",
       "  </thead>\n",
       "  <tbody>\n",
       "    <tr>\n",
       "      <th>0</th>\n",
       "      <td>145.693523</td>\n",
       "      <td>0.226261</td>\n",
       "      <td>1.591351</td>\n",
       "      <td>2.512648</td>\n",
       "    </tr>\n",
       "    <tr>\n",
       "      <th>1</th>\n",
       "      <td>56.867985</td>\n",
       "      <td>0.002133</td>\n",
       "      <td>3.105082</td>\n",
       "      <td>1.582973</td>\n",
       "    </tr>\n",
       "    <tr>\n",
       "      <th>2</th>\n",
       "      <td>141.832455</td>\n",
       "      <td>NaN</td>\n",
       "      <td>58.017359</td>\n",
       "      <td>2.378522</td>\n",
       "    </tr>\n",
       "    <tr>\n",
       "      <th>3</th>\n",
       "      <td>19.585304</td>\n",
       "      <td>0.212010</td>\n",
       "      <td>172.831541</td>\n",
       "      <td>0.840794</td>\n",
       "    </tr>\n",
       "    <tr>\n",
       "      <th>4</th>\n",
       "      <td>0.131977</td>\n",
       "      <td>0.645755</td>\n",
       "      <td>88.145476</td>\n",
       "      <td>0.341427</td>\n",
       "    </tr>\n",
       "  </tbody>\n",
       "</table>\n",
       "</div>"
      ],
      "text/plain": [
       "            a         b           c         y\n",
       "0  145.693523  0.226261    1.591351  2.512648\n",
       "1   56.867985  0.002133    3.105082  1.582973\n",
       "2  141.832455       NaN   58.017359  2.378522\n",
       "3   19.585304  0.212010  172.831541  0.840794\n",
       "4    0.131977  0.645755   88.145476  0.341427"
      ]
     },
     "execution_count": 2,
     "metadata": {},
     "output_type": "execute_result"
    }
   ],
   "source": [
    "df = pd.read_csv('/home/data_scientist/data/misc/sim.reg.data')\n",
    "df.head()"
   ]
  },
  {
   "cell_type": "markdown",
   "metadata": {
    "deletable": false,
    "editable": false,
    "nbgrader": {
     "checksum": "6ad76ec6889e890a506af01b3b7f8899",
     "grade": false,
     "grade_id": "cell-2e1b96c229836a4e",
     "locked": true,
     "schema_version": 1,
     "solution": false
    }
   },
   "source": [
    "# Problem 3.1\n",
    "\n",
    "Complete the function *prob3_1* by performing a 70/30 split on the training and testing features and labels. Replace any of the missing values with the mean of the column. Return *(in this order)* the training features, the testing features, training labels, and testing labels."
   ]
  },
  {
   "cell_type": "code",
   "execution_count": 7,
   "metadata": {
    "collapsed": true,
    "deletable": false,
    "nbgrader": {
     "checksum": "76ca8ab5a14134af34d87f3c23e66b09",
     "grade": false,
     "grade_id": "cell-26aa4513a0b76dc4",
     "locked": false,
     "schema_version": 1,
     "solution": true
    }
   },
   "outputs": [],
   "source": [
    "def prob3_1(data):\n",
    "    '''\n",
    "    Performs a splits on the features and labels. Replaces missing values with the mean of the column.\n",
    "    \n",
    "    Parameters\n",
    "    ----------\n",
    "    data: dataframe containing simulated dataset.\n",
    "    \n",
    "    Returns\n",
    "    -------\n",
    "    Training features as a multi dimensional numpy array (contains 70% of the features)\n",
    "    Testing features as a multi dimensional numpy array (contains 30% of the features)\n",
    "    Training labels as pandas series (contains 70% of the labels)\n",
    "    Testing labels as pandas series (contains 30% of the labels)\n",
    "    '''\n",
    "    # Split the DataFrame into a DataFrame of features and a Series of labels\n",
    "    data_x = data[data.columns[:-1]]\n",
    "    labels = data.y\n",
    "    \n",
    "    X_train, X_test, y_train, y_test \\\n",
    "       = train_test_split(data_x, labels, test_size = 0.3, random_state=0)\n",
    "    \n",
    "    # Replaces missing values with the mean of the column\n",
    "    # Transform the dataframe into numpy array\n",
    "    X_train = X_train.fillna(X_train.mean()).values\n",
    "    X_test = X_test.fillna(X_test.mean()).values\n",
    "     \n",
    "    return X_train, X_test, y_train, y_test"
   ]
  },
  {
   "cell_type": "code",
   "execution_count": 8,
   "metadata": {
    "collapsed": true,
    "deletable": false,
    "editable": false,
    "nbgrader": {
     "checksum": "105862194d2d64d984df346743f3641a",
     "grade": true,
     "grade_id": "cell-a324823d31c03f13",
     "locked": true,
     "points": 10,
     "schema_version": 1,
     "solution": false
    }
   },
   "outputs": [],
   "source": [
    "tX_train, tX_test, y_train, y_test = prob3_1(df.copy())\n",
    "\n",
    "assert_equal(type(tX_train), type(np.ndarray(0)))\n",
    "assert_equal(type(tX_test), type(np.ndarray(0)))\n",
    "assert_equal(type(y_train), type(pd.core.series.Series()))\n",
    "assert_equal(type(y_test), type(pd.core.series.Series()))\n",
    "\n",
    "\n",
    "assert_almost_equal(tX_train[0][1], 0.4933, places=2)\n",
    "assert_almost_equal(tX_train[20][1], 0.4933, places=2)\n",
    "\n",
    "\n",
    "assert_almost_equal(tX_test[0][1], 0.5720, places=2)\n",
    "assert_almost_equal(tX_test[20][1], 0.5362, places=2)\n",
    "\n",
    "\n",
    "npt.assert_almost_equal(y_train.tolist()[:200], [2.212302679715205, 0.0812983126929061, 0.04727030279947797, 0.9829737188772332, 2.1686862194106054, 1.6123564685939362, 1.9485580592490084, 2.105117373729372, 2.1411761197498307, 1.6976345923763707, 1.5311313228785202, 2.162507027807703, 2.123054651382967, 1.2805432699567731, 2.4938123389877784, 0.6745831346046007, 3.5440260023585903, 0.04630999740476316, 1.7759938240532245, 2.0382880846699787, 1.1675949807638064, 1.6691116877873582, 0.039940353163266606, 2.286223325051137, 2.1192197218393023, 2.0055761748587693, -0.5477549988196424, 0.5947062609131056, 1.1426783548724595, 1.3298350523657616, 2.17072001172139, 2.183497206545365, 2.097181518029041, 0.1036257416416, 0.3677855252263231, 1.7541939527423105, 3.3045728395209086, 1.0063051087987138, 0.4896888131369209, 0.2696242613158241, 2.8112529448802728, 2.2358672220236238, -0.24768904743196296, 3.10353772893807, 1.9074634937713952, 1.3099938995993792, -0.4623774290130904, 1.7061960347983591, 0.4739988671363948, 0.4444170637955597, -0.05333685229962448, 1.148079640247882, 0.8357091605991601, 3.1947633490553526, 0.1150053544960732, 0.2980572927412253, 1.8954265397626864, 1.1470676973919958, 0.6746651155355947, 2.614187651741721, 1.2899019219138363, 1.9639662568666936, 1.7750985207858698, 1.522176106054589, 0.10601784522855184, 1.4517052794841887, 1.8799502416867848, 1.2310277021955829, 1.9976031947936743, 0.059376105076494164, 2.1741220862653217, -0.22677358181493024, 1.1280138671594038, 1.8981168446087149, 2.343093769786059, 0.9799402947266084, 0.2645921345400704, 1.0608214936885934, 2.163297891603712, 3.651033928034949, 2.3241005746167254, 1.5829727696817109, 0.4932984945537532, 1.964578553977544, 1.6082834944304083, 1.215035505817627, 2.4476853406319647, 1.4419602564907157, 1.708775723039362, 1.6549362700827812, 0.06232186355425218, 2.9478529430714118, 1.2563974955317891, 2.930222460025118, 1.254374571817709, 1.2581496312505405, 1.4204793222797405, 2.461025464522143, 0.011003146584178558, -0.0718395752936356, -0.4976949690756818, 1.2500424295004529, 0.9321311175148406, 2.388493234862328, 0.9719429650769642, -0.05113120701447815, 1.0945636277512731, 0.6219398712045754, 2.6200902148551433, 2.6440331491668787, 1.8612597493872516, 2.0553214921628564, 1.2818930640270616, 0.616271628636518, 0.6887409616849687, -0.4322759091098184, 0.09969344999675156, -0.4816557052902187, 1.1013979479897875, 0.8520645205491955, 1.8812568541916352, -0.4651486329050361, 0.7189695844272103, 0.6160963680593036, 0.10345306431747847, 0.7715187536325699, 2.324248732635162, 0.8417207317326361, 0.8052865605576498, 0.5199142785207596, 1.1267652564204758, 1.989251112852045, 1.2636650521657191, 2.358603329688961, -0.0912520203031717, 1.9610977209373708, 1.4195788382987204, 1.968138436983354, 1.7969886704825564, 0.2471217493931733, 1.9016364297537534, 1.3163547159479243, 2.0357934830650284, 1.9773481240881208, 1.2103374159629787, 2.052704013289523, 2.0096417342808013, 1.0267631818566565, 2.990665437527628, 1.9162142472806132, 1.2182818007525908, -0.4632280561505395, 1.835519248957408, 0.5189649705301519, 2.2167812208526327, -0.1787548860030752, 0.5773271104548295, 0.8941892611925739, 2.8627103530986955, 0.8372091270391041, 0.2708067619495871, 2.3238688487716668, 1.8570689910385072, 2.8568362217133685, 1.2056775443459695, 2.3578292500349423, 2.9516288724882167, 0.1980857881321452, 2.349465990021343, 1.0447899353656762, 0.5544109783162569, 1.3026846274618482, 1.9923427346579918, 0.4262273679099221, -0.0006704622116308068, 1.8110082033912975, 2.0755101732777548, 1.9142933285627504, 0.998083063956906, 2.903651075128166, 2.638588979682208, 1.7412272255980012, 0.1884054754534662, -0.14192356099644346, 1.3458933557009014, 0.21402032663751724, 2.16033852717896, 1.4459656638120304, 2.30940579729527, 1.2503252735053074, -0.09036718206799732, 1.4106602979777092, 0.37207339221924296, -0.2754578662142767, 1.2709498168780542, 1.7398413442981693, 0.4953424320880659, 3.0826778259078718, 1.0515807384625526, 1.7860358460899108], decimal=2)\n",
    "\n"
   ]
  },
  {
   "cell_type": "markdown",
   "metadata": {
    "deletable": false,
    "editable": false,
    "nbgrader": {
     "checksum": "4452c009f151a8066f55890839e7a4c6",
     "grade": false,
     "grade_id": "cell-9e577d23f6aa6bf2",
     "locked": true,
     "schema_version": 1,
     "solution": false
    }
   },
   "source": [
    "# Problem 3.2\n",
    "\n",
    "Complete the function *prob3_2* by fitting different order polynomial functions with [PolynomialFeatures](http://scikit-learn.org/stable/modules/generated/sklearn.preprocessing.PolynomialFeatures.html) on the training features and transform the training and testing features. *It's not necessary to search past the 15th order Polynomial function.* Using the transformed training features exhaustively search *(hint: use [GridSearchCV](http://scikit-learn.org/stable/modules/generated/sklearn.model_selection.GridSearchCV.html))* over the parameters for a [Ridge Regression](http://scikit-learn.org/stable/modules/generated/sklearn.linear_model.Ridge.html#sklearn.linear_model.Ridge) model passed in with *params* *( random_state of the Ridge Regression model to 0)*. Return the model that had the best CV score, along with transformed testing features by that polynominal function."
   ]
  },
  {
   "cell_type": "code",
   "execution_count": 9,
   "metadata": {
    "collapsed": true,
    "deletable": false,
    "nbgrader": {
     "checksum": "b2ce03a1095672c2795cd27e735b7d7c",
     "grade": false,
     "grade_id": "cell-5f957f90aafce960",
     "locked": false,
     "schema_version": 1,
     "solution": true
    }
   },
   "outputs": [],
   "source": [
    "def prob3_2(tX_train, y_train, tX_test, params):\n",
    "    '''\n",
    "    Finds the best model.\n",
    "    \n",
    "    Parameters\n",
    "    ----------\n",
    "    tX_train - cleaned training features\n",
    "    y_train - training labels\n",
    "    tX_test - cleaned testing features\n",
    "    params - parameter grid to be searched over\n",
    "    \n",
    "    Returns\n",
    "    -------\n",
    "    the best model found (this should be a GridSearchCV object)\n",
    "    testing transformed feature matrix from the polynomial function that yielded the best CV score\n",
    "    '''\n",
    "    \n",
    "    # Max Polynomial order\n",
    "    max_deg = 15\n",
    "    \n",
    "    # Initialize arrays\n",
    "    train_score = np.empty(max_deg)\n",
    "    \n",
    "    # Iterate over polynomial fits\n",
    "    for deg in range(1, max_deg + 1):\n",
    "    \n",
    "        # Create pipeline for fit, and train regressor\n",
    "        est = PolynomialFeatures(deg)\n",
    "        new_x_train = est.fit_transform(tX_train, y_train)\n",
    "        \n",
    "        # Create grid search cross validator\n",
    "        gse = GridSearchCV(estimator= Ridge(random_state=0), param_grid=params)\n",
    "        gse.fit(new_x_train, y_train)\n",
    "        \n",
    "        # store best score (from means of scores)\n",
    "        train_score[deg - 1] = gse.best_score_\n",
    " \n",
    "    # Find best score (from means of scores)\n",
    "    idx = np.argmax(train_score)\n",
    "    \n",
    "    # fit the best model\n",
    "    est = mp(PolynomialFeatures(idx + 1))\n",
    "    new_x_train = est.fit_transform(tX_train, y_train)\n",
    "    new_x_test = est.transform(tX_test)\n",
    "    gse = GridSearchCV(estimator= Ridge(), param_grid=params)\n",
    "    gse.fit(new_x_train, y_train)\n",
    "    \n",
    "    return gse, new_x_test"
   ]
  },
  {
   "cell_type": "code",
   "execution_count": 6,
   "metadata": {
    "deletable": false,
    "editable": false,
    "nbgrader": {
     "checksum": "462f876c4596f2d212ea879f32817d27",
     "grade": true,
     "grade_id": "cell-abb3d8eed2725005",
     "locked": true,
     "points": 10,
     "schema_version": 1,
     "solution": false
    }
   },
   "outputs": [
    {
     "name": "stdout",
     "output_type": "stream",
     "text": [
      "Best Model Parameter Found:  {'alpha': 0.1}\n",
      "Mean Cross Validation Score:  0.988828283682\n",
      "--------------------\n"
     ]
    }
   ],
   "source": [
    "search, Xte = prob3_2(tX_train, y_train, tX_test, params = {'alpha': [x/10 for x in range(0,20)]})\n",
    "print(\"Best Model Parameter Found: \", search.best_params_)\n",
    "print(\"Mean Cross Validation Score: \", search.best_score_)\n",
    "print('-'*20)\n",
    "assert_equal(type(search), type(GridSearchCV(None, {})), msg='Return a Grid Search')\n",
    "assert_true(search.best_score_ >= .98)"
   ]
  },
  {
   "cell_type": "markdown",
   "metadata": {
    "deletable": false,
    "editable": false,
    "nbgrader": {
     "checksum": "a52bf4a3eb4e661bd3c936a424169026",
     "grade": false,
     "grade_id": "cell-a638e0956e8bc98e",
     "locked": true,
     "schema_version": 1,
     "solution": false
    }
   },
   "source": [
    "The cell below reads in a more complex simulated dataset, where y is some unknown function of all (or a subset of) the features a,b,c,d,e, and f."
   ]
  },
  {
   "cell_type": "code",
   "execution_count": 10,
   "metadata": {
    "deletable": false,
    "editable": false,
    "nbgrader": {
     "checksum": "06ce6c7f5b97aae6abcd819188698dc9",
     "grade": false,
     "grade_id": "cell-fe34018ae37bb269",
     "locked": true,
     "schema_version": 1,
     "solution": false
    }
   },
   "outputs": [
    {
     "data": {
      "text/html": [
       "<div>\n",
       "<style>\n",
       "    .dataframe thead tr:only-child th {\n",
       "        text-align: right;\n",
       "    }\n",
       "\n",
       "    .dataframe thead th {\n",
       "        text-align: left;\n",
       "    }\n",
       "\n",
       "    .dataframe tbody tr th {\n",
       "        vertical-align: top;\n",
       "    }\n",
       "</style>\n",
       "<table border=\"1\" class=\"dataframe\">\n",
       "  <thead>\n",
       "    <tr style=\"text-align: right;\">\n",
       "      <th></th>\n",
       "      <th>a</th>\n",
       "      <th>b</th>\n",
       "      <th>c</th>\n",
       "      <th>d</th>\n",
       "      <th>e</th>\n",
       "      <th>f</th>\n",
       "      <th>y</th>\n",
       "    </tr>\n",
       "  </thead>\n",
       "  <tbody>\n",
       "    <tr>\n",
       "      <th>0</th>\n",
       "      <td>53.787117</td>\n",
       "      <td>0.356055</td>\n",
       "      <td>939.232265</td>\n",
       "      <td>3.560251</td>\n",
       "      <td>32.324825</td>\n",
       "      <td>-7.048945</td>\n",
       "      <td>2.143776</td>\n",
       "    </tr>\n",
       "    <tr>\n",
       "      <th>1</th>\n",
       "      <td>15.304902</td>\n",
       "      <td>0.555437</td>\n",
       "      <td>63.376282</td>\n",
       "      <td>3.709586</td>\n",
       "      <td>47.599057</td>\n",
       "      <td>-1.784613</td>\n",
       "      <td>1.750440</td>\n",
       "    </tr>\n",
       "    <tr>\n",
       "      <th>2</th>\n",
       "      <td>152.480985</td>\n",
       "      <td>0.899595</td>\n",
       "      <td>37.463563</td>\n",
       "      <td>3.156506</td>\n",
       "      <td>49.928699</td>\n",
       "      <td>-6.586625</td>\n",
       "      <td>3.408241</td>\n",
       "    </tr>\n",
       "    <tr>\n",
       "      <th>3</th>\n",
       "      <td>167.691004</td>\n",
       "      <td>0.703151</td>\n",
       "      <td>683.145181</td>\n",
       "      <td>3.226180</td>\n",
       "      <td>84.159578</td>\n",
       "      <td>-6.782915</td>\n",
       "      <td>2.953250</td>\n",
       "    </tr>\n",
       "    <tr>\n",
       "      <th>4</th>\n",
       "      <td>215.938269</td>\n",
       "      <td>0.734308</td>\n",
       "      <td>798.971126</td>\n",
       "      <td>3.454204</td>\n",
       "      <td>79.290487</td>\n",
       "      <td>-6.299015</td>\n",
       "      <td>3.321293</td>\n",
       "    </tr>\n",
       "  </tbody>\n",
       "</table>\n",
       "</div>"
      ],
      "text/plain": [
       "            a         b           c         d          e         f         y\n",
       "0   53.787117  0.356055  939.232265  3.560251  32.324825 -7.048945  2.143776\n",
       "1   15.304902  0.555437   63.376282  3.709586  47.599057 -1.784613  1.750440\n",
       "2  152.480985  0.899595   37.463563  3.156506  49.928699 -6.586625  3.408241\n",
       "3  167.691004  0.703151  683.145181  3.226180  84.159578 -6.782915  2.953250\n",
       "4  215.938269  0.734308  798.971126  3.454204  79.290487 -6.299015  3.321293"
      ]
     },
     "execution_count": 10,
     "metadata": {},
     "output_type": "execute_result"
    }
   ],
   "source": [
    "df2 = pd.read_csv('/home/data_scientist/data/misc/sim.reg.w4p3.data')\n",
    "\n",
    "X = df2.drop('y', axis=1)\n",
    "y = df2['y']\n",
    "\n",
    "X_train, X_test, y_train, y_test = train_test_split(X, y, test_size=.3, random_state=0)\n",
    "df2.head()"
   ]
  },
  {
   "cell_type": "markdown",
   "metadata": {
    "deletable": false,
    "editable": false,
    "nbgrader": {
     "checksum": "1726ad90dfab22eedaff4769d48f8dbf",
     "grade": false,
     "grade_id": "cell-2486bcbe50a773da",
     "locked": true,
     "schema_version": 1,
     "solution": false
    }
   },
   "source": [
    "# Problem 3.3\n",
    "\n",
    "Complete the function *prob3_3* by creating different order polynomial order functions from the parameters *start* to *stop*. Fit the different [PolynomialFeature](http://scikit-learn.org/stable/modules/generated/sklearn.preprocessing.PolynomialFeatures.html)s on the training features and transform the training and testing features. Lastly perform Grid search on the parameters *params*  with an [ElasticNet model](http://scikit-learn.org/stable/modules/generated/sklearn.linear_model.ElasticNet.html) *(set the random_state argument to be 0)*. Return the best model, a list of the best cv_scores used with the ElasticNet model for each of the  polynomial combinations of the features created, and the transformed testing features of the model with the best CV score ."
   ]
  },
  {
   "cell_type": "code",
   "execution_count": 11,
   "metadata": {
    "collapsed": true,
    "deletable": false,
    "nbgrader": {
     "checksum": "a9bf6268170493957b76228a88966265",
     "grade": false,
     "grade_id": "cell-8173f3976a324cce",
     "locked": false,
     "schema_version": 1,
     "solution": true
    }
   },
   "outputs": [],
   "source": [
    "def prob3_3(X_train, y_train, X_test, start=1, stop=4, params = {'alpha': [x/10 for x in range(0,10)], 'l1_ratio': [x/10 for x in range(0,10)]}):\n",
    "    \n",
    "    '''\n",
    "    Parameters\n",
    "    ----------\n",
    "    X_train - pandas dataframe containing training freatures\n",
    "    y_train - pandas series containing training labels\n",
    "    X_test - pandas dataframe containing testing features\n",
    "    start - Polynomial degree to start at\n",
    "    stop - Polynomial degree to stop at\n",
    "    params - dictionary containing parameters to search over\n",
    "    \n",
    "    Returns\n",
    "    -------\n",
    "    Model with the best CV score (GridSearchCV object)\n",
    "    CV Score of the best model (floating point number)\n",
    "    Transformed Testing features (Multi dimensional numpy array)\n",
    "    '''\n",
    "    \n",
    "    # Initialize arrays\n",
    "    train_score = np.empty(stop-start+1)\n",
    "    \n",
    "    # Iterate over polynomial fits\n",
    "    for deg in range(start, stop + 1):\n",
    "    \n",
    "        # Create pipeline for fit, and train regressor\n",
    "        est = PolynomialFeatures(deg)\n",
    "        new_x_train = est.fit_transform(X_train, y_train)\n",
    "        \n",
    "        # Create grid search cross validator\n",
    "        gse = GridSearchCV(estimator= ElasticNet(random_state=0), param_grid=params)\n",
    "        gse.fit(new_x_train, y_train)\n",
    "        \n",
    "        # store best score (from means of scores)\n",
    "        train_score[deg - start] = gse.best_score_\n",
    " \n",
    "    # Find best score (from means of scores)\n",
    "    idx = np.argmax(train_score)\n",
    "    \n",
    "    # fit the best model\n",
    "    est = PolynomialFeatures(idx + start)\n",
    "    new_x_train = est.fit_transform(X_train, y_train)\n",
    "    new_x_test = est.transform(X_test)\n",
    "    gse = GridSearchCV(estimator= ElasticNet(random_state=0), param_grid=params)\n",
    "    gse.fit(new_x_train, y_train)\n",
    "    \n",
    "    return gse, train_score, new_x_test\n",
    "    "
   ]
  },
  {
   "cell_type": "code",
   "execution_count": 12,
   "metadata": {
    "deletable": false,
    "editable": false,
    "nbgrader": {
     "checksum": "a853d7727f36d3df3d6c2febddfd8032",
     "grade": true,
     "grade_id": "cell-7b5e01bc90561d6c",
     "locked": true,
     "points": 10,
     "schema_version": 1,
     "solution": false
    }
   },
   "outputs": [
    {
     "name": "stdout",
     "output_type": "stream",
     "text": [
      "Best CV Score from model: 0.964136750069\n"
     ]
    }
   ],
   "source": [
    "model, cv_scores_3_4, Xte = prob3_3(X_train, y_train, X_test, start=3, stop=3)\n",
    "print(\"Best CV Score from model:\", model.best_score_)\n",
    "npt.assert_almost_equal(cv_scores_3_4, [0.96360016442849883], decimal=2)\n"
   ]
  },
  {
   "cell_type": "code",
   "execution_count": null,
   "metadata": {
    "collapsed": true
   },
   "outputs": [],
   "source": []
  }
 ],
 "metadata": {
  "kernelspec": {
   "display_name": "Python 3",
   "language": "python",
   "name": "python3"
  },
  "language_info": {
   "codemirror_mode": {
    "name": "ipython",
    "version": 3
   },
   "file_extension": ".py",
   "mimetype": "text/x-python",
   "name": "python",
   "nbconvert_exporter": "python",
   "pygments_lexer": "ipython3",
   "version": "3.6.1"
  }
 },
 "nbformat": 4,
 "nbformat_minor": 2
}
