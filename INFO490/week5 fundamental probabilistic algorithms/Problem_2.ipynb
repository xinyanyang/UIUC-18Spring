{
 "cells": [
  {
   "cell_type": "markdown",
   "metadata": {
    "deletable": false,
    "editable": false,
    "nbgrader": {
     "checksum": "68b7c1f9ef25826d7f981cc4d94ac8a0",
     "grade": false,
     "grade_id": "header",
     "locked": true,
     "schema_version": 1,
     "solution": false
    }
   },
   "source": [
    "# Week 5 Problem 2\n",
    "\n",
    "A few things you should keep in mind when working on assignments:\n",
    "\n",
    "1. Make sure you fill in any place that says YOUR CODE HERE. Do not write your answer in anywhere else other than where it says YOUR CODE HERE. Anything you write anywhere else will be removed or overwritten by the autograder.\n",
    "\n",
    "2. Before you submit your assignment, make sure everything runs as expected. Go to menubar, select Kernel, and restart the kernel and run all cells (Restart & Run all).\n",
    "\n",
    "3. Do not change the title (i.e. file name) of this notebook.\n",
    "\n",
    "4. Make sure that you save your work (in the menubar, select File → Save and CheckPoint)\n",
    "\n",
    "5. When you are ready to submit your assignment, go to Dashboard → Assignments and click the Submit button. Your work is not submitted until you click Submit.\n",
    "\n",
    "6. You are allowed to submit an assignment multiple times, but only the most recent submission will be graded.\n",
    "\n",
    "7. If your code does not pass the unit tests, it will not pass the autograder.\n",
    "\n"
   ]
  },
  {
   "cell_type": "markdown",
   "metadata": {
    "deletable": false,
    "editable": false,
    "nbgrader": {
     "checksum": "39b1657e67db67f76c8fc3019b5b0aee",
     "grade": false,
     "grade_id": "due_date",
     "locked": true,
     "schema_version": 1,
     "solution": false
    }
   },
   "source": [
    "# Due Date: 6 PM, February 19, 2018\n"
   ]
  },
  {
   "cell_type": "code",
   "execution_count": 1,
   "metadata": {
    "collapsed": true,
    "deletable": false,
    "editable": false,
    "nbgrader": {
     "checksum": "79586dda1aae8d60255c265177847a97",
     "grade": false,
     "grade_id": "import",
     "locked": true,
     "schema_version": 1,
     "solution": false
    }
   },
   "outputs": [],
   "source": [
    "# Set up Notebook\n",
    "\n",
    "% matplotlib inline\n",
    "\n",
    "# Standard imports\n",
    "import numpy as np\n",
    "import pandas as pd\n",
    "import matplotlib.pyplot as plt\n",
    "import seaborn as sns\n",
    "\n",
    "from time import time\n",
    "from sklearn.datasets import load_breast_cancer\n",
    "from sklearn.naive_bayes import GaussianNB\n",
    "from sklearn.naive_bayes import MultinomialNB\n",
    "from sklearn.model_selection import train_test_split\n",
    "from sklearn.model_selection import StratifiedKFold\n",
    "\n",
    "from numpy.testing import assert_array_equal, assert_array_almost_equal\n",
    "from pandas.util.testing import assert_frame_equal, assert_index_equal\n",
    "from nose.tools import assert_false, assert_equal, assert_almost_equal, assert_true, assert_in, assert_is_not\n",
    "\n",
    "# We do this to ignore several specific Pandas warnings\n",
    "import warnings\n",
    "warnings.filterwarnings(\"ignore\")\n",
    "\n",
    "# Set global figure properties\n",
    "import matplotlib as mpl\n",
    "mpl.rcParams.update({'axes.titlesize' : 20,\n",
    "                     'axes.labelsize' : 18,\n",
    "                     'legend.fontsize': 16})\n",
    "\n",
    "# Set default seaborn plotting style\n",
    "sns.set_style('white')\n",
    "\n",
    "from sklearn.metrics import classification_report\n",
    "from sklearn.metrics import accuracy_score\n",
    "import math\n",
    "def confusion(test, predict, names, bins=3, title='Confusion Matrix'):\n",
    "\n",
    "    # Make a 2D histogram from the test and result arrays\n",
    "    pts, xe, ye = np.histogram2d(test, predict, bins)\n",
    "\n",
    "    # For simplicity we create a new DataFrame\n",
    "    pd_pts = pd.DataFrame(pts.astype(int), index=names, columns=names )\n",
    "    \n",
    "    # Display heatmap and add decorations\n",
    "    sns.set(font_scale=1.5)\n",
    "    hm = sns.heatmap(pd_pts, annot=True, fmt=\"d\")\n",
    "    \n",
    "    sns.set(font_scale=2.0)\n",
    "    hm.axes.set_title(title)\n",
    "    hm.axes.set_xlabel('Predicted')\n",
    "    hm.axes.set_ylabel('Actual')\n",
    "    sns.set(font_scale=1.0)\n",
    "\n",
    "    return None\n"
   ]
  },
  {
   "cell_type": "markdown",
   "metadata": {
    "deletable": false,
    "editable": false,
    "nbgrader": {
     "checksum": "4eaada4a8fa22469a062e4276ad04a03",
     "grade": false,
     "grade_id": "dataset_info",
     "locked": true,
     "schema_version": 1,
     "solution": false
    }
   },
   "source": [
    "## Breast Cancer Dataset\n",
    "\n",
    "We will be using the built-in dataset about breast cancer and the respective information on indivudal breast cancer cases. This dataset has 569 samples and a dimensionality size of 30. We will be using only the 1st 10 features in order to create a Gradient Boosting model that will predict whether the individual case is either malignant (harmful) or benign (non-harmful).\n",
    "\n",
    "The following code below imports the dataset as a pandas dataframe. It also concatenates a column called classification which contains whether the record was determined to be a malignant or benign tumor. Note: In this dataset, a malignant tumor has a value of 0 and a benign tumor has a value of 1.\n",
    "\n"
   ]
  },
  {
   "cell_type": "code",
   "execution_count": 2,
   "metadata": {
    "deletable": false,
    "editable": false,
    "nbgrader": {
     "checksum": "690211e0b0b14d0408706f300e59a191",
     "grade": false,
     "grade_id": "problem3_data",
     "locked": true,
     "schema_version": 1,
     "solution": false
    }
   },
   "outputs": [
    {
     "name": "stdout",
     "output_type": "stream",
     "text": [
      "0    212\n",
      "1    357\n",
      "Name: target, dtype: int64\n",
      "Number of features: 10\n"
     ]
    }
   ],
   "source": [
    "# Load in the dataset as a Pandas DataFrame\n",
    "data = load_breast_cancer()\n",
    "cancer_data = pd.DataFrame(data.data, columns=data.feature_names)\n",
    "cancer_data['target'] = data.target\n",
    "# View the label distribution\n",
    "print(cancer_data.target.value_counts(ascending=True))\n",
    "\n",
    "features = cancer_data[cancer_data.columns[:10]]\n",
    "labels = cancer_data.target\n",
    "# Count the number of features\n",
    "print(\"Number of features:\", len(features.columns))\n"
   ]
  },
  {
   "cell_type": "markdown",
   "metadata": {
    "deletable": false,
    "editable": false,
    "nbgrader": {
     "checksum": "78f1b41ab1635565e1617462914025e8",
     "grade": false,
     "grade_id": "problem1",
     "locked": true,
     "schema_version": 1,
     "solution": false
    }
   },
   "source": [
    "# Problem 1\n",
    "\n",
    "Implement a Naive Bayes' model using below dataset(df) to calculate the probabilities and use this to predict the probabilities for each class happening for the test condition ***X=(age=youth,income=medium,student=yes,credit_rating=fair)***. \n",
    "Finally, you will have to find ***P(Class=yes|X)*** which is basically the probability of X falling in class 'yes' and ***P(Class=no|X)***  which is basically the probability of X falling in class 'no'. \n",
    "\n",
    "Later on in the next problem, we will fit a Naive Bayes' model to the same data set using GaussianNB and see if we get the same results.\n"
   ]
  },
  {
   "cell_type": "code",
   "execution_count": 3,
   "metadata": {
    "deletable": false,
    "editable": false,
    "nbgrader": {
     "checksum": "03b9746262e6c73824ee409726b3b315",
     "grade": false,
     "grade_id": "problem1_data",
     "locked": true,
     "schema_version": 1,
     "solution": false
    }
   },
   "outputs": [
    {
     "data": {
      "text/html": [
       "<div>\n",
       "<style>\n",
       "    .dataframe thead tr:only-child th {\n",
       "        text-align: right;\n",
       "    }\n",
       "\n",
       "    .dataframe thead th {\n",
       "        text-align: left;\n",
       "    }\n",
       "\n",
       "    .dataframe tbody tr th {\n",
       "        vertical-align: top;\n",
       "    }\n",
       "</style>\n",
       "<table border=\"1\" class=\"dataframe\">\n",
       "  <thead>\n",
       "    <tr style=\"text-align: right;\">\n",
       "      <th></th>\n",
       "      <th>age</th>\n",
       "      <th>income</th>\n",
       "      <th>student</th>\n",
       "      <th>credit_rating</th>\n",
       "      <th>Class</th>\n",
       "    </tr>\n",
       "  </thead>\n",
       "  <tbody>\n",
       "    <tr>\n",
       "      <th>0</th>\n",
       "      <td>youth</td>\n",
       "      <td>high</td>\n",
       "      <td>no</td>\n",
       "      <td>fair</td>\n",
       "      <td>no</td>\n",
       "    </tr>\n",
       "    <tr>\n",
       "      <th>1</th>\n",
       "      <td>youth</td>\n",
       "      <td>high</td>\n",
       "      <td>no</td>\n",
       "      <td>excellent</td>\n",
       "      <td>no</td>\n",
       "    </tr>\n",
       "    <tr>\n",
       "      <th>2</th>\n",
       "      <td>middle_aged</td>\n",
       "      <td>high</td>\n",
       "      <td>no</td>\n",
       "      <td>fair</td>\n",
       "      <td>yes</td>\n",
       "    </tr>\n",
       "    <tr>\n",
       "      <th>3</th>\n",
       "      <td>senior</td>\n",
       "      <td>medium</td>\n",
       "      <td>no</td>\n",
       "      <td>fair</td>\n",
       "      <td>yes</td>\n",
       "    </tr>\n",
       "    <tr>\n",
       "      <th>4</th>\n",
       "      <td>senior</td>\n",
       "      <td>low</td>\n",
       "      <td>yes</td>\n",
       "      <td>fair</td>\n",
       "      <td>yes</td>\n",
       "    </tr>\n",
       "    <tr>\n",
       "      <th>5</th>\n",
       "      <td>senior</td>\n",
       "      <td>low</td>\n",
       "      <td>yes</td>\n",
       "      <td>excellent</td>\n",
       "      <td>no</td>\n",
       "    </tr>\n",
       "    <tr>\n",
       "      <th>6</th>\n",
       "      <td>middle_aged</td>\n",
       "      <td>low</td>\n",
       "      <td>yes</td>\n",
       "      <td>excellent</td>\n",
       "      <td>yes</td>\n",
       "    </tr>\n",
       "    <tr>\n",
       "      <th>7</th>\n",
       "      <td>youth</td>\n",
       "      <td>medium</td>\n",
       "      <td>no</td>\n",
       "      <td>fair</td>\n",
       "      <td>no</td>\n",
       "    </tr>\n",
       "    <tr>\n",
       "      <th>8</th>\n",
       "      <td>youth</td>\n",
       "      <td>low</td>\n",
       "      <td>yes</td>\n",
       "      <td>fair</td>\n",
       "      <td>yes</td>\n",
       "    </tr>\n",
       "    <tr>\n",
       "      <th>9</th>\n",
       "      <td>senior</td>\n",
       "      <td>medium</td>\n",
       "      <td>yes</td>\n",
       "      <td>fair</td>\n",
       "      <td>yes</td>\n",
       "    </tr>\n",
       "    <tr>\n",
       "      <th>10</th>\n",
       "      <td>youth</td>\n",
       "      <td>medium</td>\n",
       "      <td>yes</td>\n",
       "      <td>excellent</td>\n",
       "      <td>yes</td>\n",
       "    </tr>\n",
       "    <tr>\n",
       "      <th>11</th>\n",
       "      <td>middle_aged</td>\n",
       "      <td>medium</td>\n",
       "      <td>no</td>\n",
       "      <td>excellent</td>\n",
       "      <td>yes</td>\n",
       "    </tr>\n",
       "    <tr>\n",
       "      <th>12</th>\n",
       "      <td>middle_aged</td>\n",
       "      <td>high</td>\n",
       "      <td>yes</td>\n",
       "      <td>fair</td>\n",
       "      <td>yes</td>\n",
       "    </tr>\n",
       "    <tr>\n",
       "      <th>13</th>\n",
       "      <td>senior</td>\n",
       "      <td>medium</td>\n",
       "      <td>no</td>\n",
       "      <td>excellent</td>\n",
       "      <td>no</td>\n",
       "    </tr>\n",
       "  </tbody>\n",
       "</table>\n",
       "</div>"
      ],
      "text/plain": [
       "            age  income student credit_rating Class\n",
       "0         youth    high      no          fair    no\n",
       "1         youth    high      no     excellent    no\n",
       "2   middle_aged    high      no          fair   yes\n",
       "3        senior  medium      no          fair   yes\n",
       "4        senior     low     yes          fair   yes\n",
       "5        senior     low     yes     excellent    no\n",
       "6   middle_aged     low     yes     excellent   yes\n",
       "7         youth  medium      no          fair    no\n",
       "8         youth     low     yes          fair   yes\n",
       "9        senior  medium     yes          fair   yes\n",
       "10        youth  medium     yes     excellent   yes\n",
       "11  middle_aged  medium      no     excellent   yes\n",
       "12  middle_aged    high     yes          fair   yes\n",
       "13       senior  medium      no     excellent    no"
      ]
     },
     "execution_count": 3,
     "metadata": {},
     "output_type": "execute_result"
    }
   ],
   "source": [
    "import pandas as pd\n",
    "    \n",
    "data = pd.read_csv('/home/data_scientist/data/misc/table.csv')\n",
    "df = data[:-1]\n",
    "df"
   ]
  },
  {
   "cell_type": "code",
   "execution_count": 4,
   "metadata": {
    "collapsed": true,
    "deletable": false,
    "nbgrader": {
     "checksum": "d7dc6569ac8cda2257123bb3cfe72217",
     "grade": false,
     "grade_id": "problem1_answer",
     "locked": false,
     "schema_version": 1,
     "solution": true
    }
   },
   "outputs": [],
   "source": [
    "def predict_probability(data):\n",
    "    '''\n",
    "    Since you have to predict Class for X=(age=youth,income=medium,student=yes,credit_rating=fair) \n",
    "    Calculate following : \n",
    "    \n",
    "    P(Class=yes)\n",
    "    P(Class=no)\n",
    "    P(age=youth∣Class=yes)\n",
    "    P(age=youth∣Class=no)\n",
    "    P(income=medium∣Class=yes)\n",
    "    P(income=medium∣Class=no)\n",
    "    P(student=yes∣Class=yes)\n",
    "    P(student=yes∣Class=no)\n",
    "    P(credit_rating=fair∣Class=yes)\n",
    "    P(credit_rating=fair∣Class=no)\n",
    "    P(X∣Class=yes) = P(age=youth∣Class=yes)*P(income=medium∣Class=yes)\n",
    "                                                        *P(student=yes∣Class=yes)*P(credit_rating=fair∣Class=yes)\n",
    "    P(X∣Class=no) = P(age=youth∣Class=no)*P(income=medium∣Class=no)\n",
    "                                                        *P(student=yes∣Class=no)*P(credit_rating=fair∣Class=no)                                                    \n",
    "    \n",
    "    P(Class=yes|X) = (P(X∣Class=yes)*P(Class=yes))/P(X)\n",
    "    P(Class=no|X) = (P(X∣Class=no)*P(Class=no))/P(X)\n",
    "    P(X) = (P(X∣Class=yes)*P(Class=yes))+(P(X∣Class=no)*P(Class=no))\n",
    "    \n",
    "    Parameters\n",
    "    ----------\n",
    "    data : dataset to be used for probability calculations\n",
    "    \n",
    "    Returns\n",
    "    -------\n",
    "    A tuple of 4 containing the predicted probabilities of P(X∣Class=no), P(X∣Class=yes), \n",
    "                                                            P(Class=no|X) and P(Class=yes|X) respectively\n",
    "    \n",
    "    Example Calculation\n",
    "    -------------------\n",
    "    P(Class=yes) = sum(data[\"Class\"]=='yes')/len(data)\n",
    "    P(age=youth∣buys_computer=yes) = sum(data[data[\"Class\"]=='yes'][\"age\"]=='youth')/sum(data[\"Class\"]=='yes')\n",
    "    '''\n",
    "    \n",
    "    P_class_yes = sum(data[\"Class\"]=='yes') / len(data)\n",
    "    P_class_no = sum(data[\"Class\"]=='no') / len(data)\n",
    "    P_age_yes = sum(data[data[\"Class\"]=='yes'][\"age\"]=='youth') / sum(data[\"Class\"]=='yes')\n",
    "    P_age_no = sum(data[data[\"Class\"]=='no'][\"age\"]=='youth') / sum(data[\"Class\"]=='no')\n",
    "    P_income_yes = sum(data[data[\"Class\"]=='yes'][\"income\"]=='medium') / sum(data[\"Class\"]=='yes')\n",
    "    P_income_no = sum(data[data[\"Class\"]=='no'][\"income\"]=='medium') / sum(data[\"Class\"]=='no')\n",
    "    P_student_yes = sum(data[data[\"Class\"]=='yes'][\"student\"]=='yes') / sum(data[\"Class\"]=='yes')\n",
    "    P_student_no = sum(data[data[\"Class\"]=='no'][\"student\"]=='yes') / sum(data[\"Class\"]=='no')\n",
    "    P_credit_yes = sum(data[data[\"Class\"]=='yes'][\"credit_rating\"]=='fair') / sum(data[\"Class\"]=='yes')\n",
    "    P_credit_no = sum(data[data[\"Class\"]=='no'][\"credit_rating\"]=='fair') / sum(data[\"Class\"]=='no')\n",
    "    \n",
    "    P_X_yes = P_age_yes*P_income_yes*P_student_yes*P_credit_yes\n",
    "    P_X_no = P_age_no*P_income_no*P_student_no*P_credit_no\n",
    "    \n",
    "    P_X = P_X_yes*P_class_yes + P_X_no*P_class_no\n",
    "    \n",
    "    P_yes_X = P_X_yes*P_class_yes/P_X\n",
    "    P_no_X = P_X_no*P_class_no/P_X\n",
    "    \n",
    "    return P_X_no, P_X_yes, P_no_X, P_yes_X"
   ]
  },
  {
   "cell_type": "code",
   "execution_count": 5,
   "metadata": {
    "collapsed": true,
    "deletable": false,
    "editable": false,
    "nbgrader": {
     "checksum": "8bae9fab44cfb230f761d48ddbaeaed1",
     "grade": true,
     "grade_id": "problem1_test",
     "locked": true,
     "points": 15,
     "schema_version": 1,
     "solution": false
    }
   },
   "outputs": [],
   "source": [
    "probs = predict_probability(df)\n",
    "assert_equal(isinstance(probs, tuple), True)\n",
    "assert_almost_equal(0.195, probs[2], 3)\n",
    "assert_almost_equal(0.805, probs[3], 3)"
   ]
  },
  {
   "cell_type": "markdown",
   "metadata": {
    "deletable": false,
    "editable": false,
    "nbgrader": {
     "checksum": "1fb54b96ce536f837d8cdc477c2563c6",
     "grade": false,
     "grade_id": "problem2",
     "locked": true,
     "schema_version": 1,
     "solution": false
    }
   },
   "source": [
    "# Problem 2\n",
    "\n",
    "Create a Naive Bayes' classifier for the above data set and return the predicted probabilities for each class. We will see that the predictions using GaussianNB and the predictions we found in Problem 1 are similar."
   ]
  },
  {
   "cell_type": "code",
   "execution_count": 6,
   "metadata": {
    "collapsed": true,
    "deletable": false,
    "editable": false,
    "nbgrader": {
     "checksum": "6930b12794bdae88e55920664a5a1efa",
     "grade": false,
     "grade_id": "problem2_split",
     "locked": true,
     "schema_version": 1,
     "solution": false
    }
   },
   "outputs": [],
   "source": [
    "import patsy as pts \n",
    "\n",
    "y, x = pts.dmatrices('Class ~ C(age) + C(credit_rating) + ' +\n",
    "                     'C(income) + C(student)',\n",
    "                     data=data, return_type='dataframe')\n",
    "\n",
    "\n",
    "y_test = y[-1:]\n",
    "y_train = y[:-1]\n",
    "x_test = x[-1:]\n",
    "x_train = x[:-1]\n"
   ]
  },
  {
   "cell_type": "code",
   "execution_count": 7,
   "metadata": {
    "collapsed": true,
    "deletable": false,
    "nbgrader": {
     "checksum": "b90f23981e2815968a80fee0c6b881d8",
     "grade": false,
     "grade_id": "problem2_answer",
     "locked": false,
     "schema_version": 1,
     "solution": true
    }
   },
   "outputs": [],
   "source": [
    "def gnb_model(x_train, y_train, x_test):\n",
    "    '''    \n",
    "    Fit a general naive bayes' Classifier and return the predicted probabilities for each class \n",
    "    \n",
    "    Parameters\n",
    "    ----------\n",
    "    x_train : independent data for train dataset\n",
    "    y_train : dependent data for test dataset\n",
    "    x_test : independent data for test dataset\n",
    "    \n",
    "    Returns\n",
    "    -------\n",
    "    A tuple of 2 containing the predicted probabilities for the test dataset\n",
    "    '''\n",
    "    \n",
    "    nbc = GaussianNB()\n",
    "    # Fit estimator to scaled training data\n",
    "    nbc = nbc.fit(x_train, y_train)\n",
    "    y_pred = nbc.predict_proba(x_test)\n",
    "    \n",
    "    return y_pred "
   ]
  },
  {
   "cell_type": "code",
   "execution_count": 9,
   "metadata": {
    "deletable": false,
    "editable": false,
    "nbgrader": {
     "checksum": "272613e41bab32f995387e5e75010202",
     "grade": true,
     "grade_id": "problem2_test",
     "locked": true,
     "points": 5,
     "schema_version": 1,
     "solution": false
    }
   },
   "outputs": [],
   "source": [
    "probs2 = gnb_model(x_train, y_train['Class[yes]'], x_test)\n",
    "assert_equal(isinstance(probs2, np.ndarray), True)\n",
    "assert_almost_equal(probs2[0][0], probs[2], 2)\n",
    "assert_almost_equal(probs2[0][1], probs[3], 2)"
   ]
  },
  {
   "cell_type": "markdown",
   "metadata": {
    "deletable": false,
    "editable": false,
    "nbgrader": {
     "checksum": "93ac2500b3304810c3531b138679090a",
     "grade": false,
     "grade_id": "problem3",
     "locked": true,
     "schema_version": 1,
     "solution": false
    }
   },
   "source": [
    "# Problem3\n",
    "\n",
    "Create Naive Bayes' model using [MultinomialNB](http://scikit-learn.org/stable/modules/generated/sklearn.naive_bayes.MultinomialNB.html) and [GaussianNB](http://scikit-learn.org/stable/modules/generated/sklearn.naive_bayes.GaussianNB.html) using prior probability as hyper-parameter in both the models. Fit the model on the training set for the ***Breast Cancer dataset***. We will see how we can change prior probabilities to catch more number of malignant tumor cases.\n",
    "\n"
   ]
  },
  {
   "cell_type": "code",
   "execution_count": 10,
   "metadata": {
    "collapsed": true,
    "deletable": false,
    "nbgrader": {
     "checksum": "1224604c777a6b6f0f6d4dea7e5e3152",
     "grade": false,
     "grade_id": "problem3_answer",
     "locked": false,
     "schema_version": 1,
     "solution": true
    }
   },
   "outputs": [],
   "source": [
    "test_frac = 0.4\n",
    "X_train, X_test, y_train, y_test = train_test_split(features, labels, \n",
    "                                                    test_size=test_frac, random_state=40)\n",
    "\n",
    "def mnb(ind_train, dep_train , prior):\n",
    "    '''\n",
    "    Create Naive Bayes' model using MultinomialNB and GaussianNB using prior probability as hyper-parameter \n",
    "    in both the models. Fit the model on the training set.\n",
    "    \n",
    "    Hint: Look at the documentation of both the functions to check which hyper-parameter to use. \n",
    "    \n",
    "    Parameters\n",
    "    ----------\n",
    "    ind_train : independent training dataset\n",
    "    dep_train : dependent training dataset\n",
    "    prior : array defining prior probability of each class\n",
    "    \n",
    "    Returns\n",
    "    -------\n",
    "    A tuple of 2 returning the fitted model for MultinomialNB and GaussianNB respectively\n",
    "    '''\n",
    "\n",
    "    # Create Classifier with default properties\n",
    "    MNB_model = MultinomialNB(class_prior=prior)\n",
    "    GNB_model = GaussianNB(priors=prior)\n",
    "\n",
    "    # Fit estimator and display score\n",
    "    MNB_model = MNB_model.fit(ind_train, dep_train)\n",
    "    GNB_model = GNB_model.fit(ind_train, dep_train)\n",
    "    \n",
    "    return MNB_model, GNB_model"
   ]
  },
  {
   "cell_type": "code",
   "execution_count": 11,
   "metadata": {
    "collapsed": true,
    "deletable": false,
    "editable": false,
    "nbgrader": {
     "checksum": "41cef16e3679ef619e44aac940be366e",
     "grade": true,
     "grade_id": "problem3_test",
     "locked": true,
     "points": 10,
     "schema_version": 1,
     "solution": false
    }
   },
   "outputs": [],
   "source": [
    "prior = [0.8, 0.2]\n",
    "model = mnb(X_train, y_train, prior)\n",
    "predicted0 = model[0].predict(X_test)\n",
    "predicted1 = model[1].predict(X_test)\n",
    "assert_equal(isinstance(model[0], MultinomialNB), True)\n",
    "assert_equal(isinstance(model[1], GaussianNB), True)\n",
    "assert_almost_equal(0.833, accuracy_score(y_test, predicted0), 3)"
   ]
  },
  {
   "cell_type": "markdown",
   "metadata": {
    "deletable": false,
    "editable": false,
    "nbgrader": {
     "checksum": "4f61df6bd0788f8300a4cf464ef2d76f",
     "grade": false,
     "grade_id": "cell-1853bd2cf8036d7e",
     "locked": true,
     "schema_version": 1,
     "solution": false
    }
   },
   "source": [
    "You can see from the confusion matrix shown below, that since the data was continuous, Gaussian Naive Bayes' gives us better results. Also, the 2nd example of GaussianNB confusion matrix shows us that for cases like Breast Cancer Prediction, where its better to catch all Malignant tumors, we can set the prior probability of Malignant to be higher."
   ]
  },
  {
   "cell_type": "code",
   "execution_count": 12,
   "metadata": {
    "deletable": false,
    "editable": false,
    "nbgrader": {
     "checksum": "dc2d413054cab416877ce252d080e8cd",
     "grade": false,
     "grade_id": "confusion1",
     "locked": true,
     "schema_version": 1,
     "solution": false
    }
   },
   "outputs": [
    {
     "data": {
      "image/png": "[encoded data removed]",
      "text/plain": [
       "<matplotlib.figure.Figure at 0x7fa030626748>"
      ]
     },
     "metadata": {},
     "output_type": "display_data"
    }
   ],
   "source": [
    "confusion(y_test.reshape(y_test.shape[0]), predicted0, ['Malignant', 'Benign'], 2, \\\n",
    "          'Breast Cancer Classification(Multinomial)')"
   ]
  },
  {
   "cell_type": "code",
   "execution_count": 13,
   "metadata": {
    "deletable": false,
    "editable": false,
    "nbgrader": {
     "checksum": "0b560f89b823fbb167a53f0500a25815",
     "grade": false,
     "grade_id": "confusion2",
     "locked": true,
     "schema_version": 1,
     "solution": false
    }
   },
   "outputs": [
    {
     "data": {
      "image/png": "[encoded data removed]",
      "text/plain": [
       "<matplotlib.figure.Figure at 0x7fa03057a940>"
      ]
     },
     "metadata": {},
     "output_type": "display_data"
    }
   ],
   "source": [
    "confusion(y_test.reshape(y_test.shape[0]), predicted1, ['Malignant', 'Benign'], 2, \\\n",
    "          'Breast Cancer Classification(Gaussian prior=[0.8,0.2])')"
   ]
  },
  {
   "cell_type": "code",
   "execution_count": 14,
   "metadata": {
    "deletable": false,
    "editable": false,
    "nbgrader": {
     "checksum": "fe8829b2a65aea4b1e1841c0d03b4d45",
     "grade": false,
     "grade_id": "confusion3",
     "locked": true,
     "schema_version": 1,
     "solution": false
    }
   },
   "outputs": [
    {
     "data": {
      "image/png": "[encoded data removed]",
      "text/plain": [
       "<matplotlib.figure.Figure at 0x7fa026b830f0>"
      ]
     },
     "metadata": {},
     "output_type": "display_data"
    }
   ],
   "source": [
    "prior = [0.5, 0.5]\n",
    "model2 = mnb(X_train, y_train, prior)\n",
    "predicted2 = model2[1].predict(X_test)\n",
    "confusion(y_test.reshape(y_test.shape[0]), predicted2, ['Malignant', 'Benign'], 2, \\\n",
    "          'Breast Cancer Classification(Gaussian prior=[0.5,0.5])')"
   ]
  },
  {
   "cell_type": "code",
   "execution_count": null,
   "metadata": {
    "collapsed": true
   },
   "outputs": [],
   "source": []
  }
 ],
 "metadata": {
  "kernelspec": {
   "display_name": "Python 3",
   "language": "python",
   "name": "python3"
  },
  "language_info": {
   "codemirror_mode": {
    "name": "ipython",
    "version": 3
   },
   "file_extension": ".py",
   "mimetype": "text/x-python",
   "name": "python",
   "nbconvert_exporter": "python",
   "pygments_lexer": "ipython3",
   "version": "3.6.1"
  }
 },
 "nbformat": 4,
 "nbformat_minor": 2
}
