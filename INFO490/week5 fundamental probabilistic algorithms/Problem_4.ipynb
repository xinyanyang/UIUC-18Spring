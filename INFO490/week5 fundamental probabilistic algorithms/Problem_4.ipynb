{
 "cells": [
  {
   "cell_type": "markdown",
   "metadata": {
    "deletable": false,
    "editable": false,
    "nbgrader": {
     "checksum": "99c7d39c38079c17bf14ed31f3b22f3e",
     "grade": false,
     "grade_id": "header",
     "locked": true,
     "schema_version": 1,
     "solution": false
    }
   },
   "source": [
    "# Week 5 Problem 4\n",
    "\n",
    "A few things you should keep in mind when working on assignments:\n",
    "\n",
    "1. Make sure you fill in any place that says `YOUR CODE HERE`. Do not write your answer in anywhere else other than where it says `YOUR CODE HERE`. Anything you write anywhere else will be removed or overwritten by the autograder.\n",
    "\n",
    "2. Before you submit your assignment, make sure everything runs as expected. Go to menubar, select *Kernel*, and restart the kernel and run all cells (*Restart & Run all*).\n",
    "\n",
    "3. Do not change the title (i.e. file name) of this notebook.\n",
    "\n",
    "4. Make sure that you save your work (in the menubar, select *File* → *Save and CheckPoint*)\n",
    "\n",
    "5. When you are ready to submit your assignment, go to *Dashboard* → *Assignments* and click the *Submit* button. Your work is not submitted until you click *Submit*.\n",
    "\n",
    "6. You are allowed to submit an assignment multiple times, but only the most recent submission will be graded."
   ]
  },
  {
   "cell_type": "markdown",
   "metadata": {
    "deletable": false,
    "editable": false,
    "nbgrader": {
     "checksum": "b7eec45e3a5c0a340933c2afb6698ba3",
     "grade": false,
     "grade_id": "due_date",
     "locked": true,
     "schema_version": 1,
     "solution": false
    }
   },
   "source": [
    "# Due Date: 6 PM, February 19, 2018"
   ]
  },
  {
   "cell_type": "code",
   "execution_count": 3,
   "metadata": {
    "collapsed": true,
    "deletable": false,
    "editable": false,
    "nbgrader": {
     "checksum": "bd9fa4fef9504676bf9e03c5bdf7d2fb",
     "grade": false,
     "grade_id": "import",
     "locked": true,
     "schema_version": 1,
     "solution": false
    }
   },
   "outputs": [],
   "source": [
    "% matplotlib inline\n",
    "import numpy as np\n",
    "import pandas as pd\n",
    "from sklearn.model_selection import train_test_split\n",
    "from nose.tools import assert_equal, assert_true, assert_almost_equal, assert_is_instance, assert_is_not\n",
    "from sklearn.gaussian_process.kernels import RBF, DotProduct, Matern, WhiteKernel\n",
    "from sklearn.gaussian_process import  GaussianProcessRegressor\n",
    "from sklearn.datasets import load_boston\n",
    "\n",
    "# We do this to ignore several specific warnings\n",
    "import warnings\n",
    "warnings.filterwarnings(\"ignore\")"
   ]
  },
  {
   "cell_type": "markdown",
   "metadata": {},
   "source": [
    "## Boston Dataset\n",
    "For this assignment we will be using the built-in dataset about the Boston area and the respective house-prices. This dataset has 506 samples and a dimensionality size of 13. Each record contains data about crime rate, average number of rooms dwelling, and other factors. The following code below imports the dataset as a pandas dataframe and previews a few sample data points."
   ]
  },
  {
   "cell_type": "code",
   "execution_count": 4,
   "metadata": {
    "deletable": false,
    "editable": false,
    "nbgrader": {
     "checksum": "957f59d4cb09356df8a88068736cda47",
     "grade": false,
     "grade_id": "data_set",
     "locked": true,
     "schema_version": 1,
     "solution": false
    }
   },
   "outputs": [
    {
     "data": {
      "text/html": [
       "<div>\n",
       "<style>\n",
       "    .dataframe thead tr:only-child th {\n",
       "        text-align: right;\n",
       "    }\n",
       "\n",
       "    .dataframe thead th {\n",
       "        text-align: left;\n",
       "    }\n",
       "\n",
       "    .dataframe tbody tr th {\n",
       "        vertical-align: top;\n",
       "    }\n",
       "</style>\n",
       "<table border=\"1\" class=\"dataframe\">\n",
       "  <thead>\n",
       "    <tr style=\"text-align: right;\">\n",
       "      <th></th>\n",
       "      <th>CRIM</th>\n",
       "      <th>ZN</th>\n",
       "      <th>INDUS</th>\n",
       "      <th>CHAS</th>\n",
       "      <th>NOX</th>\n",
       "      <th>RM</th>\n",
       "      <th>AGE</th>\n",
       "      <th>DIS</th>\n",
       "      <th>RAD</th>\n",
       "      <th>TAX</th>\n",
       "      <th>PTRATIO</th>\n",
       "      <th>B</th>\n",
       "      <th>LSTAT</th>\n",
       "    </tr>\n",
       "  </thead>\n",
       "  <tbody>\n",
       "    <tr>\n",
       "      <th>0</th>\n",
       "      <td>0.00632</td>\n",
       "      <td>18.0</td>\n",
       "      <td>2.31</td>\n",
       "      <td>0.0</td>\n",
       "      <td>0.538</td>\n",
       "      <td>6.575</td>\n",
       "      <td>65.2</td>\n",
       "      <td>4.0900</td>\n",
       "      <td>1.0</td>\n",
       "      <td>296.0</td>\n",
       "      <td>15.3</td>\n",
       "      <td>396.90</td>\n",
       "      <td>4.98</td>\n",
       "    </tr>\n",
       "    <tr>\n",
       "      <th>1</th>\n",
       "      <td>0.02731</td>\n",
       "      <td>0.0</td>\n",
       "      <td>7.07</td>\n",
       "      <td>0.0</td>\n",
       "      <td>0.469</td>\n",
       "      <td>6.421</td>\n",
       "      <td>78.9</td>\n",
       "      <td>4.9671</td>\n",
       "      <td>2.0</td>\n",
       "      <td>242.0</td>\n",
       "      <td>17.8</td>\n",
       "      <td>396.90</td>\n",
       "      <td>9.14</td>\n",
       "    </tr>\n",
       "    <tr>\n",
       "      <th>2</th>\n",
       "      <td>0.02729</td>\n",
       "      <td>0.0</td>\n",
       "      <td>7.07</td>\n",
       "      <td>0.0</td>\n",
       "      <td>0.469</td>\n",
       "      <td>7.185</td>\n",
       "      <td>61.1</td>\n",
       "      <td>4.9671</td>\n",
       "      <td>2.0</td>\n",
       "      <td>242.0</td>\n",
       "      <td>17.8</td>\n",
       "      <td>392.83</td>\n",
       "      <td>4.03</td>\n",
       "    </tr>\n",
       "    <tr>\n",
       "      <th>3</th>\n",
       "      <td>0.03237</td>\n",
       "      <td>0.0</td>\n",
       "      <td>2.18</td>\n",
       "      <td>0.0</td>\n",
       "      <td>0.458</td>\n",
       "      <td>6.998</td>\n",
       "      <td>45.8</td>\n",
       "      <td>6.0622</td>\n",
       "      <td>3.0</td>\n",
       "      <td>222.0</td>\n",
       "      <td>18.7</td>\n",
       "      <td>394.63</td>\n",
       "      <td>2.94</td>\n",
       "    </tr>\n",
       "    <tr>\n",
       "      <th>4</th>\n",
       "      <td>0.06905</td>\n",
       "      <td>0.0</td>\n",
       "      <td>2.18</td>\n",
       "      <td>0.0</td>\n",
       "      <td>0.458</td>\n",
       "      <td>7.147</td>\n",
       "      <td>54.2</td>\n",
       "      <td>6.0622</td>\n",
       "      <td>3.0</td>\n",
       "      <td>222.0</td>\n",
       "      <td>18.7</td>\n",
       "      <td>396.90</td>\n",
       "      <td>5.33</td>\n",
       "    </tr>\n",
       "  </tbody>\n",
       "</table>\n",
       "</div>"
      ],
      "text/plain": [
       "      CRIM    ZN  INDUS  CHAS    NOX     RM   AGE     DIS  RAD    TAX  \\\n",
       "0  0.00632  18.0   2.31   0.0  0.538  6.575  65.2  4.0900  1.0  296.0   \n",
       "1  0.02731   0.0   7.07   0.0  0.469  6.421  78.9  4.9671  2.0  242.0   \n",
       "2  0.02729   0.0   7.07   0.0  0.469  7.185  61.1  4.9671  2.0  242.0   \n",
       "3  0.03237   0.0   2.18   0.0  0.458  6.998  45.8  6.0622  3.0  222.0   \n",
       "4  0.06905   0.0   2.18   0.0  0.458  7.147  54.2  6.0622  3.0  222.0   \n",
       "\n",
       "   PTRATIO       B  LSTAT  \n",
       "0     15.3  396.90   4.98  \n",
       "1     17.8  396.90   9.14  \n",
       "2     17.8  392.83   4.03  \n",
       "3     18.7  394.63   2.94  \n",
       "4     18.7  396.90   5.33  "
      ]
     },
     "execution_count": 4,
     "metadata": {},
     "output_type": "execute_result"
    }
   ],
   "source": [
    "'''\n",
    "NOTE: Make sure to load this data set before completing the assignment\n",
    "'''\n",
    "# Load in the dataset as a Pandas DataFrame\n",
    "\n",
    "data = load_boston()\n",
    "\n",
    "# Print the dataset description\n",
    "df = pd.DataFrame(data.data, columns=data.feature_names)\n",
    "\n",
    "# Preview the first few lines\n",
    "df.head()"
   ]
  },
  {
   "cell_type": "markdown",
   "metadata": {
    "deletable": false,
    "editable": false,
    "nbgrader": {
     "checksum": "e29fd8dfa920e4f9a6c466cb728be47a",
     "grade": false,
     "grade_id": "cell-d60388a84c8fa3d9",
     "locked": true,
     "schema_version": 1,
     "solution": false
    }
   },
   "source": [
    "## Question 1\n",
    "\n",
    "Create a function called `get_kernel` which returns a specific kernel function based on the `kernel_label` string parameter that is passed into the function. \n",
    "\n",
    "Your function should take an input called `kernel_label` which is a string corresponding as follows:\n",
    "- \"rbf\" : [Radial Basis Function](http://scikit-learn.org/stable/modules/generated/sklearn.gaussian_process.kernels.RBF.html)\n",
    "- \"dot_product\": [DotProduct](http://scikit-learn.org/stable/modules/generated/sklearn.gaussian_process.kernels.DotProduct.html)\n",
    "- \"matern\": [Matern](http://scikit-learn.org/stable/modules/generated/sklearn.gaussian_process.kernels.Matern.html)\n",
    "- \"white_kernel\" : [WhiteKernel](http://scikit-learn.org/stable/modules/generated/sklearn.gaussian_process.kernels.WhiteKernel.html)\n",
    "\n",
    "Note, use the default parameters for all of the kernels (i.e., you do not need to specify any kernel parameters)."
   ]
  },
  {
   "cell_type": "code",
   "execution_count": 7,
   "metadata": {
    "deletable": false,
    "nbgrader": {
     "checksum": "edee06213ee49800ab592761934a03b1",
     "grade": false,
     "grade_id": "problem1_answer",
     "locked": false,
     "schema_version": 1,
     "solution": true
    }
   },
   "outputs": [],
   "source": [
    "def get_kernel(kernel_label):\n",
    "    '''    \n",
    "    Get the respective kernel function based on the `kernel_label` parameter.\n",
    "    \n",
    "    Parameters\n",
    "    ----------\n",
    "    kernel_label: A String specifying the type of kernel\n",
    "    \n",
    "    Returns\n",
    "    -------\n",
    "    kernel: A gaussian_process.kernels instance\n",
    "    '''\n",
    "    if kernel_label == 'rbf':\n",
    "        kernel = RBF()\n",
    "    elif kernel_label == 'dot_product':\n",
    "        kernel = DotProduct()\n",
    "    elif kernel_label == 'matern':\n",
    "        kernel = Matern()\n",
    "    else:\n",
    "        kernel = WhiteKernel()\n",
    "\n",
    "    return kernel"
   ]
  },
  {
   "cell_type": "code",
   "execution_count": 8,
   "metadata": {
    "collapsed": true,
    "deletable": false,
    "editable": false,
    "nbgrader": {
     "checksum": "b1158e496962aab0d739124923b7ddd4",
     "grade": true,
     "grade_id": "problem1_test",
     "locked": true,
     "points": 10,
     "schema_version": 1,
     "solution": false
    }
   },
   "outputs": [],
   "source": [
    "assert_true(isinstance(get_kernel('rbf'), RBF))\n",
    "assert_true(isinstance(get_kernel('dot_product'), DotProduct))"
   ]
  },
  {
   "cell_type": "markdown",
   "metadata": {
    "deletable": false,
    "editable": false,
    "nbgrader": {
     "checksum": "6480020add8521565d3d38fed289fd4b",
     "grade": false,
     "grade_id": "cell-544e70cc7b248111",
     "locked": true,
     "schema_version": 1,
     "solution": false
    }
   },
   "source": [
    "## Question 2\n",
    "\n",
    "In this question, we will be creating a Gaussian Regressor in order to predict how the remaining features influence the crime rate (CRIM) in parts of Boston.\n",
    "\n",
    "- Use `train_test_split` to split the `data` and `labels` into training and testing data. Use a `random_state` of 23 for the constructor. Use a test size of `0.3`.\n",
    "- For the kernel parameter for the `GaussianProcessRegressor`, we will define a custom kernel. Namely, use a combination of a `RBF Kernel` + `WhiteKernel`. For the `RBF Kernel`, use a `length_scale` parameter of 1, and for the `WhiteKernel`, use a `noise_level` parameter of 12. In addition for the `GaussianProcessRegressor`, use a `random_state` value of 23 as well.\n",
    "- Fit the model to the training data, and return the gaussian process model."
   ]
  },
  {
   "cell_type": "code",
   "execution_count": 9,
   "metadata": {
    "collapsed": true,
    "deletable": false,
    "nbgrader": {
     "checksum": "5f84d20ed5156ca8e7e2ebfa26f2ebc0",
     "grade": false,
     "grade_id": "problem2_answer",
     "locked": false,
     "schema_version": 1,
     "solution": true
    }
   },
   "outputs": [],
   "source": [
    "def gaussian_regressor(independent_data, dependent_data):\n",
    "    '''\n",
    "    Predict the CRIM rate in Boston using the other features\n",
    "    \n",
    "    Parameters\n",
    "    ----------\n",
    "    data: A pandas.core.frame.DataFrame\n",
    "    labels: A pandas.core.frame.DataFrame\n",
    "    \n",
    "    Returns\n",
    "    -------\n",
    "    A GaussianProcessRegressor object \n",
    "    '''\n",
    "    # Amount held out for testing\n",
    "    frac = 0.3\n",
    "\n",
    "    # Split data intro training:testing data set\n",
    "    ind_train, ind_test, dep_train, dep_test = \\\n",
    "        train_test_split(independent_data, dependent_data, test_size=frac, random_state=23)\n",
    "\n",
    "    # Define custom kernel (Matern + noise)\n",
    "    krnl = RBF(length_scale=1) + WhiteKernel(noise_level=12)\n",
    "\n",
    "    # Create Regressor with specified properties\n",
    "    model = GaussianProcessRegressor(kernel=krnl, random_state=23)\n",
    "    model = model.fit(ind_train, dep_train)\n",
    "    \n",
    "    return model"
   ]
  },
  {
   "cell_type": "code",
   "execution_count": 10,
   "metadata": {
    "collapsed": true,
    "deletable": false,
    "editable": false,
    "nbgrader": {
     "checksum": "487c6d8288fb5106ce83b77af5482383",
     "grade": true,
     "grade_id": "problem2_test",
     "locked": true,
     "points": 10,
     "schema_version": 1,
     "solution": false
    }
   },
   "outputs": [],
   "source": [
    "dependent_data = df.CRIM\n",
    "independent_data = df.drop('CRIM', axis=1)\n",
    "gaussian_model = gaussian_regressor(independent_data, dependent_data)\n",
    "assert_true(isinstance(gaussian_model, GaussianProcessRegressor))"
   ]
  },
  {
   "cell_type": "markdown",
   "metadata": {
    "deletable": false,
    "editable": false,
    "nbgrader": {
     "checksum": "9d6692a010c283072c194a67400e1251",
     "grade": false,
     "grade_id": "cell-ef5687ed65f8cbfb",
     "locked": true,
     "schema_version": 1,
     "solution": false
    }
   },
   "source": [
    "## Question 3\n",
    "\n",
    "In this question, we will determine which kernel combination with `WhiteKernel` with `noise_level=13` will generate the highest score for a `GaussianProcessRegressor`. The kernels we will be considering are `rbf`, `dot_product`, and `matern`.\n",
    "\n",
    "- Iterate through all possible kernel sum combinations with `WhiteKernel` with `noise_level=13`. The first kernel will be either `rbf`, `dot_product`, or `matern`, and the second kernel (`WhiteKernel`) will be added to each of the first 3 to determine the best possible 2 kernel combination (i.e. (RBF + White), (DotProduct + White), or (Matern + White))\n",
    "- Use the `get_kernel` method from question 1 in order to retrieve the kernel instance for the first kernel. This will be checked for in the unit tests.\n",
    "- Create a `GaussianProcessRegressor` for each 2 kernel combination as described above with a `random_state=23` and `fit` the model with the `ind_train` and the `dep_train` parameters that are passed into the function.\n",
    "- Use the `score` method on the `GaussianProcessRegressor` in order to determine the score with the `ind_test` and `dep_test` parameters passed into the function.\n",
    "- Finally, keep track of the `best_score` and the `best_process` after iterating through all possible 2 kernel combinations as mentioned above and return a 2-tuple of (`best_score`, `best_process`). The `best_score` is the highest scoring Gaussian Process."
   ]
  },
  {
   "cell_type": "code",
   "execution_count": 19,
   "metadata": {
    "collapsed": true,
    "deletable": false,
    "nbgrader": {
     "checksum": "5fe5b774356c217d510bbe9a5abc5dcc",
     "grade": false,
     "grade_id": "problem3_answer",
     "locked": false,
     "schema_version": 1,
     "solution": true
    }
   },
   "outputs": [],
   "source": [
    "def get_best_kernel(ind_train, ind_test, dep_train, dep_test):\n",
    "    '''\n",
    "    Get the best 2-kernel combination with WhiteKernel based on the dataset passed into the function.\n",
    "    \n",
    "    Parameters\n",
    "    ----------\n",
    "    ind_train: A pandas.core.frame.DataFrame\n",
    "    ind_test: A pandas.core.frame.DataFrame\n",
    "    dep_train: A pandas.core.series.Series\n",
    "    dep_test: A pandas.core.series.Series\n",
    "    \n",
    "    Returns\n",
    "    -------\n",
    "    A 2-tuple of the best gaussian_process score and the respective GaussianProcessRegressor object\n",
    "    '''\n",
    "    # Define kernels\n",
    "    kernels = [ get_kernel('rbf') + WhiteKernel(noise_level=13),\n",
    "                 get_kernel('dot_product') + WhiteKernel(noise_level=13),\n",
    "                 get_kernel('matern') + WhiteKernel(noise_level=13)]\n",
    "    score_list = []\n",
    "    \n",
    "     # Iterate through different neighbor counts\n",
    "    for idx, k in enumerate(kernels):\n",
    "        \n",
    "        gpr = GaussianProcessRegressor(random_state=23)\n",
    "        \n",
    "        # Now train our model\n",
    "        gpr.set_params(kernel=k, random_state=23)\n",
    "        gpr = gpr.fit(ind_train, dep_train)\n",
    "\n",
    "        #compute the score\n",
    "        score_list.append(gpr.score(ind_test, dep_test))\n",
    "        \n",
    "    best_score = max(score_list)\n",
    "    inx = score_list.index(best_score) \n",
    "    \n",
    "    gpr = GaussianProcessRegressor(random_state=23)\n",
    "    gpr.set_params(kernel=kernels[idx], random_state=23)\n",
    "    gpr = gpr.fit(ind_train, dep_train)   \n",
    "    \n",
    "    return best_score, gpr"
   ]
  },
  {
   "cell_type": "code",
   "execution_count": 20,
   "metadata": {
    "deletable": false,
    "editable": false,
    "nbgrader": {
     "checksum": "b4937a36ea3dd04b1fc59b551804dacb",
     "grade": true,
     "grade_id": "problem3_test",
     "locked": true,
     "points": 10,
     "schema_version": 1,
     "solution": false
    }
   },
   "outputs": [],
   "source": [
    "dependent_data = df.CRIM\n",
    "independent_data = df.drop('CRIM', axis=1)\n",
    "ind_train, ind_test, dep_train, dep_test = train_test_split(independent_data,\n",
    "                                                 dependent_data,\n",
    "                                                 test_size=0.3,\n",
    "                                                 random_state=23)\n",
    "best_score, best_regressor = get_best_kernel(ind_train, ind_test, dep_train, dep_test)\n",
    "assert_true(best_regressor is not None)\n",
    "assert_true(best_score != 0)\n",
    "assert_true(best_regressor.random_state == 23)\n",
    "assert_true(best_regressor.kernel.get_params()['k2__noise_level'] == 13)\n",
    "\n",
    "#used to test whether `get_kernel` has been used for solutions where it has been explicitly specified.\n",
    "orig_get_kernel = get_kernel\n",
    "del get_kernel\n",
    "\n",
    "    # test get_kernel\n",
    "try:\n",
    "    get_best_kernel(ind_train, ind_test, dep_train, dep_test)()\n",
    "\n",
    "    # if an NameError is thrown, that means get_kernel has been used\n",
    "except NameError:\n",
    "    pass\n",
    "\n",
    "    # if no error is thrown, that means get_kernel has not been used\n",
    "else:\n",
    "    raise AssertionError(\"get_kernel has not been used in get_best_kernel\")\n",
    "\n",
    "    # restore the original function\n",
    "finally:\n",
    "    get_kernel = orig_get_kernel\n",
    "    del orig_get_kernel\n",
    "    "
   ]
  },
  {
   "cell_type": "code",
   "execution_count": null,
   "metadata": {
    "collapsed": true
   },
   "outputs": [],
   "source": []
  }
 ],
 "metadata": {
  "kernelspec": {
   "display_name": "Python 3",
   "language": "python",
   "name": "python3"
  },
  "language_info": {
   "codemirror_mode": {
    "name": "ipython",
    "version": 3
   },
   "file_extension": ".py",
   "mimetype": "text/x-python",
   "name": "python",
   "nbconvert_exporter": "python",
   "pygments_lexer": "ipython3",
   "version": "3.6.1"
  }
 },
 "nbformat": 4,
 "nbformat_minor": 2
}
