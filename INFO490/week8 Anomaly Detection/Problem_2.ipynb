{
 "cells": [
  {
   "cell_type": "markdown",
   "metadata": {
    "deletable": false,
    "editable": false,
    "nbgrader": {
     "checksum": "8978373770371abdef3dc90d97f63501",
     "grade": false,
     "grade_id": "header",
     "locked": true,
     "schema_version": 1,
     "solution": false
    }
   },
   "source": [
    "# Week 8 Problem 2\n",
    "\n",
    "A few things you should keep in mind when working on assignments:\n",
    "\n",
    "1. Make sure you fill in any place that says `YOUR CODE HERE`. Do not write your answer in anywhere else other than where it says `YOUR CODE HERE`. Anything you write anywhere else will be removed or overwritten by the autograder.\n",
    "\n",
    "2. Before you submit your assignment, make sure everything runs as expected. Go to menubar, select *Kernel*, and restart the kernel and run all cells (*Restart & Run all*).\n",
    "\n",
    "3. Do not change the title (i.e. file name) of this notebook.\n",
    "\n",
    "4. Make sure that you save your work (in the menubar, select *File* → *Save and CheckPoint*)\n",
    "\n",
    "5. When you are ready to submit your assignment, go to *Dashboard* → *Assignments* and click the *Submit* button. Your work is not submitted until you click *Submit*.\n",
    "\n",
    "6. You are allowed to submit an assignment multiple times, but only the most recent submission will be graded.\n",
    "\n",
    "7. **If your code does not pass the unit tests, it will not pass the autograder.**"
   ]
  },
  {
   "cell_type": "markdown",
   "metadata": {
    "deletable": false,
    "editable": false,
    "nbgrader": {
     "checksum": "7f535caf0d8c17c539942b78b362aeb0",
     "grade": false,
     "grade_id": "cell-f2a8814b67759c3a",
     "locked": true,
     "schema_version": 1,
     "solution": false
    }
   },
   "source": [
    "## Author: John Nguyen\n",
    "### Primary Reviewer: Apurv Garg "
   ]
  },
  {
   "cell_type": "markdown",
   "metadata": {
    "deletable": false,
    "editable": false,
    "nbgrader": {
     "checksum": "8cb73feb5cab3e4a6de86f9393ed9ab1",
     "grade": false,
     "grade_id": "due_date",
     "locked": true,
     "schema_version": 1,
     "solution": false
    }
   },
   "source": [
    "# Due Date: 6 PM, March 12, 2018"
   ]
  },
  {
   "cell_type": "code",
   "execution_count": 1,
   "metadata": {
    "collapsed": true,
    "deletable": false,
    "editable": false,
    "nbgrader": {
     "checksum": "4f48b6fd6c7ae5202e08b3c8e1fde46b",
     "grade": false,
     "grade_id": "import_nose",
     "locked": true,
     "schema_version": 1,
     "solution": false
    }
   },
   "outputs": [],
   "source": [
    "% matplotlib inline\n",
    "\n",
    "import numpy as np\n",
    "import pandas as pd\n",
    "from sklearn.cluster import DBSCAN, KMeans\n",
    "from sklearn.mixture import GaussianMixture\n",
    "from sklearn.preprocessing import StandardScaler\n",
    "from collections import Counter\n",
    "import matplotlib.pyplot as plt\n",
    "import seaborn as sns\n",
    "from nose.tools import assert_equal, assert_in, assert_is_not, assert_is_instance, assert_almost_equal\n",
    "from numpy.testing import assert_array_equal, assert_array_almost_equal\n",
    "from pandas.util.testing import assert_frame_equal, assert_index_equal"
   ]
  },
  {
   "cell_type": "markdown",
   "metadata": {
    "deletable": false,
    "editable": false,
    "nbgrader": {
     "checksum": "a5e8c2190adad28f73db03310976ef44",
     "grade": false,
     "grade_id": "cell-55f5152c9112ef90",
     "locked": true,
     "schema_version": 1,
     "solution": false
    }
   },
   "source": [
    "# Anomaly Detection using Clustering\n",
    "\n",
    "Recall that clustering is an unsupervised machine learning task of grouping similar objects. In this assignment, we will detect anomalies by grouping common patterns together using clustering methods which you should've already been familiar with.\n",
    "\n",
    "We will use [Wholesale Customer dataset](https://archive.ics.uci.edu/ml/datasets/Wholesale+customers) which contains spending of wholesale distributors for different types of products."
   ]
  },
  {
   "cell_type": "code",
   "execution_count": 2,
   "metadata": {
    "deletable": false,
    "editable": false,
    "nbgrader": {
     "checksum": "7345a3665f2a18f2dd7fb4e4e3f18351",
     "grade": false,
     "grade_id": "cell-c605871f65f61a12",
     "locked": true,
     "schema_version": 1,
     "solution": false
    }
   },
   "outputs": [
    {
     "data": {
      "text/html": [
       "<div>\n",
       "<style>\n",
       "    .dataframe thead tr:only-child th {\n",
       "        text-align: right;\n",
       "    }\n",
       "\n",
       "    .dataframe thead th {\n",
       "        text-align: left;\n",
       "    }\n",
       "\n",
       "    .dataframe tbody tr th {\n",
       "        vertical-align: top;\n",
       "    }\n",
       "</style>\n",
       "<table border=\"1\" class=\"dataframe\">\n",
       "  <thead>\n",
       "    <tr style=\"text-align: right;\">\n",
       "      <th></th>\n",
       "      <th>Fresh</th>\n",
       "      <th>Milk</th>\n",
       "      <th>Grocery</th>\n",
       "      <th>Frozen</th>\n",
       "      <th>Detergents_Paper</th>\n",
       "      <th>Delicassen</th>\n",
       "    </tr>\n",
       "  </thead>\n",
       "  <tbody>\n",
       "    <tr>\n",
       "      <th>0</th>\n",
       "      <td>12669</td>\n",
       "      <td>9656</td>\n",
       "      <td>7561</td>\n",
       "      <td>214</td>\n",
       "      <td>2674</td>\n",
       "      <td>1338</td>\n",
       "    </tr>\n",
       "    <tr>\n",
       "      <th>1</th>\n",
       "      <td>7057</td>\n",
       "      <td>9810</td>\n",
       "      <td>9568</td>\n",
       "      <td>1762</td>\n",
       "      <td>3293</td>\n",
       "      <td>1776</td>\n",
       "    </tr>\n",
       "    <tr>\n",
       "      <th>2</th>\n",
       "      <td>6353</td>\n",
       "      <td>8808</td>\n",
       "      <td>7684</td>\n",
       "      <td>2405</td>\n",
       "      <td>3516</td>\n",
       "      <td>7844</td>\n",
       "    </tr>\n",
       "    <tr>\n",
       "      <th>3</th>\n",
       "      <td>13265</td>\n",
       "      <td>1196</td>\n",
       "      <td>4221</td>\n",
       "      <td>6404</td>\n",
       "      <td>507</td>\n",
       "      <td>1788</td>\n",
       "    </tr>\n",
       "    <tr>\n",
       "      <th>4</th>\n",
       "      <td>22615</td>\n",
       "      <td>5410</td>\n",
       "      <td>7198</td>\n",
       "      <td>3915</td>\n",
       "      <td>1777</td>\n",
       "      <td>5185</td>\n",
       "    </tr>\n",
       "  </tbody>\n",
       "</table>\n",
       "</div>"
      ],
      "text/plain": [
       "   Fresh  Milk  Grocery  Frozen  Detergents_Paper  Delicassen\n",
       "0  12669  9656     7561     214              2674        1338\n",
       "1   7057  9810     9568    1762              3293        1776\n",
       "2   6353  8808     7684    2405              3516        7844\n",
       "3  13265  1196     4221    6404               507        1788\n",
       "4  22615  5410     7198    3915              1777        5185"
      ]
     },
     "execution_count": 2,
     "metadata": {},
     "output_type": "execute_result"
    }
   ],
   "source": [
    "# Load in the dataset\n",
    "wholesale_data = pd.read_csv(\"/home/data_scientist/data/misc/wholesale_data.csv\")\n",
    "\n",
    "# Drop the first two columns which is used for classification\n",
    "wholesale_data.drop([\"Channel\", \"Region\"], axis = 1, inplace = True)\n",
    "\n",
    "# Preview the data\n",
    "wholesale_data.head()"
   ]
  },
  {
   "cell_type": "markdown",
   "metadata": {
    "deletable": false,
    "editable": false,
    "nbgrader": {
     "checksum": "7f19f9f0a0845bf407f5d8b7368888eb",
     "grade": false,
     "grade_id": "cell-9401f26dd5db1e8f",
     "locked": true,
     "schema_version": 1,
     "solution": false
    }
   },
   "source": [
    "Let us view a sample of the data labeled \"Fresh\" and \"Milk\". We see that there are several outliers in the plot. With clustering, we will identify the main cluster of wholesalers as well as wholesalers with more unusual  purchasing."
   ]
  },
  {
   "cell_type": "code",
   "execution_count": 3,
   "metadata": {
    "deletable": false,
    "editable": false,
    "nbgrader": {
     "checksum": "0f35f135dceddb6e103806b087cc7d4e",
     "grade": false,
     "grade_id": "cell-59c6c7fb3c210526",
     "locked": true,
     "schema_version": 1,
     "solution": false
    }
   },
   "outputs": [
    {
     "data": {
      "image/png": "[encoded data removed]",
      "text/plain": [
       "<matplotlib.figure.Figure at 0x7f11505ab358>"
      ]
     },
     "metadata": {},
     "output_type": "display_data"
    }
   ],
   "source": [
    "# Obtain the features\n",
    "data = wholesale_data[wholesale_data.columns]\n",
    "stscaler = StandardScaler().fit(data)\n",
    "data = stscaler.transform(data)\n",
    "\n",
    "plt.scatter(data[:,0], data[:,1])\n",
    "plt.xlabel(\"Fresh\")\n",
    "plt.ylabel(\"Milk\");"
   ]
  },
  {
   "cell_type": "code",
   "execution_count": 4,
   "metadata": {
    "collapsed": true,
    "deletable": false,
    "editable": false,
    "nbgrader": {
     "checksum": "d4c4b1927b9bfcb9ce15a9e34161883f",
     "grade": false,
     "grade_id": "cell-34524c8b976f8ae3",
     "locked": true,
     "schema_version": 1,
     "solution": false
    }
   },
   "outputs": [],
   "source": [
    "# This function will help us visualize the results.\n",
    "def make_plot(df, axs, lbl, c, m):\n",
    "    \n",
    "    # Extract Sepal Width for given label\n",
    "    xx = df[df.Label==lbl][['Fresh']]\n",
    "    \n",
    "    # Extract Sepal Length for given label\n",
    "    yy = df[df.Label==lbl][['Milk']]\n",
    "    \n",
    "    # Plot sepal width versus sepal length\n",
    "    axs.scatter(xx, yy, color=c, marker=m, alpha =0.75, s=60, \n",
    "                label='Class={0}'.format(lbl))\n"
   ]
  },
  {
   "cell_type": "markdown",
   "metadata": {
    "collapsed": true,
    "deletable": false,
    "editable": false,
    "nbgrader": {
     "checksum": "762eb63d19f2f1a011e15e9d6996d17f",
     "grade": false,
     "grade_id": "prob1",
     "locked": true,
     "schema_version": 1,
     "solution": false
    }
   },
   "source": [
    "## Question 1\n",
    " \n",
    "Use [DBSCAN](http://scikit-learn.org/stable/modules/generated/sklearn.cluster.DBSCAN.html) to cluster the wholesale customer data. Your function should take into the epsilon threshold specifying the maximum distance between samples as well as the minimum number of samples. Fit the model to the data and output the DBSCAN model instance and cluster labels."
   ]
  },
  {
   "cell_type": "code",
   "execution_count": 7,
   "metadata": {
    "collapsed": true,
    "deletable": false,
    "nbgrader": {
     "checksum": "ad6cdc9cca206195a4e71511a8f654e1",
     "grade": false,
     "grade_id": "prob1_answer",
     "locked": false,
     "schema_version": 1,
     "solution": true
    }
   },
   "outputs": [],
   "source": [
    "def DBSCAN_model(data, epsilon, num_sample):\n",
    "    '''    \n",
    "    Parameters\n",
    "    ----------\n",
    "    data: A numpy.ndarray\n",
    "    epsilon: A float specifying the maximum distance between two samples\n",
    "    num_sample: A int specifying the minimum number of samples in the neighborhood\n",
    "    \n",
    "    Returns\n",
    "    -------\n",
    "    model: A sklearn.cluster.DBSCAN instance\n",
    "    result: A numpy.ndarray of the labels\n",
    "    '''\n",
    "    \n",
    "    # YOUR CODE HERE\n",
    "    \n",
    "    model = DBSCAN(eps=epsilon, min_samples=num_sample)\n",
    "    model.fit(data)\n",
    "\n",
    "    result = model.labels_\n",
    "    \n",
    "    return model, result"
   ]
  },
  {
   "cell_type": "code",
   "execution_count": 8,
   "metadata": {
    "deletable": false,
    "editable": false,
    "nbgrader": {
     "checksum": "737c01b47bc150ee7c8ed1171a6e9b50",
     "grade": true,
     "grade_id": "prob1_grade",
     "locked": true,
     "points": 10,
     "schema_version": 1,
     "solution": false
    }
   },
   "outputs": [],
   "source": [
    "dbs_model, dbs_labels = DBSCAN_model(data, 0.5, 10)\n",
    "assert_equal(type(dbs_model), DBSCAN)\n",
    "assert_equal(type(dbs_labels), np.ndarray)\n",
    "assert_equal(dbs_model.eps, 0.5)\n",
    "assert_equal(dbs_model.min_samples, 10)\n",
    "assert_equal(len(dbs_labels), 440)\n",
    "\n",
    "dbs_model2, dbs_labels2 = DBSCAN_model(data, 0.25, 15)\n",
    "assert_equal(type(dbs_model2), DBSCAN)\n",
    "assert_equal(type(dbs_labels2), np.ndarray)\n",
    "assert_equal(dbs_model2.eps, 0.25)\n",
    "assert_equal(dbs_model2.min_samples, 15)\n",
    "assert_equal(len(dbs_labels2), 440)"
   ]
  },
  {
   "cell_type": "code",
   "execution_count": 9,
   "metadata": {
    "deletable": false,
    "editable": false,
    "nbgrader": {
     "checksum": "cf1860e7d015276cdbde8c9d88d5bb1e",
     "grade": false,
     "grade_id": "cell-bdf19bafa5dfc276",
     "locked": true,
     "schema_version": 1,
     "solution": false
    }
   },
   "outputs": [
    {
     "name": "stdout",
     "output_type": "stream",
     "text": [
      "DBSCAN Cluster membership.\n",
      "------------------------------\n",
      "Noise Cluster :   54 members\n",
      "Cluster 0     :  386 members\n"
     ]
    }
   ],
   "source": [
    "dbs_model, dbs_labels = DBSCAN_model(data, 1, 10)\n",
    "\n",
    "cnt =  Counter(np.sort(dbs_labels))\n",
    "\n",
    "# Display the results of the clustering\n",
    "print('DBSCAN Cluster membership.')\n",
    "print(30*'-')\n",
    "for itm in cnt:\n",
    "    if itm < 0:\n",
    "        print(f'Noise Cluster : {cnt[itm]:>4d} members')\n",
    "    else:\n",
    "        print(f'Cluster {itm}     : {cnt[itm]:>4d} members')"
   ]
  },
  {
   "cell_type": "markdown",
   "metadata": {
    "deletable": false,
    "editable": false,
    "nbgrader": {
     "checksum": "4e95a61c51131c32aea34bc19412524b",
     "grade": false,
     "grade_id": "cell-8653fe06ca45fb84",
     "locked": true,
     "schema_version": 1,
     "solution": false
    }
   },
   "source": [
    "Let us plot the result for \"Fresh\" and \"Milk\" to see if the outliers were properly identified."
   ]
  },
  {
   "cell_type": "code",
   "execution_count": 10,
   "metadata": {
    "deletable": false,
    "editable": false,
    "nbgrader": {
     "checksum": "12b51efbcff3c548d72d025f637c71ae",
     "grade": false,
     "grade_id": "cell-5b7597736fcd7018",
     "locked": true,
     "schema_version": 1,
     "solution": false
    }
   },
   "outputs": [
    {
     "data": {
      "image/png": "[encoded data removed]",
      "text/plain": [
       "<matplotlib.figure.Figure at 0x7f10fcf9a550>"
      ]
     },
     "metadata": {},
     "output_type": "display_data"
    }
   ],
   "source": [
    "# Create Data Frame from clustered data, rename columns for simplicity\n",
    "df = pd.DataFrame({'Fresh': data[:,0], 'Milk': data[:,1], 'Label': dbs_labels})\n",
    "\n",
    "# Create figure\n",
    "fig, axs = plt.subplots(figsize=(5, 5))\n",
    "\n",
    "# Define color and markers for plots (assume only four clusters)\n",
    "ca = [sns.xkcd_rgb['denim blue'], sns.xkcd_rgb['pale red'], \n",
    "      sns.xkcd_rgb['medium green'], sns.xkcd_rgb['dusty purple']]\n",
    "ma = ['o', '<', '>', '^']\n",
    "\n",
    "# Iterate through clusters\n",
    "for idx, lbl in enumerate(np.unique(dbs_labels)):\n",
    "    make_plot(df, axs, lbl, ca[idx], ma[idx])\n",
    "\n",
    "# Decorate plot\n",
    "axs.legend(loc=4)\n",
    "axs.set_xlabel('Fresh')\n",
    "axs.set_ylabel('Milk')\n",
    "sns.despine(offset=10, trim=True)"
   ]
  },
  {
   "cell_type": "markdown",
   "metadata": {
    "deletable": false,
    "editable": false,
    "nbgrader": {
     "checksum": "f097e8a4942b7302834c13987d3fa8e8",
     "grade": false,
     "grade_id": "cell-f07ac461f8f4e257",
     "locked": true,
     "schema_version": 1,
     "solution": false
    }
   },
   "source": [
    "We see from the above plot that the threshold and the minimum number of samples chosen gave very good results. If we change these parameters we would get a totally different results which might not be as good. Let us try other clustering algorithms."
   ]
  },
  {
   "cell_type": "markdown",
   "metadata": {
    "collapsed": true,
    "deletable": false,
    "editable": false,
    "nbgrader": {
     "checksum": "be57ed540f082d30cd1fecd78fec5a14",
     "grade": false,
     "grade_id": "prob2",
     "locked": true,
     "schema_version": 1,
     "solution": false
    }
   },
   "source": [
    "## Question 2\n",
    "\n",
    "Use [k-means](http://scikit-learn.org/stable/modules/generated/sklearn.cluster.KMeans.html) to cluster the wholesale customer data. Your function should take into the number of clusters as a parameter. Fit the model to the data and output the KMeans model instance and cluster labels. Be sure to set the random state to be 0."
   ]
  },
  {
   "cell_type": "code",
   "execution_count": 11,
   "metadata": {
    "collapsed": true,
    "deletable": false,
    "nbgrader": {
     "checksum": "7d1dd86bcd60342ab3bcaffebca11fce",
     "grade": false,
     "grade_id": "prob2_answer",
     "locked": false,
     "schema_version": 1,
     "solution": true
    }
   },
   "outputs": [],
   "source": [
    "def kmeans_model(data, k):\n",
    "    '''    \n",
    "    Parameters\n",
    "    ----------\n",
    "    data: A numpy.ndarray\n",
    "    k: A int specifying the number of clusters\n",
    "    \n",
    "    Returns\n",
    "    -------\n",
    "    model: A sklearn.cluster.DBSCAN instance\n",
    "    result: A numpy.ndarray of the labels\n",
    "    '''\n",
    "\n",
    "    # YOUR CODE HERE\n",
    "    model = KMeans(n_clusters=k, random_state=0)\n",
    "    model.fit(data)\n",
    "    result = model.labels_\n",
    "\n",
    "    return model, result"
   ]
  },
  {
   "cell_type": "code",
   "execution_count": 12,
   "metadata": {
    "collapsed": true,
    "deletable": false,
    "editable": false,
    "nbgrader": {
     "checksum": "bd84a0233cdb18aaf227949a232d5490",
     "grade": true,
     "grade_id": "prob2_grade",
     "locked": true,
     "points": 10,
     "schema_version": 1,
     "solution": false
    }
   },
   "outputs": [],
   "source": [
    "kmeans_model1, kmeans_labels = kmeans_model(data, 2)\n",
    "assert_equal(type(kmeans_model1), KMeans)\n",
    "assert_equal(type(kmeans_labels), np.ndarray)\n",
    "assert_equal(kmeans_model1.n_clusters, 2)\n",
    "assert_equal(kmeans_model1.random_state, 0)\n",
    "assert_equal(len(kmeans_labels), 440)\n",
    "\n",
    "kmeans_model2, kmeans_labels2 = kmeans_model(data, 3)\n",
    "assert_equal(type(kmeans_model2), KMeans)\n",
    "assert_equal(type(kmeans_labels2), np.ndarray)\n",
    "assert_equal(kmeans_model2.n_clusters, 3)\n",
    "assert_equal(kmeans_model2.random_state, 0)\n",
    "assert_equal(len(kmeans_labels2), 440)"
   ]
  },
  {
   "cell_type": "code",
   "execution_count": 13,
   "metadata": {
    "deletable": false,
    "editable": false,
    "nbgrader": {
     "checksum": "6310d909cbc4d240da41e3e6a5b722d2",
     "grade": false,
     "grade_id": "cell-fea10f6d611458e0",
     "locked": true,
     "schema_version": 1,
     "solution": false
    }
   },
   "outputs": [
    {
     "name": "stdout",
     "output_type": "stream",
     "text": [
      "k-means Cluster membership.\n",
      "------------------------------\n",
      "Cluster 0     :   36 members\n",
      "Cluster 1     :  404 members\n"
     ]
    }
   ],
   "source": [
    "kmeans_model1, kmeans_labels = kmeans_model(data, 2)\n",
    "\n",
    "cnt =  Counter(np.sort(kmeans_labels))\n",
    "\n",
    "# Display the results of the clustering\n",
    "print('k-means Cluster membership.')\n",
    "print(30*'-')\n",
    "for itm in cnt:\n",
    "    if itm < 0:\n",
    "        print(f'Noise Cluster : {cnt[itm]:>4d} members')\n",
    "    else:\n",
    "        print(f'Cluster {itm}     : {cnt[itm]:>4d} members')"
   ]
  },
  {
   "cell_type": "markdown",
   "metadata": {
    "deletable": false,
    "editable": false,
    "nbgrader": {
     "checksum": "9b74be709732196056631330001e0cf6",
     "grade": false,
     "grade_id": "cell-59e4837e92fa1e18",
     "locked": true,
     "schema_version": 1,
     "solution": false
    }
   },
   "source": [
    "From the above results, we see that k-means seems slightly better than DBSCAN when k=2. Let us also look at the plot to see if this is true."
   ]
  },
  {
   "cell_type": "code",
   "execution_count": 14,
   "metadata": {
    "deletable": false,
    "editable": false,
    "nbgrader": {
     "checksum": "aee8e05041a33d6dfb270003da5df91d",
     "grade": false,
     "grade_id": "cell-d65140dd120dfaa7",
     "locked": true,
     "schema_version": 1,
     "solution": false
    }
   },
   "outputs": [
    {
     "data": {
      "image/png": "[encoded data removed]",
      "text/plain": [
       "<matplotlib.figure.Figure at 0x7f10fcf9aba8>"
      ]
     },
     "metadata": {},
     "output_type": "display_data"
    }
   ],
   "source": [
    "# Create Data Frame from clustered data, rename columns for simplicity\n",
    "df = pd.DataFrame({'Fresh': data[:,0], 'Milk': data[:,1], 'Label': kmeans_labels})\n",
    "\n",
    "# Create figure\n",
    "fig, axs = plt.subplots(figsize=(5, 5))\n",
    "\n",
    "# Define color and markers for plots (assume only four clusters)\n",
    "ca = [sns.xkcd_rgb['denim blue'], sns.xkcd_rgb['pale red'], \n",
    "      sns.xkcd_rgb['medium green'], sns.xkcd_rgb['dusty purple']]\n",
    "ma = ['o', '<', '>', '^']\n",
    "\n",
    "# Iterate through clusters\n",
    "for idx, lbl in enumerate(np.unique(kmeans_labels)):\n",
    "    make_plot(df, axs, lbl, ca[idx], ma[idx])\n",
    "\n",
    "# Decorate plot\n",
    "axs.legend(loc=4)\n",
    "axs.set_xlabel('Fresh')\n",
    "axs.set_ylabel('Milk')\n",
    "sns.despine(offset=10, trim=True)"
   ]
  },
  {
   "cell_type": "markdown",
   "metadata": {
    "deletable": false,
    "editable": false,
    "nbgrader": {
     "checksum": "4f96b203b20ec00ff5c50bb2c127e6ae",
     "grade": false,
     "grade_id": "cell-dd9cc97ba1e44ecc",
     "locked": true,
     "schema_version": 1,
     "solution": false
    }
   },
   "source": [
    "Recall from the notebook in Week 7 that we'd used Gaussian Mixture Model (GMM) for the purpose of classification. We can also use GMM for clustering for anomaly detection."
   ]
  },
  {
   "cell_type": "markdown",
   "metadata": {
    "deletable": false,
    "editable": false,
    "nbgrader": {
     "checksum": "8bf97e336777c9f4f2bf98045f532605",
     "grade": false,
     "grade_id": "prob3",
     "locked": true,
     "schema_version": 1,
     "solution": false
    }
   },
   "source": [
    "## Question 3\n",
    "\n",
    "Use [GMM](http://scikit-learn.org/stable/modules/generated/sklearn.mixture.GaussianMixture.html) to cluster the wholesale customer data. Note, this means fitting and making prediction on the same set of data.\n",
    "\n",
    "Your function should take into the number of components to output the GMM model instance and cluster means. Be sure to set the covariance type to be \"full\" and random state to be 0. Keep all of the other parameters as the default. Fit the model to the data and return your predictions."
   ]
  },
  {
   "cell_type": "code",
   "execution_count": 15,
   "metadata": {
    "collapsed": true,
    "deletable": false,
    "nbgrader": {
     "checksum": "773b20015ee12a9a01cd896391f630a2",
     "grade": false,
     "grade_id": "prob3_answer",
     "locked": false,
     "schema_version": 1,
     "solution": true
    }
   },
   "outputs": [],
   "source": [
    "def GMM_model(data, num_components):\n",
    "    '''    \n",
    "    Parameters\n",
    "    ----------\n",
    "    data: A numpy.ndarray\n",
    "    num_components: A int specifying the number of components\n",
    "    \n",
    "    Returns\n",
    "    -------\n",
    "    model: An sklearn.mixture.gaussian_mixture.GaussianMixture instance\n",
    "    prediction: A numpy.ndarray of predictions\n",
    "    '''\n",
    "\n",
    "    # YOUR CODE HERE\n",
    "    model = GaussianMixture(n_components=num_components, covariance_type='full', random_state = 0)\n",
    "    model.fit(data)\n",
    "    \n",
    "    result = model.predict(data)\n",
    "\n",
    "    return model, result"
   ]
  },
  {
   "cell_type": "code",
   "execution_count": 16,
   "metadata": {
    "collapsed": true,
    "deletable": false,
    "editable": false,
    "nbgrader": {
     "checksum": "ae1bbd1b7c7bffc4104e89b77eac62ed",
     "grade": true,
     "grade_id": "prob3_grade",
     "locked": true,
     "points": 10,
     "schema_version": 1,
     "solution": false
    }
   },
   "outputs": [],
   "source": [
    "gmm_model1, gmm_predictions = GMM_model(data, 2)\n",
    "assert_equal(type(gmm_model1), GaussianMixture)\n",
    "assert_equal(type(gmm_predictions), np.ndarray)\n",
    "assert_equal(gmm_model1.n_components, 2)\n",
    "assert_equal(gmm_model1.random_state, 0)\n",
    "assert_equal(len(gmm_predictions), 440)\n",
    "\n",
    "gmm_model2, gmm_predictions2 = GMM_model(data, 3)\n",
    "assert_equal(type(gmm_model2), GaussianMixture)\n",
    "assert_equal(type(gmm_predictions2), np.ndarray)\n",
    "assert_equal(gmm_model2.n_components, 3)\n",
    "assert_equal(gmm_model2.random_state, 0)\n",
    "assert_equal(len(gmm_predictions2), 440)"
   ]
  },
  {
   "cell_type": "code",
   "execution_count": 17,
   "metadata": {
    "deletable": false,
    "editable": false,
    "nbgrader": {
     "checksum": "56a9abe848498a2848307d709caf094c",
     "grade": false,
     "grade_id": "cell-4dbefa900894b367",
     "locked": true,
     "schema_version": 1,
     "solution": false
    }
   },
   "outputs": [
    {
     "name": "stdout",
     "output_type": "stream",
     "text": [
      "GMM Cluster membership.\n",
      "------------------------------\n",
      "Cluster 0     :  354 members\n",
      "Cluster 1     :   86 members\n"
     ]
    }
   ],
   "source": [
    "gmm_model1, gmm_predictions = GMM_model(data, 2)\n",
    "\n",
    "cnt =  Counter(np.sort(gmm_predictions))\n",
    "\n",
    "# Display the results of the clustering\n",
    "print('GMM Cluster membership.')\n",
    "print(30*'-')\n",
    "for itm in cnt:\n",
    "    if itm < 0:\n",
    "        print(f'Noise Cluster : {cnt[itm]:>4d} members')\n",
    "    else:\n",
    "        print(f'Cluster {itm}     : {cnt[itm]:>4d} members')"
   ]
  },
  {
   "cell_type": "code",
   "execution_count": 18,
   "metadata": {
    "deletable": false,
    "editable": false,
    "nbgrader": {
     "checksum": "706bcddc472dfc76a36adb52afb6f825",
     "grade": false,
     "grade_id": "cell-f955826e08630359",
     "locked": true,
     "schema_version": 1,
     "solution": false
    }
   },
   "outputs": [
    {
     "data": {
      "image/png": "[encoded data removed]",
      "text/plain": [
       "<matplotlib.figure.Figure at 0x7f10f36075f8>"
      ]
     },
     "metadata": {},
     "output_type": "display_data"
    }
   ],
   "source": [
    "# Create Data Frame from clustered data, rename columns for simplicity\n",
    "df = pd.DataFrame({'Fresh': data[:,0], 'Milk': data[:,1], 'Label': gmm_predictions})\n",
    "\n",
    "# Create figure\n",
    "fig, axs = plt.subplots(figsize=(5, 5))\n",
    "\n",
    "# Define color and markers for plots (assume only four clusters)\n",
    "ca = [sns.xkcd_rgb['denim blue'], sns.xkcd_rgb['pale red'], \n",
    "      sns.xkcd_rgb['medium green'], sns.xkcd_rgb['dusty purple']]\n",
    "ma = ['o', '<', '>', '^']\n",
    "\n",
    "# Iterate through clusters\n",
    "for idx, lbl in enumerate(np.unique(kmeans_labels)):\n",
    "    make_plot(df, axs, lbl, ca[idx], ma[idx])\n",
    "\n",
    "# Decorate plot\n",
    "axs.legend(loc=4)\n",
    "axs.set_xlabel('Fresh')\n",
    "axs.set_ylabel('Milk')\n",
    "sns.despine(offset=10, trim=True)"
   ]
  },
  {
   "cell_type": "markdown",
   "metadata": {
    "deletable": false,
    "editable": false,
    "nbgrader": {
     "checksum": "11a4b3a928b9909fb11759d152b1dcec",
     "grade": false,
     "grade_id": "cell-7fb1b6843e47e670",
     "locked": true,
     "schema_version": 1,
     "solution": false
    }
   },
   "source": [
    "As you can see, GMM does not perform very well compared to the other two methods for this particular example."
   ]
  }
 ],
 "metadata": {
  "kernelspec": {
   "display_name": "Python 3",
   "language": "python",
   "name": "python3"
  },
  "language_info": {
   "codemirror_mode": {
    "name": "ipython",
    "version": 3
   },
   "file_extension": ".py",
   "mimetype": "text/x-python",
   "name": "python",
   "nbconvert_exporter": "python",
   "pygments_lexer": "ipython3",
   "version": "3.6.1"
  }
 },
 "nbformat": 4,
 "nbformat_minor": 2
}
