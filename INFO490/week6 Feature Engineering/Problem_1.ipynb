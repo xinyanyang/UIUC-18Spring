{
 "cells": [
  {
   "cell_type": "markdown",
   "metadata": {
    "deletable": false,
    "editable": false,
    "nbgrader": {
     "checksum": "2353f9dea433200094773c11fedb29b4",
     "grade": false,
     "grade_id": "header",
     "locked": true,
     "schema_version": 1,
     "solution": false
    }
   },
   "source": [
    "# Week 6 Problem 1\n",
    "\n",
    "A few things you should keep in mind when working on assignments:\n",
    "\n",
    "1. Make sure you fill in any place that says `YOUR CODE HERE`. Do not write your answer in anywhere else other than where it says `YOUR CODE HERE`. Anything you write anywhere else will be removed or overwritten by the autograder.\n",
    "\n",
    "2. Before you submit your assignment, make sure everything runs as expected. Go to menubar, select *Kernel*, and restart the kernel and run all cells (*Restart & Run all*).\n",
    "\n",
    "3. Do not change the title (i.e. file name) of this notebook.\n",
    "\n",
    "4. Make sure that you save your work (in the menubar, select *File* → *Save and CheckPoint*)\n",
    "\n",
    "5. When you are ready to submit your assignment, go to *Dashboard* → *Assignments* and click the *Submit* button. Your work is not submitted until you click *Submit*.\n",
    "\n",
    "6. You are allowed to submit an assignment multiple times, but only the most recent submission will be graded.\n",
    "\n",
    "7. **If your code does not pass the unit tests, it will not pass the autograder.**"
   ]
  },
  {
   "cell_type": "markdown",
   "metadata": {
    "deletable": false,
    "editable": false,
    "nbgrader": {
     "checksum": "bbe9250bb7d375161b27706eb414902b",
     "grade": false,
     "grade_id": "due_date",
     "locked": true,
     "schema_version": 1,
     "solution": false
    }
   },
   "source": [
    "# Due Date: 6 PM, February 26, 2018"
   ]
  },
  {
   "cell_type": "code",
   "execution_count": 1,
   "metadata": {
    "collapsed": true,
    "deletable": false,
    "editable": false,
    "nbgrader": {
     "checksum": "7c868ae6f4f2b3c0746180fb53c351e6",
     "grade": false,
     "grade_id": "imports",
     "locked": true,
     "schema_version": 1,
     "solution": false
    }
   },
   "outputs": [],
   "source": [
    "import numpy as np\n",
    "import pandas as pd\n",
    "\n",
    "import matplotlib as mpl\n",
    "import matplotlib.pyplot as plt\n",
    "import seaborn as sns\n",
    "\n",
    "from sklearn.model_selection import train_test_split\n",
    "from sklearn.feature_selection import VarianceThreshold, SelectKBest, chi2, f_classif, mutual_info_classif, RFE\n",
    "from sklearn.preprocessing import RobustScaler, Imputer\n",
    "from sklearn.svm import SVC, LinearSVC\n",
    "\n",
    "from nose.tools import assert_equal, assert_true, assert_false, assert_almost_equal\n",
    "import numpy.testing as npt\n"
   ]
  },
  {
   "cell_type": "markdown",
   "metadata": {
    "deletable": false,
    "editable": false,
    "nbgrader": {
     "checksum": "d45351e3602e4646f3fc841124508567",
     "grade": false,
     "grade_id": "cell-95b1124f10a5de58",
     "locked": true,
     "schema_version": 1,
     "solution": false
    }
   },
   "source": [
    "The cell below reads in a simulated dataset where y is an unknown function of a, b, and c."
   ]
  },
  {
   "cell_type": "code",
   "execution_count": 2,
   "metadata": {
    "deletable": false,
    "editable": false,
    "nbgrader": {
     "checksum": "125dd36f1298a4c98e126deb75d335f7",
     "grade": false,
     "grade_id": "cell-ba9be69218e8a7c4",
     "locked": true,
     "schema_version": 1,
     "solution": false
    }
   },
   "outputs": [
    {
     "data": {
      "text/html": [
       "<div>\n",
       "<style>\n",
       "    .dataframe thead tr:only-child th {\n",
       "        text-align: right;\n",
       "    }\n",
       "\n",
       "    .dataframe thead th {\n",
       "        text-align: left;\n",
       "    }\n",
       "\n",
       "    .dataframe tbody tr th {\n",
       "        vertical-align: top;\n",
       "    }\n",
       "</style>\n",
       "<table border=\"1\" class=\"dataframe\">\n",
       "  <thead>\n",
       "    <tr style=\"text-align: right;\">\n",
       "      <th></th>\n",
       "      <th>a</th>\n",
       "      <th>b</th>\n",
       "      <th>c</th>\n",
       "      <th>y</th>\n",
       "    </tr>\n",
       "  </thead>\n",
       "  <tbody>\n",
       "    <tr>\n",
       "      <th>0</th>\n",
       "      <td>0.004539</td>\n",
       "      <td>0.818678</td>\n",
       "      <td>194.381891</td>\n",
       "      <td>0</td>\n",
       "    </tr>\n",
       "    <tr>\n",
       "      <th>1</th>\n",
       "      <td>0.001367</td>\n",
       "      <td>0.243724</td>\n",
       "      <td>245.378577</td>\n",
       "      <td>0</td>\n",
       "    </tr>\n",
       "    <tr>\n",
       "      <th>2</th>\n",
       "      <td>1.579454</td>\n",
       "      <td>0.465842</td>\n",
       "      <td>849.943583</td>\n",
       "      <td>0</td>\n",
       "    </tr>\n",
       "    <tr>\n",
       "      <th>3</th>\n",
       "      <td>7.189778</td>\n",
       "      <td>0.456895</td>\n",
       "      <td>129.707932</td>\n",
       "      <td>0</td>\n",
       "    </tr>\n",
       "    <tr>\n",
       "      <th>4</th>\n",
       "      <td>97.743634</td>\n",
       "      <td>0.319419</td>\n",
       "      <td>120.998294</td>\n",
       "      <td>1</td>\n",
       "    </tr>\n",
       "  </tbody>\n",
       "</table>\n",
       "</div>"
      ],
      "text/plain": [
       "           a         b           c  y\n",
       "0   0.004539  0.818678  194.381891  0\n",
       "1   0.001367  0.243724  245.378577  0\n",
       "2   1.579454  0.465842  849.943583  0\n",
       "3   7.189778  0.456895  129.707932  0\n",
       "4  97.743634  0.319419  120.998294  1"
      ]
     },
     "execution_count": 2,
     "metadata": {},
     "output_type": "execute_result"
    }
   ],
   "source": [
    "df = pd.read_csv('/home/data_scientist/data/misc/sim.data')\n",
    "df.head()"
   ]
  },
  {
   "cell_type": "markdown",
   "metadata": {
    "deletable": false,
    "editable": false,
    "nbgrader": {
     "checksum": "2323e85da77a7b3f205e5c442ec2453e",
     "grade": false,
     "grade_id": "prob1_1-desc",
     "locked": true,
     "schema_version": 1,
     "solution": false
    }
   },
   "source": [
    "### Problem 1.1\n",
    "For Problem 1.1 complete the function f_eng performing a 80/20 split on the training/testing features and labels. Fit a RobustScaler on the training features and transform the training and testing features. Where appliciable set the random_state argument to 999. Return in this order: the transformed training features, training labels, transformed testing features, and testing labels."
   ]
  },
  {
   "cell_type": "code",
   "execution_count": 6,
   "metadata": {
    "collapsed": true,
    "deletable": false,
    "nbgrader": {
     "checksum": "dad74a1383e4e219d4cef4a966264dc9",
     "grade": false,
     "grade_id": "prob1_1-ans",
     "locked": false,
     "schema_version": 1,
     "solution": true
    }
   },
   "outputs": [],
   "source": [
    "def f_eng(data):\n",
    "    '''\n",
    "    Splits the training the data and scales the training and testing features\n",
    "    \n",
    "    Parameters\n",
    "    ----------\n",
    "    data: dataframe containing simulated dataset.\n",
    "    \n",
    "    Returns\n",
    "    -------\n",
    "    Training features as a multi dimensional numpy array (contains 80% of the features)\n",
    "    Testing features as a multi dimensional numpy array (contains 20% of the features)\n",
    "    Training labels as pandas series (contains 80% of the labels)\n",
    "    Testing labels as pandas series (contains 20% of the labels)\n",
    "    \n",
    "    '''\n",
    "    # Split the DataFrame into a DataFrame of features and a Series of labels\n",
    "    features = df[df.columns[:-1]]\n",
    "    labels = df.y\n",
    "    \n",
    "    X_train, X_test, y_train, y_test \\\n",
    "       = train_test_split(features, labels, test_size = 0.2, random_state = 999)\n",
    "    \n",
    "    rs = RobustScaler()\n",
    "    new_x_train = rs.fit_transform(X_train, y_train)\n",
    "    new_x_test = rs.transform(X_test)\n",
    "    \n",
    "    return new_x_train, y_train, new_x_test, y_test"
   ]
  },
  {
   "cell_type": "code",
   "execution_count": 7,
   "metadata": {
    "collapsed": true,
    "deletable": false,
    "editable": false,
    "nbgrader": {
     "checksum": "ef794fe11e10d7820714cf2ebb2c4a74",
     "grade": true,
     "grade_id": "prob1_1-sol",
     "locked": true,
     "points": 10,
     "schema_version": 1,
     "solution": false
    }
   },
   "outputs": [],
   "source": [
    "X_train, y_train, X_test, y_test = f_eng(df.copy())\n",
    "\n",
    "assert_equal(type(X_train), np.ndarray)\n",
    "assert_equal(type(X_test), np.ndarray)\n",
    "\n",
    "assert_equal(type(y_train), pd.core.series.Series)\n",
    "assert_equal(type(y_test), pd.core.series.Series)\n",
    "\n",
    "assert_equal(len(X_train), 800, msg='Make sure that performed a 80/20 split on the training and testing set')\n",
    "assert_equal(len(y_train), 800, msg='Make sure that performed a 80/20 split on the training and testing set')\n",
    "\n",
    "\n",
    "npt.assert_almost_equal(X_test[0:10], [[-0.30738115403404553, -0.9736985887996362, -0.49101207865721125], [0.18488952387724725, 0.03189822187579699, 0.8034181154818177], [-0.2198828359426681, 0.3028030199063013, 0.8448490192685679], [-0.1433424985516722, -0.011974164525011167, -0.12831623314094662], [0.09892255871589173, -0.8613137137863287, 0.13219278852677604], [-0.312907980172404, 0.9049807671626223, 1.0237472568184407], [0.8872733278385387, 0.5737690433939666, -0.4839982999236612], [0.43514883771829216, 1.0018458848881164, -0.49359000079927745], [0.08946178277685655, 0.6132921249115915, 0.7152472385801251], [0.9151026455050681, 0.07884286112089098, -0.3973694534680506]], decimal=2)\n",
    "npt.assert_almost_equal(X_train[345:355], [[-0.3139239995672711, 0.8450084840904671, -0.06351279246792367], [-0.1487563778794215, -0.5104392475039827, -0.0528450006168689], [-0.19904502938519728, -0.8087579296249421, 1.148338814039014], [-0.09315677202225736, -0.2352769528032403, -0.44881999956456353], [-0.2411588708452692, -0.5054923224648885, 0.18491364134755], [-0.25026611398236226, -0.26454867151904576, 1.5482613893681398], [-0.3061110733202404, 0.47425884363241466, -0.09892128734229258], [-0.30962370002167466, -0.7524807869313633, 0.6640450283476379], [-0.2851410690135015, -0.01612153252307675, 1.0374926446256747], [0.10280334279756671, -0.6158793579748008, 0.32803827308069755]], decimal=2)\n",
    "\n",
    "assert_equal(y_train[0:10].tolist(), [0, 0, 1, 1, 0, 2, 1, 2, 1, 2])\n",
    "assert_equal(y_test[100:120].tolist(), [1, 2, 1, 2, 0, 1, 2, 1, 2, 1, 0, 2, 1, 1, 0, 2, 1, 2, 0, 2])\n"
   ]
  },
  {
   "cell_type": "markdown",
   "metadata": {
    "deletable": false,
    "editable": false,
    "nbgrader": {
     "checksum": "c4707df67db3aa135f39c173ac3242df",
     "grade": false,
     "grade_id": "cell-497849749cbc1a07",
     "locked": true,
     "schema_version": 1,
     "solution": false
    }
   },
   "source": [
    "The code cell below creates a validation set."
   ]
  },
  {
   "cell_type": "code",
   "execution_count": 8,
   "metadata": {
    "collapsed": true,
    "deletable": false,
    "editable": false,
    "nbgrader": {
     "checksum": "d5a50a6a1688602e8d5860db67590a98",
     "grade": false,
     "grade_id": "cell-cf57f28ff970715c",
     "locked": true,
     "schema_version": 1,
     "solution": false
    }
   },
   "outputs": [],
   "source": [
    "X_train, X_val, y_train, y_val = train_test_split(X_train, y_train, train_size=.7, random_state=0)"
   ]
  },
  {
   "cell_type": "markdown",
   "metadata": {
    "deletable": false,
    "editable": false,
    "nbgrader": {
     "checksum": "e1e324b8a9667f74137b7de2db7b6fce",
     "grade": false,
     "grade_id": "prob1_2-desc",
     "locked": true,
     "schema_version": 1,
     "solution": false
    }
   },
   "source": [
    "### Problem 1.2\n",
    "\n",
    "To complete Problem 1.2 finish writing *var_thres* by iterating over the thresholds. For each threshold create a [VarianceThreshold](http://scikit-learn.org/stable/modules/generated/sklearn.feature_selection.VarianceThreshold.html) feature selector with the current threshold. *Fit the feature selector on the **training data** and then **transform the training data and validation data**.* Create a [support vector classifier](http://scikit-learn.org/stable/modules/generated/sklearn.svm.SVC.html#sklearn.svm.SVC) and fit it on the training data and get the mean accuracy score on the validation set. Keep track which threshold causes the support vector classifier to obtain the highest mean acccuracy and return that threshold. Set the random_state argument to 0 where applicable."
   ]
  },
  {
   "cell_type": "code",
   "execution_count": 26,
   "metadata": {
    "deletable": false,
    "nbgrader": {
     "checksum": "4a67beaa6cda74d0f0ca47addbf2c181",
     "grade": false,
     "grade_id": "prob1_2-ans",
     "locked": false,
     "schema_version": 1,
     "solution": true
    }
   },
   "outputs": [],
   "source": [
    "def var_thres(X_train, X_val, y_train, y_val, thresholds):\n",
    "    '''\n",
    "    Parameters\n",
    "    ----------\n",
    "    X_train: numpy array containing training features\n",
    "    X_val: numpy array containing validation features\n",
    "    y_train: pandas series containing training labels\n",
    "    y_val: pandas series containing validation labels\n",
    "    thresholds: numpy array containing thresholds\n",
    "    \n",
    "    returns\n",
    "    -------\n",
    "    best_threshold: floating point number\n",
    "    '''\n",
    "    #generate scores to keep track of the performance of different thresholds \n",
    "    scores = []\n",
    "    \n",
    "    # Select features at difference variance thresholds\n",
    "    for idx, thresh in enumerate(thresholds):\n",
    "        vt = VarianceThreshold(thresh)\n",
    "        # Fit filter\n",
    "        new_x_train = vt.fit_transform(X_train)\n",
    "        new_x_val = vt.transform(X_val)\n",
    "        \n",
    "        #fit SVC classifier on the new data\n",
    "        svc = SVC(random_state = 0)\n",
    "        svc.fit(new_x_train, y_train)\n",
    "        \n",
    "        #predict the val data and obtain the prediction accuracy\n",
    "        scores.append(svc.score(new_x_val, y_val))\n",
    "    \n",
    "    best_threshold = thresholds[np.argmax(scores)]\n",
    "    return best_threshold\n"
   ]
  },
  {
   "cell_type": "code",
   "execution_count": 27,
   "metadata": {
    "deletable": false,
    "editable": false,
    "nbgrader": {
     "checksum": "f811915fc271135ccbd6eb034edbeba1",
     "grade": true,
     "grade_id": "prob1_2-test",
     "locked": true,
     "points": 10,
     "schema_version": 1,
     "solution": false
    }
   },
   "outputs": [
    {
     "name": "stdout",
     "output_type": "stream",
     "text": [
      "Validation Score [using threshold 0.0]: 0.933333333333\n"
     ]
    }
   ],
   "source": [
    "best_threshold = var_thres(X_train, X_val, y_train, y_val, np.linspace(0, .5, 30))\n",
    "sel = VarianceThreshold(threshold=best_threshold)\n",
    "new_X_train = sel.fit_transform(X_train, y_train)\n",
    "new_X_val = sel.transform(X_val)\n",
    "new_X_test = sel.transform(X_test)\n",
    "\n",
    "model = SVC(random_state=0)\n",
    "model.fit(new_X_train, y_train)\n",
    "val_score = model.score(new_X_val, y_val)\n",
    "print('Validation Score [using threshold %s]:'%best_threshold, val_score)\n",
    "\n",
    "assert_true(val_score >= .91)"
   ]
  },
  {
   "cell_type": "markdown",
   "metadata": {
    "deletable": false,
    "editable": false,
    "nbgrader": {
     "checksum": "873e714b0cec42e1ef2b20dbc8f36c0a",
     "grade": false,
     "grade_id": "prob1_3-desc",
     "locked": true,
     "schema_version": 1,
     "solution": false
    }
   },
   "source": [
    "### Problem 1.3\n",
    "\n",
    "Complete Problem 1.3 by finishing the function *rfe_fit* by creating a [Linear Support Vector Classifier](http://scikit-learn.org/stable/modules/generated/sklearn.svm.LinearSVC.html) and a [recursive feature elimination](http://scikit-learn.org/stable/modules/generated/sklearn.feature_selection.RFE.html) (rfe) feature selection model. Fit and transform the training data. Use the transformed features to fit the linear support vector classifier created. Return the fitted model and feature selector. Set the random_state argument to 0 where applicable."
   ]
  },
  {
   "cell_type": "code",
   "execution_count": 28,
   "metadata": {
    "collapsed": true,
    "deletable": false,
    "nbgrader": {
     "checksum": "2379d88c8a8794154666377dfc8d5651",
     "grade": false,
     "grade_id": "prob1_3-ans",
     "locked": false,
     "schema_version": 1,
     "solution": true
    }
   },
   "outputs": [],
   "source": [
    "def rfe_fit(X_train, y_train, num_features=2):\n",
    "    '''\n",
    "    Parameters\n",
    "    ----------\n",
    "    x_train: numpy array containing training features\n",
    "    y_train:  numpy array containing training labels\n",
    "    \n",
    "    Returns\n",
    "    -------\n",
    "    LinearSVC model\n",
    "    RFE model\n",
    "    '''\n",
    "    # set the n_features_to_select argument in the RFE constructor to the num_features parameter\n",
    "    estimator = LinearSVC()\n",
    "    selector = RFE(estimator, n_features_to_select = num_features)\n",
    "    new_x_train = selector.fit_transform(X_train, y_train)\n",
    "    \n",
    "    estimator.fit(new_x_train, y_train)\n",
    "    \n",
    "    return estimator, selector"
   ]
  },
  {
   "cell_type": "code",
   "execution_count": 29,
   "metadata": {
    "deletable": false,
    "editable": false,
    "nbgrader": {
     "checksum": "e5e9a7c7e2fd6e240166855e1695d476",
     "grade": true,
     "grade_id": "prob1_3-sol",
     "locked": true,
     "points": 10,
     "schema_version": 1,
     "solution": false
    }
   },
   "outputs": [
    {
     "name": "stdout",
     "output_type": "stream",
     "text": [
      "Validation Score: 0.820833333333\n"
     ]
    }
   ],
   "source": [
    "model2, selector = rfe_fit(X_train, y_train, 2)\n",
    "new_X_val2 = selector.transform(X_val)\n",
    "val_score2= model2.score(new_X_val2, y_val)\n",
    "print(\"Validation Score:\", val_score2)\n",
    "\n",
    "assert_almost_equal(val_score2, .8208, places=2)\n"
   ]
  },
  {
   "cell_type": "code",
   "execution_count": null,
   "metadata": {
    "collapsed": true
   },
   "outputs": [],
   "source": []
  }
 ],
 "metadata": {
  "kernelspec": {
   "display_name": "Python 3",
   "language": "python",
   "name": "python3"
  },
  "language_info": {
   "codemirror_mode": {
    "name": "ipython",
    "version": 3
   },
   "file_extension": ".py",
   "mimetype": "text/x-python",
   "name": "python",
   "nbconvert_exporter": "python",
   "pygments_lexer": "ipython3",
   "version": "3.6.1"
  }
 },
 "nbformat": 4,
 "nbformat_minor": 2
}
