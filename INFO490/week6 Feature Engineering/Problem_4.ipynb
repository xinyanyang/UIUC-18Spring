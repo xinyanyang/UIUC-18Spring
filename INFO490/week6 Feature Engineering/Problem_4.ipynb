{
 "cells": [
  {
   "cell_type": "markdown",
   "metadata": {
    "deletable": false,
    "editable": false,
    "nbgrader": {
     "checksum": "18d307cf7050ec609f067874ae260bbc",
     "grade": false,
     "grade_id": "header",
     "locked": true,
     "schema_version": 1,
     "solution": false
    }
   },
   "source": [
    "# Week 6 Problem 4\n",
    "\n",
    "A few things you should keep in mind when working on assignments:\n",
    "\n",
    "1. Make sure you fill in any place that says `YOUR CODE HERE`. Do not write your answer in anywhere else other than where it says `YOUR CODE HERE`. Anything you write anywhere else will be removed or overwritten by the autograder.\n",
    "\n",
    "2. Before you submit your assignment, make sure everything runs as expected. Go to menubar, select *Kernel*, and restart the kernel and run all cells (*Restart & Run all*).\n",
    "\n",
    "3. Do not change the title (i.e. file name) of this notebook.\n",
    "\n",
    "4. Make sure that you save your work (in the menubar, select *File* → *Save and CheckPoint*)\n",
    "\n",
    "5. When you are ready to submit your assignment, go to *Dashboard* → *Assignments* and click the *Submit* button. Your work is not submitted until you click *Submit*.\n",
    "\n",
    "6. You are allowed to submit an assignment multiple times, but only the most recent submission will be graded."
   ]
  },
  {
   "cell_type": "markdown",
   "metadata": {
    "deletable": false,
    "editable": false,
    "nbgrader": {
     "checksum": "bbe9250bb7d375161b27706eb414902b",
     "grade": false,
     "grade_id": "due_date",
     "locked": true,
     "schema_version": 1,
     "solution": false
    }
   },
   "source": [
    "# Due Date: 6 PM, February 26, 2018"
   ]
  },
  {
   "cell_type": "code",
   "execution_count": 1,
   "metadata": {
    "collapsed": true,
    "deletable": false,
    "editable": false,
    "nbgrader": {
     "checksum": "5745f84fa8f626943351057cf301280b",
     "grade": false,
     "grade_id": "import",
     "locked": true,
     "schema_version": 1,
     "solution": false
    }
   },
   "outputs": [],
   "source": [
    "% matplotlib inline\n",
    "import numpy as np\n",
    "import pandas as pd\n",
    "from sklearn.model_selection import train_test_split\n",
    "from numpy.testing import assert_array_equal\n",
    "from nose.tools import assert_equal, assert_true, assert_almost_equal, assert_is_instance, assert_is_not\n",
    "from sklearn.feature_selection import SelectKBest, SelectPercentile, mutual_info_regression\n",
    "from sklearn.pipeline import FeatureUnion, Pipeline\n",
    "from sklearn.svm import LinearSVC\n",
    "from sklearn.datasets import load_boston\n",
    "from sklearn.decomposition import PCA\n",
    "# We do this to ignore several specific warnings\n",
    "import warnings\n",
    "warnings.filterwarnings(\"ignore\")"
   ]
  },
  {
   "cell_type": "markdown",
   "metadata": {},
   "source": [
    "## Boston Dataset\n",
    "For this assignment we will be using the built-in dataset about the Boston area and the respective house-prices. This dataset has 506 samples and a dimensionality size of 13. Each record contains data about crime rate, average number of rooms dwelling, and other factors. The following code below imports the dataset as a pandas dataframe and previews a few sample data points."
   ]
  },
  {
   "cell_type": "code",
   "execution_count": 2,
   "metadata": {
    "deletable": false,
    "editable": false,
    "nbgrader": {
     "checksum": "957f59d4cb09356df8a88068736cda47",
     "grade": false,
     "grade_id": "data_set",
     "locked": true,
     "schema_version": 1,
     "solution": false
    }
   },
   "outputs": [
    {
     "data": {
      "text/html": [
       "<div>\n",
       "<style>\n",
       "    .dataframe thead tr:only-child th {\n",
       "        text-align: right;\n",
       "    }\n",
       "\n",
       "    .dataframe thead th {\n",
       "        text-align: left;\n",
       "    }\n",
       "\n",
       "    .dataframe tbody tr th {\n",
       "        vertical-align: top;\n",
       "    }\n",
       "</style>\n",
       "<table border=\"1\" class=\"dataframe\">\n",
       "  <thead>\n",
       "    <tr style=\"text-align: right;\">\n",
       "      <th></th>\n",
       "      <th>CRIM</th>\n",
       "      <th>ZN</th>\n",
       "      <th>INDUS</th>\n",
       "      <th>CHAS</th>\n",
       "      <th>NOX</th>\n",
       "      <th>RM</th>\n",
       "      <th>AGE</th>\n",
       "      <th>DIS</th>\n",
       "      <th>RAD</th>\n",
       "      <th>TAX</th>\n",
       "      <th>PTRATIO</th>\n",
       "      <th>B</th>\n",
       "      <th>LSTAT</th>\n",
       "    </tr>\n",
       "  </thead>\n",
       "  <tbody>\n",
       "    <tr>\n",
       "      <th>0</th>\n",
       "      <td>0.00632</td>\n",
       "      <td>18.0</td>\n",
       "      <td>2.31</td>\n",
       "      <td>0.0</td>\n",
       "      <td>0.538</td>\n",
       "      <td>6.575</td>\n",
       "      <td>65.2</td>\n",
       "      <td>4.0900</td>\n",
       "      <td>1.0</td>\n",
       "      <td>296.0</td>\n",
       "      <td>15.3</td>\n",
       "      <td>396.90</td>\n",
       "      <td>4.98</td>\n",
       "    </tr>\n",
       "    <tr>\n",
       "      <th>1</th>\n",
       "      <td>0.02731</td>\n",
       "      <td>0.0</td>\n",
       "      <td>7.07</td>\n",
       "      <td>0.0</td>\n",
       "      <td>0.469</td>\n",
       "      <td>6.421</td>\n",
       "      <td>78.9</td>\n",
       "      <td>4.9671</td>\n",
       "      <td>2.0</td>\n",
       "      <td>242.0</td>\n",
       "      <td>17.8</td>\n",
       "      <td>396.90</td>\n",
       "      <td>9.14</td>\n",
       "    </tr>\n",
       "    <tr>\n",
       "      <th>2</th>\n",
       "      <td>0.02729</td>\n",
       "      <td>0.0</td>\n",
       "      <td>7.07</td>\n",
       "      <td>0.0</td>\n",
       "      <td>0.469</td>\n",
       "      <td>7.185</td>\n",
       "      <td>61.1</td>\n",
       "      <td>4.9671</td>\n",
       "      <td>2.0</td>\n",
       "      <td>242.0</td>\n",
       "      <td>17.8</td>\n",
       "      <td>392.83</td>\n",
       "      <td>4.03</td>\n",
       "    </tr>\n",
       "    <tr>\n",
       "      <th>3</th>\n",
       "      <td>0.03237</td>\n",
       "      <td>0.0</td>\n",
       "      <td>2.18</td>\n",
       "      <td>0.0</td>\n",
       "      <td>0.458</td>\n",
       "      <td>6.998</td>\n",
       "      <td>45.8</td>\n",
       "      <td>6.0622</td>\n",
       "      <td>3.0</td>\n",
       "      <td>222.0</td>\n",
       "      <td>18.7</td>\n",
       "      <td>394.63</td>\n",
       "      <td>2.94</td>\n",
       "    </tr>\n",
       "    <tr>\n",
       "      <th>4</th>\n",
       "      <td>0.06905</td>\n",
       "      <td>0.0</td>\n",
       "      <td>2.18</td>\n",
       "      <td>0.0</td>\n",
       "      <td>0.458</td>\n",
       "      <td>7.147</td>\n",
       "      <td>54.2</td>\n",
       "      <td>6.0622</td>\n",
       "      <td>3.0</td>\n",
       "      <td>222.0</td>\n",
       "      <td>18.7</td>\n",
       "      <td>396.90</td>\n",
       "      <td>5.33</td>\n",
       "    </tr>\n",
       "  </tbody>\n",
       "</table>\n",
       "</div>"
      ],
      "text/plain": [
       "      CRIM    ZN  INDUS  CHAS    NOX     RM   AGE     DIS  RAD    TAX  \\\n",
       "0  0.00632  18.0   2.31   0.0  0.538  6.575  65.2  4.0900  1.0  296.0   \n",
       "1  0.02731   0.0   7.07   0.0  0.469  6.421  78.9  4.9671  2.0  242.0   \n",
       "2  0.02729   0.0   7.07   0.0  0.469  7.185  61.1  4.9671  2.0  242.0   \n",
       "3  0.03237   0.0   2.18   0.0  0.458  6.998  45.8  6.0622  3.0  222.0   \n",
       "4  0.06905   0.0   2.18   0.0  0.458  7.147  54.2  6.0622  3.0  222.0   \n",
       "\n",
       "   PTRATIO       B  LSTAT  \n",
       "0     15.3  396.90   4.98  \n",
       "1     17.8  396.90   9.14  \n",
       "2     17.8  392.83   4.03  \n",
       "3     18.7  394.63   2.94  \n",
       "4     18.7  396.90   5.33  "
      ]
     },
     "execution_count": 2,
     "metadata": {},
     "output_type": "execute_result"
    }
   ],
   "source": [
    "'''\n",
    "NOTE: Make sure to load this data set before completing the assignment\n",
    "'''\n",
    "# Load in the dataset as a Pandas DataFrame\n",
    "\n",
    "data = load_boston()\n",
    "\n",
    "# Print the dataset description\n",
    "df = pd.DataFrame(data.data, columns=data.feature_names)\n",
    "\n",
    "# Preview the first few lines\n",
    "df.head()"
   ]
  },
  {
   "cell_type": "markdown",
   "metadata": {
    "deletable": false,
    "editable": false,
    "nbgrader": {
     "checksum": "686d4fe8577ce606422d426fbd4e72ac",
     "grade": false,
     "grade_id": "cell-d60388a84c8fa3d9",
     "locked": true,
     "schema_version": 1,
     "solution": false
    }
   },
   "source": [
    "## Question 1\n",
    "\n",
    "In this question, we will be returning the overlapping features between 2 feature selection strategies: `SelectKBest` and `SelectPercentile` respectively. From the reading, `SelectKBest` and `SelectPercentile` both return the top features in the dataset. \n",
    "\n",
    "- Use the `features` and `labels` function parameters to fit to a `SelectKBest` and `SelectPercentile` feature selection strategies respectively.\n",
    "- For `SelectKBest`, use `all` for the `k` parameter.\n",
    "- For `SelectPercentile`, use `mutual_info_regression` as the `score_func` parameter and use `20` as the `percentile` parameter.\n",
    "- You can access the scores for a particular FS strategy by accessing the `scores_` attribute of the return value of the `fit()` function call.\n",
    "- **Hint**: In order to pair the respective score from both strategies to the actual feature_name, the index from the `scores` attribute of the result value of the `fit()` function will correspond to the respective index in the `feature_names` array. For example, accessing the feature name of the 0th index of the result value of `select_percentile.fit()` will correspond to the 0th index in the `feature_names` function parameter.\n",
    "- Return the overlapping features in the top `k` features from the results of both `SelectPercentile` and `SelectKBest` as a list of strings."
   ]
  },
  {
   "cell_type": "code",
   "execution_count": 67,
   "metadata": {
    "collapsed": true,
    "deletable": false,
    "nbgrader": {
     "checksum": "679450f9a1846c1c2285bb767b96aa0a",
     "grade": false,
     "grade_id": "problem1_answer",
     "locked": false,
     "schema_version": 1,
     "solution": true
    }
   },
   "outputs": [],
   "source": [
    "def get_overlapping_features(features, labels, k, feature_names):\n",
    "    '''    \n",
    "    Get the list of k overlapping features from SelectKBest and SelectPercentile \n",
    "    \n",
    "    Parameters\n",
    "    ----------\n",
    "    features: A numpy.ndarray\n",
    "    labels: A numpy.ndarray\n",
    "    k: An int\n",
    "    feature_names: A list of strings\n",
    "    \n",
    "    Returns\n",
    "    -------\n",
    "    overlapping_features: A list of strings\n",
    "    '''\n",
    "    \n",
    "    # need to return the ordering based on the ordering of the top k values of the SelectKBest feature selection strategy\n",
    "    \n",
    "    #fit the selectkbest estimator\n",
    "    skb = SelectKBest(k='all')\n",
    "    score_skb = skb.fit(features, labels).scores_\n",
    "\n",
    "    #obtain the name of top k scores\n",
    "    index1 = score_skb.argsort()[::-1][:k]\n",
    "    name_skb = feature_names[index1]\n",
    "    \n",
    "    #fit the selectpercentile estimator\n",
    "    sp = SelectPercentile(mutual_info_regression, percentile=20)\n",
    "    score_sp = sp.fit(features, labels).scores_\n",
    "    index2 = score_sp.argsort()[::-1][:k]\n",
    "    name_sp = feature_names[index2]\n",
    "    \n",
    "    #if the name of name_sp occurs in name_skb, then add it into over_lapping_features\n",
    "    overlapping_features = []\n",
    "    for element in name_skb:\n",
    "        if element in name_sp:\n",
    "             overlapping_features.append(element)\n",
    "    \n",
    "    return overlapping_features"
   ]
  },
  {
   "cell_type": "code",
   "execution_count": 69,
   "metadata": {
    "collapsed": true,
    "deletable": false,
    "editable": false,
    "nbgrader": {
     "checksum": "d6605e8155a51e0b3e6e832afd65f33c",
     "grade": true,
     "grade_id": "problem1_test",
     "locked": true,
     "points": 10,
     "schema_version": 1,
     "solution": false
    }
   },
   "outputs": [],
   "source": [
    "features = data.data\n",
    "labels = data.target\n",
    "overlapping_features = get_overlapping_features(features, labels, 4, data.feature_names)\n",
    "assert_equal(len(overlapping_features), 3)\n",
    "assert_equal(overlapping_features, ['LSTAT', 'RM', 'NOX'])\n",
    "overlapping_features = get_overlapping_features(features, labels, len(features), data.feature_names)\n",
    "assert_equal(len(overlapping_features), len(data.feature_names))\n",
    "assert_equal(sorted(overlapping_features), sorted(data.feature_names))"
   ]
  },
  {
   "cell_type": "markdown",
   "metadata": {
    "deletable": false,
    "editable": false,
    "nbgrader": {
     "checksum": "de987c558c50365695cddd6d62f7e921",
     "grade": false,
     "grade_id": "cell-544e70cc7b248111",
     "locked": true,
     "schema_version": 1,
     "solution": false
    }
   },
   "source": [
    "## Question 2\n",
    "\n",
    "In this question, you will be using Principal Component Analysis (PCA) to return the weights of components that has the highest explained_variance_ratio as a dictionary and the corresponding explained_variance_ratio.\n",
    "\n",
    "- Use the `features` parameter to fit a `PCA` model\n",
    "- Use the `num_c` function parameter as the parameter to the `PCA` constructor for the parameter `num_components`\n",
    "- Return a 2-tuple of a dictionary and the value of the highest `explained_variance_ratio_` (as a percentage, should be multiplied by 100)\n",
    "- The dictionary should map strings to floats where the keys are the individual feature names and the floats are the weights for each of the `feature_names` with the highest `explained_variance_ratio`\n",
    "- **Hint: The highest `explained_variance_ratio` is at index 0 in the array `explained_variance_ratio`. Respectively, the weights for each feature_name in the `components_` attribute are also at index 0.**"
   ]
  },
  {
   "cell_type": "code",
   "execution_count": 86,
   "metadata": {
    "collapsed": true,
    "deletable": false,
    "nbgrader": {
     "checksum": "995236f89aa32c20b6656c1bf6192986",
     "grade": false,
     "grade_id": "problem2_answer",
     "locked": false,
     "schema_version": 1,
     "solution": true
    }
   },
   "outputs": [],
   "source": [
    "def best_decomposer(features, num_c, feature_names):\n",
    "    '''\n",
    "    Returns the corresponding weights of each feature as a dictionary with respect to the highest\n",
    "    explained_variance_ratio_ using PCA\n",
    "    \n",
    "    Parameters\n",
    "    ----------\n",
    "    features: An numpy.ndarray\n",
    "    num_c: An int\n",
    "    feature_names: An numpy.ndarray\n",
    "    \n",
    "    Returns\n",
    "    -------\n",
    "    A 2-tuple of a dictionary and a float \n",
    "    '''\n",
    "    #fit the PCA\n",
    "    pca = PCA(n_components=num_c)\n",
    "    pca.fit(features)\n",
    "    \n",
    "    highest_ratio = pca.explained_variance_ratio_[0] * 100\n",
    "    weights = pca.components_[0, :]\n",
    "    \n",
    "    #create a dictionary using feature_names and weights\n",
    "    dictionary = dict(zip(feature_names, weights))\n",
    "    \n",
    "    return dictionary, highest_ratio"
   ]
  },
  {
   "cell_type": "code",
   "execution_count": 87,
   "metadata": {
    "deletable": false,
    "editable": false,
    "nbgrader": {
     "checksum": "ac965481da58dbf1244411ddd71ae8fb",
     "grade": true,
     "grade_id": "problem2_test",
     "locked": true,
     "points": 10,
     "schema_version": 1,
     "solution": false
    }
   },
   "outputs": [],
   "source": [
    "features = data.data\n",
    "weights, highest_ratio = best_decomposer(features, 13, data.feature_names)\n",
    "assert_true(isinstance(weights, dict))\n",
    "assert_true(isinstance(highest_ratio, float))\n",
    "assert_almost_equal(weights['AGE'], 0.0836, places=4)\n",
    "assert_almost_equal(weights['CRIM'], 0.0291, places=4)\n",
    "assert_almost_equal(highest_ratio, 80.5815, places=4)"
   ]
  },
  {
   "cell_type": "markdown",
   "metadata": {
    "deletable": false,
    "editable": false,
    "nbgrader": {
     "checksum": "90ba79244b5ed85647f319ff1e4975c9",
     "grade": false,
     "grade_id": "cell-ef5687ed65f8cbfb",
     "locked": true,
     "schema_version": 1,
     "solution": false
    }
   },
   "source": [
    "## Question 3\n",
    "\n",
    "In this question, you will create a Machine Learning Pipeline that contains a Feature Union.\n",
    "\n",
    "- Create a FeatureUnion object that contains a `SelectKBest` and `SelectPercentile` feature selection strategies\n",
    "- Use `percentile=10` fpr SelectPercentile\n",
    "- Use `k=all` for the `k` parameter to `SelectKBest`\n",
    "- For the pipeline, combine the feature union from above and a `LinearSVC` model with `random_state=23` and return the Pipeline object"
   ]
  },
  {
   "cell_type": "code",
   "execution_count": 90,
   "metadata": {
    "collapsed": true,
    "deletable": false,
    "nbgrader": {
     "checksum": "bc3ff58a95f9f3c3c00f02f99d6b9f18",
     "grade": false,
     "grade_id": "problem3_answer",
     "locked": false,
     "schema_version": 1,
     "solution": true
    }
   },
   "outputs": [],
   "source": [
    "def get_pipeline():\n",
    "    '''\n",
    "    Get a pipeline that contains both a FeatureUnion made of a SelectKBest and SelectPercentile FS strategies\n",
    "    and a LinearSVC model with random_state=23\n",
    "    \n",
    "    Parameters\n",
    "    ----------\n",
    "    \n",
    "    Returns\n",
    "    -------\n",
    "    A Pipeline object\n",
    "    '''  \n",
    "    #make sure that SelectPercentile is the first fs strategy in the call to the FeatureUnion and SelectKBest is the second fs strategy in the call to FeatureUnion.\n",
    "    \n",
    "    fu = FeatureUnion([(\"sp\", SelectPercentile(percentile=10)),\n",
    "                       (\"skb\", SelectKBest(k=all))])\n",
    "    \n",
    "    # Feature selection as part of a pipeline\n",
    "    pl = Pipeline([('feature_union', fu),\n",
    "                   ('svc', LinearSVC(random_state=23))])\n",
    "    \n",
    "    return pl"
   ]
  },
  {
   "cell_type": "code",
   "execution_count": 91,
   "metadata": {
    "deletable": false,
    "editable": false,
    "nbgrader": {
     "checksum": "bfc523be54978d44eafe8c70d2f86421",
     "grade": true,
     "grade_id": "problem3_test",
     "locked": true,
     "points": 10,
     "schema_version": 1,
     "solution": false
    }
   },
   "outputs": [],
   "source": [
    "pipeline = get_pipeline()\n",
    "assert_true(isinstance(pipeline.get_params()['feature_union'], FeatureUnion))\n",
    "assert_true(len(pipeline.get_params()['feature_union'].transformer_list), 2)\n",
    "fs_1, fs_2 = pipeline.get_params()['feature_union'].transformer_list[0], pipeline.get_params()['feature_union'].transformer_list[1]\n",
    "assert_true(isinstance(fs_1[1], SelectPercentile) or isinstance(fs_2[1], SelectPercentile))\n",
    "assert_true(isinstance(fs_2[1], SelectKBest) or isinstance(fs_2[1], SelectKBest))"
   ]
  },
  {
   "cell_type": "code",
   "execution_count": null,
   "metadata": {
    "collapsed": true
   },
   "outputs": [],
   "source": []
  }
 ],
 "metadata": {
  "kernelspec": {
   "display_name": "Python 3",
   "language": "python",
   "name": "python3"
  },
  "language_info": {
   "codemirror_mode": {
    "name": "ipython",
    "version": 3
   },
   "file_extension": ".py",
   "mimetype": "text/x-python",
   "name": "python",
   "nbconvert_exporter": "python",
   "pygments_lexer": "ipython3",
   "version": "3.6.1"
  }
 },
 "nbformat": 4,
 "nbformat_minor": 2
}
