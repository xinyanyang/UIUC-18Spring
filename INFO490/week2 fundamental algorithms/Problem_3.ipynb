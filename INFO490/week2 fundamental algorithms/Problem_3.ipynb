{
 "cells": [
  {
   "cell_type": "markdown",
   "metadata": {
    "deletable": false,
    "editable": false,
    "nbgrader": {
     "checksum": "c654de5e189ceba13fab05a3e9fd7847",
     "grade": false,
     "grade_id": "header",
     "locked": true,
     "schema_version": 1,
     "solution": false
    }
   },
   "source": [
    "# Week 2 Problem 3\n",
    "\n",
    "A few things you should keep in mind when working on assignments:\n",
    "\n",
    "1. Make sure you fill in any place that says `YOUR CODE HERE`. Do not write your answer in anywhere else other than where it says `YOUR CODE HERE`. Anything you write anywhere else will be removed or overwritten by the autograder.\n",
    "\n",
    "2. Before you submit your assignment, make sure everything runs as expected. Go to menubar, select *Kernel*, and restart the kernel and run all cells (*Restart & Run all*).\n",
    "\n",
    "3. Do not change the title (i.e. file name) of this notebook.\n",
    "\n",
    "4. Make sure that you save your work (in the menubar, select *File* → *Save and CheckPoint*)\n",
    "\n",
    "5. When you are ready to submit your assignment, go to *Dashboard* → *Assignments* and click the *Submit* button. Your work is not submitted until you click *Submit*.\n",
    "\n",
    "6. You are allowed to submit an assignment multiple times, but only the most recent submission will be graded.\n",
    "\n",
    "7. **If your code does not pass the unit tests, it will not pass the autograder.**"
   ]
  },
  {
   "cell_type": "markdown",
   "metadata": {
    "deletable": false,
    "editable": false,
    "nbgrader": {
     "checksum": "ce77b693b293a71e098ba4952f39349f",
     "grade": false,
     "grade_id": "due_date",
     "locked": true,
     "schema_version": 1,
     "solution": false
    }
   },
   "source": [
    "# Due Date: 6 PM, January 29, 2018"
   ]
  },
  {
   "cell_type": "code",
   "execution_count": 1,
   "metadata": {
    "collapsed": true,
    "deletable": false,
    "editable": false,
    "nbgrader": {
     "checksum": "724938f19e1e9552f7405c9f31a36b0e",
     "grade": false,
     "grade_id": "import_nose",
     "locked": true,
     "schema_version": 1,
     "solution": false
    }
   },
   "outputs": [],
   "source": [
    "import numpy as np\n",
    "import pandas as pd\n",
    "from sklearn.model_selection import train_test_split\n",
    "from sklearn import svm\n",
    "from sklearn.model_selection import GridSearchCV\n",
    "from sklearn.metrics import accuracy_score\n",
    "import seaborn as sns\n",
    "\n",
    "from nose.tools import assert_equal, assert_in, assert_is_not\n",
    "from numpy.testing import assert_array_equal, assert_array_almost_equal\n",
    "from pandas.util.testing import assert_frame_equal, assert_index_equal"
   ]
  },
  {
   "cell_type": "markdown",
   "metadata": {
    "deletable": false,
    "editable": false,
    "nbgrader": {
     "checksum": "633f5914ed144b85fc2a80fb804602db",
     "grade": false,
     "grade_id": "cell-79f6eddb2a9a06e0",
     "locked": true,
     "schema_version": 1,
     "solution": false
    }
   },
   "source": [
    "# Tips Dataset\n",
    "\n",
    "For this assignment, we will be using the built-in dataset called ``Tips`` which contains information about how much restaurant staff receive in tips. Suppose we know also whether customers leave a review after their visit. The restaurant is interested in improving their profile on Yelp and so tasked us with analyzing whether a customer will either leave a review or not. We will use a support vector machine model for this problem."
   ]
  },
  {
   "cell_type": "code",
   "execution_count": 2,
   "metadata": {
    "deletable": false,
    "editable": false,
    "nbgrader": {
     "checksum": "b9bb71275bc471e852d9f4991099aa3b",
     "grade": false,
     "grade_id": "cell-fd257f0f63c503c8",
     "locked": true,
     "schema_version": 1,
     "solution": false
    }
   },
   "outputs": [
    {
     "data": {
      "text/html": [
       "<div>\n",
       "<style>\n",
       "    .dataframe thead tr:only-child th {\n",
       "        text-align: right;\n",
       "    }\n",
       "\n",
       "    .dataframe thead th {\n",
       "        text-align: left;\n",
       "    }\n",
       "\n",
       "    .dataframe tbody tr th {\n",
       "        vertical-align: top;\n",
       "    }\n",
       "</style>\n",
       "<table border=\"1\" class=\"dataframe\">\n",
       "  <thead>\n",
       "    <tr style=\"text-align: right;\">\n",
       "      <th></th>\n",
       "      <th>total_bill</th>\n",
       "      <th>tip</th>\n",
       "      <th>sex</th>\n",
       "      <th>smoker</th>\n",
       "      <th>day</th>\n",
       "      <th>time</th>\n",
       "      <th>size</th>\n",
       "      <th>review</th>\n",
       "    </tr>\n",
       "  </thead>\n",
       "  <tbody>\n",
       "    <tr>\n",
       "      <th>0</th>\n",
       "      <td>16.99</td>\n",
       "      <td>1.01</td>\n",
       "      <td>Female</td>\n",
       "      <td>No</td>\n",
       "      <td>Sun</td>\n",
       "      <td>Dinner</td>\n",
       "      <td>2</td>\n",
       "      <td>0</td>\n",
       "    </tr>\n",
       "    <tr>\n",
       "      <th>1</th>\n",
       "      <td>10.34</td>\n",
       "      <td>1.66</td>\n",
       "      <td>Male</td>\n",
       "      <td>No</td>\n",
       "      <td>Sun</td>\n",
       "      <td>Dinner</td>\n",
       "      <td>3</td>\n",
       "      <td>1</td>\n",
       "    </tr>\n",
       "    <tr>\n",
       "      <th>2</th>\n",
       "      <td>21.01</td>\n",
       "      <td>3.50</td>\n",
       "      <td>Male</td>\n",
       "      <td>No</td>\n",
       "      <td>Sun</td>\n",
       "      <td>Dinner</td>\n",
       "      <td>3</td>\n",
       "      <td>1</td>\n",
       "    </tr>\n",
       "    <tr>\n",
       "      <th>3</th>\n",
       "      <td>23.68</td>\n",
       "      <td>3.31</td>\n",
       "      <td>Male</td>\n",
       "      <td>No</td>\n",
       "      <td>Sun</td>\n",
       "      <td>Dinner</td>\n",
       "      <td>2</td>\n",
       "      <td>0</td>\n",
       "    </tr>\n",
       "    <tr>\n",
       "      <th>4</th>\n",
       "      <td>24.59</td>\n",
       "      <td>3.61</td>\n",
       "      <td>Female</td>\n",
       "      <td>No</td>\n",
       "      <td>Sun</td>\n",
       "      <td>Dinner</td>\n",
       "      <td>4</td>\n",
       "      <td>1</td>\n",
       "    </tr>\n",
       "  </tbody>\n",
       "</table>\n",
       "</div>"
      ],
      "text/plain": [
       "   total_bill   tip     sex smoker  day    time  size  review\n",
       "0       16.99  1.01  Female     No  Sun  Dinner     2       0\n",
       "1       10.34  1.66    Male     No  Sun  Dinner     3       1\n",
       "2       21.01  3.50    Male     No  Sun  Dinner     3       1\n",
       "3       23.68  3.31    Male     No  Sun  Dinner     2       0\n",
       "4       24.59  3.61  Female     No  Sun  Dinner     4       1"
      ]
     },
     "execution_count": 2,
     "metadata": {},
     "output_type": "execute_result"
    }
   ],
   "source": [
    "def getData():\n",
    "\n",
    "    # Load in the dataset as a Pandas DataFrame\n",
    "    data = sns.load_dataset(\"tips\")\n",
    "    \n",
    "    # Create the labels\n",
    "    data['review'] = np.random.randint(0, 2, size=len(data))\n",
    "    # Preview the dataset\n",
    "    return data\n",
    "\n",
    "data = getData()\n",
    "data.head()"
   ]
  },
  {
   "cell_type": "markdown",
   "metadata": {
    "deletable": false,
    "editable": false,
    "nbgrader": {
     "checksum": "b618e8be5f89f13400e1706065e30a89",
     "grade": false,
     "grade_id": "cell-028bf1ebf64db260",
     "locked": true,
     "schema_version": 1,
     "solution": false
    }
   },
   "source": [
    "As you can see, we have binary classes (`review` is either 0 or 1) and 7 features. There is an obvious correlation between the `total_bill`, `tip` and `size` as we would expect the larger party size to have a bigger bill which leads to a bigger tip."
   ]
  },
  {
   "cell_type": "code",
   "execution_count": 3,
   "metadata": {
    "deletable": false,
    "editable": false,
    "nbgrader": {
     "checksum": "76469904a0e75b441b1b8a3ee92f5728",
     "grade": false,
     "grade_id": "cell-4fd3d67591472eed",
     "locked": true,
     "schema_version": 1,
     "solution": false
    }
   },
   "outputs": [
    {
     "data": {
      "text/html": [
       "<div>\n",
       "<style>\n",
       "    .dataframe thead tr:only-child th {\n",
       "        text-align: right;\n",
       "    }\n",
       "\n",
       "    .dataframe thead th {\n",
       "        text-align: left;\n",
       "    }\n",
       "\n",
       "    .dataframe tbody tr th {\n",
       "        vertical-align: top;\n",
       "    }\n",
       "</style>\n",
       "<table border=\"1\" class=\"dataframe\">\n",
       "  <thead>\n",
       "    <tr style=\"text-align: right;\">\n",
       "      <th></th>\n",
       "      <th>total_bill</th>\n",
       "      <th>tip</th>\n",
       "      <th>size</th>\n",
       "      <th>review</th>\n",
       "    </tr>\n",
       "  </thead>\n",
       "  <tbody>\n",
       "    <tr>\n",
       "      <th>total_bill</th>\n",
       "      <td>1.000000</td>\n",
       "      <td>0.675734</td>\n",
       "      <td>0.598315</td>\n",
       "      <td>-0.036610</td>\n",
       "    </tr>\n",
       "    <tr>\n",
       "      <th>tip</th>\n",
       "      <td>0.675734</td>\n",
       "      <td>1.000000</td>\n",
       "      <td>0.489299</td>\n",
       "      <td>-0.026924</td>\n",
       "    </tr>\n",
       "    <tr>\n",
       "      <th>size</th>\n",
       "      <td>0.598315</td>\n",
       "      <td>0.489299</td>\n",
       "      <td>1.000000</td>\n",
       "      <td>-0.058571</td>\n",
       "    </tr>\n",
       "    <tr>\n",
       "      <th>review</th>\n",
       "      <td>-0.036610</td>\n",
       "      <td>-0.026924</td>\n",
       "      <td>-0.058571</td>\n",
       "      <td>1.000000</td>\n",
       "    </tr>\n",
       "  </tbody>\n",
       "</table>\n",
       "</div>"
      ],
      "text/plain": [
       "            total_bill       tip      size    review\n",
       "total_bill    1.000000  0.675734  0.598315 -0.036610\n",
       "tip           0.675734  1.000000  0.489299 -0.026924\n",
       "size          0.598315  0.489299  1.000000 -0.058571\n",
       "review       -0.036610 -0.026924 -0.058571  1.000000"
      ]
     },
     "execution_count": 3,
     "metadata": {},
     "output_type": "execute_result"
    }
   ],
   "source": [
    "# Compute the correlation matrix\n",
    "data.corr(method='pearson')"
   ]
  },
  {
   "cell_type": "markdown",
   "metadata": {
    "deletable": false,
    "editable": false,
    "nbgrader": {
     "checksum": "6225c0f89bc4a8c93c18b4493376341b",
     "grade": false,
     "grade_id": "cell-aacbe1330dd81338",
     "locked": true,
     "schema_version": 1,
     "solution": false
    }
   },
   "source": [
    "We can see that indeed those features are correlated. Note, the presense of correlated features affects classification models differently. For support vector machine, in particular, it does not really matter. However, it is often a best practice to identify them in case you would like to use other models or feature selection. For example, principal component analysis (PCA) tries to pick components with maximum variance, high correlation will cause PCA to inflate the affect of the components."
   ]
  },
  {
   "cell_type": "markdown",
   "metadata": {
    "deletable": false,
    "editable": false,
    "nbgrader": {
     "checksum": "e8935d93cda9a379d0528e835f983926",
     "grade": false,
     "grade_id": "cell-ae58cc0278ddb02b",
     "locked": true,
     "schema_version": 1,
     "solution": false
    }
   },
   "source": [
    "# Cleaning the data"
   ]
  },
  {
   "cell_type": "markdown",
   "metadata": {
    "collapsed": true,
    "deletable": false,
    "editable": false,
    "nbgrader": {
     "checksum": "822de185231edcea12f6cb076e046456",
     "grade": false,
     "grade_id": "prob1",
     "locked": true,
     "schema_version": 1,
     "solution": false
    }
   },
   "source": [
    "## Question 1\n",
    "\n",
    "Let us clean the data as follows:\n",
    "- __Create a new column in the `data` DataFrame called `tip_percentage` which contains the percentage of the bill in tip.__ Note, the `total_bill` column is the bill before tip. For example, a \\$2.16 tip of a \\$12 bill is 18%.\n",
    "- __Remove the `total_bill` and `tip` columns.__"
   ]
  },
  {
   "cell_type": "code",
   "execution_count": 4,
   "metadata": {
    "collapsed": true,
    "deletable": false,
    "nbgrader": {
     "checksum": "dbf4376083083786f66fa66f68830052",
     "grade": false,
     "grade_id": "prob1_answer",
     "locked": false,
     "schema_version": 1,
     "solution": true
    }
   },
   "outputs": [],
   "source": [
    "data = getData()\n",
    "\n",
    "#create a new column called tip_percentage\n",
    "data['tip_percentage'] = data['tip'] / data['total_bill']\n",
    "\n",
    "#remove the total_bill and tip columns, axis=1 indicates the column\n",
    "columns = ['total_bill', 'tip']\n",
    "data.drop(columns, inplace=True, axis=1)"
   ]
  },
  {
   "cell_type": "code",
   "execution_count": 5,
   "metadata": {
    "collapsed": true,
    "deletable": false,
    "editable": false,
    "nbgrader": {
     "checksum": "1455a30f257b26d5d6e34d83b6b7f9bc",
     "grade": true,
     "grade_id": "prob1_grade",
     "locked": true,
     "points": 5,
     "schema_version": 1,
     "solution": false
    }
   },
   "outputs": [],
   "source": [
    "assert_equal(len(data.columns), 7)\n",
    "assert_equal(isinstance(data['tip_percentage'], pd.Series), True)\n"
   ]
  },
  {
   "cell_type": "markdown",
   "metadata": {
    "collapsed": true,
    "deletable": false,
    "editable": false,
    "nbgrader": {
     "checksum": "f7bfd58faf3740c1fea4ef5b57443a7c",
     "grade": false,
     "grade_id": "prob2",
     "locked": true,
     "schema_version": 1,
     "solution": false
    }
   },
   "source": [
    "## Question 2\n",
    "\n",
    "We have several categorical variables (`sex`, `smoker`, `day`, `time`) which we need to encode to indicator variables in order to use the scikit-learn. Create a function called `data_encoding()` which will take a pandas DataFrame and a list of variable names to encode.\n",
    "\n",
    "__Hint__: You may use the pandas built-in function `get_dummies()`."
   ]
  },
  {
   "cell_type": "code",
   "execution_count": 6,
   "metadata": {
    "collapsed": true,
    "deletable": false,
    "nbgrader": {
     "checksum": "c6e1e96a0f01861b850594c19b6ae2bf",
     "grade": false,
     "grade_id": "prob2_answer",
     "locked": false,
     "schema_version": 1,
     "solution": true
    }
   },
   "outputs": [],
   "source": [
    "def data_encoding(data, colnames):\n",
    "    '''    \n",
    "    Parameters\n",
    "    ----------\n",
    "    data: A pandas.DataFrame\n",
    "    colnames: A list of strings\n",
    "    \n",
    "    Returns\n",
    "    -------\n",
    "    result: A pandas.DataFrame\n",
    "    '''\n",
    "    \n",
    "    result = pd.get_dummies(data[colnames])\n",
    "\n",
    "    return result"
   ]
  },
  {
   "cell_type": "code",
   "execution_count": 7,
   "metadata": {
    "deletable": false,
    "editable": false,
    "nbgrader": {
     "checksum": "b5f2434c99e5cf3c973050f47f3efccd",
     "grade": false,
     "grade_id": "cell-c9f963254ad55f3f",
     "locked": true,
     "schema_version": 1,
     "solution": false
    }
   },
   "outputs": [
    {
     "data": {
      "text/html": [
       "<div>\n",
       "<style>\n",
       "    .dataframe thead tr:only-child th {\n",
       "        text-align: right;\n",
       "    }\n",
       "\n",
       "    .dataframe thead th {\n",
       "        text-align: left;\n",
       "    }\n",
       "\n",
       "    .dataframe tbody tr th {\n",
       "        vertical-align: top;\n",
       "    }\n",
       "</style>\n",
       "<table border=\"1\" class=\"dataframe\">\n",
       "  <thead>\n",
       "    <tr style=\"text-align: right;\">\n",
       "      <th></th>\n",
       "      <th>sex_Male</th>\n",
       "      <th>sex_Female</th>\n",
       "      <th>smoker_Yes</th>\n",
       "      <th>smoker_No</th>\n",
       "      <th>day_Thur</th>\n",
       "      <th>day_Fri</th>\n",
       "      <th>day_Sat</th>\n",
       "      <th>day_Sun</th>\n",
       "      <th>time_Lunch</th>\n",
       "      <th>time_Dinner</th>\n",
       "    </tr>\n",
       "  </thead>\n",
       "  <tbody>\n",
       "    <tr>\n",
       "      <th>0</th>\n",
       "      <td>0</td>\n",
       "      <td>1</td>\n",
       "      <td>0</td>\n",
       "      <td>1</td>\n",
       "      <td>0</td>\n",
       "      <td>0</td>\n",
       "      <td>0</td>\n",
       "      <td>1</td>\n",
       "      <td>0</td>\n",
       "      <td>1</td>\n",
       "    </tr>\n",
       "    <tr>\n",
       "      <th>1</th>\n",
       "      <td>1</td>\n",
       "      <td>0</td>\n",
       "      <td>0</td>\n",
       "      <td>1</td>\n",
       "      <td>0</td>\n",
       "      <td>0</td>\n",
       "      <td>0</td>\n",
       "      <td>1</td>\n",
       "      <td>0</td>\n",
       "      <td>1</td>\n",
       "    </tr>\n",
       "    <tr>\n",
       "      <th>2</th>\n",
       "      <td>1</td>\n",
       "      <td>0</td>\n",
       "      <td>0</td>\n",
       "      <td>1</td>\n",
       "      <td>0</td>\n",
       "      <td>0</td>\n",
       "      <td>0</td>\n",
       "      <td>1</td>\n",
       "      <td>0</td>\n",
       "      <td>1</td>\n",
       "    </tr>\n",
       "    <tr>\n",
       "      <th>3</th>\n",
       "      <td>1</td>\n",
       "      <td>0</td>\n",
       "      <td>0</td>\n",
       "      <td>1</td>\n",
       "      <td>0</td>\n",
       "      <td>0</td>\n",
       "      <td>0</td>\n",
       "      <td>1</td>\n",
       "      <td>0</td>\n",
       "      <td>1</td>\n",
       "    </tr>\n",
       "    <tr>\n",
       "      <th>4</th>\n",
       "      <td>0</td>\n",
       "      <td>1</td>\n",
       "      <td>0</td>\n",
       "      <td>1</td>\n",
       "      <td>0</td>\n",
       "      <td>0</td>\n",
       "      <td>0</td>\n",
       "      <td>1</td>\n",
       "      <td>0</td>\n",
       "      <td>1</td>\n",
       "    </tr>\n",
       "  </tbody>\n",
       "</table>\n",
       "</div>"
      ],
      "text/plain": [
       "   sex_Male  sex_Female  smoker_Yes  smoker_No  day_Thur  day_Fri  day_Sat  \\\n",
       "0         0           1           0          1         0        0        0   \n",
       "1         1           0           0          1         0        0        0   \n",
       "2         1           0           0          1         0        0        0   \n",
       "3         1           0           0          1         0        0        0   \n",
       "4         0           1           0          1         0        0        0   \n",
       "\n",
       "   day_Sun  time_Lunch  time_Dinner  \n",
       "0        1           0            1  \n",
       "1        1           0            1  \n",
       "2        1           0            1  \n",
       "3        1           0            1  \n",
       "4        1           0            1  "
      ]
     },
     "execution_count": 7,
     "metadata": {},
     "output_type": "execute_result"
    }
   ],
   "source": [
    "# Encode the data by calling the function above\n",
    "categorical_data = data_encoding(data, ['sex', 'smoker', 'day', 'time'])\n",
    "\n",
    "# Contains only our categorical data encoded\n",
    "categorical_data.head()"
   ]
  },
  {
   "cell_type": "code",
   "execution_count": 8,
   "metadata": {
    "collapsed": true,
    "deletable": false,
    "editable": false,
    "nbgrader": {
     "checksum": "ba9c78ff1fbb9be4189d768d9bf833d7",
     "grade": true,
     "grade_id": "prob2_grade",
     "locked": true,
     "points": 5,
     "schema_version": 1,
     "solution": false
    }
   },
   "outputs": [],
   "source": [
    "assert_equal(len(categorical_data.columns), 10)\n",
    "assert_equal(isinstance(categorical_data, pd.DataFrame), True)\n",
    "assert_equal(pd.Series(['sex_Male', 'sex_Female']).isin(categorical_data.columns).all(), True)\n",
    "assert_equal(pd.Series(['smoker_Yes', 'smoker_No']).isin(categorical_data.columns).all(), True)\n"
   ]
  },
  {
   "cell_type": "markdown",
   "metadata": {
    "deletable": false,
    "editable": false,
    "nbgrader": {
     "checksum": "426bda969c922eccbdd6c5be8456ad2c",
     "grade": false,
     "grade_id": "cell-3696df843785c108",
     "locked": true,
     "schema_version": 1,
     "solution": false
    }
   },
   "source": [
    "Let us create the training and testing set to be used with our model."
   ]
  },
  {
   "cell_type": "code",
   "execution_count": 9,
   "metadata": {
    "collapsed": true,
    "deletable": false,
    "editable": false,
    "nbgrader": {
     "checksum": "7a4f9dc75c37a8beee3f604fb02b78e8",
     "grade": false,
     "grade_id": "cell-deaceb9d51bc7ce8",
     "locked": true,
     "schema_version": 1,
     "solution": false
    }
   },
   "outputs": [],
   "source": [
    "# Join the categorical data with the numerical\n",
    "features = pd.concat([categorical_data, data[['size']]], axis=1)\n",
    "labels = data.review\n",
    "\n",
    "# Perform a 80-20 train-test split\n",
    "X_train, X_test, y_train, y_test = train_test_split(features, labels, test_size=0.2, random_state=10)"
   ]
  },
  {
   "cell_type": "markdown",
   "metadata": {
    "collapsed": true,
    "deletable": false,
    "editable": false,
    "nbgrader": {
     "checksum": "eda0d3a826d1c78aa020ea4a978692fd",
     "grade": false,
     "grade_id": "prob3",
     "locked": true,
     "schema_version": 1,
     "solution": false
    }
   },
   "source": [
    "## Question 3\n",
    "\n",
    "Write a function call `train_predict_svm()` which train an `svm.SVC()` model using your training data and makes a prediction based on the testing data (note, there are multiple SVM implementation so make sure you use the correct one).\n",
    "\n",
    "Specifically, your function takes the the training data (`X_train` and `y_train`), testing data (`X_test`), model parameter `gamma`, `kernel`, and `C` to output an SVM model and the predictions."
   ]
  },
  {
   "cell_type": "code",
   "execution_count": 10,
   "metadata": {
    "collapsed": true,
    "deletable": false,
    "nbgrader": {
     "checksum": "a8e2aca67ac93158ea18803f563e2ef7",
     "grade": false,
     "grade_id": "prob3_answer",
     "locked": false,
     "schema_version": 1,
     "solution": true
    }
   },
   "outputs": [],
   "source": [
    "def train_predict_svm(X_train, y_train, X_test, kern, gam, c):\n",
    "    '''    \n",
    "    Parameters\n",
    "    ----------\n",
    "    X_train: A pandas.DataFrame of the features\n",
    "    y_train: A pandas.Series of the labels\n",
    "    X_test: A pandas.DataFrame of the features\n",
    "    kernel; A String specifying the kernel\n",
    "    gamma: A float for the kernel coefficient\n",
    "    C: A float for the penalty of the error term\n",
    "    \n",
    "    Returns\n",
    "    -------\n",
    "    model: A svm.SVC instance\n",
    "    prediction: A numpy array\n",
    "    '''\n",
    "    \n",
    "    from sklearn.svm import SVC\n",
    "\n",
    "    # specify parameters\n",
    "    model = SVC(kernel = kern, gamma = gam, C = c)\n",
    "    model = model.fit(X_train, y_train)\n",
    "    \n",
    "    # Predict on test data and report scores\n",
    "    prediction = model.predict(X_test)\n",
    "\n",
    "    return model, prediction"
   ]
  },
  {
   "cell_type": "code",
   "execution_count": 11,
   "metadata": {
    "collapsed": true,
    "deletable": false,
    "editable": false,
    "nbgrader": {
     "checksum": "3d662781e1891024930d576e7f5e27d6",
     "grade": false,
     "grade_id": "cell-84c2a0be0ecb27cc",
     "locked": true,
     "schema_version": 1,
     "solution": false
    }
   },
   "outputs": [],
   "source": [
    "# Train some different SVM model\n",
    "svm_model, pred = train_predict_svm(X_train, y_train, X_test, 'linear', 0.001, 10)\n",
    "svm_model2, pred2 = train_predict_svm(X_train, y_train, X_test, 'poly', 0.0001, 100)\n",
    "svm_model3, pred3 = train_predict_svm(X_train, y_train, X_test, 'rbf', 0.01, 10)"
   ]
  },
  {
   "cell_type": "code",
   "execution_count": 12,
   "metadata": {
    "collapsed": true,
    "deletable": false,
    "editable": false,
    "nbgrader": {
     "checksum": "18e50e733a26c413d66649c46fb8d2af",
     "grade": true,
     "grade_id": "prob3_grade",
     "locked": true,
     "points": 10,
     "schema_version": 1,
     "solution": false
    }
   },
   "outputs": [],
   "source": [
    "assert_equal(isinstance(svm_model, svm.SVC), True)\n",
    "assert_equal(svm_model.C, 10)\n",
    "assert_equal(svm_model.gamma, 0.001)\n",
    "assert_equal(svm_model.kernel, 'linear')\n",
    "\n",
    "assert_equal(isinstance(svm_model2, svm.SVC), True)\n",
    "assert_equal(svm_model2.C, 100)\n",
    "assert_equal(svm_model2.gamma, 0.0001)\n",
    "assert_equal(svm_model2.kernel, 'poly')\n"
   ]
  },
  {
   "cell_type": "code",
   "execution_count": 13,
   "metadata": {
    "deletable": false,
    "editable": false,
    "nbgrader": {
     "checksum": "69db04aa3e2f03b85ce0258a6b23e46b",
     "grade": false,
     "grade_id": "cell-ebdc3f79013680c8",
     "locked": true,
     "schema_version": 1,
     "solution": false
    }
   },
   "outputs": [
    {
     "name": "stdout",
     "output_type": "stream",
     "text": [
      "Model 1 (Linear): 0.448979591837\n",
      "Model 2 (Poly): 0.428571428571\n",
      "Model 3 (Radial): 0.448979591837\n"
     ]
    }
   ],
   "source": [
    "# Print the accuracy of the three models\n",
    "print('Model 1 (Linear):', accuracy_score(y_test, pred))\n",
    "print('Model 2 (Poly):', accuracy_score(y_test, pred2))\n",
    "print('Model 3 (Radial):', accuracy_score(y_test, pred3))"
   ]
  },
  {
   "cell_type": "markdown",
   "metadata": {
    "deletable": false,
    "editable": false,
    "nbgrader": {
     "checksum": "bb82bf1d75a2327e7b75c6db4eae53d9",
     "grade": false,
     "grade_id": "cell-56882d0990a5c2cd",
     "locked": true,
     "schema_version": 1,
     "solution": false
    }
   },
   "source": [
    "We see that the choice of kernel, gamma and C affects the accuracy greatly. The process of identifying the best parameters for a model is called `hyper-parameter tuning`. You might recall we performed a naive parameter tuning in the assignment for k-NN by training several k-NN models and recording their accuracy. This approach would take too long if our parameter space is large or if we have too much data. \n",
    "\n",
    "Let us explore a simple approach where we will tune the hyper-parameters of SVM by searching through a grid. Note, that there are several advanced tuning techniques that is outside the scope of this class."
   ]
  },
  {
   "cell_type": "markdown",
   "metadata": {
    "deletable": false,
    "editable": false,
    "nbgrader": {
     "checksum": "7f6c0d82ef486119eac5a926f6143271",
     "grade": false,
     "grade_id": "cell-16638c46c004da72",
     "locked": true,
     "schema_version": 1,
     "solution": false
    }
   },
   "source": [
    "Scikit-learn has a built-in grid search function which is very intuitive to use. In the eample below, we search 4 different kernels, 3 different values of gamma, and 4 different values of `C`. We train different models with different parameter combinations to find the model which yields the best accuracy."
   ]
  },
  {
   "cell_type": "code",
   "execution_count": 14,
   "metadata": {
    "deletable": false,
    "editable": false,
    "nbgrader": {
     "checksum": "03fae462f78560b66eea1f6d3a75bcf2",
     "grade": false,
     "grade_id": "cell-de593add2cca7d24",
     "locked": true,
     "schema_version": 1,
     "solution": false
    }
   },
   "outputs": [
    {
     "name": "stdout",
     "output_type": "stream",
     "text": [
      "Best C: 1\n",
      "Best Kernel: rbf\n",
      "Best Gamma: 0.1\n",
      "Accuracy: 0.448979591837\n"
     ]
    }
   ],
   "source": [
    "# Define the search space\n",
    "search_space = [{'kernel': ['rbf'], 'gamma': [0.1, 0.01, 0.001], 'C': [1, 10, 100, 1000]},\n",
    "                    {'kernel': ['linear'], 'gamma': [0.1, 0.01, 0.001], 'C': [1, 10, 100, 1000]},\n",
    "                    {'kernel': ['sigmoid'], 'gamma': [0.1, 0.01, 0.001], 'C': [1, 10, 100, 1000]},\n",
    "                    {'kernel': ['poly'], 'gamma': [0.1, 0.01, 0.001], 'C': [1, 10, 100, 1000]}]\n",
    "\n",
    "# Perform a grid search to find model with best accuracy\n",
    "clf = GridSearchCV(svm.SVC(), search_space, scoring='accuracy')\n",
    "clf.fit(X_train, y_train)\n",
    "\n",
    "print('Best C:', clf.best_estimator_.C) \n",
    "print('Best Kernel:', clf.best_estimator_.kernel)\n",
    "print('Best Gamma:', clf.best_estimator_.gamma)\n",
    "\n",
    "# Make the prediction using the fine-tuned model and compute accuracy\n",
    "y_pred = clf.predict(X_test)\n",
    "print('Accuracy:', accuracy_score(y_test, y_pred))"
   ]
  },
  {
   "cell_type": "markdown",
   "metadata": {
    "deletable": false,
    "editable": false,
    "nbgrader": {
     "checksum": "bec035d5ce426cfa9447d4cf4d9ab0c4",
     "grade": false,
     "grade_id": "cell-832eee2d35e822c5",
     "locked": true,
     "schema_version": 1,
     "solution": false
    }
   },
   "source": [
    "# Question 4\n",
    "\n",
    "Create a function called tuning_SVM() which performs a grid search for an svm.SVC() model. Your function will take the training and testing data along with the search space for the kernel, gamma and C. It will output the parameter values which yields the best accuracy score."
   ]
  },
  {
   "cell_type": "code",
   "execution_count": 15,
   "metadata": {
    "collapsed": true,
    "deletable": false,
    "nbgrader": {
     "checksum": "de7f035b4342abfb2899409bd31ef427",
     "grade": false,
     "grade_id": "prob4_answer",
     "locked": false,
     "schema_version": 1,
     "solution": true
    }
   },
   "outputs": [],
   "source": [
    "def tuning_SVM(X_train, y_train, X_test, search_space):\n",
    "    '''    \n",
    "    Parameters\n",
    "    ----------\n",
    "    X_train: A pandas.DataFrame of the features\n",
    "    y_train: A pandas.Series of the labels\n",
    "    X_test: A pandas.DataFrame of the features\n",
    "    search_space: A list of dictionaries\n",
    "    \n",
    "    Returns\n",
    "    -------\n",
    "    best_C: A int\n",
    "    best_kernel: A String\n",
    "    best_gamma: A float\n",
    "    best_accuracy: A numpy.float64\n",
    "    '''\n",
    "    # Perform a grid search to find model with best accuracy\n",
    "    clf = GridSearchCV(svm.SVC(), search_space, scoring='accuracy')\n",
    "    clf.fit(X_train, y_train)\n",
    "    \n",
    "    best_C = clf.best_estimator_.C \n",
    "    best_kernel = clf.best_estimator_.kernel\n",
    "    best_gamma = clf.best_estimator_.gamma\n",
    "\n",
    "    # Make the prediction using the fine-tuned model and compute accuracy\n",
    "    y_pred = clf.predict(X_train)\n",
    "    best_accuracy = accuracy_score(y_train, y_pred)\n",
    "\n",
    "    return best_C, best_kernel, best_gamma, best_accuracy"
   ]
  },
  {
   "cell_type": "code",
   "execution_count": 16,
   "metadata": {
    "collapsed": true,
    "deletable": false,
    "editable": false,
    "nbgrader": {
     "checksum": "26430c5619a46f2db358a5547ecfccf6",
     "grade": true,
     "grade_id": "prob4_grade",
     "locked": true,
     "points": 10,
     "schema_version": 1,
     "solution": false
    }
   },
   "outputs": [],
   "source": [
    "# Might take a bit for this test to finish\n",
    "\n",
    "search_space1 = [{'kernel': ['rbf', 'poly'], 'gamma': [0.1, 0.01, 0.001], 'C': [1, 10, 100, 1000]}]\n",
    "C1, kernel1, gamma1, accuracy1 = tuning_SVM(X_train, y_train, X_test, search_space1)\n",
    "assert_equal(type(C1), int)\n",
    "assert_equal(type(gamma1), float)\n",
    "assert_equal(type(kernel1), str)\n",
    "assert_equal(type(accuracy1), np.float64)\n",
    "assert_equal(kernel1 in ['rbf', 'poly'], True)\n",
    "assert_equal(gamma1 in [0.1, 0.01, 0.001], True)\n",
    "assert_equal(C1 in [1, 10, 100, 1000], True)\n"
   ]
  }
 ],
 "metadata": {
  "kernelspec": {
   "display_name": "Python 3",
   "language": "python",
   "name": "python3"
  },
  "language_info": {
   "codemirror_mode": {
    "name": "ipython",
    "version": 3
   },
   "file_extension": ".py",
   "mimetype": "text/x-python",
   "name": "python",
   "nbconvert_exporter": "python",
   "pygments_lexer": "ipython3",
   "version": "3.6.1"
  }
 },
 "nbformat": 4,
 "nbformat_minor": 2
}
