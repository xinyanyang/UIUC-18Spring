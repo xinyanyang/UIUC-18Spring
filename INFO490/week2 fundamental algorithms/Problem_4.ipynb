{
 "cells": [
  {
   "cell_type": "markdown",
   "metadata": {
    "deletable": false,
    "editable": false,
    "nbgrader": {
     "checksum": "41b38b701a3bfc2fe76c2203b5dad316",
     "grade": false,
     "grade_id": "header",
     "locked": true,
     "schema_version": 1,
     "solution": false
    }
   },
   "source": [
    "# Week 2 Problem 4\n",
    "\n",
    "A few things you should keep in mind when working on assignments:\n",
    "\n",
    "1. Make sure you fill in any place that says `YOUR CODE HERE`. Do not write your answer in anywhere else other than where it says `YOUR CODE HERE`. Anything you write anywhere else will be removed or overwritten by the autograder.\n",
    "\n",
    "2. Before you submit your assignment, make sure everything runs as expected. Go to menubar, select *Kernel*, and restart the kernel and run all cells (*Restart & Run all*).\n",
    "\n",
    "3. Do not change the title (i.e. file name) of this notebook.\n",
    "\n",
    "4. Make sure that you save your work (in the menubar, select *File* → *Save and CheckPoint*)\n",
    "\n",
    "5. When you are ready to submit your assignment, go to *Dashboard* → *Assignments* and click the *Submit* button. Your work is not submitted until you click *Submit*.\n",
    "\n",
    "6. You are allowed to submit an assignment multiple times, but only the most recent submission will be graded.\n",
    "\n",
    "7. **If your code does not pass the unit tests, it will not pass the autograder.**"
   ]
  },
  {
   "cell_type": "markdown",
   "metadata": {
    "deletable": false,
    "editable": false,
    "nbgrader": {
     "checksum": "ce77b693b293a71e098ba4952f39349f",
     "grade": false,
     "grade_id": "due_date",
     "locked": true,
     "schema_version": 1,
     "solution": false
    }
   },
   "source": [
    "# Due Date: 6 PM, January 29, 2018"
   ]
  },
  {
   "cell_type": "code",
   "execution_count": 11,
   "metadata": {
    "collapsed": true,
    "deletable": false,
    "editable": false,
    "nbgrader": {
     "checksum": "b9b1355ac35dc523aadd9a9962cb78c8",
     "grade": false,
     "grade_id": "import",
     "locked": true,
     "schema_version": 1,
     "solution": false
    }
   },
   "outputs": [],
   "source": [
    "import pandas as pd\n",
    "import numpy as np\n",
    "\n",
    "import sklearn as sk\n",
    "from sklearn.svm import SVC\n",
    "from sklearn.linear_model import LogisticRegression\n",
    "from sklearn.tree import DecisionTreeClassifier\n",
    "from sklearn.model_selection import train_test_split, GridSearchCV\n",
    "from sklearn.metrics import accuracy_score\n",
    "from sklearn.preprocessing  import StandardScaler\n",
    "\n",
    "from nose.tools import assert_equal, assert_true, assert_false"
   ]
  },
  {
   "cell_type": "markdown",
   "metadata": {
    "deletable": false,
    "editable": false,
    "nbgrader": {
     "checksum": "727543306bd07214051030226477d3b8",
     "grade": false,
     "grade_id": "cell-4462be3b9432c980",
     "locked": true,
     "schema_version": 1,
     "solution": false
    }
   },
   "source": [
    "The cell below reads in a simulated dataset where y is an unknown function of a, b, and c."
   ]
  },
  {
   "cell_type": "code",
   "execution_count": 12,
   "metadata": {
    "deletable": false,
    "editable": false,
    "nbgrader": {
     "checksum": "b8bf7b17053bd19013a3d98f5b2103f0",
     "grade": false,
     "grade_id": "cell-4e75853bbea17a2c",
     "locked": true,
     "schema_version": 1,
     "solution": false
    }
   },
   "outputs": [
    {
     "data": {
      "text/html": [
       "<div>\n",
       "<style>\n",
       "    .dataframe thead tr:only-child th {\n",
       "        text-align: right;\n",
       "    }\n",
       "\n",
       "    .dataframe thead th {\n",
       "        text-align: left;\n",
       "    }\n",
       "\n",
       "    .dataframe tbody tr th {\n",
       "        vertical-align: top;\n",
       "    }\n",
       "</style>\n",
       "<table border=\"1\" class=\"dataframe\">\n",
       "  <thead>\n",
       "    <tr style=\"text-align: right;\">\n",
       "      <th></th>\n",
       "      <th>a</th>\n",
       "      <th>b</th>\n",
       "      <th>c</th>\n",
       "      <th>y</th>\n",
       "    </tr>\n",
       "  </thead>\n",
       "  <tbody>\n",
       "    <tr>\n",
       "      <th>0</th>\n",
       "      <td>0.004539</td>\n",
       "      <td>0.818678</td>\n",
       "      <td>194.381891</td>\n",
       "      <td>0</td>\n",
       "    </tr>\n",
       "    <tr>\n",
       "      <th>1</th>\n",
       "      <td>0.001367</td>\n",
       "      <td>0.243724</td>\n",
       "      <td>245.378577</td>\n",
       "      <td>0</td>\n",
       "    </tr>\n",
       "    <tr>\n",
       "      <th>2</th>\n",
       "      <td>1.579454</td>\n",
       "      <td>0.465842</td>\n",
       "      <td>849.943583</td>\n",
       "      <td>0</td>\n",
       "    </tr>\n",
       "    <tr>\n",
       "      <th>3</th>\n",
       "      <td>7.189778</td>\n",
       "      <td>0.456895</td>\n",
       "      <td>129.707932</td>\n",
       "      <td>0</td>\n",
       "    </tr>\n",
       "    <tr>\n",
       "      <th>4</th>\n",
       "      <td>97.743634</td>\n",
       "      <td>0.319419</td>\n",
       "      <td>120.998294</td>\n",
       "      <td>1</td>\n",
       "    </tr>\n",
       "  </tbody>\n",
       "</table>\n",
       "</div>"
      ],
      "text/plain": [
       "           a         b           c  y\n",
       "0   0.004539  0.818678  194.381891  0\n",
       "1   0.001367  0.243724  245.378577  0\n",
       "2   1.579454  0.465842  849.943583  0\n",
       "3   7.189778  0.456895  129.707932  0\n",
       "4  97.743634  0.319419  120.998294  1"
      ]
     },
     "execution_count": 12,
     "metadata": {},
     "output_type": "execute_result"
    }
   ],
   "source": [
    "df = pd.read_csv('/home/data_scientist/data/misc/sim.data')\n",
    "df.head()"
   ]
  },
  {
   "cell_type": "markdown",
   "metadata": {
    "deletable": false,
    "editable": false,
    "nbgrader": {
     "checksum": "7408c6c563775876d625afb395233fb9",
     "grade": false,
     "grade_id": "p4-1-description",
     "locked": true,
     "schema_version": 1,
     "solution": false
    }
   },
   "source": [
    "### Problem 4.1 \n",
    "\n",
    "In the classify function below use the [train_test_split](http://scikit-learn.org/stable/modules/generated/sklearn.model_selection.train_test_split.html) function  to split the simulated data (*df*) with a 70/30 split for the training and testing set respectively. The random_state argument passed into the [train_test_split](http://scikit-learn.org/stable/modules/generated/sklearn.model_selection.train_test_split.html) function should be 0.\n",
    "\n",
    "Use a [Support Vector Classifier](http://scikit-learn.org/stable/modules/generated/sklearn.svm.SVC.html) implemented in sci-kit learn to train your model to classify y using any combination of a, b, and c. *In this order:* return your support vector classifier, testing features, and testing labels.  \n",
    "\n",
    "**Using *only* the material you've learned from this course thus far** your support vector classifier should have a mean accuracy greater than or equal to 90% on the testing set. Feel free to import any functions or classes that have been dicussed thus far in the readings.\n",
    "\n",
    "---\n",
    "It's important to: \n",
    "- set the random_state argument to 0 when splitting the data,\n",
    "- perform 70/30 split,\n",
    "- not to modify your labels after splitting your data,\n",
    "- use a Support Vector Classifier,\n",
    "- and not to train using your testing set.  \n",
    "\n",
    "*Otherwise you risk losing points.*"
   ]
  },
  {
   "cell_type": "code",
   "execution_count": 3,
   "metadata": {
    "collapsed": true,
    "deletable": false,
    "nbgrader": {
     "checksum": "9e2f37c962298da656df5d6343fa3cc2",
     "grade": false,
     "grade_id": "p4-answer",
     "locked": false,
     "schema_version": 1,
     "solution": true
    }
   },
   "outputs": [],
   "source": [
    "def classify(df):\n",
    "    '''\n",
    "    Splits simulated data passed in and trains a support vector class\n",
    "    \n",
    "    Parameters\n",
    "    ----------\n",
    "    df: dataframe containing simulated dataset.\n",
    "    \n",
    "    Returns\n",
    "    -------\n",
    "    Trained support vector classifier\n",
    "    30% of the features for testing (as a Pandas Dataframe)\n",
    "    and 30% of the labels for testing (as a Pandas Series)\n",
    "    '''\n",
    "    \n",
    "    independent_vars = list(df)\n",
    "    independent_vars.remove('y')\n",
    "    dependent_var = 'y'\n",
    "\n",
    "    X_train, X_test, Y_train, Y_test = \\\n",
    "         train_test_split(df[independent_vars], df[dependent_var],\n",
    "                          test_size = 0.3, random_state=0)\n",
    "        \n",
    "    from sklearn import svm   \n",
    "\n",
    "    # specify parameters\n",
    "    model = SVC(kernel = 'linear', gamma = 0.01, C = 10)\n",
    "    model = model.fit(X_train, Y_train)\n",
    "    \n",
    "    # Predict on test data and report scores\n",
    "    y_pred = model.predict(X_test)\n",
    "    accuracy = accuracy_score(Y_test, y_pred)\n",
    "\n",
    "    return model, X_test, Y_test"
   ]
  },
  {
   "cell_type": "code",
   "execution_count": 4,
   "metadata": {
    "collapsed": true,
    "deletable": false,
    "editable": false,
    "nbgrader": {
     "checksum": "1553108e10f7f292c7a6a8f3c45b882d",
     "grade": true,
     "grade_id": "p4-test1",
     "locked": true,
     "points": 5,
     "schema_version": 1,
     "solution": false
    }
   },
   "outputs": [],
   "source": [
    "model, test_features, y_test = classify(df)\n",
    "\n",
    "assert_equal(len(test_features), 300, msg='Per the instructions use 30% of your data for testing')\n",
    "assert_equal(len(y_test), 300, msg='Per the instructions use 30% of your data for testing')\n"
   ]
  },
  {
   "cell_type": "code",
   "execution_count": 5,
   "metadata": {
    "collapsed": true,
    "deletable": false,
    "editable": false,
    "nbgrader": {
     "checksum": "0650c5c44ccae2a41f4f56e5c1157ec0",
     "grade": true,
     "grade_id": "p4-test2",
     "locked": true,
     "points": 5,
     "schema_version": 1,
     "solution": false
    }
   },
   "outputs": [],
   "source": [
    "assert_true(model.score(test_features, y_test) > 0.9, msg='Your Support Vector Machine Classifier should have a mean accuracy greater than 90%')\n",
    "\n"
   ]
  },
  {
   "cell_type": "markdown",
   "metadata": {
    "deletable": false,
    "editable": false,
    "nbgrader": {
     "checksum": "1dec3af3796634863c6392b1a166b3c6",
     "grade": false,
     "grade_id": "cell-321c83da4db0bb38",
     "locked": true,
     "schema_version": 1,
     "solution": false
    }
   },
   "source": [
    "Creating a 80/20 split for training and testing respectively. These variables will be used for Problem 4.2 & 4.3."
   ]
  },
  {
   "cell_type": "code",
   "execution_count": 6,
   "metadata": {
    "collapsed": true,
    "deletable": false,
    "editable": false,
    "nbgrader": {
     "checksum": "a5ae8b45cad2555c268613cd7da3d965",
     "grade": false,
     "grade_id": "cell-d613ba7a0ddbb096",
     "locked": true,
     "schema_version": 1,
     "solution": false
    }
   },
   "outputs": [],
   "source": [
    "train_data, test_data = train_test_split(df, test_size=0.2, random_state=0)\n",
    "X_train = train_data.drop('y', axis=1)\n",
    "X_test = test_data.drop('y', axis=1)\n",
    "y_train = train_data['y']\n",
    "y_test = test_data['y']"
   ]
  },
  {
   "cell_type": "markdown",
   "metadata": {
    "deletable": false,
    "editable": false,
    "nbgrader": {
     "checksum": "de369babdca67dcf30d71a5e8977ad8e",
     "grade": false,
     "grade_id": "cell-703003a460c91462",
     "locked": true,
     "schema_version": 1,
     "solution": false
    }
   },
   "source": [
    "### Problem 4.2\n",
    "In the search function below a [logistic regression](http://scikit-learn.org/stable/modules/generated/sklearn.linear_model.LogisticRegression.html) model will be passed in. In order to complete this problem search over the parameter spaces you deem important and fit the model on the training features and labels passed in. In order to recieve full credit you must: use a logistic regression model as the estimator, return an GridSearch object, and have a mean accuracy greater than or equal 90.5%. *You are free to use any of the functions or classes that have been covered thus far.*"
   ]
  },
  {
   "cell_type": "code",
   "execution_count": 7,
   "metadata": {
    "collapsed": true,
    "deletable": false,
    "nbgrader": {
     "checksum": "f6f5b3efbaba49c8d4b887d1f0dad0ee",
     "grade": false,
     "grade_id": "p4-2-ans",
     "locked": false,
     "schema_version": 1,
     "solution": true
    }
   },
   "outputs": [],
   "source": [
    "def search(model, train_features, train_labels):\n",
    "    '''\n",
    "    Searches over parameter spaces of a logistic regression model\n",
    "        \n",
    "    Parameters\n",
    "    ----------\n",
    "    model: Logistic Regression Model\n",
    "    train_features: pandas dataframe containing features to train on\n",
    "    train_labels: pandas series containing labels to classify\n",
    "    \n",
    "    Returns\n",
    "    -------\n",
    "    GridSearch Object\n",
    "    '''   \n",
    "    search_space = [{'C': [1E6, 1E5],'penalty': ['l1', 'l2'], 'class_weight': ['balanced']}]\n",
    "    \n",
    "    # Perform a grid search to find model with best accuracy\n",
    "    clf = GridSearchCV(model, search_space, scoring='accuracy')\n",
    "    clf.fit(train_features, train_labels)\n",
    "    \n",
    "    return clf"
   ]
  },
  {
   "cell_type": "code",
   "execution_count": 8,
   "metadata": {
    "deletable": false,
    "editable": false,
    "nbgrader": {
     "checksum": "6b7ba70056848f4f524aa8ca3ae4bb2e",
     "grade": true,
     "grade_id": "p4-2-sol",
     "locked": true,
     "points": 10,
     "schema_version": 1,
     "solution": false
    }
   },
   "outputs": [],
   "source": [
    "model = search(LogisticRegression(random_state=0), X_train, y_train)\n",
    "\n",
    "assert_equal(type(model), type(sk.model_selection._search.GridSearchCV(model, param_grid={})))\n",
    "score = model.score(X_test, y_test)\n",
    "assert_true(score >= .905, msg='Mean Accuracy is not greator 90.5%')"
   ]
  },
  {
   "cell_type": "markdown",
   "metadata": {
    "deletable": false,
    "editable": false,
    "nbgrader": {
     "checksum": "b75591ee6142320fb5088e3ab8a8cb53",
     "grade": false,
     "grade_id": "cell-b2e978237486185c",
     "locked": true,
     "schema_version": 1,
     "solution": false
    }
   },
   "source": [
    "### Problem 4.3\n",
    "In the d_tree function below train a decision tree classifier on the training features and labels. Using the trained model make predictions using the testing features. Return the trained model and the predictions (in this order). To recieve full credit: do not use another classifier besides a Decision Tree Classifier, and your classifier should have a mean accuracy score greater than or equal to 94%."
   ]
  },
  {
   "cell_type": "code",
   "execution_count": 9,
   "metadata": {
    "collapsed": true,
    "deletable": false,
    "nbgrader": {
     "checksum": "1b4e5e955784d3159475f93b306e5ae4",
     "grade": false,
     "grade_id": "p4-3-ans",
     "locked": false,
     "schema_version": 1,
     "solution": true
    }
   },
   "outputs": [],
   "source": [
    "def d_tree(model, X_train, y_train, X_test):\n",
    "    '''\n",
    "    Trains a Decision Tree Classifier on X_train & y_train and creates predictions with X_test.\n",
    "    \n",
    "    Parameters\n",
    "    ----------\n",
    "    model:  Decision Tree Classifier\n",
    "    X_train: pandas dataframe containing features to train on\n",
    "    y_train: pandas series containing labels to classify\n",
    "    X_test: pandas dataframe containing features to make predictions with\n",
    "    \n",
    "    Returns\n",
    "    -------\n",
    "    model: Can be either a Decision Tree Classifier or a Grid Search Object (Hint)\n",
    "    predictions: Predictions from the model using X_test.\n",
    "    '''\n",
    "    \n",
    "    search_space = [{'max_depth': [10],'criterion': ['gini', 'entropy']}]\n",
    "    \n",
    "    # Perform a grid search to find model with best accuracy\n",
    "    clf = GridSearchCV(model, search_space, scoring='accuracy')\n",
    "    clf.fit(X_train, y_train)\n",
    "    \n",
    "    predictions = clf.predict(X_test)\n",
    "    \n",
    "    return clf, predictions\n"
   ]
  },
  {
   "cell_type": "code",
   "execution_count": 10,
   "metadata": {
    "deletable": false,
    "editable": false,
    "nbgrader": {
     "checksum": "e0aeff897e989e50272ad4fbef4b54c1",
     "grade": true,
     "grade_id": "p4-3-sol",
     "locked": true,
     "points": 10,
     "schema_version": 1,
     "solution": false
    }
   },
   "outputs": [],
   "source": [
    "model, pred = d_tree(DecisionTreeClassifier(random_state=0), X_train, y_train, X_test)\n",
    "\n",
    "assert_true(accuracy_score(y_test, pred) >= 0.94)\n"
   ]
  },
  {
   "cell_type": "code",
   "execution_count": null,
   "metadata": {
    "collapsed": true
   },
   "outputs": [],
   "source": []
  }
 ],
 "metadata": {
  "kernelspec": {
   "display_name": "Python 3",
   "language": "python",
   "name": "python3"
  },
  "language_info": {
   "codemirror_mode": {
    "name": "ipython",
    "version": 3
   },
   "file_extension": ".py",
   "mimetype": "text/x-python",
   "name": "python",
   "nbconvert_exporter": "python",
   "pygments_lexer": "ipython3",
   "version": "3.6.1"
  }
 },
 "nbformat": 4,
 "nbformat_minor": 2
}
