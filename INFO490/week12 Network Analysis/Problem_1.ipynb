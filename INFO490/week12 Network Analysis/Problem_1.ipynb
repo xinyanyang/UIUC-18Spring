{
 "cells": [
  {
   "cell_type": "markdown",
   "metadata": {
    "deletable": false,
    "editable": false,
    "nbgrader": {
     "checksum": "0fa3e6cb121de166aaea0743126db759",
     "grade": false,
     "grade_id": "header",
     "locked": true,
     "schema_version": 1,
     "solution": false
    }
   },
   "source": [
    "# Week 12 Problem 1\n",
    "\n",
    "A few things you should keep in mind when working on assignments:\n",
    "\n",
    "1. Make sure you fill in any place that says `YOUR CODE HERE`. Do not write your answer in anywhere else other than where it says `YOUR CODE HERE`. Anything you write anywhere else will be removed or overwritten by the autograder.\n",
    "\n",
    "2. Before you submit your assignment, make sure everything runs as expected. Go to menubar, select *Kernel*, and restart the kernel and run all cells (*Restart & Run all*).\n",
    "\n",
    "3. Do not change the title (i.e. file name) of this notebook.\n",
    "\n",
    "4. Make sure that you save your work (in the menubar, select *File* → *Save and CheckPoint*)\n",
    "\n",
    "5. When you are ready to submit your assignment, go to *Dashboard* → *Assignments* and click the *Submit* button. Your work is not submitted until you click *Submit*.\n",
    "\n",
    "6. You are allowed to submit an assignment multiple times, but only the most recent submission will be graded.\n",
    "\n",
    "7. **If your code does not pass the unit tests, it will not pass the autograder.**"
   ]
  },
  {
   "cell_type": "markdown",
   "metadata": {
    "deletable": false,
    "editable": false,
    "nbgrader": {
     "checksum": "480673558ae7758c6ea248a6a7573eb0",
     "grade": false,
     "grade_id": "cell-f2a8814b67759c3a",
     "locked": true,
     "schema_version": 1,
     "solution": false
    }
   },
   "source": [
    "## Author: John Nguyen\n",
    "### Primary Reviewer: Kelechi Ikegwu"
   ]
  },
  {
   "cell_type": "markdown",
   "metadata": {
    "deletable": false,
    "editable": false,
    "nbgrader": {
     "checksum": "46c07cdc20104dd4d1f0c8b17a4e7956",
     "grade": false,
     "grade_id": "due_date",
     "locked": true,
     "schema_version": 1,
     "solution": false
    }
   },
   "source": [
    "# Due Date: 6 PM, April 16, 2018"
   ]
  },
  {
   "cell_type": "code",
   "execution_count": 1,
   "metadata": {
    "collapsed": true,
    "deletable": false,
    "editable": false,
    "nbgrader": {
     "checksum": "85c91a0289a32b6e2c215519c8522f3b",
     "grade": false,
     "grade_id": "import_nose",
     "locked": true,
     "schema_version": 1,
     "solution": false
    }
   },
   "outputs": [],
   "source": [
    "%matplotlib inline\n",
    "import networkx as nx\n",
    "import numpy as np\n",
    "import matplotlib as mpl\n",
    "import matplotlib.pyplot as plt\n",
    "import seaborn as sns\n",
    "\n",
    "from nose.tools import (\n",
    "    assert_equal,\n",
    "    assert_is_instance,\n",
    "    assert_almost_equal,\n",
    "    assert_true,\n",
    "    assert_is_not\n",
    ")\n",
    "from numpy.testing import assert_array_equal\n",
    "\n",
    "import warnings\n",
    "warnings.filterwarnings('ignore')"
   ]
  },
  {
   "cell_type": "markdown",
   "metadata": {
    "collapsed": true,
    "deletable": false,
    "editable": false,
    "nbgrader": {
     "checksum": "881564107302f967b52ead6f01854587",
     "grade": false,
     "grade_id": "prob1",
     "locked": true,
     "schema_version": 1,
     "solution": false
    }
   },
   "source": [
    "## Question 1\n",
    "\n",
    "The function <i>make_multigraph()</i> will create an undirected multigraph with $n$ nodes."
   ]
  },
  {
   "cell_type": "code",
   "execution_count": 10,
   "metadata": {
    "collapsed": true,
    "deletable": false,
    "nbgrader": {
     "checksum": "bba277e4acd2e173b5c33ee46b97573e",
     "grade": false,
     "grade_id": "prob1_answer",
     "locked": false,
     "schema_version": 1,
     "solution": true
    }
   },
   "outputs": [],
   "source": [
    "def make_multigraph(n):\n",
    "    '''\n",
    "    Creates an undirected multigraph with n nodes.\n",
    "    \n",
    "    Paramters\n",
    "    ---------\n",
    "    n: an Int\n",
    "    \n",
    "    Returns\n",
    "    -------\n",
    "    mg: A networkx.MultiGraph instance.\n",
    "    '''\n",
    "    \n",
    "    # YOUR CODE HERE\n",
    "    \n",
    "    mg = nx.MultiDiGraph()\n",
    "    mg.add_nodes_from(range(n))\n",
    "    \n",
    "    fig, axs = plt.subplots(figsize=(3, 3))\n",
    "    nx.draw(mg, ax=axs)\n",
    "    \n",
    "    return mg"
   ]
  },
  {
   "cell_type": "code",
   "execution_count": 11,
   "metadata": {
    "deletable": false,
    "editable": false,
    "nbgrader": {
     "checksum": "b805b37e17b78726369059f85d1f884b",
     "grade": false,
     "grade_id": "cell-6a4bb8fc096ddfe7",
     "locked": true,
     "schema_version": 1,
     "solution": false
    }
   },
   "outputs": [
    {
     "data": {
      "image/png": "[encoded data removed]",
      "text/plain": [
       "<matplotlib.figure.Figure at 0x7f8096f40f98>"
      ]
     },
     "metadata": {},
     "output_type": "display_data"
    },
    {
     "data": {
      "image/png": "[encoded data removed]",
      "text/plain": [
       "<matplotlib.figure.Figure at 0x7f8096dd79e8>"
      ]
     },
     "metadata": {},
     "output_type": "display_data"
    }
   ],
   "source": [
    "mg0 = make_multigraph(7)\n",
    "mg1 = make_multigraph(100)"
   ]
  },
  {
   "cell_type": "code",
   "execution_count": 12,
   "metadata": {
    "deletable": false,
    "editable": false,
    "nbgrader": {
     "checksum": "5d2536ec0a53f5dfd2ab75f790d2f68a",
     "grade": true,
     "grade_id": "prob1_grade",
     "locked": true,
     "points": 5,
     "schema_version": 1,
     "solution": false
    }
   },
   "outputs": [],
   "source": [
    "assert_is_instance(mg0, nx.MultiGraph)\n",
    "nodes = np.array(mg0.nodes())\n",
    "assert_equal(nodes.size, 7)\n",
    "assert_equal(nodes.min(), 0)\n",
    "assert_equal(nodes.max(), 6)\n",
    "assert_true(np.all(np.diff(nodes) == 1))\n",
    "assert_equal(len(mg0.edges()), 0)\n",
    "\n",
    "assert_is_instance(mg1, nx.MultiGraph)\n",
    "nodes = np.array(mg1.nodes())\n",
    "assert_equal(nodes.size, 100)\n",
    "assert_equal(nodes.min(), 0)\n",
    "assert_equal(nodes.max(), 99)\n",
    "assert_true(np.all(np.diff(nodes) == 1))\n",
    "assert_equal(len(mg1.edges()), 0)"
   ]
  },
  {
   "cell_type": "markdown",
   "metadata": {
    "collapsed": true,
    "deletable": false,
    "editable": false,
    "nbgrader": {
     "checksum": "10e6d9e81f2ff4eb229aac9d36c4e82e",
     "grade": false,
     "grade_id": "prob2",
     "locked": true,
     "schema_version": 1,
     "solution": false
    }
   },
   "source": [
    "# Question 2\n",
    "\n",
    "Using your result from Problem 1, draw your Multigraph in a circular pattern as shown below.\n",
    "\n",
    "![prob2_solution](images/p1q2.png)\n",
    "\n",
    "To pass the assertions, be sure to pass a matplotlib.Axes instance to the _ax_ parameter of the NetworkX draw function.\n",
    "\n",
    "__Note:__ There are multiple ways to draw the network so you do not have to replicate the graph shown exactly."
   ]
  },
  {
   "cell_type": "code",
   "execution_count": 16,
   "metadata": {
    "collapsed": true,
    "deletable": false,
    "nbgrader": {
     "checksum": "15f03c3d408da8c1764c988a0a47be58",
     "grade": false,
     "grade_id": "prob2_answer",
     "locked": false,
     "schema_version": 1,
     "solution": true
    }
   },
   "outputs": [],
   "source": [
    "def draw_multigraph(mg):\n",
    "    '''\n",
    "    Draws a multigraph in circular format.\n",
    "    \n",
    "    Paramters\n",
    "    ---------\n",
    "    mg: A networkx.MultiGraph instance.\n",
    "    \n",
    "    Returns\n",
    "    -------\n",
    "    ax: A matplotlib.Axes instance.\n",
    "    ''' \n",
    "    \n",
    "    # YOUR CODE HERE\n",
    "\n",
    "    # Draw graph in circular format\n",
    "    fig, axs = plt.subplots(figsize=(4, 4))\n",
    "    nx.draw_circular(mg, with_labels=True, ax=axs)\n",
    "    \n",
    "    return axs"
   ]
  },
  {
   "cell_type": "code",
   "execution_count": 17,
   "metadata": {
    "deletable": false,
    "editable": false,
    "nbgrader": {
     "checksum": "405e4848f2c67e7d44da804abce66c1e",
     "grade": false,
     "grade_id": "cell-3466aa4c6410484f",
     "locked": true,
     "schema_version": 1,
     "solution": false
    }
   },
   "outputs": [
    {
     "data": {
      "image/png": "[encoded data removed]",
      "text/plain": [
       "<matplotlib.figure.Figure at 0x7f809928ed30>"
      ]
     },
     "metadata": {},
     "output_type": "display_data"
    }
   ],
   "source": [
    "ax2 = draw_multigraph(mg0)"
   ]
  },
  {
   "cell_type": "code",
   "execution_count": 18,
   "metadata": {
    "deletable": false,
    "editable": false,
    "nbgrader": {
     "checksum": "f356b1e1b607c11f4d2b3a7b7448c7f3",
     "grade": true,
     "grade_id": "prob2_grade1",
     "locked": true,
     "points": 10,
     "schema_version": 1,
     "solution": false
    }
   },
   "outputs": [],
   "source": [
    "pos = np.array(list(nx.circular_layout(mg0).values()))\n",
    "assert_is_instance(ax2, mpl.axes.Axes)\n",
    "assert_equal(len(ax2.collections), 1)\n",
    "assert_equal(len(ax2.collections[0].get_offsets()), len(mg0.nodes()))"
   ]
  },
  {
   "cell_type": "markdown",
   "metadata": {
    "deletable": false,
    "editable": false,
    "nbgrader": {
     "checksum": "6c3a46fc7735557812b2c10a79d2d544",
     "grade": false,
     "grade_id": "prob3",
     "locked": true,
     "schema_version": 1,
     "solution": false
    }
   },
   "source": [
    "## Question 3\n",
    "\n",
    "In the notebook you've learned how to represent graphs as an adjacency or incidence matrix. For this problem, given an incidence matrix, create the graph instance and draw it. Again, make sure your function a matplotlib.Axes instance.\n",
    "\n",
    "You do not have to draw the network as exactly shown below to pass the assertions.\n",
    "\n",
    "__Hint:__ We recommend using the NetworkX _draw()_ function along with <i>from_numpy_matrix()</i>\n",
    "\n",
    "__Example:__\n",
    "\n",
    "`\n",
    "A = np.matrix([[0,1],[1,0]])\n",
    "ax = draw_adjacency(A)`\n",
    "\n",
    "should return the following graph:\n",
    "\n",
    "![prob2_solution](images/p1q3.png)"
   ]
  },
  {
   "cell_type": "code",
   "execution_count": 22,
   "metadata": {
    "collapsed": true,
    "deletable": false,
    "nbgrader": {
     "checksum": "8187d64b581a6e18076b10112b070d3d",
     "grade": false,
     "grade_id": "prob3_answer",
     "locked": false,
     "schema_version": 1,
     "solution": true
    }
   },
   "outputs": [],
   "source": [
    "def draw_adjacency(mat):\n",
    "    '''    \n",
    "    Parameters\n",
    "    ----------\n",
    "    matrix: a mumpy.matrix\n",
    "    \n",
    "    Returns\n",
    "    -------\n",
    "    ax: A matplotlib.Axes instance.\n",
    "    '''\n",
    "    # YOUR CODE HERE\n",
    "    fig, axs = plt.subplots(figsize=(4, 4))\n",
    "    G = nx.from_numpy_matrix(np.array(mat), create_using=nx.MultiDiGraph())\n",
    "    pos = nx.circular_layout(G)\n",
    "    nx.draw_circular(G)\n",
    "    labels = {i : i + 1 for i in G.nodes()}\n",
    "    nx.draw_networkx_labels(G, pos, labels, font_size=15)\n",
    "    plt.show()\n",
    "    \n",
    "    return axs"
   ]
  },
  {
   "cell_type": "code",
   "execution_count": 23,
   "metadata": {
    "deletable": false,
    "editable": false,
    "nbgrader": {
     "checksum": "4f7979498a43bdf25accffc228e9b756",
     "grade": false,
     "grade_id": "cell-c701eb4d93d93f5c",
     "locked": true,
     "schema_version": 1,
     "solution": false
    }
   },
   "outputs": [
    {
     "data": {
      "image/png": "[encoded data removed]",
      "text/plain": [
       "<matplotlib.figure.Figure at 0x7f8096ded4e0>"
      ]
     },
     "metadata": {},
     "output_type": "display_data"
    }
   ],
   "source": [
    "A = np.matrix([[0, 1, 0, 1, 0],\n",
    "        [1, 0, 1, 0, 0],\n",
    "        [0, 1, 0, 1, 0],\n",
    "        [1, 0, 1, 0, 1],\n",
    "        [0, 0, 0, 1, 0]])\n",
    "ax3 = draw_adjacency(A)"
   ]
  },
  {
   "cell_type": "code",
   "execution_count": 24,
   "metadata": {
    "deletable": false,
    "editable": false,
    "nbgrader": {
     "checksum": "fb9bf0b54757b3eb4c8e2582c7af15f0",
     "grade": true,
     "grade_id": "prob3_grade",
     "locked": true,
     "points": 15,
     "schema_version": 1,
     "solution": false
    },
    "scrolled": true
   },
   "outputs": [],
   "source": [
    "pos = np.array(list(nx.circular_layout(mg0).values()))\n",
    "assert_is_instance(ax3, mpl.axes.Axes)\n",
    "assert_equal(len(ax3.collections[0].get_offsets()), len(A))"
   ]
  },
  {
   "cell_type": "code",
   "execution_count": null,
   "metadata": {
    "collapsed": true
   },
   "outputs": [],
   "source": []
  }
 ],
 "metadata": {
  "kernelspec": {
   "display_name": "Python 3",
   "language": "python",
   "name": "python3"
  },
  "language_info": {
   "codemirror_mode": {
    "name": "ipython",
    "version": 3
   },
   "file_extension": ".py",
   "mimetype": "text/x-python",
   "name": "python",
   "nbconvert_exporter": "python",
   "pygments_lexer": "ipython3",
   "version": "3.6.1"
  }
 },
 "nbformat": 4,
 "nbformat_minor": 2
}
