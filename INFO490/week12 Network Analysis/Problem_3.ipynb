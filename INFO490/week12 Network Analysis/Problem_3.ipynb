{
 "cells": [
  {
   "cell_type": "markdown",
   "metadata": {
    "deletable": false,
    "editable": false,
    "nbgrader": {
     "checksum": "1a4a45c6d6f4af9a59ba2795ca130276",
     "grade": false,
     "grade_id": "header",
     "locked": true,
     "schema_version": 1,
     "solution": false
    }
   },
   "source": [
    "# Week 12 Problem 3\n",
    "\n",
    "A few things you should keep in mind when working on assignments:\n",
    "\n",
    "1. Make sure you fill in any place that says YOUR CODE HERE. Do not write your answer in anywhere else other than where it says YOUR CODE HERE. Anything you write anywhere else will be removed or overwritten by the autograder.\n",
    "\n",
    "2. Before you submit your assignment, make sure everything runs as expected. Go to menubar, select Kernel, and restart the kernel and run all cells (Restart & Run all).\n",
    "\n",
    "3. Do not change the title (i.e. file name) of this notebook.\n",
    "\n",
    "4. Make sure that you save your work (in the menubar, select File → Save and CheckPoint)\n",
    "\n",
    "5. When you are ready to submit your assignment, go to Dashboard → Assignments and click the Submit button. Your work is not submitted until you click Submit.\n",
    "\n",
    "6. You are allowed to submit an assignment multiple times, but only the most recent submission will be graded.\n",
    "\n",
    "7. If your code does not pass the unit tests, it will not pass the autograder.\n",
    "\n",
    "**NOTE:** If you get Error `TweepError: Twitter error response: status code = 429`, wait for few minutes before continuing. This may occur during validation as well.\n"
   ]
  },
  {
   "cell_type": "markdown",
   "metadata": {
    "collapsed": true,
    "deletable": false,
    "editable": false,
    "nbgrader": {
     "checksum": "814ff1da7485a13bc060abd7e3cca6b1",
     "grade": false,
     "grade_id": "names",
     "locked": true,
     "schema_version": 1,
     "solution": false
    }
   },
   "source": [
    "## Author: Apurv Garg\n",
    "### Primary Reviewer: Radhir Kothuri\n"
   ]
  },
  {
   "cell_type": "markdown",
   "metadata": {
    "deletable": false,
    "editable": false,
    "nbgrader": {
     "checksum": "46c07cdc20104dd4d1f0c8b17a4e7956",
     "grade": false,
     "grade_id": "due_date",
     "locked": true,
     "schema_version": 1,
     "solution": false
    }
   },
   "source": [
    "# Due Date: 6 PM, April 16, 2018"
   ]
  },
  {
   "cell_type": "code",
   "execution_count": 1,
   "metadata": {
    "collapsed": true,
    "deletable": false,
    "editable": false,
    "nbgrader": {
     "checksum": "f8237d5ec0ffc57ae4b02db962277bee",
     "grade": false,
     "grade_id": "import",
     "locked": true,
     "schema_version": 1,
     "solution": false
    }
   },
   "outputs": [],
   "source": [
    "from nose.tools import assert_equal, assert_true, assert_false, assert_almost_equal\n",
    "import numpy.testing as npt\n",
    "import tweepy as tw\n",
    "% matplotlib inline\n",
    "\n",
    "# Standard imports\n",
    "import numpy as np\n",
    "import pandas as pd\n",
    "import matplotlib.pyplot as plt\n",
    "import seaborn as sns\n",
    "from collections import Counter\n",
    "from itertools import combinations\n",
    "import string\n",
    "import networkx as nx\n",
    "import matplotlib as mpl\n",
    "# These two lines suppress warnings that sometimes\n",
    "# occur when making visualizations\n",
    "import warnings\n",
    "warnings.filterwarnings('ignore')\n"
   ]
  },
  {
   "cell_type": "markdown",
   "metadata": {
    "deletable": false,
    "editable": false,
    "nbgrader": {
     "checksum": "c44ee38c782fe1324d348a3216759bcc",
     "grade": false,
     "grade_id": "twitter",
     "locked": true,
     "schema_version": 1,
     "solution": false
    }
   },
   "source": [
    "# Twitter Authentication\n",
    "\n",
    "In the code cell below, the `twitter.cred` file, that was created for previous assignment is used.\n",
    "If your twitter credentials are not working, just regenerate the tokens under `Keys and Access Tokens` tab on twitter apps."
   ]
  },
  {
   "cell_type": "code",
   "execution_count": 2,
   "metadata": {
    "deletable": false,
    "editable": false,
    "nbgrader": {
     "checksum": "f366982067af96621918941cddc5de05",
     "grade": false,
     "grade_id": "twitter_connect",
     "locked": true,
     "schema_version": 1,
     "solution": false
    }
   },
   "outputs": [
    {
     "name": "stdout",
     "output_type": "stream",
     "text": [
      "Twitter Screen Name:  yang_xinyan\n"
     ]
    }
   ],
   "source": [
    "tokens = []\n",
    "# Order: Access Token, Access Token Secret, Consumer Key, Consumer SecretAccess\n",
    "with open(\"/home/data_scientist/twitter.cred\", 'r') as fin:\n",
    "    for line in fin:\n",
    "        if line[0] != '#': # Not a comment line\n",
    "            tokens.append(line.rstrip('\\n'))\n",
    "\n",
    "auth = tw.OAuthHandler(tokens[2], tokens[3])\n",
    "auth.set_access_token(tokens[0], tokens[1])\n",
    "api = tw.API(auth, wait_on_rate_limit=True)\n",
    "user = api.me()\n",
    "print(\"Twitter Screen Name: \", user.screen_name)\n"
   ]
  },
  {
   "cell_type": "markdown",
   "metadata": {
    "deletable": false,
    "editable": false,
    "nbgrader": {
     "checksum": "70afe2ceffaa091e36e0daa9d48d4836",
     "grade": false,
     "grade_id": "problem1",
     "locked": true,
     "schema_version": 1,
     "solution": false
    }
   },
   "source": [
    "# Problem 1\n",
    "\n",
    "For this problem, complete the function `pairs` which will take `num_tweets`, `search`, `id1`, `id2` and `pairs` as parameters and return the set of unique hashtags and most common pairs and the counts of each pair(pair, count) in that order.<br>\n",
    "\n",
    "- Get the tweets and build list for the search results\n",
    "- Extract hashtags, strip off leading '#', remove trailing punctuation and turn all characters to lowercase.\n",
    "    - Sort the list of tags to ensure the Counter works correctly\n",
    "- Build set of tokens and make a list of tag pairs. Find count for each paried tag.\n",
    "\n",
    "**NOTE:** since_id and max_id are the parameters for tweepy Cursor.\n",
    "> since_id : specifies the tweet id starting from which tweets should be fetched. <br>\n",
    "> max_id : specifies the tweet id till which tweets should be fetched."
   ]
  },
  {
   "cell_type": "code",
   "execution_count": 15,
   "metadata": {
    "collapsed": true,
    "deletable": false,
    "nbgrader": {
     "checksum": "0ba2e96927ed0270352c54ffca5f67ec",
     "grade": false,
     "grade_id": "problem1_answer",
     "locked": false,
     "schema_version": 1,
     "solution": true
    }
   },
   "outputs": [],
   "source": [
    "def pairs(num_tweets, search, id1, id2, pairs):\n",
    "    '''           \n",
    "    Parameters\n",
    "    ----------\n",
    "    num_tweets : Number of tweets to fetch\n",
    "    search : Search term\n",
    "    id1 : value for since_id parameter in tweepy Cursor\n",
    "    id2 : value for max_id parameter in tweepy Cursor\n",
    "    pairs : most common tokens\n",
    "    \n",
    "    Returns\n",
    "    -------\n",
    "    A tuple of 2 containing the set of unique hashtags, \n",
    "    most common pairs and the counts of each pair(pair, count)\n",
    "\n",
    "    top_tkns will look something like this:\n",
    "    ---------------------------------------\n",
    "    {'ai', 'analytics', 'bigdata', 'datascience', 'iot'}\n",
    "\n",
    "    top_pairs will look something like this:\n",
    "    ----------------------------------------\n",
    "    [(('analytics', 'iot'), 53),\n",
    "     (('analytics', 'bigdata'), 52),\n",
    "     (('bigdata', 'datascience'), 45),\n",
    "     (('ai', 'bigdata'), 43)]\n",
    "    '''\n",
    "    # YOUR CODE HERE\n",
    "    \n",
    "    # List we use throughout the first section of the the notebook\n",
    "    tweets = []\n",
    "\n",
    "    # Get the tweets\n",
    "    results = tw.Cursor(api.search, q=search, since_id=id1, max_id=id2).items(num_tweets)\n",
    "\n",
    "    # Build list from Twitter search results\n",
    "    for result in results:\n",
    "        tweets.append(result.text)\n",
    "    \n",
    "    tkns = set()\n",
    "    cnt = Counter()\n",
    "\n",
    "    # Iterate over all tweets\n",
    "    for tweet in tweets:\n",
    "    \n",
    "         tags = sorted([tag.lstrip(\"#\").rstrip(string.punctuation).lower() \n",
    "                for tag in tweet.split() if tag.startswith(\"#\")])\n",
    "    \n",
    "         # We now build our set of tokens\n",
    "    \n",
    "         for tag in tags:\n",
    "             tkns.add(tag)\n",
    "            \n",
    "    # Next we use combinations from the itertools library to make a list of tag pairs. \n",
    "    # We then increment the counter for each paried tag\n",
    "\n",
    "         for paired_tags in combinations(tags, 2):\n",
    "             cnt[paired_tags] += 1\n",
    "\n",
    "    \n",
    "    top_tkns = set()\n",
    "\n",
    "    # Get most common pairs\n",
    "    top_pairs = cnt.most_common(pairs)\n",
    "\n",
    "    # Get most frequenly used tokens\n",
    "    for pair, count in top_pairs:\n",
    "        top_tkns.add(pair[0])\n",
    "        top_tkns.add(pair[1])\n",
    "    \n",
    "    \n",
    "    return top_tkns, top_pairs"
   ]
  },
  {
   "cell_type": "code",
   "execution_count": 16,
   "metadata": {
    "collapsed": true,
    "deletable": false,
    "editable": false,
    "nbgrader": {
     "checksum": "0d87835e159c2343c71c1f3f33ac09e2",
     "grade": true,
     "grade_id": "problem1_tests",
     "locked": true,
     "points": 10,
     "schema_version": 1,
     "solution": false
    }
   },
   "outputs": [],
   "source": [
    "token1, pairs1=pairs(500, '#analytics' , 981676660083871744, 981712192268414977, 4)\n",
    "assert_equal(len(token1)>=3, True)\n",
    "assert_equal('analytics' in token1, True)\n",
    "assert_equal(len(pairs1), 4)\n",
    "token2, pairs2=pairs(200, '#bigdata', 981737540150546433, 981743245838471169, 3)\n",
    "assert_equal('bigdata' in token2, True)\n",
    "assert_equal(len(token2)>=3, True)\n",
    "assert_equal(len(pairs2), 3)"
   ]
  },
  {
   "cell_type": "markdown",
   "metadata": {
    "collapsed": true,
    "deletable": false,
    "editable": false,
    "nbgrader": {
     "checksum": "5e2fdfb34649b57e713c487078e5bad1",
     "grade": false,
     "grade_id": "problem2",
     "locked": true,
     "schema_version": 1,
     "solution": false
    }
   },
   "source": [
    "# Problem 2\n",
    "\n",
    "For this problem, complete the function `graph` which will take `token` and `pairs` as parameters and return the axes object and graph object<br>\n",
    "\n",
    "The following is expected in the function: <br>\n",
    "- Creating a figure and axes object using subplots from matplotlib.<br>\n",
    "- Creating a graph object from networkx<br>\n",
    "- Node shape in draw_networkx_nodes should be Circular('o')<br>\n",
    "- Use spectral_layout for the graph\n",
    "- Use normalized weights (scale to minimum weight)\n",
    "- Draw weighted edges\n",
    "- label nodes to the default labels\n",
    "- Set a title for your plot.<br>\n",
    "\n",
    "If done correctly your plot should look *similar* to the graphs below:\n",
    "\n",
    "g1 | g2\n",
    "- | - \n",
    "![Imgur](https://i.imgur.com/GhYQNJK.png) | ![Imgur](https://i.imgur.com/mVYcIwZ.png)\n"
   ]
  },
  {
   "cell_type": "code",
   "execution_count": 17,
   "metadata": {
    "collapsed": true,
    "deletable": false,
    "nbgrader": {
     "checksum": "24035ff243ffb48b8e271de447c2c3f1",
     "grade": false,
     "grade_id": "problem2_answer",
     "locked": false,
     "schema_version": 1,
     "solution": true
    }
   },
   "outputs": [],
   "source": [
    "def graph(token, pairs):\n",
    "    '''           \n",
    "    Parameters\n",
    "    ----------\n",
    "    token : set of unique hashtags[returned from Problem1]\n",
    "    pairs : most common pairs and the counts of each pair(pair, count)[returned from Problem1]\n",
    "    \n",
    "    Returns\n",
    "    -------\n",
    "    A tuple of 2 containing axes object, \n",
    "    Graph object\n",
    "    '''\n",
    "\n",
    "    # YOUR CODE HERE\n",
    "    # First setup the current figure. \n",
    "\n",
    "    fig, axs = plt.subplots(figsize=(12, 12))\n",
    "    clrs = sns.color_palette(\"Paired\")\n",
    "    sns.set(style='white', font_scale=1.5)\n",
    "\n",
    "    # Build graph\n",
    "    g = nx.Graph()\n",
    "    g.add_nodes_from(list(token))\n",
    "\n",
    "    for pair, count in pairs:\n",
    "        g.add_edge(pair[0], pair[1], weight=count)\n",
    "\n",
    "    # Now draw graph, use spectral layout\n",
    "    pos = nx.spectral_layout(g)\n",
    "    nx.draw_networkx_nodes(g, pos, with_labels=True,\n",
    "                           node_size = 3000,\n",
    "                           node_color=clrs[2],\n",
    "                           node_shape='o',\n",
    "                           alpha = 0.4)\n",
    "\n",
    "    # Build up list of edges and weights for controlled plotting\n",
    "    edges = []\n",
    "    weights = []\n",
    "\n",
    "    for n1, n2, dct in g.edges(data=True):\n",
    "        edges.append((n1, n2))\n",
    "        weights.append(dct['weight'])\n",
    "\n",
    "    # Make normalized weights (scale to minimum weight)\n",
    "    min_weight = min(weights)\n",
    "    norm_weights = [int(weight/min_weight) for weight in weights]\n",
    "\n",
    "    # Draw weighted edges, we pass in the edgelist so we can also pass in the edge weights individually\n",
    "    nx.draw_networkx_edges(g, pos, edgelist=edges, \n",
    "                           width = norm_weights, \n",
    "                           edge_color=clrs.as_hex()[4],\n",
    "                           alpha = 0.6)\n",
    "\n",
    "   # Now label nodes, since we don't provide lables, it uses the default labels (which is what we want)\n",
    "    nx.draw_networkx_labels(g, pos, font_size = 18,\n",
    "                            font_color = clrs[1],\n",
    "                            alpha = 1.0)\n",
    "\n",
    "    axs.set_title('Hashtag Co-Occurance Plot')\n",
    "    axs.set_xticklabels([])\n",
    "    axs.set_yticklabels([])\n",
    "\n",
    "    sns.despine(top = True, bottom = True, \n",
    "                left = True, right = True)\n",
    "    \n",
    "    return axs, g"
   ]
  },
  {
   "cell_type": "code",
   "execution_count": 19,
   "metadata": {
    "deletable": false,
    "editable": false,
    "nbgrader": {
     "checksum": "b68bebbd97ea6aedb25770de4c26e467",
     "grade": true,
     "grade_id": "problem2_tests",
     "locked": true,
     "points": 10,
     "schema_version": 1,
     "solution": false
    }
   },
   "outputs": [
    {
     "data": {
      "image/png": "[encoded data removed]",
      "text/plain": [
       "<matplotlib.figure.Figure at 0x7f39ef3ffdd8>"
      ]
     },
     "metadata": {},
     "output_type": "display_data"
    },
    {
     "data": {
      "image/png": "[encoded data removed]",
      "text/plain": [
       "<matplotlib.figure.Figure at 0x7f39ef3ff7b8>"
      ]
     },
     "metadata": {},
     "output_type": "display_data"
    }
   ],
   "source": [
    "axs1, g1 = graph(token1, pairs1)\n",
    "axs2, g2 = graph(token2, pairs2)\n",
    "assert_true(isinstance(axs1, mpl.axes._subplots.Axes), msg='return an axes object')\n",
    "assert_false(axs1.get_title() == '', msg='Set Your title')\n",
    "assert_true(isinstance(axs2, mpl.axes._subplots.Axes), msg='return an axes object')\n",
    "assert_false(axs2.get_title() == '', msg='Set Your title')\n",
    "assert_equal('analytics' in g1.nodes(), True)\n",
    "assert_equal('bigdata' in g2.nodes(), True)\n",
    "assert_true(isinstance(g1, nx.classes.graph.Graph))\n",
    "assert_true(isinstance(g2, nx.classes.graph.Graph))"
   ]
  },
  {
   "cell_type": "markdown",
   "metadata": {
    "deletable": false,
    "editable": false,
    "nbgrader": {
     "checksum": "4a3afa40cfe6337bee2268e5a0b15cfb",
     "grade": false,
     "grade_id": "problem3",
     "locked": true,
     "schema_version": 1,
     "solution": false
    }
   },
   "source": [
    "# Problem 3\n",
    "\n",
    "For this problem, complete the function `properties` which will take `graph` as parameter and return the graph's radius, diameter, eccentricity, center, number of edges and number of nodes. <br>"
   ]
  },
  {
   "cell_type": "code",
   "execution_count": 20,
   "metadata": {
    "collapsed": true,
    "deletable": false,
    "nbgrader": {
     "checksum": "31e7c46a7a10f0733a5e4a5270855d99",
     "grade": false,
     "grade_id": "problem3_answer",
     "locked": false,
     "schema_version": 1,
     "solution": true
    }
   },
   "outputs": [],
   "source": [
    "def properties(graph):\n",
    "    '''           \n",
    "    Parameters\n",
    "    ----------\n",
    "    graph : Graph object[returned from Problem2]\n",
    "\n",
    "    Returns\n",
    "    -------\n",
    "    A tuple of 6 containing the radius, \n",
    "    diameter,\n",
    "    eccentricity,\n",
    "    center,\n",
    "    number of edges,\n",
    "    number of nodes\n",
    "    '''    \n",
    "\n",
    "    # YOUR CODE HERE\n",
    "    rad = nx.radius(graph)\n",
    "    dia = nx.diameter(graph)\n",
    "    ecc = nx.eccentricity(graph)\n",
    "    ctr = nx.center(graph)\n",
    "    edg = 0\n",
    "    nodes = 0\n",
    "    for node in graph.nodes():\n",
    "        edg = edg + graph.degree(node)\n",
    "        nodes = nodes + 1\n",
    "    edg = edg/2\n",
    "    \n",
    "    return rad, dia, ecc, ctr, edg, nodes\n"
   ]
  },
  {
   "cell_type": "code",
   "execution_count": 21,
   "metadata": {
    "collapsed": true,
    "deletable": false,
    "editable": false,
    "nbgrader": {
     "checksum": "18e6e2061303574ee992a78d2b364260",
     "grade": true,
     "grade_id": "problem3_tests",
     "locked": true,
     "points": 10,
     "schema_version": 1,
     "solution": false
    }
   },
   "outputs": [],
   "source": [
    "rad1, dia1, ecc1, ctr1, edg1, nodes1 = properties(g1)\n",
    "assert_true(2*rad1, dia1)\n",
    "assert_equal('analytics' in ctr1, True)\n",
    "assert_equal(edg1, 4)\n",
    "assert_equal(nodes1>=3, True)\n",
    "assert_equal(ecc1['analytics']>=1, True)\n",
    "\n",
    "rad2, dia2, ecc2, ctr2, edg2, nodes2 = properties(g2)\n",
    "assert_true(2*rad2, dia2)\n",
    "assert_equal('bigdata' in ctr2, True)\n",
    "assert_equal(edg2, 3)\n",
    "assert_equal(nodes2>=2, True)\n",
    "assert_equal(ecc2['bigdata']>=1, True)"
   ]
  },
  {
   "cell_type": "code",
   "execution_count": null,
   "metadata": {
    "collapsed": true
   },
   "outputs": [],
   "source": []
  }
 ],
 "metadata": {
  "kernelspec": {
   "display_name": "Python 3",
   "language": "python",
   "name": "python3"
  },
  "language_info": {
   "codemirror_mode": {
    "name": "ipython",
    "version": 3
   },
   "file_extension": ".py",
   "mimetype": "text/x-python",
   "name": "python",
   "nbconvert_exporter": "python",
   "pygments_lexer": "ipython3",
   "version": "3.6.1"
  }
 },
 "nbformat": 4,
 "nbformat_minor": 2
}
