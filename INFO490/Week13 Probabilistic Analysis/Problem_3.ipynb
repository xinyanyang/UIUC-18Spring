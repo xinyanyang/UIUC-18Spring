{
 "cells": [
  {
   "cell_type": "markdown",
   "metadata": {
    "deletable": false,
    "editable": false,
    "nbgrader": {
     "checksum": "342e523a4f3dbcc49ae0a6e68b1beea8",
     "grade": false,
     "grade_id": "header",
     "locked": true,
     "schema_version": 1,
     "solution": false
    }
   },
   "source": [
    "# Week 13 Problem 3\n",
    "\n",
    "A few things you should keep in mind when working on assignments:\n",
    "\n",
    "1. Make sure you fill in any place that says YOUR CODE HERE. Do not write your answer in anywhere else other than where it says YOUR CODE HERE. Anything you write anywhere else will be removed or overwritten by the autograder.\n",
    "\n",
    "2. Before you submit your assignment, make sure everything runs as expected. Go to menubar, select Kernel, and restart the kernel and run all cells (Restart & Run all).\n",
    "\n",
    "3. Do not change the title (i.e. file name) of this notebook.\n",
    "\n",
    "4. Make sure that you save your work (in the menubar, select File → Save and CheckPoint)\n",
    "\n",
    "5. When you are ready to submit your assignment, go to Dashboard → Assignments and click the Submit button. Your work is not submitted until you click Submit.\n",
    "\n",
    "6. You are allowed to submit an assignment multiple times, but only the most recent submission will be graded.\n",
    "\n",
    "7. If your code does not pass the unit tests, it will not pass the autograder.\n"
   ]
  },
  {
   "cell_type": "markdown",
   "metadata": {
    "deletable": false,
    "editable": false,
    "nbgrader": {
     "checksum": "1f3f9fa13a2f9ac8266d43f244dbeba6",
     "grade": false,
     "grade_id": "name",
     "locked": true,
     "schema_version": 1,
     "solution": false
    }
   },
   "source": [
    "## Author: Apurv Garg\n",
    "### Primary Reviewer: Radhir Kothuri\n"
   ]
  },
  {
   "cell_type": "markdown",
   "metadata": {
    "deletable": false,
    "editable": false,
    "nbgrader": {
     "checksum": "bd41fb1d80d71c9335e38ce465b293de",
     "grade": false,
     "grade_id": "due_date",
     "locked": true,
     "schema_version": 1,
     "solution": false
    }
   },
   "source": [
    "# Due Date: 6 PM, April 23, 2018"
   ]
  },
  {
   "cell_type": "code",
   "execution_count": 1,
   "metadata": {
    "collapsed": true,
    "deletable": false,
    "editable": false,
    "nbgrader": {
     "checksum": "f05970f982d06e81f61665dd7121d9e3",
     "grade": false,
     "grade_id": "import",
     "locked": true,
     "schema_version": 1,
     "solution": false
    }
   },
   "outputs": [],
   "source": [
    "# Set up Notebook\n",
    "\n",
    "% matplotlib inline\n",
    "\n",
    "# Standard imports\n",
    "import numpy as np\n",
    "import pandas as pd\n",
    "import matplotlib.pyplot as plt\n",
    "import seaborn as sns\n",
    "from numpy.random import RandomState\n",
    "from nose.tools import assert_false, assert_equal, assert_almost_equal, assert_true, assert_in, assert_is_not\n",
    "\n",
    "# These two lines suppress warnings that sometimes\n",
    "# occur when making visualizations\n",
    "import warnings\n",
    "warnings.filterwarnings('ignore')"
   ]
  },
  {
   "cell_type": "markdown",
   "metadata": {
    "deletable": false,
    "editable": false,
    "nbgrader": {
     "checksum": "2b8d3dad6c234ca3367812056a02971e",
     "grade": false,
     "grade_id": "problem1",
     "locked": true,
     "schema_version": 1,
     "solution": false
    }
   },
   "source": [
    "# Problem 1\n",
    "\n",
    "For this problem, complete the function `integral1` which will take `pts` as parameter and return the integral value and the function of interest that is created for purpose of integration. \n",
    "\n",
    "Calculate the value of following using MCMC: $$\\int_{0}^{1} | xln(x)e^{x} | dx$$\n",
    "\n",
    "- Use RandomState(23) to generate random uniform numbers and number of points that should be generated should be equal to `pts` parameter.\n",
    "- Create Boolean mask array from function of interest and compute the integral(similar to how we did in the notebook)\n"
   ]
  },
  {
   "cell_type": "code",
   "execution_count": 28,
   "metadata": {
    "collapsed": true,
    "deletable": false,
    "nbgrader": {
     "checksum": "750f241c412b53532af2feb2d2cec5d1",
     "grade": false,
     "grade_id": "problem1_answer",
     "locked": false,
     "schema_version": 1,
     "solution": true
    }
   },
   "outputs": [],
   "source": [
    "def integral1(pts):\n",
    "    '''           \n",
    "    Parameters\n",
    "    ----------\n",
    "    pts : Number of sample points\n",
    "    \n",
    "    Returns\n",
    "    -------\n",
    "    A tuple of 2 containing integral value, \n",
    "    function of interest created for purpose of integration\n",
    "    '''\n",
    "    # YOUR CODE HERE\n",
    "\n",
    "    # Define complex function of interest\n",
    "    def the_func(x):\n",
    "        return np.abs(x * np.log(x) * np.exp(x))\n",
    "    \n",
    "    # Create Boolean mask array from function of interest\n",
    "    rng = RandomState(23)\n",
    "    x, y = rng.uniform(0, 1, size=(2, pts))\n",
    "    \n",
    "    # Create Boolean mask array from function of interest\n",
    "    func_mask = y < the_func(x)\n",
    "\n",
    "    value = sum(func_mask)/pts\n",
    "           \n",
    "    return value, the_func"
   ]
  },
  {
   "cell_type": "code",
   "execution_count": 30,
   "metadata": {
    "deletable": false,
    "editable": false,
    "nbgrader": {
     "checksum": "1c61b19831542ae8982a10b93aa16087",
     "grade": true,
     "grade_id": "problem1_tests",
     "locked": true,
     "points": 5,
     "schema_version": 1,
     "solution": false
    }
   },
   "outputs": [],
   "source": [
    "val1, function1= integral1(100000)\n",
    "assert_almost_equal(val1, 0.4008, 4)\n",
    "val2, function1= integral1(100)\n",
    "assert_equal(val2, 0.42)\n",
    "assert_almost_equal(function1(2), 10.243406803946097, 4)\n",
    "assert_almost_equal(function1(3), 66.198653064933083, 4)"
   ]
  },
  {
   "cell_type": "markdown",
   "metadata": {
    "deletable": false,
    "editable": false,
    "nbgrader": {
     "checksum": "b1a05b27d55a954746159743b0c0c88d",
     "grade": false,
     "grade_id": "approach",
     "locked": true,
     "schema_version": 1,
     "solution": false
    }
   },
   "source": [
    "# Methodology for below Problems\n",
    "\n",
    "You can use the following approach to calculate the below integrals:\n",
    "\n",
    "- Generate uniform numbers from [a,b] (that is lower integral limit to upper integral limit) of size `pts`.\n",
    "- y should be the value returned by passing value of x to the function of interest that is created for purpose of integration.\n",
    "- Integral value will be equal to: $$\\frac{(\\sum y)*(b-a)}{\\#pts}$$\twhere b is upperlimit and a is lowerlimit of integral."
   ]
  },
  {
   "cell_type": "markdown",
   "metadata": {
    "deletable": false,
    "editable": false,
    "nbgrader": {
     "checksum": "677a7127b0626f64bf8e3178e6dc7cb0",
     "grade": false,
     "grade_id": "problem2",
     "locked": true,
     "schema_version": 1,
     "solution": false
    }
   },
   "source": [
    "# Problem 2\n",
    "\n",
    "For this problem, complete the function `integral2` which will take `pts` as parameter and return the integral value and the function of interest that is created for purpose of integration. \n",
    "\n",
    "Calculate the value of following using MCMC: $$\\int_{0}^{2\\pi} sin(x)e^{-x} dx$$ \n",
    "\n",
    "- Use RandomState(23) to generate random uniform numbers and number of points that should be generated should be equal to `pts` parameter."
   ]
  },
  {
   "cell_type": "code",
   "execution_count": 32,
   "metadata": {
    "collapsed": true,
    "deletable": false,
    "nbgrader": {
     "checksum": "56ae4c04a8fff1b815d8a5e47a39828b",
     "grade": false,
     "grade_id": "problem2_answer",
     "locked": false,
     "schema_version": 1,
     "solution": true
    }
   },
   "outputs": [],
   "source": [
    "def integral2(pts):\n",
    "    '''           \n",
    "    Parameters\n",
    "    ----------\n",
    "    pts : Number of sample points\n",
    "    \n",
    "    Returns\n",
    "    -------\n",
    "    A tuple of 2 containing integral value, \n",
    "    function of interest created for purpose of integration\n",
    "    '''\n",
    "    # YOUR CODE HERE\n",
    "    \n",
    "    # Define complex function of interest\n",
    "    def the_func(x):\n",
    "        return np.sin(x) * np.exp(-x)\n",
    "    \n",
    "    # Create Boolean mask array from function of interest\n",
    "    rng = RandomState(23)\n",
    "    x = rng.uniform(0, 2 * np.pi, size=pts)\n",
    "    \n",
    "    # Create Boolean mask array from function of interest\n",
    "    y = the_func(x)\n",
    "\n",
    "    value = sum(y) * 2 * np.pi / pts\n",
    "    \n",
    "    \n",
    "    return value, the_func"
   ]
  },
  {
   "cell_type": "code",
   "execution_count": 33,
   "metadata": {
    "collapsed": true,
    "deletable": false,
    "editable": false,
    "nbgrader": {
     "checksum": "d8165c2457567d7d50946bdc186cf481",
     "grade": true,
     "grade_id": "problem2_tests",
     "locked": true,
     "points": 5,
     "schema_version": 1,
     "solution": false
    }
   },
   "outputs": [],
   "source": [
    "val1_p2, function2= integral2(100000)\n",
    "assert_almost_equal(val1_p2, 0.50085896, 4)\n",
    "val2_p2, function2= integral2(1000000)\n",
    "assert_almost_equal(val2_p2, 0.4991577604, 4)\n",
    "val3_p2, function2= integral2(100)\n",
    "assert_almost_equal(val3_p2, 0.5533328458, 4)\n",
    "assert_almost_equal(function2(2), 0.12306002480577674, 4)\n",
    "assert_almost_equal(function2(1), 0.30955987565311222, 4)"
   ]
  },
  {
   "cell_type": "markdown",
   "metadata": {
    "deletable": false,
    "editable": false,
    "nbgrader": {
     "checksum": "773a5675c079f16e4ee903e27be2e00b",
     "grade": false,
     "grade_id": "problem3",
     "locked": true,
     "schema_version": 1,
     "solution": false
    }
   },
   "source": [
    "# Problem 3\n",
    "\n",
    "For this problem, complete the function `integral3` which will take `pts` as parameter and return the integral value and the function of interest that is created for purpose of integration. \n",
    "\n",
    "- Calculate the value of following using MCMC:  $$\\int_{0}^{\\infty} \\frac{3}{4}x^4e^{-x^{\\frac{3}{4}}} dx$$  \n",
    "\n",
    "- Use RandomState(23) to generate random uniform numbers and number of points that should be generated should be equal to `pts` parameter.\n",
    "\n",
    "- Use upper limit to be 50 instead of $\\infty$. This is shown in Approach1 of this [answer](https://math.stackexchange.com/a/1200465).\n",
    "\n",
    "- The given integral is actually the value of $\\Gamma(\\frac{20}{3}) = 389.03492$ where $\\Gamma(a) = \\int_{0}^{\\infty} x^{a-1}e^{-x}dx$. $\\Gamma$ represents the [Gamma function](https://en.wikipedia.org/wiki/Gamma_function)."
   ]
  },
  {
   "cell_type": "code",
   "execution_count": 35,
   "metadata": {
    "collapsed": true,
    "deletable": false,
    "nbgrader": {
     "checksum": "dfa7f1e684bd00c0e9b3b2f4d98dd458",
     "grade": false,
     "grade_id": "problem3_answer",
     "locked": false,
     "schema_version": 1,
     "solution": true
    }
   },
   "outputs": [],
   "source": [
    "def integral3(pts):\n",
    "    '''           \n",
    "    Parameters\n",
    "    ----------\n",
    "    pts : Number of sample points\n",
    "    \n",
    "    Returns\n",
    "    -------\n",
    "    A tuple of 2 containing integral value, \n",
    "    function of interest created for purpose of integration\n",
    "    '''\n",
    "    # YOUR CODE HERE\n",
    "    \n",
    "    # Define complex function of interest\n",
    "    def the_func(x):\n",
    "        return 0.75 * (x**4) * np.exp(-(x**0.75))\n",
    "    \n",
    "    # Create Boolean mask array from function of interest\n",
    "    rng = RandomState(23)\n",
    "    x = rng.uniform(0, 50, size=pts)\n",
    "    \n",
    "    # Create Boolean mask array from function of interest\n",
    "    y = the_func(x)\n",
    "\n",
    "    value = sum(y) * 50 / pts    \n",
    "    \n",
    "    \n",
    "    return value, the_func"
   ]
  },
  {
   "cell_type": "code",
   "execution_count": 36,
   "metadata": {
    "collapsed": true,
    "deletable": false,
    "editable": false,
    "nbgrader": {
     "checksum": "9bb78f70e874c4d884d3ee1c5b2f720d",
     "grade": true,
     "grade_id": "problem3_tests",
     "locked": true,
     "points": 10,
     "schema_version": 1,
     "solution": false
    }
   },
   "outputs": [],
   "source": [
    "val1_p3, function3= integral3(1000000)\n",
    "assert_almost_equal(val1_p3, 389.12877550513804, 4)\n",
    "val2_p3, function3= integral3(100000)\n",
    "assert_almost_equal(val2_p3, 391.18915255864755, 4)\n",
    "assert_almost_equal(function3(3), 6.216829345559697, 4)\n",
    "assert_almost_equal(function3(2), 2.2324816612309828, 4)"
   ]
  },
  {
   "cell_type": "markdown",
   "metadata": {
    "deletable": false,
    "editable": false,
    "nbgrader": {
     "checksum": "f18e656095f768bc4ac735941f82b731",
     "grade": false,
     "grade_id": "problem4",
     "locked": true,
     "schema_version": 1,
     "solution": false
    }
   },
   "source": [
    "# Problem 4\n",
    "\n",
    "For this problem, complete the function `integral4` which will take `pts` as parameter and return the integral value and the function of interest that is created for purpose of integration. \n",
    "\n",
    "- Calculate the value of following using MCMC: $$\\int_{0}^{\\infty} \\frac{3}{4}x^4e^{-x^{\\frac{3}{4}}} dx$$ \n",
    "\n",
    "using the substitution: $$u = \\frac{1}{1+x}$$\n",
    "\n",
    "- Use RandomState(23) to generate random uniform numbers and number of points that should be generated should be equal to `pts` parameter.\n",
    "\n",
    "- The function of interest should be the one obtained after the above substitution i.e. we will be integrating with respect to $du$: $$\\int_{0}^{\\infty} \\frac{3}{4}x^4e^{-x^{\\frac{3}{4}}} dx = \\int_{0}^{1} \\frac{3(1-u)^4e^{-(\\frac{1-u}{u})^{\\frac{3}{4}}}}{4u^6} du$$\n",
    "\n",
    "\n",
    "- We we be using $\\int_{0}^{1} \\frac{3(1-u)^4e^{-(\\frac{1-u}{u})^{\\frac{3}{4}}}}{4u^6}du$ to calculate the value of $\\Gamma(\\frac{20}{3})$ for Problem 4.\n",
    "\n",
    "- This is shown in Approach3 of this [answer](https://math.stackexchange.com/a/1200465).\n"
   ]
  },
  {
   "cell_type": "code",
   "execution_count": 37,
   "metadata": {
    "collapsed": true,
    "deletable": false,
    "nbgrader": {
     "checksum": "4009fd5daa953b7a9d733c74e3fe75da",
     "grade": false,
     "grade_id": "problem4_answer",
     "locked": false,
     "schema_version": 1,
     "solution": true
    }
   },
   "outputs": [],
   "source": [
    "def integral4(pts):\n",
    "\n",
    "    '''           \n",
    "    Parameters\n",
    "    ----------\n",
    "    pts : Number of sample points\n",
    "    \n",
    "    Returns\n",
    "    -------\n",
    "    A tuple of 2 containing integral value, \n",
    "    function of interest created for purpose of integration\n",
    "    '''\n",
    "    # YOUR CODE HERE\n",
    "    # Define complex function of interest\n",
    "    def the_func(u):\n",
    "        return 3*((1-u)**4)*np.exp(-(((1-u)/u)**0.75))/4/(u**6)\n",
    "    \n",
    "    # Create Boolean mask array from function of interest\n",
    "    rng = RandomState(23)\n",
    "    x = rng.uniform(0, 1, size=pts)\n",
    "    \n",
    "    # Create Boolean mask array from function of interest\n",
    "    y = the_func(x)\n",
    "\n",
    "    value = sum(y) * 1 / pts    \n",
    "    \n",
    "    return value, the_func"
   ]
  },
  {
   "cell_type": "code",
   "execution_count": 38,
   "metadata": {
    "collapsed": true,
    "deletable": false,
    "editable": false,
    "nbgrader": {
     "checksum": "6a96ca3a51ba767589bd667ba1827b50",
     "grade": true,
     "grade_id": "problem4_tests",
     "locked": true,
     "points": 5,
     "schema_version": 1,
     "solution": false
    }
   },
   "outputs": [],
   "source": [
    "val1_p4, function4= integral4(1000000)\n",
    "assert_almost_equal(val1_p4, 388.71021204610099, 4)\n",
    "val2_p4, function4= integral4(100000)\n",
    "assert_almost_equal(val2_p4, 388.23741983842672, 4)\n",
    "assert_almost_equal(np.absolute(function4(3)), 0.027734664499464268, 4)\n",
    "assert_almost_equal(np.absolute(function4(5)), 0.022348577866342166, 4)"
   ]
  },
  {
   "cell_type": "markdown",
   "metadata": {
    "deletable": false,
    "editable": false,
    "nbgrader": {
     "checksum": "1d64198bacb7c32d86270dba7b703777",
     "grade": false,
     "grade_id": "problem5",
     "locked": true,
     "schema_version": 1,
     "solution": false
    }
   },
   "source": [
    "# Problem 5\n",
    "\n",
    "For this problem, complete the function `integral5` which will take `pts` as parameter and return the integral value and the function of interest that is created for purpose of integration. \n",
    "\n",
    "Calculate the value of following using MCMC: $$\\int_{10}^{50} \\frac{3}{4}x^4e^{-x^{\\frac{3}{4}}} dx$$ \n",
    "\n",
    "- Use RandomState(23) to generate random uniform numbers and number of points that should be generated should be equal to `pts` parameter."
   ]
  },
  {
   "cell_type": "code",
   "execution_count": 39,
   "metadata": {
    "collapsed": true,
    "deletable": false,
    "nbgrader": {
     "checksum": "aaf15fe9d27271cf3adcc046bc57ab0a",
     "grade": false,
     "grade_id": "problem5_answer",
     "locked": false,
     "schema_version": 1,
     "solution": true
    }
   },
   "outputs": [],
   "source": [
    "def integral5(pts):\n",
    "    '''           \n",
    "    Parameters\n",
    "    ----------\n",
    "    pts : Number of sample points\n",
    "    \n",
    "    Returns\n",
    "    -------\n",
    "    A tuple of 2 containing integral value, \n",
    "    function of interest created for purpose of integration\n",
    "    '''\n",
    "    # YOUR CODE HERE\n",
    "    \n",
    "    # Define complex function of interest\n",
    "    def the_func(x):\n",
    "        return 0.75 * (x**4) * np.exp(-(x**0.75))\n",
    "    \n",
    "    # Create Boolean mask array from function of interest\n",
    "    rng = RandomState(23)\n",
    "    x = rng.uniform(10, 50, size=pts)\n",
    "    \n",
    "    # Create Boolean mask array from function of interest\n",
    "    y = the_func(x)\n",
    "\n",
    "    value = sum(y) * 40 / pts    \n",
    "    \n",
    "    return value, the_func"
   ]
  },
  {
   "cell_type": "code",
   "execution_count": 40,
   "metadata": {
    "collapsed": true,
    "deletable": false,
    "editable": false,
    "nbgrader": {
     "checksum": "efa11dbb74fb5f8c8c1c515bdcb24219",
     "grade": true,
     "grade_id": "problem5_tests",
     "locked": true,
     "points": 5,
     "schema_version": 1,
     "solution": false
    }
   },
   "outputs": [],
   "source": [
    "val1_p5, function5= integral5(1000000)\n",
    "assert_almost_equal(val1_p5, 239.23033786913984, 4)\n",
    "val2_p5, function5= integral5(100000)\n",
    "assert_almost_equal(val2_p5, 239.49732273577268, 4)\n",
    "assert_almost_equal(function5(2), 2.2324816612309828, 4)\n",
    "assert_almost_equal(function5(3), 6.216829345559697, 4)"
   ]
  },
  {
   "cell_type": "code",
   "execution_count": null,
   "metadata": {
    "collapsed": true
   },
   "outputs": [],
   "source": []
  }
 ],
 "metadata": {
  "kernelspec": {
   "display_name": "Python 3",
   "language": "python",
   "name": "python3"
  },
  "language_info": {
   "codemirror_mode": {
    "name": "ipython",
    "version": 3
   },
   "file_extension": ".py",
   "mimetype": "text/x-python",
   "name": "python",
   "nbconvert_exporter": "python",
   "pygments_lexer": "ipython3",
   "version": "3.6.1"
  }
 },
 "nbformat": 4,
 "nbformat_minor": 2
}
