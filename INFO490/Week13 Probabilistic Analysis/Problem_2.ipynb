{
 "cells": [
  {
   "cell_type": "markdown",
   "metadata": {
    "deletable": false,
    "editable": false,
    "nbgrader": {
     "checksum": "93449b47665e4d71f588476467c772f6",
     "grade": false,
     "grade_id": "header",
     "locked": true,
     "schema_version": 1,
     "solution": false
    }
   },
   "source": [
    "# Week 13 Problem 2\n",
    "\n",
    "A few things you should keep in mind when working on assignments:\n",
    "\n",
    "1. Make sure you fill in any place that says `YOUR CODE HERE`. Do not write your answer in anywhere else other than where it says `YOUR CODE HERE`. Anything you write anywhere else will be removed or overwritten by the autograder.\n",
    "\n",
    "2. Before you submit your assignment, make sure everything runs as expected. Go to menubar, select *Kernel*, and restart the kernel and run all cells (*Restart & Run all*).\n",
    "\n",
    "3. Do not change the title (i.e. file name) of this notebook.\n",
    "\n",
    "4. Make sure that you save your work (in the menubar, select *File* → *Save and CheckPoint*)\n",
    "\n",
    "5. When you are ready to submit your assignment, go to *Dashboard* → *Assignments* and click the *Submit* button. Your work is not submitted until you click *Submit*.\n",
    "\n",
    "6. You are allowed to submit an assignment multiple times, but only the most recent submission will be graded.\n",
    "\n",
    "## Author: Radhir Kothuri\n",
    "### Primary Reviewer: Apurv Garg"
   ]
  },
  {
   "cell_type": "markdown",
   "metadata": {
    "deletable": false,
    "editable": false,
    "nbgrader": {
     "checksum": "bd41fb1d80d71c9335e38ce465b293de",
     "grade": false,
     "grade_id": "due_date",
     "locked": true,
     "schema_version": 1,
     "solution": false
    }
   },
   "source": [
    "# Due Date: 6 PM, April 23, 2018"
   ]
  },
  {
   "cell_type": "code",
   "execution_count": 1,
   "metadata": {
    "collapsed": true,
    "deletable": false,
    "editable": false,
    "nbgrader": {
     "checksum": "1a104f02876429a4f630d49c5be2d355",
     "grade": false,
     "grade_id": "import",
     "locked": true,
     "schema_version": 1,
     "solution": false
    }
   },
   "outputs": [],
   "source": [
    "# Standard imports\n",
    "import numpy as np\n",
    "from numpy.random import RandomState\n",
    "# testing tools\n",
    "from nose.tools import (\n",
    "    assert_equal, assert_true\n",
    ")\n",
    "\n",
    "from numpy.testing import assert_almost_equal\n",
    "\n",
    "# These two lines suppress warnings that sometimes\n",
    "# occur when making visualizations\n",
    "import warnings\n",
    "warnings.filterwarnings('ignore')"
   ]
  },
  {
   "cell_type": "markdown",
   "metadata": {
    "deletable": false,
    "editable": false,
    "nbgrader": {
     "checksum": "8b8c81ee383a8c648f95f0cb9859cbde",
     "grade": false,
     "grade_id": "cell-d60388a84c8fa3d9",
     "locked": true,
     "schema_version": 1,
     "solution": false
    }
   },
   "source": [
    "## Question 1\n",
    "\n",
    "In this question, we will use discrete markov chains in order to calculate all the configurations up to an inputted number of `num_steps`. In effect, you will be implementing the discrete markov chain algorithm with inputs: `initial_state`, `state_transitions`, and determining all the intermediate configurations from 0 to `num_days`, with 0 being the `initial_state`.\n",
    "\n",
    "- Complete the function `discrete_state` that takes in 3 function parameters: `num_steps`, `initial_state`, and `state_transitions`\n",
    "- Return a 2D list of all the configurations (state probabilties) from 0 to `num_steps`. The length of the list returned should be of size `num_steps`\n",
    "- The `state_transitions` will be a 2D array with size: 3 columns and 3 rows (i.e. the number of discrete states in the markov chain will be 3).\n",
    "- The `initial_state` should be at index 0 in the list of state probabilities returned.\n",
    "- The output when printed out in table format should look something like this:\n",
    "![probabilities](images/data.png)"
   ]
  },
  {
   "cell_type": "code",
   "execution_count": 2,
   "metadata": {
    "collapsed": true,
    "deletable": false,
    "nbgrader": {
     "checksum": "621857abf91aa9026075922641ffd1f0",
     "grade": false,
     "grade_id": "problem1_answer",
     "locked": false,
     "schema_version": 1,
     "solution": true
    }
   },
   "outputs": [],
   "source": [
    "def discrete_state(num_steps, initial_state, state_transitions):\n",
    "    \"\"\"\n",
    "    Return an array of the final state probabilities over the num_steps\n",
    "    The size of the returned array should be of length num_steps\n",
    "    \n",
    "    Parameters\n",
    "    ----------\n",
    "    num_steps: an int\n",
    "    initial_state: a list\n",
    "    state_transitions: a 2d list\n",
    "    \n",
    "    Returns\n",
    "    -------\n",
    "    A 2d array\n",
    "    \"\"\"\n",
    "    \n",
    "    # YOUR CODE HERE\n",
    "    \n",
    "    # Transform to an array\n",
    "    stp_array = np.array(state_transitions)\n",
    "\n",
    "    # Create empty state array\n",
    "    state = np.zeros((num_steps, 3))\n",
    "    \n",
    "    # Define initial state\n",
    "    state[0] = np.array(initial_state)\n",
    "\n",
    "    for idx in range(1, num_steps):\n",
    "\n",
    "        # Transition to next state\n",
    "        state[idx] = state[idx - 1].dot(stp_array)\n",
    "    \n",
    "    return state\n",
    "    \n",
    "    "
   ]
  },
  {
   "cell_type": "code",
   "execution_count": 3,
   "metadata": {
    "collapsed": true,
    "deletable": false,
    "editable": false,
    "nbgrader": {
     "checksum": "4b2a8072fc4a5736134821e305d8c67e",
     "grade": true,
     "grade_id": "problem1_test",
     "locked": true,
     "points": 10,
     "schema_version": 1,
     "solution": false
    }
   },
   "outputs": [],
   "source": [
    "state_transitions = [[0.5, 0.25, 0.25],\n",
    "                     [0.5, 0.0, 0.5],\n",
    "                     [0.25, 0.25, 0.5]]\n",
    "final_states = discrete_state(10, [0, 0, 1], state_transitions)\n",
    "assert_equal(len(final_states), 10)\n",
    "assert_equal(final_states[0][0], 0)\n",
    "assert_equal(final_states[0][1], 0)\n",
    "assert_equal(final_states[0][2], 1)\n",
    "for array in final_states:\n",
    "    assert_equal(len(array), 3)"
   ]
  },
  {
   "cell_type": "code",
   "execution_count": 4,
   "metadata": {
    "deletable": false,
    "editable": false,
    "nbgrader": {
     "checksum": "20102dc3cf41fc8a1207d804d7e3d036",
     "grade": false,
     "grade_id": "discrete_state_test",
     "locked": true,
     "schema_version": 1,
     "solution": false
    }
   },
   "outputs": [
    {
     "name": "stdout",
     "output_type": "stream",
     "text": [
      "  0  0.0000   0.0000    1.0000\n",
      "  1  0.2500   0.2500    0.5000\n",
      "  2  0.3750   0.1875    0.4375\n",
      "  3  0.3906   0.2031    0.4062\n",
      "  4  0.3984   0.1992    0.4023\n",
      "  5  0.3994   0.2002    0.4004\n",
      "  6  0.3999   0.2000    0.4001\n",
      "  7  0.4000   0.2000    0.4000\n",
      "  8  0.4000   0.2000    0.4000\n",
      "  9  0.4000   0.2000    0.4000\n"
     ]
    }
   ],
   "source": [
    "# View final state transitions\n",
    "state_transitions = [[0.5, 0.25, 0.25],\n",
    "                     [0.5, 0.0, 0.5],\n",
    "                     [0.25, 0.25, 0.5]]\n",
    "final_states = discrete_state(10, [0, 0, 1], state_transitions)\n",
    "for idx in range(0, 10):\n",
    "    # Display new state probabilities\n",
    "    print(f'{idx:3d}  {final_states[idx][0]:5.4f}   {final_states[idx][1]:5.4f}    {final_states[idx][2]:5.4f}')"
   ]
  },
  {
   "cell_type": "markdown",
   "metadata": {
    "deletable": false,
    "editable": false,
    "nbgrader": {
     "checksum": "9cb5ded467089ea07c3ee204a54d651e",
     "grade": false,
     "grade_id": "cell-544e70cc7b248111",
     "locked": true,
     "schema_version": 1,
     "solution": false
    }
   },
   "source": [
    "## Question 2\n",
    "\n",
    "In this question we will determine during which step in the iterations, does the markov chain reach its consistent final state. We define the consistent final state as the first state, `i`, in the list of state probabilties where each consecutive state probabilty is the same (i.e. states [i+1, `num_steps`] have the same state probabilities as step, `i`.\n",
    "\n",
    "For example, given this following state transition probabilties with `num_steps = 10`, we can say that the markov chain reaches its consistent final state at state 7 as this is the first state where all the states after have the same probabilties as step 7.\n",
    "\n",
    "![probabilities](images/data.png)\n",
    "\n",
    "- Complete the function `determine_consistent_state` below which takes in 1 function parameter: `final_states` a 2D array of final state configurations and return an integer that represents the consistent final state as described above.\n",
    "- **Note: The final states can be any of size `nxn` where n is the number of states in the markov chain.**"
   ]
  },
  {
   "cell_type": "code",
   "execution_count": 24,
   "metadata": {
    "collapsed": true,
    "deletable": false,
    "nbgrader": {
     "checksum": "e8d6ef375e058d26c03972d2299f3335",
     "grade": false,
     "grade_id": "problem2_answer",
     "locked": false,
     "schema_version": 1,
     "solution": true
    }
   },
   "outputs": [],
   "source": [
    "def determine_consistent_state(final_states):\n",
    "    '''    \n",
    "    Return an integer that represents the consistent final state in the final_states\n",
    "    \n",
    "    Parameters\n",
    "    ----------\n",
    "    final_states: a 2D array of final_state configurations\n",
    "    \n",
    "    Returns\n",
    "    -------\n",
    "    An integer\n",
    "    '''\n",
    "    \n",
    "    # YOUR CODE HERE\n",
    "    # please assume that the function parameter passed in is 1-indexed instead of 0-indexed. \n",
    "    #All the assertion tests assume that `determine_consistent_state` will consider a 1-indexed array (i.e. first element starts at index 1 and not 0)\n",
    "    \n",
    "    for i in range(0,len(final_states)):           \n",
    "        if (final_states[i+1][0] == final_states[i][0]) & (final_states[i+1][1] == final_states[i][1]) & (final_states[i+1][2] == final_states[i][2]):\n",
    "            result = i + 1\n",
    "            break\n",
    "        \n",
    "    return result"
   ]
  },
  {
   "cell_type": "code",
   "execution_count": 25,
   "metadata": {
    "deletable": false,
    "editable": false,
    "nbgrader": {
     "checksum": "2a83056bd708e14c075f174c700a7dfc",
     "grade": true,
     "grade_id": "problem2_test",
     "locked": true,
     "points": 10,
     "schema_version": 1,
     "solution": false
    }
   },
   "outputs": [],
   "source": [
    "state_transitions = [[0.5, 0.25, 0.25],\n",
    "                     [0.5, 0.0, 0.5],\n",
    "                     [0.25, 0.25, 0.5]]\n",
    "final_states = np.around(discrete_state(10, [0, 0, 1], state_transitions), 3)\n",
    "consistent_state = determine_consistent_state(final_states)\n",
    "assert_equal(consistent_state, 7)\n",
    "\n",
    "state_transitions = [[0.50, 0.35, 0.15], \n",
    "                     [0.30, 0.50, 0.20], \n",
    "                     [0.40, 0.20, 0.40]]\n",
    "final_states = np.around(discrete_state(10, [0, 0, 1], state_transitions), 3)\n",
    "consistent_state = determine_consistent_state(final_states)\n",
    "assert_equal(consistent_state, 7)\n",
    "\n",
    "consistent_state = determine_consistent_state(\n",
    "               np.around(\n",
    "                   [[ 0.26425401,  0.45496578,  0.58154822,  0.62245072],\n",
    "                   [ 0.42417175,  0.19164469,  0.68186883,  0.01022666],\n",
    "                   [ 0.17224821,  0.39245854,  0.9726721 ,  0.12367582],\n",
    "                   [ 0.50411052,  0.70906992,  0.0166034 ,  0.41371041],\n",
    "                   [ 0.50411067,  0.70907015,  0.0165674 ,  0.41372987]],\n",
    "               3))\n",
    "assert_equal(consistent_state, 4)"
   ]
  },
  {
   "cell_type": "markdown",
   "metadata": {
    "deletable": false,
    "editable": false,
    "nbgrader": {
     "checksum": "0291453b487317c4a53dbf5933903671",
     "grade": false,
     "grade_id": "cell-ef5687ed65f8cbfb",
     "locked": true,
     "schema_version": 1,
     "solution": false
    }
   },
   "source": [
    "## Question 3\n",
    "\n",
    "In this question, we will be doing something very similar to problem 1, but we will be exploring continuous markov chains instead.\n",
    "\n",
    "- Complete the function `continuous_state` that takes in 2 function parameters: `num_steps` and `num_chains`.\n",
    "- Use the continuous markov chain algorithm as described in the lesson in order to generate the first `num_steps` state transition probabilities.\n",
    "- Use 18 for the `RandomState` generator\n",
    "- The first 2 parameters to the `normal()` function for the `RandomState` generator correspond to the `mean` and `std` respectively. Use a factor of `0.4` for the `mean` parmater and a value of `1` for the `std`.\n",
    "- Note: **For the initial state only, do not use `0.4` for the mean parameter and `1` for the `std`. Simply just use the output of the `normal()` function.**\n",
    "- Return a 2D list of the first `num_steps` state probabilities.\n"
   ]
  },
  {
   "cell_type": "code",
   "execution_count": 26,
   "metadata": {
    "collapsed": true,
    "deletable": false,
    "nbgrader": {
     "checksum": "f166bf69fb7f83bf832b5c9f2f4c1e21",
     "grade": false,
     "grade_id": "problem3_answer",
     "locked": false,
     "schema_version": 1,
     "solution": true
    }
   },
   "outputs": [],
   "source": [
    "def continuous_state(num_steps, num_chains):\n",
    "    \"\"\"\n",
    "    Return an array of the final state probabilities over the num_steps\n",
    "    The size of the returned array should be of length num_steps\n",
    "    \n",
    "    Parameters\n",
    "    ----------\n",
    "    num_steps: an int\n",
    "    num_chains: an int\n",
    "    \n",
    "    Returns\n",
    "    -------\n",
    "    A 2d array\n",
    "    \"\"\"\n",
    "    \n",
    "    # YOUR CODE HERE     \n",
    "    rng = RandomState(18)\n",
    "\n",
    "    burnin = 500\n",
    "\n",
    "    # Create empty state array\n",
    "    state = np.zeros((num_steps, num_chains))\n",
    "\n",
    "    # Define initial state\n",
    "    state[0] = rng.normal()\n",
    "\n",
    "    for idx in range(1, num_steps):\n",
    "\n",
    "        # Transition to next state\n",
    "        state[idx] = rng.normal(0.4 * state[idx - 1], 1, num_chains)\n",
    "        \n",
    "    return state"
   ]
  },
  {
   "cell_type": "code",
   "execution_count": 27,
   "metadata": {
    "collapsed": true,
    "deletable": false,
    "editable": false,
    "nbgrader": {
     "checksum": "4fddbd12ec9e7808ec6922ccfc732f2f",
     "grade": true,
     "grade_id": "problem3_test",
     "locked": true,
     "points": 10,
     "schema_version": 1,
     "solution": false
    }
   },
   "outputs": [],
   "source": [
    "final_states = continuous_state(10, 4)\n",
    "assert_equal(len(final_states), 10)\n",
    "for array in final_states:\n",
    "    assert_equal(len(array), 4)\n",
    "assert_almost_equal(final_states[0][0], 0.0794, decimal=4)\n",
    "assert_almost_equal(final_states[0][1], 0.0794, decimal=4)\n",
    "assert_almost_equal(final_states[0][2], 0.0794, decimal=4)\n",
    "\n",
    "assert_almost_equal(final_states[1][0], 2.2220, decimal=4)\n",
    "assert_almost_equal(final_states[1][1], -0.1031, decimal=4)\n",
    "assert_almost_equal(final_states[1][2], 0.1923, decimal=4)\n",
    "\n",
    "final_states = continuous_state(5000, 4)\n",
    "assert_equal(len(final_states), 5000)\n",
    "for array in final_states:\n",
    "    assert_equal(len(array), 4)"
   ]
  },
  {
   "cell_type": "code",
   "execution_count": 28,
   "metadata": {
    "deletable": false,
    "editable": false,
    "nbgrader": {
     "checksum": "670d7faee9be3861f87a01d56579adfb",
     "grade": false,
     "grade_id": "continuous_state_test",
     "locked": true,
     "schema_version": 1,
     "solution": false
    }
   },
   "outputs": [
    {
     "name": "stdout",
     "output_type": "stream",
     "text": [
      "  0  0.0794   0.0794    0.0794\n",
      "  1  2.2220   -0.1031    0.1923\n",
      "  2  1.5122   0.9677    0.4712\n",
      "  3  -0.0410   1.1925    0.6049\n",
      "  4  -1.1181   -0.5177    1.5875\n",
      "  5  0.0900   1.8599    0.3447\n",
      "  6  -0.5285   -0.4240    -0.8841\n",
      "  7  -0.7452   -1.5200    -0.1236\n",
      "  8  1.0727   1.8557    1.0785\n",
      "  9  0.4965   1.8195    -0.1222\n"
     ]
    }
   ],
   "source": [
    "# View final state transitions\n",
    "final_states = continuous_state(10, 4)\n",
    "for idx in range(0, 10):\n",
    "    # Display new state probabilities\n",
    "    print(f'{idx:3d}  {final_states[idx][0]:5.4f}   {final_states[idx][1]:5.4f}    {final_states[idx][2]:5.4f}')"
   ]
  },
  {
   "cell_type": "code",
   "execution_count": null,
   "metadata": {
    "collapsed": true
   },
   "outputs": [],
   "source": []
  }
 ],
 "metadata": {
  "kernelspec": {
   "display_name": "Python 3",
   "language": "python",
   "name": "python3"
  },
  "language_info": {
   "codemirror_mode": {
    "name": "ipython",
    "version": 3
   },
   "file_extension": ".py",
   "mimetype": "text/x-python",
   "name": "python",
   "nbconvert_exporter": "python",
   "pygments_lexer": "ipython3",
   "version": "3.6.1"
  }
 },
 "nbformat": 4,
 "nbformat_minor": 2
}
