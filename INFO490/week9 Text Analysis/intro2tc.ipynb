{
 "cells": [
  {
   "cell_type": "markdown",
   "metadata": {},
   "source": [
    "# Introduction to Text Classification\n",
    "\n",
    "-----"
   ]
  },
  {
   "cell_type": "markdown",
   "metadata": {},
   "source": [
    "In this notebook, we introduce text classification. This is a powerful, yet sometimes intimidating topic that finds applications in a number of different areas: product reviews, sentiment analysis, and document classification. Part of the challenge lies in the difficulty of applying mathematical algorithms to (potentially very large) character data sets. In Python, however, this challenge is considerably simplified by using the NLTK and the scikit learn machine learning libraries.\n",
    "\n",
    "-----"
   ]
  },
  {
   "cell_type": "markdown",
   "metadata": {},
   "source": [
    "## Table of Contents\n",
    "\n",
    "[Data](#Data)\n",
    "\n",
    "[Classification](#Parsing-Data)\n",
    "\n",
    "- [Naive Bayes Classifier](#Naive-Bayes-Classifier)\n",
    "\n",
    "[Stop Words](#Stop-Words)\n",
    "\n",
    "- [Stop Words & Classification](#Stop-Words-&-Classification)\n",
    "\n",
    "[TF-IDF](#TF-IDF)\n",
    "\n",
    "[Document Classification](#Document-Classification)\n",
    "\n",
    "- [Linear SVC](#Linear SVC)\n",
    "- [SVC with SGD](#SVC-with-SGD)\n",
    "- [Logistic Regression](#Logistic-Regression)\n",
    "\n",
    "[Sentiment Analysis](#Sentiment-Analysis)\n",
    "\n",
    "-----\n",
    "\n",
    "Before proceeding with the rest of this notebook, we first include our standard notebook setup code and we define our _data_ directory.\n",
    "\n",
    "-----"
   ]
  },
  {
   "cell_type": "code",
   "execution_count": 1,
   "metadata": {
    "collapsed": true
   },
   "outputs": [],
   "source": [
    "# Set up notebook\n",
    "\n",
    "% matplotlib inline\n",
    "\n",
    "# Standard imports\n",
    "import numpy as np\n",
    "import pandas as pd\n",
    "import matplotlib.pyplot as plt\n",
    "import seaborn as sns\n",
    "\n",
    "# We do this to ignore several specific Pandas warnings\n",
    "import warnings\n",
    "warnings.filterwarnings(\"ignore\")"
   ]
  },
  {
   "cell_type": "code",
   "execution_count": 2,
   "metadata": {
    "collapsed": true
   },
   "outputs": [],
   "source": [
    "# First we find our HOME directory\n",
    "home_dir = !echo $HOME\n",
    "\n",
    "# Then we create a temporary working directory to store data files in\n",
    "!mkdir ~/temp_w9l2\n",
    "\n",
    "# We construct the full path, below our   \n",
    "# HOME directory to the temporary working directory location\n",
    "home=home_dir[0] + '/temp_w9l2/'"
   ]
  },
  {
   "cell_type": "markdown",
   "metadata": {},
   "source": [
    "-----\n",
    "\n",
    "[[Back to TOC]](#Table-of-Contents)\n",
    "\n",
    "\n",
    "## Data\n",
    "\n",
    "To get started with text classification, we will analyze the [twenty newsgroup][tng] data set. We first download this data (scikit learn has built in methods for doing this, however, we have cached a copy locally on our server). The data are made available via a custom object, but we can access the data of interest by using dictionary keys. Before delving into text data mining, we first explore this data over several Code cells to understand more about the task at hand.\n",
    "\n",
    "-----\n",
    "\n",
    "[tng]: http://kdd.ics.uci.edu/databases/20newsgroups/20newsgroups.data.html"
   ]
  },
  {
   "cell_type": "code",
   "execution_count": 3,
   "metadata": {},
   "outputs": [
    {
     "name": "stderr",
     "output_type": "stream",
     "text": [
      "Downloading dataset from http://people.csail.mit.edu/jrennie/20Newsgroups/20news-bydate.tar.gz (14 MB)\n"
     ]
    }
   ],
   "source": [
    "# load dataset\n",
    "from sklearn.datasets import fetch_20newsgroups\n",
    "\n",
    "# Split into training and testing\n",
    "train = fetch_20newsgroups(data_home=home + 'textdm', \n",
    "                           subset='train', shuffle=True, random_state=23)\n",
    "test = fetch_20newsgroups(data_home=home + 'textdm', \n",
    "                          subset='test', shuffle=True, random_state=23)"
   ]
  },
  {
   "cell_type": "code",
   "execution_count": 4,
   "metadata": {},
   "outputs": [
    {
     "name": "stdout",
     "output_type": "stream",
     "text": [
      "Number of Training Samples: 11314\n",
      "Number of Testing Samples: 7532\n",
      "----------------------------------------\n",
      "Class  0 = alt.atheism\n",
      "Class  1 = comp.graphics\n",
      "Class  2 = comp.os.ms-windows.misc\n",
      "Class  3 = comp.sys.ibm.pc.hardware\n",
      "Class  4 = comp.sys.mac.hardware\n",
      "Class  5 = comp.windows.x\n",
      "Class  6 = misc.forsale\n",
      "Class  7 = rec.autos\n",
      "Class  8 = rec.motorcycles\n",
      "Class  9 = rec.sport.baseball\n",
      "Class 10 = rec.sport.hockey\n",
      "Class 11 = sci.crypt\n",
      "Class 12 = sci.electronics\n",
      "Class 13 = sci.med\n",
      "Class 14 = sci.space\n",
      "Class 15 = soc.religion.christian\n",
      "Class 16 = talk.politics.guns\n",
      "Class 17 = talk.politics.mideast\n",
      "Class 18 = talk.politics.misc\n",
      "Class 19 = talk.religion.misc\n"
     ]
    }
   ],
   "source": [
    "# Exploratory Data Analysis\n",
    "print(f\"Number of Training Samples: {len(train['data'])}\")\n",
    "print(f\"Number of Testing Samples: {len(test['data'])}\")\n",
    "print(40*'-')\n",
    "\n",
    "for idx, label in enumerate(train['target_names']):\n",
    "    print(f'Class {idx:2d} = {label}')"
   ]
  },
  {
   "cell_type": "code",
   "execution_count": 5,
   "metadata": {},
   "outputs": [
    {
     "name": "stdout",
     "output_type": "stream",
     "text": [
      "Class Number = 8\n",
      "Class Name = rec.motorcycles\n",
      "--------------------------------------------------------------------------------\n",
      "From: egreen@east.sun.com (Ed Green - Pixel Cruncher)\n",
      "Subject: Re: Observation re: helmets\n",
      "Organization: Sun Microsystems, RTP, NC\n",
      "Lines: 21\n",
      "Distribution: world\n",
      "Reply-To: egreen@east.sun.com\n",
      "NNTP-Posting-Host: laser.east.sun.com\n",
      "\n",
      "In article 211353@mavenry.altcit.eskimo.com, maven@mavenry.altcit.eskimo.com (Norman Hamer) writes:\n",
      "> \n",
      "> The question for the day is re: passenger helmets, if you don't know for \n",
      ">certain who's gonna ride with you (like say you meet them at a .... church \n",
      ">meeting, yeah, that's the ticket)... What are some guidelines? Should I just \n",
      ">pick up another shoei in my size to have a backup helmet (XL), or should I \n",
      ">maybe get an inexpensive one of a smaller size to accomodate my likely \n",
      ">passenger? \n",
      "\n",
      "If your primary concern is protecting the passenger in the event of a\n",
      "crash, have him or her fitted for a helmet that is their size.  If your\n",
      "primary concern is complying with stupid helmet laws, carry a real big\n",
      "spare (you can put a big or small head in a big helmet, but not in a\n",
      "small one).\n",
      "\n",
      "---\n",
      "Ed Green, former Ninjaite |I was drinking last night with a biker,\n",
      "  Ed.Green@East.Sun.COM   |and I showed him a picture of you.  I said,\n",
      "DoD #0111  (919)460-8302  |\"Go on, get to know her, you'll like her!\"\n",
      " (The Grateful Dead) -->  |It seemed like the least I could do...\n",
      "\n",
      "\n"
     ]
    }
   ],
   "source": [
    "# Pick a single article and display information\n",
    "item_number = 250\n",
    "class_num = train['target'][item_number]\n",
    "print(f'Class Number = {class_num}')\n",
    "print(f'Class Name = {train[\"target_names\"][class_num]}')\n",
    "print(\"-\"*80)\n",
    "print(train['data'][item_number])"
   ]
  },
  {
   "cell_type": "markdown",
   "metadata": {},
   "source": [
    "-----\n",
    "\n",
    "[[Back to TOC]](#Table-of-Contents)\n",
    "\n",
    "## Classification\n",
    "\n",
    "In the _Introduction to Text Analysis_ notebook, we identified the features (or tokens in the training documents) that we should use to classify our documents. But this potential obscures the challenge of actually classifying documents. Before introducing our first classification technique, lets examine one document that is in our test data set. \n",
    "\n",
    "Reviewing this single posting, we notice several issues that might affect our classification process. First, if we remove the header, footer, and quoted text, some message will have little to no signal. For example, the message below would simply contain 'Calling Bill Gates, calling Bill Gates....'. Second, if we don't remove this information, our documents will include email address information (like com, edu, etc.), proper names, and information such as dates or monetary information. Finally, the content in some categories will clearly overlap, such as _alt.atheism_ and _soc.religion.christian_. \n",
    "\n",
    "In the end, these issues demonstrate the **remaining need** for manual intervention and introspection during the machine learning process. We will continually want to analyze classification results to ensure we understand what is occurring and why it is occurring.\n",
    "\n",
    "-----\n",
    "[l1]: intro2ta.ipynb"
   ]
  },
  {
   "cell_type": "code",
   "execution_count": 6,
   "metadata": {},
   "outputs": [
    {
     "name": "stdout",
     "output_type": "stream",
     "text": [
      "Class Number = 1\n",
      "Class Name = comp.graphics\n",
      "--------------------------------------------------------------------------------\n",
      "From: ecampbel@metz.une.edu.au (Ed Campbell)\n",
      "Subject: libraries for text+math+graphics display?\n",
      "Keywords: text+math fonts display c-code\n",
      "Lines: 8\n",
      "Nntp-Posting-Host: metz.une.edu.au\n",
      "\n",
      "Does anyone know of any c or c++ libraries for preparing\n",
      "and displaying quickly pages of mixed text, mathematical equations,\n",
      "and graphics (circles,ellipses,etc) on the vdu? The maths wouldnt\n",
      "need to be up to TeX quality, but it would be useful to be scaleable.\n",
      "The main thing would be to be able to generate the display quickly\n",
      "from a minimum set of formatting code.\n",
      "Thanks,\n",
      "Ed Campbell\n",
      "\n"
     ]
    }
   ],
   "source": [
    "test_message = 100\n",
    "class_num = test['target'][test_message]\n",
    "print(f'Class Number = {class_num}')\n",
    "print(f'Class Name = {test[\"target_names\"][class_num]}')\n",
    "print(\"-\"*80)\n",
    "print(test['data'][test_message])"
   ]
  },
  {
   "cell_type": "markdown",
   "metadata": {},
   "source": [
    "-----\n",
    "\n",
    "[[Back to TOC]](#Table-of-Contents)\n",
    "\n",
    "### Naive Bayes Classifier\n",
    "\n",
    "One of the (if not the) simplest techniques for performing text classification is the [Naive Bayes classifier][nbd]. This technique is popular, in part because of its simplicity, yet it also provides a quick technique that can provide reasonable results. Fundamentally this method applies Bayes theorem by (naively) assuming independence between the features. In scikit learn, we will use a [Multinomial Naive Bayes][nbapi] model, where we treat each feature independently. Thus we calculate the likelihood of a feature corresponding to each training label, and the accumulation of these likelihoods provides our overall classification. By working with log-likelihoods, this accumulation becomes a simple sum.\n",
    "\n",
    "-----\n",
    "\n",
    "[nbd]: https://en.wikipedia.org/wiki/Naive_Bayes_classifier\n",
    "[nbapi]: http://scikit-learn.org/stable/modules/generated/sklearn.feature_extraction.text.CountVectorizer.html#sklearn.feature_extraction.text.CountVectorizer"
   ]
  },
  {
   "cell_type": "code",
   "execution_count": 7,
   "metadata": {},
   "outputs": [
    {
     "name": "stdout",
     "output_type": "stream",
     "text": [
      "NB prediction accuracy =  77.3%\n"
     ]
    }
   ],
   "source": [
    "# Classify text with Naive Bayes\n",
    "from sklearn.feature_extraction.text import CountVectorizer\n",
    "from sklearn.naive_bayes import MultinomialNB\n",
    "\n",
    "# Create DTM\n",
    "cv = CountVectorizer()\n",
    "train_counts = cv.fit_transform(train['data'])\n",
    "test_data = cv.transform(test['data'])\n",
    "\n",
    "# Create Classifier\n",
    "nb = MultinomialNB()\n",
    "clf = nb.fit(train_counts, train['target'])\n",
    "\n",
    "# Predict and display score\n",
    "predicted = clf.predict(test_data)\n",
    "scr = 100.0 * clf.score(test_data, test['target'])\n",
    "print(f'NB prediction accuracy = {scr:5.1f}%')"
   ]
  },
  {
   "cell_type": "code",
   "execution_count": 8,
   "metadata": {},
   "outputs": [
    {
     "name": "stdout",
     "output_type": "stream",
     "text": [
      "NB prediction accuracy =  77.3%\n"
     ]
    }
   ],
   "source": [
    "# Implement as a pipeline\n",
    "from sklearn.pipeline import Pipeline\n",
    "\n",
    "tools = [('cv', CountVectorizer()), \n",
    "         ('nb', MultinomialNB())]\n",
    "\n",
    "# Construct pipeline\n",
    "clf = Pipeline(tools)\n",
    "clf = clf.fit(train['data'], train['target'])\n",
    "\n",
    "# Predict and display scores\n",
    "predicted = clf.predict(test['data'])\n",
    "scr = 100.0 * clf.score(test['data'], test['target'])\n",
    "print(f'NB prediction accuracy = {scr:5.1f}%')"
   ]
  },
  {
   "cell_type": "markdown",
   "metadata": {},
   "source": [
    "-----\n",
    "\n",
    "We can also use the built-in `metrics` methods to display more information about the classification results, including as a function of the different labels. Notice how most labels are predicted well, or at least close to the average. But some, such as _comp.os.ms-windows.misc_, are predicted poorly, suggesting improvements will be needed.\n",
    "\n",
    "-----"
   ]
  },
  {
   "cell_type": "code",
   "execution_count": 9,
   "metadata": {},
   "outputs": [
    {
     "name": "stdout",
     "output_type": "stream",
     "text": [
      "                          precision    recall  f1-score   support\n",
      "\n",
      "             alt.atheism       0.79      0.77      0.78       319\n",
      "           comp.graphics       0.67      0.74      0.70       389\n",
      " comp.os.ms-windows.misc       0.20      0.00      0.01       394\n",
      "comp.sys.ibm.pc.hardware       0.56      0.77      0.65       392\n",
      "   comp.sys.mac.hardware       0.84      0.75      0.79       385\n",
      "          comp.windows.x       0.65      0.84      0.73       395\n",
      "            misc.forsale       0.93      0.65      0.77       390\n",
      "               rec.autos       0.87      0.91      0.89       396\n",
      "         rec.motorcycles       0.96      0.92      0.94       398\n",
      "      rec.sport.baseball       0.96      0.87      0.91       397\n",
      "        rec.sport.hockey       0.93      0.96      0.95       399\n",
      "               sci.crypt       0.67      0.95      0.78       396\n",
      "         sci.electronics       0.79      0.66      0.72       393\n",
      "                 sci.med       0.87      0.82      0.85       396\n",
      "               sci.space       0.83      0.89      0.86       394\n",
      "  soc.religion.christian       0.70      0.96      0.81       398\n",
      "      talk.politics.guns       0.69      0.91      0.79       364\n",
      "   talk.politics.mideast       0.85      0.94      0.89       376\n",
      "      talk.politics.misc       0.58      0.63      0.60       310\n",
      "      talk.religion.misc       0.89      0.33      0.49       251\n",
      "\n",
      "             avg / total       0.76      0.77      0.75      7532\n",
      "\n"
     ]
    }
   ],
   "source": [
    "from sklearn import metrics\n",
    "print(metrics.classification_report(test['target'], \n",
    "                                    predicted,\n",
    "                                    target_names = test['target_names']))"
   ]
  },
  {
   "cell_type": "markdown",
   "metadata": {},
   "source": [
    "-----\n",
    "\n",
    "We can also visually display the confusion matrix (where we show how documents were misclassified) by using Seaborn to create a _heatmap_ visual. First, we create our confusion matrix method, which we subsequently use to display the results from our Naive Bayes model.\n",
    "\n",
    "-----"
   ]
  },
  {
   "cell_type": "code",
   "execution_count": 10,
   "metadata": {},
   "outputs": [
    {
     "data": {
      "image/png": "[encoded data removed]",
      "text/plain": [
       "<matplotlib.figure.Figure at 0x7f5c78cd3780>"
      ]
     },
     "metadata": {},
     "output_type": "display_data"
    }
   ],
   "source": [
    "fig, ax = plt.subplots(figsize=(12, 10))\n",
    "\n",
    "# Display confusion matrix\n",
    "from helper_code import mlplots as mp\n",
    "mp.confusion(test['target'], predicted, \n",
    "             range(20), 20, 'Naive Bayes Model')"
   ]
  },
  {
   "cell_type": "markdown",
   "metadata": {},
   "source": [
    "-----\n",
    "\n",
    "<font color='red' size = '5'> Student Exercise </font>\n",
    "\n",
    "In the preceding cells, we used `CountVectorizer` to create a document term matrix, and a Naive Bayes algorithm to classify new document by using this DTM. Now that you have run the notebook, go back and make the following changes to see how the results change.\n",
    "\n",
    "1. Change the `CountVectorizer` so that all words are changed to lowercase. Does this change the classification results?\n",
    "2. Change the `CountVectorizer` so that all accents are removed from words. Does this change the classification results?\n",
    "3. Change the smoothing parameter $\\alpha$ for the `MultinomialNB` classifier, from the default of one to zero and next some fractional value between zero and one. How does this change the classification results?"
   ]
  },
  {
   "cell_type": "markdown",
   "metadata": {},
   "source": [
    "-----\n",
    "\n",
    "[[Back to TOC]](#Table-of-Contents)\n",
    "\n",
    "\n",
    "## Stop Words\n",
    "\n",
    "Text documents often contain many occurrences of the same word. For example, in a document written in _English_, words such as _a_, _the_, _of_, and _it_ likely occur very frequently. When classifying a document based on the number of times specific words occur in the text document, these words can lead to biases, especially since they are generally common in **all** text documents you might want to classify. As a result, the concept of [_stop words_][swd] was invented. Basically these words are the most commonly occurring words that should be removed during the tokenization process in order to improve subsequent classification efforts. \n",
    "\n",
    "We can easily specify that the __English__ stop words should be excluded during tokenization by using the `stop_words`. Note, _stop word_ dictionaries for other languages, or even specific domains, exist and can be used instead. We demonstrate the removal of stop words by using a `CountVectorizer` in the following simple example.\n",
    "\n",
    "-----\n",
    "[swd]: https://en.wikipedia.org/wiki/Stop_words"
   ]
  },
  {
   "cell_type": "code",
   "execution_count": 11,
   "metadata": {},
   "outputs": [
    {
     "name": "stdout",
     "output_type": "stream",
     "text": [
      "Tokenization:\n",
      "['this', 'course', 'introduces', 'many', 'concepts', 'in', 'data', 'science']\n",
      "\n",
      "Tokenization (with Stop words):\n",
      "['course', 'introduces', 'concepts', 'data', 'science']\n"
     ]
    }
   ],
   "source": [
    "# Sample sentance to tokenize\n",
    "my_text = 'This course introduces many concepts in data science.'\n",
    "\n",
    "# Create tokenizers\n",
    "cv1 = CountVectorizer(lowercase=True)\n",
    "cv2 = CountVectorizer(stop_words = 'english', lowercase=True)\n",
    "\n",
    "# Apply tokenizers\n",
    "tk_func1 = cv1.build_analyzer()\n",
    "tk_func2 = cv2.build_analyzer()\n",
    "\n",
    "# Display tokenization results\n",
    "import pprint\n",
    "pp = pprint.PrettyPrinter(indent=2, depth=1, \n",
    "                          width=80, compact=True)\n",
    "\n",
    "print('Tokenization:')\n",
    "pp.pprint(tk_func1(my_text))\n",
    "\n",
    "# Blank line\n",
    "print()\n",
    "\n",
    "print('Tokenization (with Stop words):')\n",
    "pp.pprint(tk_func2(my_text))"
   ]
  },
  {
   "cell_type": "markdown",
   "metadata": {},
   "source": [
    "-----\n",
    "\n",
    "[[Back to TOC]](#Table-of-Contents)\n",
    "\n",
    "### Stop Words & Classification\n",
    "\n",
    "Since _stop words_ are generally common across text documents, their presence in a classification process likely to simply increase the noise. As a result, by removing stop words, we likely will produce more accurate classification. In the following Code cell, we demonstrate the removal of stop words in our classification pipeline, which, even with this simple approach, increases the accuracy of our classification results.\n",
    "\n",
    "-----"
   ]
  },
  {
   "cell_type": "code",
   "execution_count": 12,
   "metadata": {
    "scrolled": true
   },
   "outputs": [
    {
     "name": "stdout",
     "output_type": "stream",
     "text": [
      "NB (with Stop Words) prediction accuracy =  80.2%\n"
     ]
    }
   ],
   "source": [
    "# Modify parameters in out Pipeline and rerun.\n",
    "# In this case, we set stop words \n",
    "clf.set_params(cv__stop_words = 'english')\n",
    "\n",
    "clf = clf.fit(train['data'], train['target'])\n",
    "predicted = clf.predict(test['data'])\n",
    "\n",
    "scr = 100.0 * clf.score(test['data'], test['target'])\n",
    "print(f'NB (with Stop Words) prediction accuracy = {scr:5.1f}%')"
   ]
  },
  {
   "cell_type": "markdown",
   "metadata": {},
   "source": [
    "-----\n",
    "\n",
    "<font color='red' size = '5'> Student Exercise </font>\n",
    "\n",
    "In the preceding cells, we used stop words to remove common tokens from a text document. Now that you have run the notebook, go back and make the following changes to see how the results change.\n",
    "\n",
    "1. Create your own sentence, instead of the text associated with `my_text`. Do the token results make sense with an without stop words being used?\n",
    "2. Using stop words, also change tokens to lowercase in the pipeline. Does this change the classification results?\n",
    "3. You can supply your own list of stop words, simply pass in a list of string tokens (e.g., `['in', 'many']`). Try doing this with a sentence of your own construction. Did the tokenization results agree with your expectation"
   ]
  },
  {
   "cell_type": "markdown",
   "metadata": {},
   "source": [
    "-----\n",
    "\n",
    "[[Back to TOC]](#Table-of-Contents)\n",
    "\n",
    "\n",
    "## TF-IDF\n",
    "\n",
    "Previously, we have simply used the number of times a token (i.e., word, or more generally an n-gram) occurs in a document to classify the document. Even with the removal of stop words, however, this can still overemphasize tokens that might generally occur across many documents (e.g., names or general concepts). An alternative technique that often provides robust improvements in classification accuracy is to employ the frequency of token occurrence, normalized over the frequency with which the token occurs in all documents. In this manner, we give higher weight in the classification process to tokens that are more strongly tied to a particular label. \n",
    "\n",
    "Formally this concept is known as [term frequency–inverse document frequency][tfd] (or tf-idf), and scikit-learn provides this functionality via the [`TfidfTransformer`][tftd] that can either follow a tokenizer, such as `CountVectorizer` or can be combined together into a single transformer via the [`TfidfVectorizer`][tfvd].\n",
    "\n",
    "-----\n",
    "[tfd]: https://en.wikipedia.org/wiki/Tf–idf\n",
    "\n",
    "[tftd]: http://scikit-learn.org/stable/modules/generated/sklearn.feature_extraction.text.TfidfTransformer.html\n",
    "\n",
    "[tfvd]: http://scikit-learn.org/stable/modules/generated/sklearn.feature_extraction.text.TfidfVectorizer.html#sklearn.feature_extraction.text.TfidfVectorizer"
   ]
  },
  {
   "cell_type": "code",
   "execution_count": 13,
   "metadata": {},
   "outputs": [
    {
     "name": "stdout",
     "output_type": "stream",
     "text": [
      "NB (TF-IDF with Stop Words) prediction accuracy =  81.7%\n"
     ]
    }
   ],
   "source": [
    "from sklearn.feature_extraction.text import TfidfVectorizer\n",
    "\n",
    "tools = [('tf', TfidfVectorizer()), ('nb', MultinomialNB())]\n",
    "clf = Pipeline(tools)\n",
    "clf.set_params(tf__stop_words = 'english')\n",
    "\n",
    "clf = clf.fit(train['data'], train['target'])\n",
    "predicted = clf.predict(test['data'])\n",
    "\n",
    "scr = 100.0 * clf.score(test['data'], test['target'])\n",
    "print(f'NB (TF-IDF with Stop Words) prediction accuracy = {scr:5.1f}%')"
   ]
  },
  {
   "cell_type": "markdown",
   "metadata": {},
   "source": [
    "-----\n",
    "\n",
    "[[Back to TOC]](#Table-of-Contents)\n",
    "\n",
    "\n",
    "## Document Classification\n",
    "\n",
    "We now look at more advanced classification techniques than the Naive Bayes classification technique that we employed previously in this notebook.\n",
    "\n",
    "### Linear SVC\n",
    "\n",
    "One of the simplest classification techniques to understand is [support vector machine][svmd] classification, or SVC. SVC attempts to divide data by finding (hyper-)planes that optimally differentiate data between classes. For our text data mining, we can employ linear SVM for classification, known as linear SVC, to classify text documents by their token feature vectors. The scikit_learn library implements this technique in the [`LinearSVC`][lsvc] class. Notice how the output classes are predicted more consistently than our first classification attempt (i.e., the metrics are consistent across classes).\n",
    "\n",
    "-----\n",
    "[lsvc]: http://scikit-learn.org/stable/modules/generated/sklearn.svm.LinearSVC.html\n",
    "[svmd]: https://en.wikipedia.org/wiki/Support_vector_machine"
   ]
  },
  {
   "cell_type": "code",
   "execution_count": 14,
   "metadata": {},
   "outputs": [
    {
     "name": "stdout",
     "output_type": "stream",
     "text": [
      "SVC (TF-IDF with Stop Words) prediction accuracy =  83.3%\n"
     ]
    }
   ],
   "source": [
    "from sklearn import svm\n",
    "\n",
    "tools = [('tf', TfidfVectorizer()), ('svc', svm.LinearSVC())]\n",
    "clf = Pipeline(tools)\n",
    "\n",
    "clf.set_params(tf__stop_words = 'english')\n",
    "clf.set_params(svc__C = 1000)\n",
    "\n",
    "clf = clf.fit(train['data'], train['target'])\n",
    "predicted = clf.predict(test['data'])\n",
    "\n",
    "scr = 100.0 * clf.score(test['data'], test['target'])\n",
    "print(f'SVC (TF-IDF with Stop Words) prediction accuracy = {scr:5.1f}%')"
   ]
  },
  {
   "cell_type": "code",
   "execution_count": 15,
   "metadata": {},
   "outputs": [
    {
     "name": "stdout",
     "output_type": "stream",
     "text": [
      "                          precision    recall  f1-score   support\n",
      "\n",
      "             alt.atheism       0.85      0.76      0.80       319\n",
      "           comp.graphics       0.76      0.78      0.77       389\n",
      " comp.os.ms-windows.misc       0.72      0.69      0.71       394\n",
      "comp.sys.ibm.pc.hardware       0.65      0.72      0.68       392\n",
      "   comp.sys.mac.hardware       0.80      0.82      0.81       385\n",
      "          comp.windows.x       0.83      0.74      0.79       395\n",
      "            misc.forsale       0.73      0.84      0.79       390\n",
      "               rec.autos       0.90      0.88      0.89       396\n",
      "         rec.motorcycles       0.94      0.95      0.95       398\n",
      "      rec.sport.baseball       0.90      0.93      0.92       397\n",
      "        rec.sport.hockey       0.96      0.97      0.97       399\n",
      "               sci.crypt       0.93      0.93      0.93       396\n",
      "         sci.electronics       0.75      0.74      0.75       393\n",
      "                 sci.med       0.91      0.85      0.88       396\n",
      "               sci.space       0.89      0.92      0.91       394\n",
      "  soc.religion.christian       0.85      0.93      0.89       398\n",
      "      talk.politics.guns       0.76      0.90      0.82       364\n",
      "   talk.politics.mideast       0.98      0.88      0.92       376\n",
      "      talk.politics.misc       0.82      0.62      0.70       310\n",
      "      talk.religion.misc       0.72      0.67      0.70       251\n",
      "\n",
      "             avg / total       0.84      0.83      0.83      7532\n",
      "\n"
     ]
    }
   ],
   "source": [
    "from sklearn import metrics\n",
    "\n",
    "print(metrics.classification_report(test['target'], \n",
    "                                    predicted,\n",
    "                                    target_names = test['target_names']))"
   ]
  },
  {
   "cell_type": "markdown",
   "metadata": {},
   "source": [
    "-----\n",
    "\n",
    "[[Back to TOC]](#Table-of-Contents)\n",
    "\n",
    "\n",
    "### SVC with SGD\n",
    "\n",
    "We can use a [modified linear SVC][sgd] classifier that employs stochastic gradient descent to quantify the loss for each sample, which is used to update the classification model. Note for best results, we want our data to have zero mean and unit variance for this technique to optimally work. Since our text data do not have this, we should expect suboptimal results (or else try to normalize the data appropriately).\n",
    "\n",
    "-----\n",
    "[sgd]: http://scikit-learn.org/stable/modules/generated/sklearn.linear_model.SGDClassifier.html"
   ]
  },
  {
   "cell_type": "code",
   "execution_count": 16,
   "metadata": {},
   "outputs": [
    {
     "name": "stdout",
     "output_type": "stream",
     "text": [
      "SGD (TF-IDF with Stop Words) prediction accuracy =  85.1%\n"
     ]
    }
   ],
   "source": [
    "from sklearn.linear_model import SGDClassifier\n",
    "\n",
    "tools = [('tf', TfidfVectorizer()), ('sgd', SGDClassifier())]\n",
    "clf = Pipeline(tools)\n",
    "\n",
    "clf.set_params(tf__stop_words = 'english')\n",
    "\n",
    "clf = clf.fit(train['data'], train['target'])\n",
    "predicted = clf.predict(test['data'])\n",
    "\n",
    "scr = 100.0 * clf.score(test['data'], test['target'])\n",
    "print(f'SGD (TF-IDF with Stop Words) prediction accuracy = {scr:5.1f}%')"
   ]
  },
  {
   "cell_type": "markdown",
   "metadata": {},
   "source": [
    "-----\n",
    "\n",
    "[[Back to TOC]](#Table-of-Contents)\n",
    "\n",
    "### Logistic Regression\n",
    "\n",
    "[Logistic Regression][lrd] is typically employed on categorical variables, such as yes/no decision, or win/loss likelihoods. In the case of many labels, we can use the trick that logistic regression can quantify the likelihood a vector is in or out of a particular category. Thus, by computing this over all categories we can determine the best label for each test vector. [scikit_learn][sllr] provides an implementation that can be easily used for our classification problem.\n",
    "\n",
    "-----\n",
    "\n",
    "[lrd]: https://en.wikipedia.org/wiki/Logistic_regression\n",
    "[sllr]: http://scikit-learn.org/stable/modules/linear_model.html#logistic-regression"
   ]
  },
  {
   "cell_type": "code",
   "execution_count": 17,
   "metadata": {},
   "outputs": [
    {
     "name": "stdout",
     "output_type": "stream",
     "text": [
      "LR (TF-IDF with Stop Words) prediction accuracy =  84.9%\n"
     ]
    }
   ],
   "source": [
    "from sklearn.linear_model import LogisticRegression\n",
    "from sklearn.feature_extraction.text import TfidfTransformer\n",
    "\n",
    "clf = Pipeline([('vect', CountVectorizer(stop_words = 'english')),\n",
    "                ('tfidf', TfidfTransformer()),\n",
    "                ('lr', LogisticRegression(C=1000))])\n",
    "\n",
    "\n",
    "clf = clf.fit(train['data'], train['target'])\n",
    "predicted = clf.predict(test['data'])\n",
    "\n",
    "scr = 100.0 * clf.score(test['data'], test['target'])\n",
    "print(f'LR (TF-IDF with Stop Words) prediction accuracy = {scr:5.1f}%')"
   ]
  },
  {
   "cell_type": "markdown",
   "metadata": {},
   "source": [
    "-----\n",
    "\n",
    "<font color='red' size = '5'> Student Exercise </font>\n",
    "\n",
    "In the preceding cells, we introduced TF-IDF and demonstrated other, more powerful classification algorithms to this text classification problem. Now that you have run the notebook, go back and make the following changes to see how the results change.\n",
    "\n",
    "1. Try changing the following parameters to `CountVectorizer` or `TfidfVectorizer`: `lowercase`, `max_features`, `min_df` and `max_df`, and `norm`. How do these attributes affect the performance of the classification?\n",
    "\n",
    "2. When using `LogisticRegression`, we did not employ any regularization. Add a penalty term, `penalty='l1'` or `penalty='l2'` and run the classification pipeline. How does this change the results? How does this change the features identified by the algorithm?\n",
    "\n",
    "3. Add a grid search to the pipeline for one particular classification algorithm, for example, `SGDClassifier` to find the optimal set of parameter to achieve the highest accuracy."
   ]
  },
  {
   "cell_type": "markdown",
   "metadata": {},
   "source": [
    "-----\n",
    "\n",
    "[[Back to TOC]](#Table-of-Contents)\n",
    "\n",
    "\n",
    "## Sentiment Analysis\n",
    "\n",
    "We now turn to classification problem where the goal is to classify based on sentiment, negative or positive. We will approach this as a simple classification problem (note, one can do more sophisticated sentiment analysis based on the presence or absence of specific words). We first load our data. In this case, however, we employ the scikit learn data loading functionality to build training and testing data.\n",
    "\n",
    "-----"
   ]
  },
  {
   "cell_type": "code",
   "execution_count": 18,
   "metadata": {},
   "outputs": [
    {
     "name": "stdout",
     "output_type": "stream",
     "text": [
      "Number of Reviews: 2000\n"
     ]
    }
   ],
   "source": [
    "import nltk\n",
    "mvr = nltk.corpus.movie_reviews\n",
    "\n",
    "from sklearn.datasets import load_files\n",
    "\n",
    "data_dir = '/home/data_scientist/data/nltk_data/corpora/movie_reviews'\n",
    "mvr = load_files(data_dir, shuffle = False)\n",
    "print(f'Number of Reviews: {len(mvr.data)}')"
   ]
  },
  {
   "cell_type": "code",
   "execution_count": 19,
   "metadata": {
    "collapsed": true
   },
   "outputs": [],
   "source": [
    "from sklearn.model_selection import train_test_split\n",
    "\n",
    "mvr_train, mvr_test, y_train, y_test = train_test_split(\n",
    "    mvr.data, mvr.target, test_size=0.25, random_state=23)"
   ]
  },
  {
   "cell_type": "markdown",
   "metadata": {},
   "source": [
    "-----\n",
    "\n",
    "Now that the training and testing data have been loaded into the notebook, we can build a simple pipeline by using a `CountVectorizer` and `MultinomialNB` to build a document-term matrix and to perform a Naive Bayes classification. With this simple approach, we easily obtain reasonable results (over 80% accuracy). In the second Code cell, we display the top terms for each category.\n",
    "\n",
    "-----"
   ]
  },
  {
   "cell_type": "code",
   "execution_count": 20,
   "metadata": {},
   "outputs": [
    {
     "name": "stdout",
     "output_type": "stream",
     "text": [
      "             precision    recall  f1-score   support\n",
      "\n",
      "        neg       0.82      0.81      0.81       259\n",
      "        pos       0.80      0.80      0.80       241\n",
      "\n",
      "avg / total       0.81      0.81      0.81       500\n",
      "\n"
     ]
    }
   ],
   "source": [
    "# Build simple pipeline\n",
    "\n",
    "pipeline = Pipeline([\n",
    "    ('vect', CountVectorizer()),\n",
    "    ('clf', MultinomialNB()),\n",
    "])\n",
    "\n",
    "# Build DTM and classify data\n",
    "pipeline.fit(mvr_train, y_train)\n",
    "y_pred = pipeline.predict(mvr_test)\n",
    "print(metrics.classification_report(y_test, y_pred, \n",
    "                                    target_names = mvr.target_names))"
   ]
  },
  {
   "cell_type": "code",
   "execution_count": 21,
   "metadata": {},
   "outputs": [
    {
     "name": "stdout",
     "output_type": "stream",
     "text": [
      "Label: Features\n",
      "---------------------------------------------------------------------------\n",
      "neg  : be are movie on he his but film for this as with that it in is of to and the\n",
      "pos  : one by are on but this he for film his with as that it in is to of and the\n"
     ]
    }
   ],
   "source": [
    "# Display top terms per catgory.\n",
    "\n",
    "top_count = 20\n",
    "import numpy as np\n",
    "\n",
    "# Extract pipeline steps.\n",
    "nb = pipeline.steps[1][1]\n",
    "cv = pipeline.steps[0][1]\n",
    "features = cv.get_feature_names()\n",
    "\n",
    "print('Label: Features')\n",
    "print(75*'-')\n",
    "for idx, target in enumerate(mvr.target_names):\n",
    "    top_targets = np.argsort(nb.feature_log_prob_[idx])[-top_count:]\n",
    "    top_features = \" \".join(features[jdx] for jdx in top_targets)\n",
    "    print(f'{target:5s}: {top_features}')"
   ]
  },
  {
   "cell_type": "code",
   "execution_count": 22,
   "metadata": {
    "collapsed": true
   },
   "outputs": [],
   "source": [
    "#Clean up - removing the temporary directory we created at the beginning of the lesson\n",
    "!rm -rf $HOME/temp_w9l2"
   ]
  },
  {
   "cell_type": "markdown",
   "metadata": {},
   "source": [
    "-----\n",
    "\n",
    "<font color='red' size = '5'> Student Exercise </font>\n",
    "\n",
    "In the preceding cells, we used a simple pipeline to perform sentiment analysis. Now that you have run the notebook, go back and make the following changes to see how the results change.\n",
    "\n",
    "1. Use stop words in the `CountVectorizer`. How do the results, including the top terms, change?\n",
    "2. Change the vectorizer to TF-IDF. How do the results change (in particular the top terms)?\n",
    "3. Change the other TF-IDF parameters, such as `max_features` and `lowercase`. How do the results change (including the top terms)?\n",
    "4. Change the classifier to a more powerful algorithm. How do the results change (in particular the top terms)?\n",
    "\n",
    "Can you explain (feel free to use the class forums) why the classification algorithm performed in the  manner it did ?\n",
    "\n",
    "-----"
   ]
  },
  {
   "cell_type": "markdown",
   "metadata": {},
   "source": [
    "## Ancillary Information\n",
    "\n",
    "The following links are to additional documentation that you might find helpful in learning this material. Reading these web-accessible documents is completely optional.\n",
    "\n",
    "1. Overview of text mining in the [digital humanities][tudh]\n",
    "1. Wikipedia articles on [Text Mining][wtm] and [Stop Words][wsw]\n",
    "1. Gentle Introduction (in Python 2) to text analysis with Python, [part 3][nctap3]\n",
    "1. Blog on computing TF-IDF, [Part 1][btf1] and [Part II][btf2]\n",
    "1. Blog on Sentiment Analysis with NLTK, [Part 1][bsa1] and [Part II][bsa2]\n",
    "1. [Text classification][sktc] using scikit learn\n",
    "1. scikit learn documentation on [Text Feature Extraction][sktfe], sections 4.2.3.1 through 4.2.3.5\n",
    "1. Computing [Term Frequencies][ctf] in Python\n",
    "1. Sections 3, 4, and 5 from Chapter 6 of the free [NLTK version 3.0][nltk3-6] book\n",
    "\n",
    "-----\n",
    "\n",
    "[tudh]: http://tedunderwood.com/2015/06/04/seven-ways-humanists-are-using-computers-to-understand-text/\n",
    "[wtm]: https://en.wikipedia.org/wiki/Text_mining\n",
    "[wsw]: https://en.wikipedia.org/wiki/Stop_words\n",
    "\n",
    "\n",
    "[sktc]: http://scikit-learn.org/stable/tutorial/text_analytics/working_with_text_data.html\n",
    "[sktfe]: http://scikit-learn.org/stable/modules/feature_extraction.html#text-feature-extraction\n",
    "\n",
    "[btf1]: http://blog.christianperone.com/2011/09/machine-learning-text-feature-extraction-tf-idf-part-i/\n",
    "[btf2]: http://blog.christianperone.com/2011/10/machine-learning-text-feature-extraction-tf-idf-part-ii/\n",
    "\n",
    "[bsa1]: http://streamhacker.com/2010/05/10/text-classification-sentiment-analysis-naive-bayes-classifier/\n",
    "[bsa2]: http://streamhacker.com/2010/05/17/text-classification-sentiment-analysis-precision-recall/\n",
    "\n",
    "[ctf]: http://marcobonzanini.com/2015/03/17/mining-twitter-data-with-python-part-3-term-frequencies/\n",
    "\n",
    "\n",
    "[nctap3]: http://nealcaren.web.unc.edu/an-introduction-to-text-analysis-with-python-part-3/\n",
    "[nltk3-6]: http://www.nltk.org/book/ch06.html"
   ]
  },
  {
   "cell_type": "markdown",
   "metadata": {
    "deletable": false,
    "editable": false
   },
   "source": [
    "**&copy; 2017: Robert J. Brunner at the University of Illinois.**\n",
    "\n",
    "This notebook is released under the [Creative Commons license CC BY-NC-SA 4.0][ll]. Any reproduction, adaptation, distribution, dissemination or making available of this notebook for commercial use is not allowed unless authorized in writing by the copyright holder.\n",
    "\n",
    "[ll]: https://creativecommons.org/licenses/by-nc-sa/4.0/legalcode"
   ]
  }
 ],
 "metadata": {
  "kernelspec": {
   "display_name": "Python 3",
   "language": "python",
   "name": "python3"
  },
  "language_info": {
   "codemirror_mode": {
    "name": "ipython",
    "version": 3
   },
   "file_extension": ".py",
   "mimetype": "text/x-python",
   "name": "python",
   "nbconvert_exporter": "python",
   "pygments_lexer": "ipython3",
   "version": "3.6.1"
  }
 },
 "nbformat": 4,
 "nbformat_minor": 1
}
