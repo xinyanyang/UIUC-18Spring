{
 "cells": [
  {
   "cell_type": "markdown",
   "metadata": {
    "deletable": false,
    "editable": false,
    "nbgrader": {
     "checksum": "b8799469f5e6cdfe44d5cbf593867c51",
     "grade": false,
     "grade_id": "header",
     "locked": true,
     "schema_version": 1,
     "solution": false
    }
   },
   "source": [
    "# Week 9 Problem 2\n",
    "\n",
    "A few things you should keep in mind when working on assignments:\n",
    "\n",
    "1. Make sure you fill in any place that says `YOUR CODE HERE`. Do not write your answer in anywhere else other than where it says `YOUR CODE HERE`. Anything you write anywhere else will be removed or overwritten by the autograder.\n",
    "\n",
    "2. Before you submit your assignment, make sure everything runs as expected. Go to menubar, select *Kernel*, and restart the kernel and run all cells (*Restart & Run all*).\n",
    "\n",
    "3. Do not change the title (i.e. file name) of this notebook.\n",
    "\n",
    "4. Make sure that you save your work (in the menubar, select *File* → *Save and CheckPoint*)\n",
    "\n",
    "5. When you are ready to submit your assignment, go to *Dashboard* → *Assignments* and click the *Submit* button. Your work is not submitted until you click *Submit*.\n",
    "\n",
    "6. You are allowed to submit an assignment multiple times, but only the most recent submission will be graded.\n",
    "\n",
    "7. **If your code does not pass the unit tests, it will not pass the autograder.**"
   ]
  },
  {
   "cell_type": "markdown",
   "metadata": {
    "deletable": false,
    "editable": false,
    "nbgrader": {
     "checksum": "f85750f7fb93abf0d0482fc9c296d010",
     "grade": false,
     "grade_id": "due_date",
     "locked": true,
     "schema_version": 1,
     "solution": false
    }
   },
   "source": [
    "# Due Date: 6 PM, March 26, 2018"
   ]
  },
  {
   "cell_type": "markdown",
   "metadata": {},
   "source": [
    "## Author: Kelechi Ikegwu\n",
    "### Primary Reviewer: Apurv Garg"
   ]
  },
  {
   "cell_type": "code",
   "execution_count": 1,
   "metadata": {
    "collapsed": true,
    "deletable": false,
    "editable": false,
    "nbgrader": {
     "checksum": "9a2cd27b09eee7300e433990dda5009c",
     "grade": false,
     "grade_id": "import",
     "locked": true,
     "schema_version": 1,
     "solution": false
    }
   },
   "outputs": [],
   "source": [
    "\n",
    "from nose.tools import assert_equal, assert_true, assert_false, assert_almost_equal\n",
    "import numpy.testing as npt\n",
    "\n",
    "import sklearn as sk\n",
    "import numpy as np\n",
    "import scipy as sp\n",
    "\n",
    "from sklearn.datasets import fetch_20newsgroups\n",
    "from sklearn.feature_extraction.text import TfidfVectorizer\n",
    "from sklearn.metrics import classification_report, accuracy_score\n",
    "\n",
    "from sklearn.linear_model import LogisticRegression\n"
   ]
  },
  {
   "cell_type": "markdown",
   "metadata": {
    "deletable": false,
    "editable": false,
    "nbgrader": {
     "checksum": "7a4af2a99bd7cc4d888aaaa17275867d",
     "grade": false,
     "grade_id": "cell-ad4a719544d69065",
     "locked": true,
     "schema_version": 1,
     "solution": false
    }
   },
   "source": [
    "The cell below will create a subdirectory under home called newsgroup_data. *If you mess up Problem 2.1 or want to the delete the newsgroup_data directory run this code in a new cell.*  \n",
    "``` bash\n",
    "! rm -rf /home/data_scientist/newsgroups_data\n",
    "```"
   ]
  },
  {
   "cell_type": "code",
   "execution_count": 2,
   "metadata": {
    "deletable": false,
    "editable": false,
    "nbgrader": {
     "checksum": "dada499bf392a3c7444178d62d1f043b",
     "grade": false,
     "grade_id": "cell-9e7dad716666203a",
     "locked": true,
     "schema_version": 1,
     "solution": false
    }
   },
   "outputs": [
    {
     "name": "stdout",
     "output_type": "stream",
     "text": [
      "mkdir: cannot create directory ‘/home/data_scientist/newsgroups_data’: File exists\r\n"
     ]
    }
   ],
   "source": [
    "! mkdir ~/newsgroups_data\n",
    "HOME = '/home/data_scientist/newsgroups_data'"
   ]
  },
  {
   "cell_type": "markdown",
   "metadata": {
    "collapsed": true,
    "deletable": false,
    "editable": false,
    "nbgrader": {
     "checksum": "9749ddb9d2affa6d34b4bc771e452424",
     "grade": false,
     "grade_id": "2_1_desc",
     "locked": true,
     "schema_version": 1,
     "solution": false
    }
   },
   "source": [
    "### Problem 2.1\n",
    "Complete the function *fetch_groups* by using the [fetch_20newsgroups](http://scikit-learn.org/stable/modules/generated/sklearn.datasets.fetch_20newsgroups.html) function to download the data. Only select the categories that are passed into the function, set the download directory to be the data_path that is passed in, and set the random_state argument to be 999 where applicable. Use the fetch_20newsgroups  function to grab the testing and training data seperately. \n",
    "\n",
    "*Note: Leave all of the other arguments that are not mentioned in the problem description as the default value. If you don't complete this problem properly, you may fail test throughout the rest of this notebook.*"
   ]
  },
  {
   "cell_type": "code",
   "execution_count": 3,
   "metadata": {
    "collapsed": true,
    "deletable": false,
    "nbgrader": {
     "checksum": "2cf284fb4f44e28a05683181988f499f",
     "grade": false,
     "grade_id": "2_1_ans",
     "locked": false,
     "schema_version": 1,
     "solution": true
    }
   },
   "outputs": [],
   "source": [
    "def fetch_groups(_categories, data_path):\n",
    "    '''\n",
    "    Parameters\n",
    "    ----------\n",
    "    data_path: string containing path to a directory to store 20 news_group data\n",
    "    _categoires: list containing categories to select from the 20 newsgroup text dataset\n",
    "    \n",
    "    Returns\n",
    "    -------\n",
    "    training data of type sklearn.datasets.base.Bunch\n",
    "    testing data of type sklearn.datasets.base.Bunch\n",
    "    '''\n",
    "    # YOUR CODE HERE\n",
    "    \n",
    "    # Split into training and testing\n",
    "    train = fetch_20newsgroups(data_home=data_path, subset='train', categories=_categories, random_state=999)\n",
    "    test = fetch_20newsgroups(data_home=data_path, subset='test', categories=_categories, random_state=999)\n",
    "\n",
    "    return train, test\n",
    "    "
   ]
  },
  {
   "cell_type": "code",
   "execution_count": 4,
   "metadata": {
    "deletable": false,
    "editable": false,
    "nbgrader": {
     "checksum": "ab3b3d3ad7f006be371405de779391ee",
     "grade": true,
     "grade_id": "2_1_test",
     "locked": true,
     "points": 10,
     "schema_version": 1,
     "solution": false
    }
   },
   "outputs": [
    {
     "name": "stderr",
     "output_type": "stream",
     "text": [
      "Downloading dataset from http://people.csail.mit.edu/jrennie/20Newsgroups/20news-bydate.tar.gz (14 MB)\n"
     ]
    }
   ],
   "source": [
    "train1, test1 = fetch_groups(['alt.atheism', 'comp.graphics', 'comp.os.ms-windows.misc', 'comp.sys.ibm.pc.hardware',\n",
    "      'comp.sys.mac.hardware', 'comp.windows.x'], HOME)\n",
    "\n",
    "assert_true(isinstance(train1, sk.datasets.base.Bunch))\n",
    "assert_true(isinstance(test1, sk.datasets.base.Bunch))\n",
    "\n",
    "assert_true(set(train1.target_names) == {'comp.sys.ibm.pc.hardware', 'alt.atheism', 'comp.windows.x', 'comp.graphics', 'comp.os.ms-windows.misc', 'comp.sys.mac.hardware'})\n",
    "\n",
    "# testing a few slices to make sure random_state argument was set to 999\n",
    "npt.assert_array_equal(train1.target[0:10], [3, 3, 4, 1, 0, 5, 0, 5, 0, 5])\n",
    "npt.assert_array_equal(train1.target[150:160], [5, 2, 5, 5, 5, 1, 5, 0, 2, 3])\n",
    "npt.assert_array_equal(train1.target[3140:3160], [0, 1, 1, 3, 4, 5, 2, 3, 5, 4, 5, 2, 4, 1, 0, 4, 3, 1, 5, 5])\n",
    "\n",
    "train2, test2 = fetch_groups(['comp.os.ms-windows.misc', 'comp.sys.mac.hardware', 'comp.windows.x', 'misc.forsale', 'rec.autos',\n",
    "                              'talk.politics.guns', 'talk.politics.mideast', 'talk.politics.misc', 'talk.religion.misc'], HOME)\n",
    "assert_true(isinstance(train2, sk.datasets.base.Bunch))\n",
    "assert_true(isinstance(test2, sk.datasets.base.Bunch))\n",
    "assert_true(set(train2.target_names) == {'talk.politics.guns', 'comp.sys.mac.hardware', 'comp.os.ms-windows.misc', 'misc.forsale', 'talk.politics.misc', 'talk.religion.misc', 'talk.politics.mideast', 'rec.autos', 'comp.windows.x'})\n",
    "npt.assert_array_equal(train2.target[0:10], [6, 7, 5, 5, 0, 8, 1, 4, 4, 4])\n",
    "npt.assert_array_equal(train2.target[150:160], [6, 4, 2, 6, 8, 1, 8, 0, 6, 2])\n",
    "npt.assert_array_equal(train2.target[3140:3160], [3, 4, 3, 2, 8, 1, 8, 4, 2, 8, 3, 5, 5, 0, 4, 0, 6, 4, 0, 5])"
   ]
  },
  {
   "cell_type": "markdown",
   "metadata": {
    "deletable": false,
    "editable": false,
    "nbgrader": {
     "checksum": "21a31019b225c2cf245796f4a6fa4d97",
     "grade": false,
     "grade_id": "2_2_desc",
     "locked": true,
     "schema_version": 1,
     "solution": false
    }
   },
   "source": [
    "### Problem 2.2\n",
    "Complete the function *transformf* by learning the vocabulary and idf with a [tfidfVectorizer](http://scikit-learn.org/stable/modules/generated/sklearn.feature_extraction.text.TfidfVectorizer.html) from the training set and transforming the training and testing raw data to a term-document matrix. Use english stop words. \n",
    "\n",
    "*Note: Leave all of the other arguments that are not mentioned in the problem description as the default value.*"
   ]
  },
  {
   "cell_type": "code",
   "execution_count": 5,
   "metadata": {
    "collapsed": true,
    "deletable": false,
    "nbgrader": {
     "checksum": "811e6ecbcc3d8ca61ac27e0ef1d5d508",
     "grade": false,
     "grade_id": "2_2_ans",
     "locked": false,
     "schema_version": 1,
     "solution": true
    }
   },
   "outputs": [],
   "source": [
    "def transformf(train, test):\n",
    "    '''\n",
    "    Parameters\n",
    "    ----------\n",
    "    train: string containing path to a directory to store 20 news_group data\n",
    "    test: list containing categories to select from the 20 newsgroup text dataset\n",
    "    \n",
    "    Returns\n",
    "    -------\n",
    "    term-document matrix containing training data (scipy.sparse.csr.csr_matrix)\n",
    "    term-document matrix containing testing data (scipy.sparse.csr.csr_matrix)\n",
    "    '''\n",
    "    # YOUR CODE HERE\n",
    "    clf = TfidfVectorizer(stop_words='english')\n",
    "    trn = clf.fit_transform(train['data'])\n",
    "    tst = clf.transform(test['data'])\n",
    "    \n",
    "    return trn, tst"
   ]
  },
  {
   "cell_type": "code",
   "execution_count": 6,
   "metadata": {
    "collapsed": true,
    "deletable": false,
    "editable": false,
    "nbgrader": {
     "checksum": "4614dffd76b27796b546f5515fcca82d",
     "grade": true,
     "grade_id": "2_2_test",
     "locked": true,
     "points": 10,
     "schema_version": 1,
     "solution": false
    }
   },
   "outputs": [],
   "source": [
    "X_train1, X_test1 = transformf(train1, test1)\n",
    "assert_true(isinstance(X_train1, sp.sparse.csr.csr_matrix))\n",
    "assert_true(isinstance(X_test1, sp.sparse.csr.csr_matrix))\n",
    "\n",
    "assert_equal(X_train1.shape, (3416, 72028))\n",
    "assert_equal(X_test1.shape, (2274, 72028))\n",
    "\n",
    "# Checking First 10 non zero elements\n",
    "row1, col1 = X_train1.nonzero()\n",
    "npt.assert_array_equal(row1[0:10], [0, 0, 0, 0, 0, 0, 0, 0, 0, 0])\n",
    "npt.assert_array_equal(col1[0:10], [49381, 16600, 28639, 58287, 22819, 24968, 60567, 50790, 57817, 20979])\n",
    "\n",
    "assert_almost_equal(X_train1[0, 49381], 0.3571 , places=2)\n",
    "assert_almost_equal(X_train1[0, 16600], 0.0997 , places=2)\n",
    "assert_almost_equal(X_train1[0, 28639], 0.0919 , places=2)\n",
    "assert_almost_equal(X_train1[0, 58287], 0.1729 , places=2)\n",
    "assert_almost_equal(X_train1[0, 22819], 0.1065 , places=2)\n",
    "assert_almost_equal(X_train1[0, 24968], 0.1238 , places=2)\n",
    "assert_almost_equal(X_train1[0, 60567], 0.0132 , places=2)\n",
    "assert_almost_equal(X_train1[0, 50790], 0.0644 , places=2)\n",
    "assert_almost_equal(X_train1[0, 57817], 0.2152 , places=2)\n",
    "assert_almost_equal(X_train1[0, 20979], 0.2614 , places=2)\n",
    "\n",
    "X_train2, X_test2 = transformf(train2, test2)\n",
    "assert_true(isinstance(X_train2, sp.sparse.csr.csr_matrix))\n",
    "assert_true(isinstance(X_test2, sp.sparse.csr.csr_matrix))\n",
    "\n",
    "assert_equal(X_train2.shape, (4893, 89431))\n",
    "assert_equal(X_test2.shape, (3261, 89431))\n",
    "\n",
    "# Checking First 10 non zero elements\n",
    "row2, col2 = X_train2.nonzero()\n",
    "npt.assert_array_equal(row2[0:10], [0, 0, 0, 0, 0, 0, 0, 0, 0, 0])\n",
    "npt.assert_array_equal(col2[0:10], [46837, 23317, 23316, 27666, 51361, 75627, 46243, 77587, 61529, 31139])\n",
    "\n",
    "assert_almost_equal(X_train2[0, 46837], 0.324 , places=2)\n",
    "assert_almost_equal(X_train2[0, 23317], 0.1644 , places=2)\n",
    "assert_almost_equal(X_train2[0, 23316], 0.1644 , places=2)\n",
    "assert_almost_equal(X_train2[0, 27666], 0.0506 , places=2)\n",
    "assert_almost_equal(X_train2[0, 51361], 0.1644 , places=2)\n",
    "assert_almost_equal(X_train2[0, 75627], 0.0137 , places=2)\n",
    "assert_almost_equal(X_train2[0, 46243], 0.1701 , places=2)\n",
    "assert_almost_equal(X_train2[0, 77587], 0.0727 , places=2)\n",
    "assert_almost_equal(X_train2[0, 61529], 0.0143 , places=2)\n",
    "assert_almost_equal(X_train2[0, 31139], 0.1041 , places=2)"
   ]
  },
  {
   "cell_type": "markdown",
   "metadata": {
    "deletable": false,
    "editable": false,
    "nbgrader": {
     "checksum": "defb31d99c188ee6eb1355f629defa3b",
     "grade": false,
     "grade_id": "2_3_desc",
     "locked": true,
     "schema_version": 1,
     "solution": false
    }
   },
   "source": [
    "### Problem 2.3\n",
    "\n",
    "Complete the function *predictions* by using the estimator *model* from the function header. Fit the model on the training features and labels. Predict the class labels with the testing features and return the predictions.\n",
    "\n",
    "*Note: You are not creating a new estimator. Leave all of the other arguments that are not mentioned in the problem description as the default value.*"
   ]
  },
  {
   "cell_type": "code",
   "execution_count": 9,
   "metadata": {
    "collapsed": true,
    "deletable": false,
    "nbgrader": {
     "checksum": "ea7b77d094dd1862bbc0f94aebeaf1b2",
     "grade": false,
     "grade_id": "2_3_ans",
     "locked": false,
     "schema_version": 1,
     "solution": true
    }
   },
   "outputs": [],
   "source": [
    "def predictions(model, _X_train, _X_test, _train_data):\n",
    "    '''\n",
    "    Parameters\n",
    "    ----------\n",
    "    model: Logistic Regression sklearn estimator\n",
    "    _X_train: term-document matrix containing training data (scipy.sparse.csr.csr_matrix) From Problem 2.2\n",
    "    _X_test: term-document matrix containing testing data (scipy.sparse.csr.csr_matrix) From Problem 2.2\n",
    "    _train_data: list containing categories to select from the 20 newsgroup text dataset From Problem 2.1\n",
    "    \n",
    "    Returns\n",
    "    -------\n",
    "    Predictions in an numpy array\n",
    "    '''\n",
    "    # YOUR CODE HERE\n",
    "\n",
    "    clf = model.fit(_X_train, _train_data['target'])\n",
    "\n",
    "    # Predict and display score\n",
    "    predicted = clf.predict(_X_test)\n",
    "    \n",
    "    return predicted"
   ]
  },
  {
   "cell_type": "code",
   "execution_count": 10,
   "metadata": {
    "collapsed": true,
    "deletable": false,
    "editable": false,
    "nbgrader": {
     "checksum": "1ddd45e710a40e9e904f9208cde4eac5",
     "grade": true,
     "grade_id": "2_3_tests",
     "locked": true,
     "points": 10,
     "schema_version": 1,
     "solution": false
    }
   },
   "outputs": [],
   "source": [
    "pred1 = predictions(LogisticRegression(random_state=999), X_train1, X_test1, train1)\n",
    "assert_true(isinstance(pred1, np.ndarray))\n",
    "\n",
    "# Checking the predictions against the solution\n",
    "npt.assert_equal(pred1, [3, 3, 5, 3, 2, 0, 4, 5, 3, 3, 1, 1, 3, 4, 2, 0, 3, 2, 3, 5, 1, 2, 2, 3, 2, 3, 3, 2, 3, 0, 5, 1, 1, 5, 4, 4, 0, 0, 1, 5, 2, 1, 3, 1, 4, 4, 0, 1, 2, 0, 2, 5, 5, 3, 3, 3, 1, 1, 2, 4, 0, 1, 3, 5, 3, 5, 4, 0, 4, 1, 4, 3, 1, 3, 5, 3, 1, 2, 4, 1, 3, 0, 4, 0, 3, 4, 0, 0, 5, 5, 3, 0, 1, 2, 4, 2, 4, 4, 1, 5, 0, 1, 3, 2, 2, 0, 4, 3, 0, 4, 2, 4, 3, 4, 1, 4, 5, 0, 3, 2, 0, 1, 4, 5, 0, 3, 4, 3, 2, 3, 1, 4, 5, 3, 4, 0, 0, 3, 0, 0, 0, 4, 1, 1, 0, 5, 5, 4, 1, 2, 4, 4, 1, 1, 2, 5, 5, 5, 0, 1, 1, 1, 3, 1, 3, 0, 0, 5, 1, 1, 1, 2, 4, 4, 2, 3, 2, 4, 5, 0, 5, 0, 4, 0, 2, 5, 5, 1, 5, 4, 4, 3, 3, 2, 3, 1, 4, 5, 2, 4, 0, 3, 4, 0, 4, 3, 3, 0, 2, 4, 0, 3, 3, 0, 4, 2, 2, 4, 3, 5, 5, 5, 4, 3, 4, 4, 2, 2, 2, 4, 1, 0, 5, 5, 2, 5, 0, 1, 5, 1, 1, 5, 0, 3, 1, 3, 0, 2, 5, 2, 4, 4, 5, 2, 5, 1, 3, 3, 0, 5, 1, 5, 2, 4, 3, 2, 0, 1, 4, 4, 5, 3, 3, 3, 1, 2, 3, 5, 1, 5, 3, 0, 5, 1, 0, 5, 3, 4, 0, 4, 3, 2, 0, 0, 1, 1, 4, 3, 5, 3, 3, 0, 0, 0, 2, 0, 3, 5, 3, 0, 3, 1, 4, 3, 0, 4, 5, 1, 2, 0, 2, 1, 5, 2, 2, 4, 0, 2, 4, 0, 4, 3, 3, 4, 5, 4, 4, 2, 5, 5, 2, 2, 3, 4, 1, 1, 2, 3, 0, 3, 0, 5, 4, 0, 4, 5, 2, 0, 1, 2, 3, 3, 3, 2, 4, 5, 3, 0, 0, 2, 2, 4, 3, 1, 1, 1, 2, 4, 4, 5, 1, 4, 5, 4, 5, 4, 2, 4, 4, 1, 4, 3, 4, 3, 2, 1, 2, 4, 1, 1, 5, 4, 3, 0, 3, 4, 5, 4, 0, 5, 2, 0, 1, 5, 4, 1, 5, 4, 5, 2, 2, 2, 1, 4, 3, 2, 3, 0, 3, 4, 1, 2, 2, 5, 4, 1, 2, 4, 3, 3, 1, 2, 5, 5, 2, 5, 5, 2, 4, 2, 3, 2, 0, 4, 1, 3, 2, 5, 1, 2, 4, 4, 3, 4, 1, 3, 0, 3, 3, 2, 4, 3, 1, 4, 5, 3, 0, 3, 5, 0, 5, 5, 5, 1, 1, 3, 5, 5, 4, 2, 2, 5, 4, 4, 1, 5, 3, 3, 1, 1, 3, 3, 2, 1, 1, 4, 5, 2, 0, 3, 0, 3, 2, 2, 1, 4, 4, 1, 0, 0, 0, 1, 5, 4, 2, 5, 0, 4, 1, 0, 0, 5, 5, 4, 5, 1, 0, 2, 5, 3, 4, 1, 2, 2, 0, 1, 0, 1, 0, 4, 1, 4, 5, 4, 0, 5, 2, 1, 2, 5, 2, 3, 0, 0, 4, 5, 3, 2, 0, 5, 3, 1, 3, 2, 3, 4, 1, 0, 2, 4, 1, 5, 2, 2, 0, 1, 5, 3, 2, 5, 1, 5, 1, 1, 5, 1, 5, 5, 1, 0, 1, 0, 4, 1, 0, 3, 3, 0, 2, 3, 5, 3, 2, 1, 2, 4, 3, 2, 5, 1, 3, 3, 0, 1, 4, 3, 5, 3, 2, 0, 2, 0, 5, 5, 3, 2, 4, 0, 5, 4, 2, 3, 4, 3, 5, 4, 1, 3, 5, 4, 4, 1, 1, 0, 1, 2, 3, 1, 0, 5, 4, 3, 2, 3, 3, 5, 1, 4, 3, 5, 1, 2, 1, 1, 4, 5, 2, 4, 4, 5, 0, 4, 2, 1, 3, 2, 3, 0, 5, 3, 1, 2, 0, 3, 5, 0, 1, 0, 2, 4, 3, 1, 2, 5, 3, 0, 4, 3, 2, 3, 2, 1, 5, 1, 4, 0, 3, 5, 0, 4, 5, 3, 0, 5, 5, 2, 1, 2, 5, 1, 3, 4, 2, 3, 5, 3, 5, 3, 5, 4, 1, 4, 5, 3, 4, 0, 4, 2, 4, 0, 4, 4, 1, 0, 1, 1, 1, 4, 4, 1, 2, 3, 3, 2, 1, 4, 4, 1, 2, 1, 1, 2, 2, 2, 4, 0, 2, 5, 0, 5, 4, 3, 0, 3, 1, 5, 2, 3, 1, 5, 4, 5, 1, 1, 1, 5, 2, 3, 5, 2, 5, 0, 0, 5, 0, 5, 5, 2, 5, 2, 5, 3, 4, 0, 1, 4, 3, 2, 1, 5, 1, 1, 4, 1, 3, 2, 2, 5, 1, 5, 1, 2, 3, 0, 4, 0, 5, 5, 1, 2, 4, 3, 3, 0, 0, 2, 0, 5, 1, 3, 0, 2, 2, 1, 4, 0, 1, 5, 4, 3, 1, 5, 1, 3, 1, 5, 5, 4, 2, 2, 1, 3, 0, 1, 4, 1, 1, 0, 5, 2, 4, 1, 0, 4, 3, 4, 5, 2, 3, 1, 5, 1, 2, 1, 2, 3, 3, 2, 2, 2, 0, 0, 3, 2, 2, 4, 3, 1, 3, 3, 4, 4, 2, 3, 0, 3, 4, 4, 2, 2, 1, 2, 2, 5, 5, 0, 4, 3, 4, 3, 4, 3, 1, 4, 1, 1, 3, 1, 0, 3, 2, 5, 5, 0, 2, 4, 2, 1, 1, 1, 1, 3, 2, 2, 4, 3, 2, 5, 5, 1, 5, 5, 2, 1, 3, 5, 0, 3, 5, 2, 3, 5, 2, 3, 0, 2, 4, 4, 0, 1, 1, 2, 2, 1, 0, 2, 3, 2, 3, 5, 4, 1, 0, 3, 0, 0, 1, 4, 4, 5, 1, 1, 4, 1, 0, 1, 2, 1, 0, 0, 2, 2, 0, 5, 0, 5, 3, 2, 4, 1, 2, 3, 3, 2, 2, 3, 1, 5, 0, 1, 1, 3, 1, 4, 3, 5, 4, 5, 4, 3, 5, 4, 4, 4, 4, 4, 5, 3, 5, 5, 3, 5, 5, 1, 5, 0, 3, 2, 2, 3, 0, 5, 5, 4, 5, 1, 1, 4, 5, 1, 2, 2, 0, 3, 0, 0, 0, 1, 0, 2, 4, 5, 1, 1, 2, 4, 0, 2, 0, 3, 2, 5, 3, 1, 3, 0, 5, 0, 4, 5, 0, 3, 3, 4, 1, 5, 2, 2, 1, 4, 2, 5, 0, 3, 0, 2, 2, 5, 2, 5, 0, 2, 4, 3, 2, 0, 3, 2, 4, 0, 4, 1, 5, 2, 3, 1, 5, 0, 4, 2, 4, 5, 3, 2, 1, 1, 0, 5, 5, 3, 1, 3, 1, 1, 4, 0, 2, 5, 3, 5, 3, 2, 5, 5, 4, 0, 1, 0, 4, 4, 3, 2, 3, 3, 4, 5, 3, 2, 2, 3, 1, 4, 0, 2, 4, 1, 0, 1, 4, 1, 5, 4, 4, 0, 2, 1, 4, 5, 4, 0, 2, 1, 0, 2, 1, 4, 2, 3, 1, 3, 1, 4, 5, 1, 3, 4, 0, 3, 3, 0, 5, 1, 0, 0, 1, 5, 1, 1, 2, 2, 2, 5, 5, 1, 4, 3, 1, 3, 1, 5, 5, 1, 4, 1, 4, 2, 1, 2, 2, 2, 2, 5, 3, 3, 2, 1, 2, 1, 5, 5, 1, 0, 2, 5, 1, 0, 4, 4, 5, 1, 4, 1, 3, 5, 4, 1, 1, 0, 1, 1, 5, 1, 2, 5, 4, 1, 4, 4, 5, 4, 2, 2, 0, 0, 3, 2, 0, 0, 3, 0, 2, 2, 4, 2, 3, 0, 1, 5, 4, 1, 2, 5, 1, 3, 5, 2, 3, 1, 4, 2, 3, 1, 1, 0, 2, 4, 1, 2, 5, 2, 3, 2, 0, 1, 5, 3, 3, 1, 1, 1, 3, 2, 0, 2, 1, 1, 0, 1, 5, 0, 2, 3, 1, 5, 2, 2, 3, 0, 2, 0, 4, 3, 3, 5, 5, 0, 4, 5, 0, 1, 5, 1, 3, 4, 2, 0, 0, 3, 2, 4, 3, 2, 4, 3, 4, 3, 3, 4, 3, 3, 3, 4, 2, 3, 3, 5, 1, 0, 3, 5, 1, 1, 1, 5, 3, 5, 4, 2, 2, 2, 0, 3, 4, 4, 5, 2, 1, 2, 3, 0, 5, 2, 1, 1, 3, 0, 4, 4, 4, 4, 0, 3, 4, 3, 3, 3, 3, 3, 1, 3, 3, 3, 1, 2, 1, 4, 2, 1, 3, 2, 1, 3, 0, 2, 1, 1, 5, 5, 5, 1, 5, 0, 0, 3, 4, 5, 4, 5, 4, 1, 2, 1, 4, 1, 5, 0, 2, 5, 1, 3, 3, 0, 4, 2, 5, 5, 4, 4, 3, 1, 1, 1, 4, 1, 4, 0, 2, 4, 3, 2, 1, 5, 0, 2, 1, 0, 4, 3, 3, 5, 1, 1, 0, 2, 3, 1, 5, 4, 4, 3, 1, 5, 2, 4, 1, 2, 3, 3, 0, 5, 2, 3, 2, 2, 4, 5, 4, 2, 1, 1, 5, 1, 1, 4, 4, 4, 2, 5, 5, 0, 5, 3, 5, 1, 2, 3, 4, 4, 4, 1, 2, 5, 3, 4, 2, 3, 4, 5, 1, 4, 0, 0, 2, 4, 4, 4, 0, 1, 1, 2, 5, 4, 2, 1, 3, 3, 3, 1, 2, 5, 3, 1, 5, 0, 1, 2, 1, 1, 4, 1, 0, 1, 4, 2, 1, 4, 3, 1, 2, 3, 1, 2, 3, 5, 2, 0, 0, 5, 2, 2, 3, 1, 0, 3, 4, 0, 3, 4, 4, 4, 2, 4, 5, 0, 4, 1, 3, 1, 4, 2, 1, 0, 1, 2, 3, 4, 5, 3, 2, 0, 4, 4, 1, 3, 3, 0, 3, 3, 0, 3, 1, 4, 0, 4, 1, 0, 4, 0, 1, 0, 3, 1, 4, 3, 4, 3, 5, 3, 4, 1, 0, 3, 5, 3, 2, 5, 1, 5, 2, 5, 2, 1, 2, 1, 4, 0, 4, 2, 1, 0, 4, 4, 5, 1, 1, 4, 1, 5, 0, 2, 0, 3, 3, 0, 4, 4, 1, 4, 3, 4, 4, 3, 4, 0, 1, 4, 5, 5, 5, 0, 1, 3, 1, 1, 3, 4, 4, 1, 5, 2, 4, 3, 1, 4, 1, 1, 0, 2, 2, 4, 0, 0, 1, 3, 3, 2, 1, 5, 3, 5, 4, 2, 3, 3, 1, 1, 2, 5, 2, 3, 2, 4, 5, 1, 4, 2, 4, 2, 2, 0, 3, 5, 0, 1, 0, 2, 2, 0, 3, 2, 1, 1, 1, 3, 5, 2, 0, 5, 0, 3, 2, 2, 1, 2, 0, 0, 1, 3, 4, 5, 4, 3, 4, 4, 2, 4, 1, 1, 3, 0, 0, 1, 2, 2, 5, 2, 1, 2, 4, 3, 5, 0, 3, 2, 5, 1, 2, 4, 2, 0, 0, 5, 2, 4, 0, 2, 1, 5, 3, 5, 3, 4, 1, 1, 3, 2, 2, 0, 1, 4, 4, 5, 0, 0, 4, 4, 1, 5, 4, 4, 0, 4, 1, 4, 2, 3, 4, 0, 2, 4, 0, 0, 1, 2, 2, 0, 4, 1, 1, 0, 1, 5, 5, 1, 2, 3, 4, 3, 4, 4, 2, 0, 3, 2, 2, 3, 0, 5, 5, 4, 2, 3, 4, 2, 1, 0, 5, 4, 1, 3, 2, 3, 1, 1, 1, 1, 3, 1, 0, 1, 2, 5, 3, 0, 4, 1, 1, 1, 5, 5, 2, 4, 3, 1, 4, 2, 4, 4, 4, 2, 4, 5, 4, 0, 1, 2, 5, 2, 4, 0, 3, 1, 5, 0, 1, 3, 3, 1, 4, 1, 3, 0, 4, 2, 3, 5, 4, 3, 2, 4, 2, 0, 1, 0, 0, 1, 4, 1, 2, 1, 1, 2, 3, 1, 1, 1, 2, 2, 5, 4, 0, 3, 4, 5, 4, 3, 5, 2, 5, 2, 4, 2, 3, 0, 1, 2, 5, 2, 2, 2, 0, 0, 1, 1, 0, 2, 1, 5, 2, 1, 1, 2, 0, 2, 5, 1, 1, 1, 3, 4, 1, 0, 5, 3, 3, 4, 4, 4, 4, 1, 3, 0, 5, 2, 3, 3, 3, 5, 0, 5, 5, 1, 4, 5, 5, 1, 3, 2, 4, 4, 5, 3, 5, 0, 2, 5, 1, 2, 3, 2, 4, 2, 5, 4, 1, 3, 3, 5, 4, 3, 5, 1, 2, 0, 4, 3, 3, 5, 5, 4, 5, 4, 2, 2, 3, 1, 1, 2, 4, 0, 4, 2, 3, 4, 0, 3, 3, 4, 5, 2, 4, 1, 5, 4, 3, 4, 0, 4, 3, 3, 4, 2, 4, 3, 1, 1, 0, 2, 3, 2, 0, 2, 0, 5, 4, 1, 4, 3, 4, 1, 5, 0, 0, 1, 2, 0, 0, 2, 4, 1, 2, 4, 4, 5, 5, 0, 2, 3, 1, 2, 4, 3, 3, 4, 1, 0, 2, 0, 4, 2, 5, 1, 3, 4, 5, 2, 0, 4, 2, 1, 1, 0, 5, 3, 5, 0, 3, 2, 0, 1, 3, 4, 4, 4, 0, 5, 3, 2, 4, 2, 2, 3, 5, 5, 4, 5, 2, 5, 0, 1, 5, 1, 2, 4, 2, 3, 2, 2, 1, 3, 1, 1, 1, 5, 1, 1, 4, 2, 3, 0, 0, 3, 1, 5, 2, 5, 1, 5, 2, 2, 4, 3, 3, 0, 3, 4, 2, 2, 3, 0, 1, 4, 2, 5, 1, 5, 5, 1, 0, 2, 2, 3, 3, 0])\n",
    "\n",
    "pred2 = predictions(LogisticRegression(random_state=999), X_train2, X_test2, train2)\n",
    "assert_true(isinstance(pred2, np.ndarray))\n",
    "\n",
    "# Checking the predictions against the solution\n",
    "npt.assert_equal(pred2, [0, 1, 2, 6, 3, 0, 2, 0, 1, 1, 3, 0, 5, 2, 5, 7, 1, 1, 2, 3, 5, 3, 5, 5, 4, 4, 2, 1, 8, 5, 5, 5, 5, 4, 8, 0, 6, 0, 3, 8, 3, 7, 6, 2, 7, 6, 0, 1, 0, 7, 2, 5, 4, 4, 0, 4, 3, 7, 3, 8, 4, 7, 4, 5, 6, 7, 2, 4, 5, 2, 4, 4, 6, 0, 5, 8, 0, 3, 5, 5, 6, 5, 8, 3, 2, 6, 1, 0, 1, 3, 4, 1, 0, 0, 0, 1, 2, 3, 6, 2, 1, 1, 5, 3, 1, 3, 1, 0, 5, 3, 6, 4, 0, 4, 7, 6, 3, 8, 0, 1, 4, 4, 3, 5, 3, 0, 6, 0, 4, 5, 2, 3, 7, 4, 6, 1, 0, 0, 0, 4, 7, 4, 3, 4, 4, 3, 0, 5, 1, 8, 1, 0, 4, 3, 0, 2, 5, 3, 1, 4, 1, 5, 8, 4, 4, 0, 3, 1, 2, 1, 1, 3, 0, 4, 0, 4, 3, 3, 2, 0, 6, 1, 2, 0, 6, 3, 4, 2, 3, 0, 0, 6, 7, 5, 4, 6, 6, 7, 1, 6, 5, 0, 0, 0, 5, 1, 4, 4, 7, 5, 6, 6, 3, 1, 6, 0, 4, 1, 2, 4, 2, 0, 6, 6, 6, 5, 6, 2, 5, 0, 3, 0, 2, 6, 7, 4, 8, 1, 6, 5, 2, 1, 5, 3, 1, 4, 3, 5, 8, 0, 4, 1, 3, 5, 2, 6, 0, 5, 4, 6, 2, 2, 5, 3, 8, 7, 6, 2, 1, 5, 2, 7, 1, 5, 4, 0, 0, 3, 1, 2, 8, 7, 6, 0, 3, 8, 1, 1, 0, 6, 4, 0, 5, 7, 4, 0, 4, 6, 2, 7, 1, 5, 6, 7, 2, 0, 5, 5, 2, 0, 0, 5, 5, 7, 2, 4, 3, 3, 8, 5, 7, 5, 3, 2, 6, 3, 3, 5, 3, 0, 3, 2, 8, 8, 5, 2, 2, 1, 1, 1, 1, 6, 5, 3, 6, 4, 1, 1, 5, 0, 0, 3, 3, 3, 7, 0, 2, 2, 3, 1, 3, 8, 6, 7, 5, 2, 4, 8, 7, 5, 7, 1, 8, 0, 0, 8, 4, 0, 0, 1, 6, 7, 2, 1, 6, 3, 1, 7, 8, 3, 6, 1, 3, 1, 1, 4, 6, 2, 7, 0, 1, 6, 0, 7, 4, 0, 6, 8, 3, 5, 1, 0, 5, 4, 5, 1, 1, 3, 6, 6, 5, 3, 4, 4, 5, 6, 5, 5, 4, 0, 7, 3, 0, 4, 5, 0, 0, 7, 1, 0, 6, 7, 4, 3, 6, 5, 3, 8, 0, 5, 3, 6, 5, 4, 8, 2, 5, 4, 0, 3, 3, 1, 6, 3, 8, 7, 2, 3, 7, 1, 8, 6, 6, 8, 5, 4, 1, 3, 6, 8, 6, 5, 1, 0, 0, 1, 2, 5, 0, 2, 1, 1, 8, 3, 5, 1, 2, 2, 2, 3, 1, 5, 3, 0, 3, 5, 8, 7, 3, 7, 4, 5, 0, 4, 3, 1, 5, 2, 0, 4, 4, 3, 3, 6, 4, 8, 6, 0, 7, 5, 4, 5, 6, 4, 1, 1, 5, 5, 2, 8, 2, 2, 5, 2, 4, 6, 0, 4, 0, 6, 7, 3, 5, 6, 2, 3, 1, 1, 5, 4, 8, 5, 3, 5, 3, 8, 0, 5, 2, 2, 6, 0, 4, 4, 2, 5, 2, 3, 5, 6, 5, 5, 0, 2, 3, 4, 0, 3, 2, 5, 1, 4, 1, 1, 0, 0, 7, 3, 8, 3, 3, 1, 6, 4, 5, 6, 2, 5, 1, 5, 7, 4, 6, 4, 4, 0, 7, 3, 8, 4, 0, 4, 8, 0, 3, 2, 0, 4, 6, 2, 4, 5, 1, 7, 4, 1, 7, 6, 6, 6, 3, 7, 3, 0, 5, 4, 3, 7, 3, 1, 2, 5, 0, 4, 7, 1, 6, 0, 6, 8, 6, 5, 4, 8, 2, 5, 2, 6, 7, 6, 4, 3, 5, 0, 8, 2, 5, 1, 8, 1, 8, 2, 0, 7, 2, 1, 8, 1, 4, 7, 2, 1, 2, 1, 3, 3, 2, 4, 6, 0, 1, 3, 4, 6, 6, 2, 5, 0, 7, 2, 1, 2, 4, 7, 2, 8, 6, 0, 1, 1, 1, 0, 4, 4, 5, 5, 1, 3, 1, 8, 3, 2, 5, 6, 5, 1, 1, 3, 1, 0, 4, 5, 3, 3, 1, 0, 5, 2, 3, 3, 2, 8, 1, 1, 2, 7, 3, 1, 3, 7, 2, 0, 2, 4, 6, 8, 3, 0, 0, 0, 4, 0, 5, 6, 3, 3, 5, 5, 2, 3, 2, 4, 8, 8, 3, 2, 6, 4, 8, 2, 3, 3, 1, 5, 8, 0, 5, 5, 5, 6, 6, 6, 3, 4, 5, 8, 4, 3, 8, 4, 2, 1, 0, 1, 5, 5, 5, 5, 0, 1, 2, 7, 8, 5, 0, 3, 3, 0, 3, 4, 5, 5, 7, 7, 5, 1, 4, 2, 5, 0, 4, 8, 4, 0, 3, 5, 5, 1, 3, 7, 2, 3, 1, 1, 5, 4, 3, 6, 3, 2, 1, 0, 4, 2, 3, 3, 8, 5, 2, 7, 3, 6, 8, 1, 4, 0, 4, 0, 5, 0, 1, 1, 6, 4, 5, 4, 4, 8, 5, 5, 6, 3, 0, 6, 6, 4, 2, 4, 5, 2, 3, 3, 8, 0, 2, 3, 7, 2, 5, 6, 0, 4, 7, 3, 2, 5, 1, 0, 5, 6, 5, 1, 5, 7, 6, 2, 6, 0, 8, 1, 0, 2, 5, 2, 6, 5, 3, 3, 4, 7, 0, 5, 0, 0, 4, 8, 5, 1, 6, 0, 0, 2, 5, 1, 6, 5, 6, 6, 0, 0, 6, 0, 0, 4, 1, 1, 5, 3, 4, 6, 8, 6, 7, 1, 4, 7, 2, 0, 3, 6, 8, 6, 3, 1, 0, 6, 3, 4, 5, 5, 5, 0, 5, 5, 5, 8, 8, 6, 0, 2, 8, 5, 0, 1, 5, 7, 5, 3, 5, 8, 5, 2, 4, 0, 8, 6, 3, 3, 1, 2, 3, 2, 0, 6, 3, 2, 1, 4, 4, 5, 8, 0, 0, 4, 2, 0, 4, 0, 0, 1, 8, 6, 7, 7, 3, 4, 1, 4, 4, 2, 6, 5, 6, 5, 3, 3, 0, 4, 3, 5, 2, 3, 5, 5, 3, 2, 3, 1, 4, 7, 5, 5, 5, 2, 8, 6, 7, 1, 2, 2, 5, 4, 2, 5, 2, 0, 1, 0, 1, 6, 2, 5, 6, 0, 5, 7, 3, 3, 8, 1, 5, 2, 6, 7, 2, 7, 7, 5, 3, 3, 1, 3, 6, 0, 7, 3, 3, 2, 3, 0, 2, 0, 2, 1, 0, 2, 2, 5, 2, 6, 3, 2, 2, 0, 8, 5, 2, 8, 1, 8, 4, 4, 7, 2, 4, 5, 2, 7, 1, 3, 3, 8, 0, 0, 4, 5, 5, 4, 0, 1, 0, 7, 4, 6, 8, 4, 1, 2, 4, 8, 8, 1, 0, 7, 3, 6, 2, 4, 2, 3, 5, 5, 2, 1, 3, 0, 7, 5, 0, 4, 8, 5, 5, 3, 3, 4, 3, 2, 5, 0, 4, 5, 1, 0, 1, 2, 1, 6, 3, 4, 7, 3, 5, 0, 0, 1, 4, 5, 7, 2, 0, 8, 2, 2, 8, 3, 4, 4, 3, 5, 1, 3, 3, 5, 7, 2, 7, 7, 3, 3, 4, 0, 6, 5, 0, 3, 6, 5, 3, 2, 0, 4, 0, 4, 4, 3, 4, 0, 3, 6, 1, 3, 0, 1, 5, 5, 2, 2, 2, 0, 5, 2, 4, 2, 2, 5, 4, 4, 1, 8, 0, 4, 3, 3, 6, 5, 4, 0, 8, 5, 3, 8, 3, 2, 0, 3, 3, 2, 3, 2, 5, 5, 4, 0, 5, 8, 0, 5, 6, 7, 5, 3, 1, 6, 3, 5, 0, 0, 3, 7, 5, 2, 0, 2, 1, 4, 0, 0, 0, 6, 7, 5, 5, 3, 4, 6, 3, 2, 4, 5, 2, 5, 2, 0, 8, 3, 2, 3, 6, 6, 3, 1, 4, 8, 4, 4, 5, 4, 1, 4, 7, 1, 5, 1, 7, 2, 4, 6, 3, 6, 3, 6, 8, 4, 5, 7, 5, 0, 5, 6, 4, 4, 3, 1, 1, 3, 7, 1, 6, 5, 5, 5, 6, 4, 5, 0, 6, 1, 4, 6, 2, 1, 4, 2, 5, 3, 7, 1, 8, 2, 1, 6, 6, 5, 5, 6, 1, 2, 2, 4, 0, 5, 0, 4, 7, 0, 1, 6, 7, 2, 2, 2, 3, 5, 8, 3, 0, 3, 5, 4, 6, 0, 3, 5, 4, 2, 3, 4, 1, 5, 0, 0, 5, 5, 6, 2, 7, 2, 3, 6, 2, 0, 4, 7, 5, 2, 3, 1, 6, 4, 0, 2, 3, 0, 0, 6, 8, 4, 7, 5, 5, 5, 8, 5, 7, 1, 0, 0, 7, 2, 1, 2, 2, 5, 0, 3, 0, 5, 0, 3, 1, 2, 1, 1, 1, 2, 6, 0, 0, 0, 1, 0, 7, 1, 2, 8, 6, 1, 5, 1, 0, 6, 1, 1, 1, 1, 0, 4, 0, 4, 3, 1, 6, 8, 3, 0, 3, 6, 5, 8, 6, 6, 7, 0, 7, 8, 3, 5, 3, 7, 8, 5, 3, 0, 1, 2, 0, 5, 5, 2, 3, 2, 7, 5, 6, 4, 0, 1, 8, 6, 3, 1, 8, 2, 4, 1, 3, 2, 7, 4, 5, 1, 8, 2, 1, 6, 4, 6, 1, 1, 0, 1, 4, 2, 2, 2, 1, 5, 0, 4, 1, 5, 1, 7, 2, 4, 1, 4, 0, 1, 5, 4, 7, 8, 4, 6, 2, 4, 6, 4, 1, 6, 2, 0, 8, 5, 3, 6, 0, 2, 4, 1, 4, 6, 2, 3, 3, 1, 2, 6, 1, 0, 1, 6, 3, 1, 2, 4, 7, 3, 0, 0, 1, 4, 3, 2, 5, 2, 1, 1, 8, 4, 4, 2, 5, 8, 0, 0, 5, 6, 3, 5, 4, 4, 2, 1, 4, 0, 3, 5, 1, 1, 2, 1, 8, 8, 4, 7, 3, 5, 2, 7, 7, 4, 4, 4, 4, 1, 4, 0, 0, 6, 4, 3, 6, 3, 5, 1, 3, 0, 5, 6, 0, 5, 1, 2, 6, 1, 3, 7, 8, 0, 6, 3, 1, 1, 5, 7, 8, 5, 4, 6, 8, 1, 4, 3, 8, 1, 8, 5, 8, 5, 5, 1, 6, 5, 6, 5, 5, 3, 3, 0, 2, 3, 4, 2, 3, 4, 6, 0, 0, 5, 2, 4, 2, 5, 1, 6, 8, 7, 5, 0, 4, 7, 4, 5, 0, 4, 2, 3, 4, 0, 0, 2, 3, 2, 3, 5, 5, 8, 3, 8, 6, 2, 3, 2, 1, 1, 2, 1, 6, 4, 5, 7, 0, 0, 4, 3, 2, 5, 4, 2, 4, 1, 0, 4, 1, 2, 1, 3, 3, 0, 2, 3, 6, 3, 2, 8, 6, 4, 7, 1, 3, 0, 5, 5, 0, 1, 1, 1, 2, 5, 0, 6, 7, 1, 0, 2, 3, 2, 6, 6, 2, 6, 3, 2, 0, 0, 1, 2, 4, 2, 7, 5, 2, 6, 4, 0, 1, 4, 2, 0, 2, 1, 0, 4, 7, 0, 2, 6, 6, 5, 4, 0, 8, 3, 2, 1, 3, 5, 0, 5, 5, 2, 6, 6, 3, 3, 0, 0, 1, 2, 6, 1, 0, 3, 1, 6, 0, 4, 2, 4, 1, 5, 2, 8, 8, 0, 3, 7, 6, 3, 3, 1, 4, 5, 5, 1, 4, 6, 5, 4, 4, 1, 6, 2, 7, 6, 4, 2, 5, 7, 8, 1, 6, 5, 5, 7, 5, 7, 1, 5, 6, 7, 3, 0, 2, 6, 4, 4, 1, 4, 4, 0, 3, 5, 2, 6, 1, 8, 1, 5, 4, 4, 5, 4, 2, 6, 1, 4, 5, 1, 7, 4, 3, 4, 8, 8, 6, 7, 0, 5, 0, 1, 3, 4, 2, 3, 6, 0, 7, 0, 5, 1, 5, 3, 1, 4, 5, 4, 4, 6, 7, 5, 1, 7, 4, 1, 8, 0, 1, 0, 5, 4, 4, 4, 5, 1, 3, 4, 0, 3, 0, 4, 2, 2, 6, 4, 7, 4, 4, 5, 8, 4, 5, 6, 2, 6, 1, 4, 8, 4, 4, 7, 8, 0, 1, 3, 6, 2, 7, 2, 7, 5, 4, 7, 5, 4, 1, 0, 2, 6, 0, 2, 6, 6, 1, 4, 3, 6, 8, 1, 8, 1, 8, 5, 3, 5, 0, 0, 1, 0, 6, 4, 1, 8, 1, 6, 5, 3, 0, 3, 4, 0, 1, 6, 3, 8, 6, 4, 5, 4, 6, 3, 6, 5, 6, 1, 3, 4, 5, 2, 6, 5, 1, 1, 4, 4, 3, 2, 8, 0, 0, 5, 3, 0, 3, 1, 5, 6, 6, 3, 0, 0, 4, 7, 2, 6, 6, 7, 0, 5, 0, 8, 3, 5, 0, 7, 5, 0, 2, 2, 3, 8, 2, 6, 1, 1, 7, 4, 4, 3, 4, 0, 5, 6, 5, 3, 7, 3, 5, 3, 0, 7, 0, 4, 2, 6, 7, 7, 2, 5, 5, 1, 0, 0, 0, 0, 3, 3, 4, 3, 8, 0, 7, 0, 5, 4, 3, 2, 7, 3, 1, 4, 5, 4, 8, 2, 6, 0, 3, 7, 0, 5, 4, 8, 6, 7, 5, 2, 4, 8, 5, 8, 4, 0, 4, 2, 1, 4, 1, 0, 2, 8, 4, 6, 0, 4, 5, 0, 6, 0, 6, 6, 5, 4, 0, 4, 7, 6, 8, 4, 6, 4, 3, 7, 5, 5, 7, 6, 4, 3, 3, 5, 1, 2, 4, 4, 0, 0, 1, 6, 7, 2, 8, 5, 4, 0, 3, 4, 4, 0, 2, 1, 8, 6, 0, 8, 5, 3, 5, 3, 3, 5, 8, 4, 3, 1, 7, 8, 5, 4, 3, 0, 1, 7, 4, 2, 4, 3, 2, 5, 6, 7, 3, 0, 1, 0, 7, 5, 7, 0, 6, 8, 0, 0, 0, 4, 0, 5, 3, 0, 3, 8, 0, 6, 5, 3, 7, 1, 3, 8, 4, 6, 0, 3, 3, 3, 4, 3, 0, 1, 5, 3, 1, 1, 5, 4, 1, 3, 3, 1, 3, 0, 8, 3, 1, 6, 2, 6, 6, 1, 7, 0, 4, 4, 3, 0, 2, 2, 6, 4, 1, 3, 1, 2, 2, 1, 5, 8, 7, 2, 4, 3, 6, 7, 2, 1, 8, 5, 3, 4, 5, 0, 5, 2, 2, 5, 1, 5, 7, 5, 7, 1, 4, 5, 4, 1, 4, 8, 3, 4, 5, 3, 3, 7, 3, 5, 0, 2, 6, 1, 0, 0, 3, 3, 6, 7, 1, 5, 8, 3, 6, 3, 2, 0, 7, 7, 3, 3, 3, 0, 0, 5, 5, 6, 0, 3, 0, 6, 7, 6, 3, 5, 0, 5, 2, 3, 2, 0, 7, 8, 8, 5, 6, 2, 6, 1, 2, 2, 5, 6, 4, 7, 1, 3, 1, 3, 6, 2, 4, 2, 2, 7, 0, 2, 2, 0, 3, 0, 8, 3, 0, 8, 4, 0, 0, 5, 5, 1, 5, 7, 5, 2, 0, 8, 3, 6, 4, 5, 3, 3, 5, 1, 8, 4, 8, 0, 5, 5, 2, 8, 2, 3, 0, 6, 6, 7, 0, 0, 3, 7, 6, 4, 3, 2, 6, 0, 0, 6, 4, 1, 2, 2, 2, 8, 1, 5, 1, 2, 3, 3, 5, 6, 3, 4, 5, 8, 1, 6, 4, 7, 3, 5, 0, 4, 4, 1, 2, 4, 5, 6, 7, 7, 5, 2, 2, 5, 2, 5, 1, 2, 3, 4, 8, 6, 2, 4, 3, 4, 7, 2, 8, 6, 3, 6, 0, 6, 3, 8, 2, 8, 6, 0, 5, 5, 5, 6, 4, 6, 8, 7, 3, 6, 0, 3, 6, 6, 6, 3, 4, 5, 0, 7, 6, 0, 1, 7, 1, 1, 0, 3, 6, 6, 8, 4, 5, 1, 8, 5, 1, 6, 1, 3, 2, 0, 8, 2, 1, 4, 5, 4, 3, 3, 4, 2, 8, 5, 6, 3, 0, 8, 5, 2, 5, 7, 0, 4, 4, 7, 5, 6, 3, 0, 5, 5, 1, 2, 6, 6, 3, 8, 8, 3, 6, 7, 4, 8, 3, 0, 2, 6, 1, 5, 7, 6, 2, 5, 8, 1, 0, 4, 1, 3, 2, 8, 5, 0, 4, 4, 1, 8, 2, 4, 5, 3, 3, 8, 6, 0, 3, 3, 3, 3, 7, 0, 7, 3, 1, 5, 6, 0, 1, 1, 6, 4, 8, 8, 3, 4, 1, 7, 4, 6, 5, 3, 0, 5, 1, 2, 6, 7, 7, 1, 2, 6, 2, 5, 5, 8, 1, 1, 5, 0, 2, 3, 4, 6, 5, 7, 8, 1, 1, 6, 2, 2, 0, 3, 7, 1, 2, 6, 2, 6, 7, 0, 2, 2, 1, 7, 3, 5, 1, 1, 5, 5, 4, 4, 2, 2, 5, 1, 6, 4, 6, 0, 8, 4, 4, 2, 2, 4, 3, 2, 1, 4, 1, 1, 5, 5, 7, 1, 0, 6, 8, 4, 8, 0, 8, 5, 6, 7, 8, 6, 5, 0, 6, 0, 1, 7, 5, 1, 2, 8, 3, 0, 6, 6, 3, 3, 2, 0, 2, 1, 5, 5, 2, 2, 0, 7, 3, 1, 5, 1, 6, 1, 2, 4, 2, 1, 3, 2, 5, 4, 6, 6, 0, 7, 5, 6, 5, 0, 7, 3, 8, 1, 5, 3, 1, 4, 3, 2, 3, 4, 8, 2, 3, 6, 1, 5, 0, 5, 1, 3, 4, 2, 2, 0, 5, 2, 7, 3, 4, 1, 2, 5, 4, 5, 7, 4, 5, 4, 6, 1, 5, 8, 5, 2, 5, 7, 4, 1, 1, 3, 8, 2, 2, 5, 6, 4, 6, 5, 2, 3, 0, 4, 3, 6, 7, 0, 5, 5, 7, 6, 1, 4, 4, 1, 5, 2, 4, 4, 6, 3, 7, 7, 1, 5, 6, 4, 1, 1, 5, 6, 0, 5, 1, 4, 3, 1, 0, 8, 3, 5, 7, 8, 8, 6, 0, 3, 5, 1, 1, 2, 3, 0, 4, 5, 3, 4, 5, 0, 3, 2, 1, 1, 3, 6, 0, 4, 3, 6, 1, 5, 6, 2, 0, 7, 0, 1, 7, 0, 0, 3, 1, 5, 2, 2, 7, 4, 5, 8, 3, 4, 4, 6, 7, 3, 5, 4, 6, 5, 6, 8, 3, 1, 8, 2, 4, 4, 6, 2, 4, 1, 7, 3, 6, 8, 0, 2, 2, 0, 0, 1, 0, 7, 2, 1, 3, 3, 6, 2, 3, 6, 4, 1, 3, 5, 2, 5, 2, 2, 5, 1, 2, 5, 2, 3, 3, 5, 6, 8, 4, 5, 1, 0, 4, 1, 1, 0, 0, 3, 3, 8, 8, 7, 6, 5, 8, 4, 3, 1, 5, 0, 7, 6, 2, 2, 1, 1, 3, 7, 3, 7, 5, 2, 0, 6, 5, 2, 1, 2, 3, 0, 4, 3, 1, 5, 5, 0, 6, 2, 6, 3, 5, 1, 2, 5, 5, 4, 0, 1, 1, 4, 3, 3, 5, 6, 4, 2, 6, 4, 5, 0, 5, 6, 3, 0, 8, 1, 5, 5, 7, 6, 4, 4, 1, 1, 1, 3, 2, 2, 7, 2, 7, 4, 4, 2, 6, 0, 5, 7, 2, 5, 6, 1, 8, 6, 3, 4, 7, 1, 3, 7, 8, 5, 5, 1, 4, 1, 5, 3, 2, 0, 7, 0, 0, 6, 5, 4, 1, 6, 1, 5, 0, 1, 1, 4, 7, 6, 2, 0, 5, 2, 8, 8, 5, 3, 4, 7, 4])"
   ]
  },
  {
   "cell_type": "markdown",
   "metadata": {
    "deletable": false,
    "editable": false,
    "nbgrader": {
     "checksum": "463c33e346527d23679e6111b27ec9e7",
     "grade": false,
     "grade_id": "cell-84224a44a3424911",
     "locked": true,
     "schema_version": 1,
     "solution": false
    }
   },
   "source": [
    "Let us take a look at how well our model performs:"
   ]
  },
  {
   "cell_type": "code",
   "execution_count": 11,
   "metadata": {
    "deletable": false,
    "editable": false,
    "nbgrader": {
     "checksum": "b8ff1d5e0016dc451c258eafad1d7be9",
     "grade": false,
     "grade_id": "cell-0b2c3a37a95a2eb0",
     "locked": true,
     "schema_version": 1,
     "solution": false
    }
   },
   "outputs": [
    {
     "name": "stdout",
     "output_type": "stream",
     "text": [
      "                          precision    recall  f1-score   support\n",
      "\n",
      "             alt.atheism       0.96      0.95      0.96       319\n",
      "           comp.graphics       0.77      0.84      0.81       389\n",
      " comp.os.ms-windows.misc       0.77      0.77      0.77       394\n",
      "comp.sys.ibm.pc.hardware       0.80      0.80      0.80       392\n",
      "   comp.sys.mac.hardware       0.85      0.88      0.86       385\n",
      "          comp.windows.x       0.87      0.77      0.82       395\n",
      "\n",
      "             avg / total       0.83      0.83      0.83      2274\n",
      "\n"
     ]
    }
   ],
   "source": [
    "print(classification_report(test1['target'], pred1, target_names=test1['target_names']))"
   ]
  },
  {
   "cell_type": "code",
   "execution_count": null,
   "metadata": {
    "collapsed": true
   },
   "outputs": [],
   "source": []
  }
 ],
 "metadata": {
  "kernelspec": {
   "display_name": "Python 3",
   "language": "python",
   "name": "python3"
  },
  "language_info": {
   "codemirror_mode": {
    "name": "ipython",
    "version": 3
   },
   "file_extension": ".py",
   "mimetype": "text/x-python",
   "name": "python",
   "nbconvert_exporter": "python",
   "pygments_lexer": "ipython3",
   "version": "3.6.1"
  }
 },
 "nbformat": 4,
 "nbformat_minor": 2
}
